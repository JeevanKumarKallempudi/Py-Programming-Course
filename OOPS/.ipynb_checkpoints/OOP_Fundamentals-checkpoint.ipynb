{
 "cells": [
  {
   "cell_type": "markdown",
   "id": "938268c5-5fec-4c42-af4b-78baff7132f2",
   "metadata": {},
   "source": [
    "### Procedural Vs. Object Oriented Programming"
   ]
  },
  {
   "cell_type": "markdown",
   "id": "2054d43f-dbc2-4dc7-ab0b-23dd38538f7d",
   "metadata": {},
   "source": [
    "#### Procedural Languages:\n",
    "###### -> Examples - C, FORTRAN, Pascal etc\n",
    "###### -> In procedural programming, program is divided into small parts called functions. It follows a step by step approach to break down a task into a collection of variables and routines (or subroutines) through a sequence of instructions.\n",
    "###### -> There can be security problems, since we can not hide the data"
   ]
  },
  {
   "cell_type": "markdown",
   "id": "6a08996c-15e5-4750-893a-26a54a215391",
   "metadata": {},
   "source": [
    "#### Object Oriented Languages:\n",
    "###### -> Examples - C++, Java, Python etc..\n",
    "###### -> In object oriented programming, program is divided into small parts called objects.\n",
    "###### -> OOP is more secure than POP, as it offers access modifiers to hide your data.\n",
    "###### -> OOP : Easier to design, reuse components and build large software"
   ]
  },
  {
   "cell_type": "code",
   "execution_count": null,
   "id": "6232934b-165e-46b5-94a3-8b84fbb93bf5",
   "metadata": {},
   "outputs": [],
   "source": []
  },
  {
   "cell_type": "markdown",
   "id": "30a04373-19df-472e-824a-d3b69104eabe",
   "metadata": {},
   "source": [
    "### OOPS\n",
    "###### -> Object Oriented Programming Systems\n",
    "#### -> Classes and Objects"
   ]
  },
  {
   "cell_type": "markdown",
   "id": "3ad98d01-6b0c-4714-b0fe-ce59c8e2975f",
   "metadata": {},
   "source": [
    "#### Abstraction\n",
    "###### -> Data abstraction is the property through which only the essential details are displayed to the user.\n",
    "###### -> Hiding the implementation\n",
    "###### -> e.g. the working of a car\n",
    "\n",
    "#### Encapsulation\n",
    "###### -> Wrapping up of data into one unit.\n",
    "###### -> All the properties and menthods are combined together.\n",
    "\n",
    "### Inheritance\n",
    "###### -> It is the mechanism by which one class is allowed to inherit the features( properties and methods ) of another class.\n",
    "###### -> This offer a lot of reusability of code\n",
    "\n",
    "### Polymorphism\n",
    "###### -> The word polymoprphism means having many forms.\n",
    "###### -> We can define polymorphism as the ability of a message to be displayed in more than one form."
   ]
  },
  {
   "cell_type": "code",
   "execution_count": null,
   "id": "ccfd06cd-8884-4499-9e29-4bda0a771111",
   "metadata": {},
   "outputs": [],
   "source": []
  },
  {
   "cell_type": "markdown",
   "id": "536fc5c3-bbff-45d8-bf20-e2cef1039aff",
   "metadata": {},
   "source": [
    "### Class\n",
    "###### -> A class is a user defined blueprint or prototype of a real world entity. e.g. Human.\n",
    "###### -> It represents the set of properties or methods that are commaon to all objects of one type.\n",
    "###### -> Class: datatype"
   ]
  },
  {
   "cell_type": "code",
   "execution_count": 3,
   "id": "512a749c-7b9b-45b8-a30f-76a663d728b2",
   "metadata": {},
   "outputs": [],
   "source": [
    "# empty class\n",
    "class Human:\n",
    "    pass"
   ]
  },
  {
   "cell_type": "code",
   "execution_count": null,
   "id": "858bfe0e-6de0-4488-aae3-1102f0611247",
   "metadata": {},
   "outputs": [],
   "source": []
  },
  {
   "cell_type": "code",
   "execution_count": null,
   "id": "94846273-e035-429e-ae09-bae72c3735bd",
   "metadata": {},
   "outputs": [],
   "source": []
  },
  {
   "cell_type": "markdown",
   "id": "40149349-50c3-48f8-8675-2bf1b88c9199",
   "metadata": {},
   "source": [
    "### Object\n",
    "###### -> Objects are the instances of the classes.\n",
    "###### -> e.g. Jeevan is an instance of Human class.\n",
    "###### -> Object: variable\n",
    "###### -> When an variable of a class created, the class is said to be instantiated."
   ]
  },
  {
   "cell_type": "code",
   "execution_count": 5,
   "id": "fc1e04a7-65c9-4cd7-897b-3bab7d1284da",
   "metadata": {},
   "outputs": [],
   "source": [
    "# Creating an object\n",
    "jeevan = Human() "
   ]
  },
  {
   "cell_type": "code",
   "execution_count": 6,
   "id": "8ae16b3a-1588-40bf-9649-49782e23d98e",
   "metadata": {},
   "outputs": [
    {
     "data": {
      "text/plain": [
       "__main__.Human"
      ]
     },
     "execution_count": 6,
     "metadata": {},
     "output_type": "execute_result"
    }
   ],
   "source": [
    "type(jeevan)"
   ]
  },
  {
   "cell_type": "markdown",
   "id": "8ac99ed4-0da1-4af2-92d0-2c7df343924c",
   "metadata": {},
   "source": [
    "###### What does this __main__ mean ? \n",
    "###### The scrpit involed directly is considered to be in the main module. It can be imported and accessed the same way as any other module."
   ]
  },
  {
   "cell_type": "code",
   "execution_count": null,
   "id": "ed67d11a-fdaa-4c22-ae57-efeb4869cad2",
   "metadata": {},
   "outputs": [],
   "source": []
  },
  {
   "cell_type": "markdown",
   "id": "b5062f37-3f15-4331-b079-e634ea0f64cd",
   "metadata": {},
   "source": [
    "### Defining the constructor of a class\n",
    "###### -> A constructor is a special member function of a class that is executed whenever we create new objects of that class.\n",
    "######  def __init__(self):\n",
    "######      ....\n",
    "######      ...."
   ]
  },
  {
   "cell_type": "code",
   "execution_count": 9,
   "id": "85c25ddb-8134-47fd-970c-34737e14ef81",
   "metadata": {},
   "outputs": [],
   "source": [
    "class Human:\n",
    "    \n",
    "    # constructor : __init__\n",
    "    def __init__(self):\n",
    "        print(\"Creating a new object\")\n",
    "        print(\"Automatically executed\")"
   ]
  },
  {
   "cell_type": "code",
   "execution_count": 10,
   "id": "b8bf8734-5379-4e08-adb5-cead13c67c82",
   "metadata": {},
   "outputs": [
    {
     "name": "stdout",
     "output_type": "stream",
     "text": [
      "Creating a new object\n",
      "Automatically executed\n"
     ]
    }
   ],
   "source": [
    "# Create an object\n",
    "a1 = Human()"
   ]
  },
  {
   "cell_type": "code",
   "execution_count": 11,
   "id": "8836bd7f-9097-4f57-91ab-88fb8a704a37",
   "metadata": {},
   "outputs": [
    {
     "name": "stdout",
     "output_type": "stream",
     "text": [
      "Creating a new object\n",
      "Automatically executed\n"
     ]
    }
   ],
   "source": [
    "a2 = Human()"
   ]
  },
  {
   "cell_type": "code",
   "execution_count": 12,
   "id": "0158cb04-9d7d-4cbd-ad8b-0707314d2de7",
   "metadata": {},
   "outputs": [],
   "source": [
    "class Human:\n",
    "    \n",
    "    # constructor : __init__\n",
    "    def __init__(self, name, age):\n",
    "        print(\"Creating a new object\")\n",
    "\n",
    "        #Instance variable\n",
    "        # Attribute references\n",
    "        self.name = name\n",
    "        self.age = age"
   ]
  },
  {
   "cell_type": "code",
   "execution_count": 14,
   "id": "db576ea8-0bb8-48f1-9d54-124a536c6c09",
   "metadata": {},
   "outputs": [
    {
     "ename": "TypeError",
     "evalue": "Human.__init__() missing 2 required positional arguments: 'name' and 'age'",
     "output_type": "error",
     "traceback": [
      "\u001b[1;31m----------------------------------------------------------------\u001b[0m",
      "\u001b[1;31mTypeError\u001b[0m                      Traceback (most recent call last)",
      "Cell \u001b[1;32mIn[14], line 1\u001b[0m\n\u001b[1;32m----> 1\u001b[0m h1 \u001b[38;5;241m=\u001b[39m \u001b[43mHuman\u001b[49m\u001b[43m(\u001b[49m\u001b[43m)\u001b[49m\n",
      "\u001b[1;31mTypeError\u001b[0m: Human.__init__() missing 2 required positional arguments: 'name' and 'age'"
     ]
    }
   ],
   "source": [
    "h1 = Human()"
   ]
  },
  {
   "cell_type": "code",
   "execution_count": 17,
   "id": "93be9d59-c6e6-4c61-b5f5-7f261152b934",
   "metadata": {},
   "outputs": [
    {
     "name": "stdout",
     "output_type": "stream",
     "text": [
      "Creating a new object\n"
     ]
    }
   ],
   "source": [
    "h1 = Human(\"Jeevan\", 24)"
   ]
  },
  {
   "cell_type": "code",
   "execution_count": 18,
   "id": "89f8698a-faf0-41f1-b167-248de194d94d",
   "metadata": {},
   "outputs": [
    {
     "name": "stdout",
     "output_type": "stream",
     "text": [
      "<__main__.Human object at 0x000001BFBCAE6CC0>\n"
     ]
    }
   ],
   "source": [
    "print(h1)"
   ]
  },
  {
   "cell_type": "code",
   "execution_count": 19,
   "id": "b1318c0a-82cf-4561-b4cc-03b93a7409c0",
   "metadata": {},
   "outputs": [
    {
     "name": "stdout",
     "output_type": "stream",
     "text": [
      "Jeevan\n",
      "24\n"
     ]
    }
   ],
   "source": [
    "print(h1.name)\n",
    "print(h1.age)"
   ]
  },
  {
   "cell_type": "code",
   "execution_count": 20,
   "id": "58d83a0c-83b7-4a09-83ce-eeadd9310aaf",
   "metadata": {},
   "outputs": [
    {
     "name": "stdout",
     "output_type": "stream",
     "text": [
      "Creating a new object\n"
     ]
    }
   ],
   "source": [
    "h2 = Human(\"Naidu\", 24)"
   ]
  },
  {
   "cell_type": "code",
   "execution_count": 21,
   "id": "ee4573f1-a629-416b-a93c-cf080e572cc7",
   "metadata": {},
   "outputs": [
    {
     "name": "stdout",
     "output_type": "stream",
     "text": [
      "<__main__.Human object at 0x000001BFBD099400>\n"
     ]
    }
   ],
   "source": [
    "print(h2)"
   ]
  },
  {
   "cell_type": "code",
   "execution_count": 22,
   "id": "8b7b4b56-8c59-48c4-ab66-f88ac4eab750",
   "metadata": {},
   "outputs": [
    {
     "data": {
      "text/plain": [
       "__main__.Human"
      ]
     },
     "execution_count": 22,
     "metadata": {},
     "output_type": "execute_result"
    }
   ],
   "source": [
    "type(h2)"
   ]
  },
  {
   "cell_type": "code",
   "execution_count": 23,
   "id": "f746662b-6d08-41ae-9ae8-cc04ba6c53c5",
   "metadata": {},
   "outputs": [
    {
     "name": "stdout",
     "output_type": "stream",
     "text": [
      "Naidu\n",
      "24\n"
     ]
    }
   ],
   "source": [
    "print(h2.name)\n",
    "print(h2.age)"
   ]
  },
  {
   "cell_type": "markdown",
   "id": "3c88c0f2-6b62-4b0b-8aad-6820eca9c1fd",
   "metadata": {},
   "source": [
    "### Defining the Instance Methods\n",
    "###### def introduce(self):\n",
    "######     ...\n",
    "######     ..."
   ]
  },
  {
   "cell_type": "code",
   "execution_count": 2,
   "id": "451fec42-1f43-42bb-8785-2de4a6f3896e",
   "metadata": {},
   "outputs": [],
   "source": [
    "class Human:\n",
    "    \n",
    "    # constructor : __init__\n",
    "    def __init__(self, name, age):\n",
    "        print(\"Creating a new object\")\n",
    "\n",
    "        #Instance variable\n",
    "        # Attribute references\n",
    "        self.name = name\n",
    "        self.age = age\n",
    "\n",
    "\n",
    "    # Instance Method\n",
    "    def introduce(self):\n",
    "        return \"Hi, My name is {}. I'm {} years old.\".format(self.name, self.age)"
   ]
  },
  {
   "cell_type": "code",
   "execution_count": 3,
   "id": "0c9f5d1c-9ab7-4470-9b69-0ea7d580866a",
   "metadata": {},
   "outputs": [
    {
     "name": "stdout",
     "output_type": "stream",
     "text": [
      "Creating a new object\n",
      "Creating a new object\n"
     ]
    }
   ],
   "source": [
    "h1 = Human(\"Jeevan\", 23)\n",
    "h2 = Human(\"Jeetwo\", 25)"
   ]
  },
  {
   "cell_type": "code",
   "execution_count": 9,
   "id": "19fb555b-ecc9-4612-bd9f-b12f5bdc3873",
   "metadata": {},
   "outputs": [
    {
     "data": {
      "text/plain": [
       "\"Hi, My name is Jeetwo. I'm 25 years old.\""
      ]
     },
     "execution_count": 9,
     "metadata": {},
     "output_type": "execute_result"
    }
   ],
   "source": [
    "h2.introduce()"
   ]
  },
  {
   "cell_type": "code",
   "execution_count": 12,
   "id": "c0a1f3be-f439-40f9-a640-21cc92d015a9",
   "metadata": {},
   "outputs": [
    {
     "name": "stdout",
     "output_type": "stream",
     "text": [
      "Hi, My name is Jeevan. I'm 23 years old.\n"
     ]
    }
   ],
   "source": [
    "res = h1.introduce()\n",
    "print(res)"
   ]
  },
  {
   "cell_type": "code",
   "execution_count": 14,
   "id": "3afa1db2-1de2-4972-9f98-f2da74fa9365",
   "metadata": {},
   "outputs": [],
   "source": [
    "h2.name = \"Naidu\""
   ]
  },
  {
   "cell_type": "code",
   "execution_count": 15,
   "id": "8ddd4c93-d488-4c4a-9385-1a2a09550fc5",
   "metadata": {},
   "outputs": [
    {
     "data": {
      "text/plain": [
       "\"Hi, My name is Naidu. I'm 25 years old.\""
      ]
     },
     "execution_count": 15,
     "metadata": {},
     "output_type": "execute_result"
    }
   ],
   "source": [
    "h2.introduce()"
   ]
  },
  {
   "cell_type": "code",
   "execution_count": null,
   "id": "e4abf326-d3a0-4a5e-86c1-ddfbf5b7aeb4",
   "metadata": {},
   "outputs": [],
   "source": []
  },
  {
   "cell_type": "markdown",
   "id": "90b7927d-fdf3-4e88-a0a9-8f3a11e16542",
   "metadata": {},
   "source": [
    "### Class Variable\n",
    "##### - Class Variables are common to all instances.\n",
    "##### - They are associated with the class "
   ]
  },
  {
   "cell_type": "code",
   "execution_count": null,
   "id": "5fd06683-6c24-41fd-9e74-70ac2cee3f0b",
   "metadata": {},
   "outputs": [],
   "source": []
  }
 ],
 "metadata": {
  "kernelspec": {
   "display_name": "Python 3 (ipykernel)",
   "language": "python",
   "name": "python3"
  },
  "language_info": {
   "codemirror_mode": {
    "name": "ipython",
    "version": 3
   },
   "file_extension": ".py",
   "mimetype": "text/x-python",
   "name": "python",
   "nbconvert_exporter": "python",
   "pygments_lexer": "ipython3",
   "version": "3.12.4"
  }
 },
 "nbformat": 4,
 "nbformat_minor": 5
}
