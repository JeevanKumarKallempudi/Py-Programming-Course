{
 "cells": [
  {
   "cell_type": "markdown",
   "id": "c817e8ac-b562-4184-a29e-025136080244",
   "metadata": {},
   "source": [
    "### Inheritance\n",
    "##### - a process where one class acquire all the methods and properties of another class.\n",
    "#### Parent class\n",
    "###### It is the class being inherited from also called base class.\n",
    "#### Child class\n",
    "###### It is the class that inherits from another class, also called derived class.\n",
    "\n",
    "#### Syntax:\n",
    "###### class ChildClassName(ParentClassName)"
   ]
  },
  {
   "cell_type": "code",
   "execution_count": 17,
   "id": "43939666-3fe3-4d2f-a5fe-30214103647e",
   "metadata": {},
   "outputs": [],
   "source": [
    "#Base Class\n",
    "class Human:\n",
    "    #Class variable\n",
    "    database = []\n",
    "    population = 0\n",
    "    id_seq = 101\n",
    "    \n",
    "    # constructor : __init__\n",
    "    def __init__(self, name, age, is_alive = True):\n",
    "        print(\"Creating a new object\")\n",
    "        #Instance variable\n",
    "        # Attribute references\n",
    "        self.name = name\n",
    "        self.age = age\n",
    "        self.is_alive = is_alive\n",
    "        # add ID of an object\n",
    "        self.id = Human.id_seq\n",
    "        Human.id_seq += 1\n",
    "        Human.population += 1\n",
    "        Human.database.append(self)\n",
    " \n",
    "    # Instance Method\n",
    "    def introduce(self):\n",
    "        return \"Hi, My name is {}. I'm {} years old.\".format(self.name, self.age)\n",
    "\n",
    "    def die(self):\n",
    "        if self.is_alive:\n",
    "            print(self.name, \" is dying...\")\n",
    "            self.is_alive = False\n",
    "            Human.population -= 1\n",
    "        else:\n",
    "            print(\"{} is already dead.\".format(self.name))\n",
    "    def __repr__(self):\n",
    "        \"\"\"\n",
    "        this method needs to return a string\n",
    "        \"\"\"\n",
    "        return \"[{}, {}, {}, {}]\".format(self.id, self.name, self.age, self.is_alive)"
   ]
  },
  {
   "cell_type": "code",
   "execution_count": 5,
   "id": "c2fd694c-1856-4d2c-ae0f-30a5c1983649",
   "metadata": {},
   "outputs": [],
   "source": [
    "#Derived Class\n",
    "class Hitman(Human):\n",
    "    pass"
   ]
  },
  {
   "cell_type": "code",
   "execution_count": 6,
   "id": "7040a93a-4973-46f5-a71b-4e4f7cc97c5e",
   "metadata": {},
   "outputs": [
    {
     "name": "stdout",
     "output_type": "stream",
     "text": [
      "Creating a new object\n",
      "Creating a new object\n",
      "Creating a new object\n"
     ]
    }
   ],
   "source": [
    "h1 = Human(\"G1\", 24)\n",
    "h2 = Human(\"G2\", 25)\n",
    "h3 = Human(\"G3\", 26)"
   ]
  },
  {
   "cell_type": "code",
   "execution_count": 7,
   "id": "63a195a7-d978-4b05-8f12-9194ee673f7d",
   "metadata": {},
   "outputs": [
    {
     "ename": "TypeError",
     "evalue": "Human.__init__() missing 2 required positional arguments: 'name' and 'age'",
     "output_type": "error",
     "traceback": [
      "\u001b[1;31m---------------------------------------------------------------------------\u001b[0m",
      "\u001b[1;31mTypeError\u001b[0m                                 Traceback (most recent call last)",
      "Cell \u001b[1;32mIn[7], line 1\u001b[0m\n\u001b[1;32m----> 1\u001b[0m hit \u001b[38;5;241m=\u001b[39m \u001b[43mHitman\u001b[49m\u001b[43m(\u001b[49m\u001b[43m)\u001b[49m\n",
      "\u001b[1;31mTypeError\u001b[0m: Human.__init__() missing 2 required positional arguments: 'name' and 'age'"
     ]
    }
   ],
   "source": [
    "hit = Hitman()"
   ]
  },
  {
   "cell_type": "code",
   "execution_count": 8,
   "id": "a69ffb02-7298-4e6d-bd2d-2c227c70b2b6",
   "metadata": {},
   "outputs": [
    {
     "name": "stdout",
     "output_type": "stream",
     "text": [
      "Creating a new object\n"
     ]
    }
   ],
   "source": [
    "hit = Hitman(\"James\", 35)"
   ]
  },
  {
   "cell_type": "code",
   "execution_count": 9,
   "id": "691c85da-0c07-4b7b-b9d8-6a176b001299",
   "metadata": {},
   "outputs": [
    {
     "data": {
      "text/plain": [
       "\"Hi, My name is James. I'm 35 years old.\""
      ]
     },
     "execution_count": 9,
     "metadata": {},
     "output_type": "execute_result"
    }
   ],
   "source": [
    "hit.introduce()"
   ]
  },
  {
   "cell_type": "code",
   "execution_count": 11,
   "id": "138736cd-90a6-4734-a316-f8c3d849eca8",
   "metadata": {},
   "outputs": [
    {
     "data": {
      "text/plain": [
       "4"
      ]
     },
     "execution_count": 11,
     "metadata": {},
     "output_type": "execute_result"
    }
   ],
   "source": [
    "Human.population"
   ]
  },
  {
   "cell_type": "code",
   "execution_count": 12,
   "id": "27f2ab54-4255-4321-8f9c-9dbf171f70c8",
   "metadata": {},
   "outputs": [
    {
     "data": {
      "text/plain": [
       "4"
      ]
     },
     "execution_count": 12,
     "metadata": {},
     "output_type": "execute_result"
    }
   ],
   "source": [
    "Hitman.population"
   ]
  },
  {
   "cell_type": "code",
   "execution_count": 13,
   "id": "98f7d515-a3e8-4855-bd11-899a6ccfc3c7",
   "metadata": {},
   "outputs": [
    {
     "data": {
      "text/plain": [
       "[[101, G1, 24, True],\n",
       " [102, G2, 25, True],\n",
       " [103, G3, 26, True],\n",
       " [104, James, 35, True]]"
      ]
     },
     "execution_count": 13,
     "metadata": {},
     "output_type": "execute_result"
    }
   ],
   "source": [
    "Human.database"
   ]
  },
  {
   "cell_type": "code",
   "execution_count": 14,
   "id": "4d65c56e-df2e-4361-a86e-decd477463a4",
   "metadata": {},
   "outputs": [
    {
     "data": {
      "text/plain": [
       "[[101, G1, 24, True],\n",
       " [102, G2, 25, True],\n",
       " [103, G3, 26, True],\n",
       " [104, James, 35, True]]"
      ]
     },
     "execution_count": 14,
     "metadata": {},
     "output_type": "execute_result"
    }
   ],
   "source": [
    "Hitman.database"
   ]
  },
  {
   "cell_type": "code",
   "execution_count": 15,
   "id": "9ad705ee-d521-4800-bd95-b29497da968d",
   "metadata": {},
   "outputs": [
    {
     "name": "stdout",
     "output_type": "stream",
     "text": [
      "[104, James, 35, True]\n"
     ]
    }
   ],
   "source": [
    "print(hit)"
   ]
  },
  {
   "cell_type": "code",
   "execution_count": 16,
   "id": "fe776173-ce72-449e-b8d5-0f52b5880f95",
   "metadata": {},
   "outputs": [],
   "source": []
  },
  {
   "cell_type": "code",
   "execution_count": 18,
   "id": "993525b5-3f39-4b3e-9a85-f33d05feba97",
   "metadata": {},
   "outputs": [],
   "source": [
    "#Base Class\n",
    "class Human:\n",
    "    #Class variable\n",
    "    database = []\n",
    "    population = 0\n",
    "    id_seq = 101\n",
    "    \n",
    "    # constructor : __init__\n",
    "    def __init__(self, name, age, is_alive = True):\n",
    "        print(\"Creating a new object\")\n",
    "        #Instance variable\n",
    "        # Attribute references\n",
    "        self.name = name\n",
    "        self.age = age\n",
    "        self.is_alive = is_alive\n",
    "        # add ID of an object\n",
    "        self.id = Human.id_seq\n",
    "        Human.id_seq += 1\n",
    "        Human.population += 1\n",
    "        Human.database.append(self)\n",
    " \n",
    "    # Instance Method\n",
    "    def introduce(self):\n",
    "        return \"Hi, My name is {}. I'm {} years old.\".format(self.name, self.age)\n",
    "\n",
    "    def die(self):\n",
    "        if self.is_alive:\n",
    "            print(self.name, \" is dying...\")\n",
    "            self.is_alive = False\n",
    "            Human.population -= 1\n",
    "        else:\n",
    "            print(\"{} is already dead.\".format(self.name))\n",
    "    def __repr__(self):\n",
    "        \"\"\"\n",
    "        this method needs to return a string\n",
    "        \"\"\"\n",
    "        return \"[{}, {}, {}, {}]\".format(self.id, self.name, self.age, self.is_alive)"
   ]
  },
  {
   "cell_type": "code",
   "execution_count": 19,
   "id": "223ed70f-b004-4e82-8a52-f44a5f3a96fc",
   "metadata": {},
   "outputs": [],
   "source": [
    "#Derived Class\n",
    "class Hitman(Human):\n",
    "\n",
    "    # re-initialize constructor\n",
    "    def __init__(self, name, age):\n",
    "        super().__init__(name, age)\n",
    "\n",
    "        #Additional hitman Properties\n",
    "        self.kills = 0\n",
    "        self.kill_list = []"
   ]
  },
  {
   "cell_type": "code",
   "execution_count": 21,
   "id": "9b326088-88f7-4332-a6bc-325685851f70",
   "metadata": {},
   "outputs": [
    {
     "name": "stdout",
     "output_type": "stream",
     "text": [
      "Creating a new object\n",
      "Creating a new object\n",
      "Creating a new object\n"
     ]
    }
   ],
   "source": [
    "h1 = Human(\"G1\", 24)\n",
    "h2 = Human(\"G2\", 25)\n",
    "h3 = Human(\"G3\", 26)"
   ]
  },
  {
   "cell_type": "code",
   "execution_count": 22,
   "id": "21e0db7a-f010-4d86-94c0-5ffd08981834",
   "metadata": {},
   "outputs": [
    {
     "data": {
      "text/plain": [
       "3"
      ]
     },
     "execution_count": 22,
     "metadata": {},
     "output_type": "execute_result"
    }
   ],
   "source": [
    "Human.population"
   ]
  },
  {
   "cell_type": "code",
   "execution_count": 23,
   "id": "186f1d1a-347d-48d6-8962-97d6bcdd0fd1",
   "metadata": {},
   "outputs": [
    {
     "name": "stdout",
     "output_type": "stream",
     "text": [
      "Creating a new object\n"
     ]
    }
   ],
   "source": [
    "hit = Hitman(\"James\", 35)"
   ]
  },
  {
   "cell_type": "code",
   "execution_count": 24,
   "id": "6e04c747-f293-4295-88a4-7dc2a528c1f9",
   "metadata": {},
   "outputs": [
    {
     "data": {
      "text/plain": [
       "4"
      ]
     },
     "execution_count": 24,
     "metadata": {},
     "output_type": "execute_result"
    }
   ],
   "source": [
    "Human.population"
   ]
  },
  {
   "cell_type": "code",
   "execution_count": 25,
   "id": "b54624fe-8f4d-41b2-afec-5dc91e43de55",
   "metadata": {},
   "outputs": [
    {
     "data": {
      "text/plain": [
       "\"Hi, My name is James. I'm 35 years old.\""
      ]
     },
     "execution_count": 25,
     "metadata": {},
     "output_type": "execute_result"
    }
   ],
   "source": [
    "hit.introduce()"
   ]
  },
  {
   "cell_type": "code",
   "execution_count": 26,
   "id": "069532c8-1fa4-441c-aa8c-f39092654564",
   "metadata": {},
   "outputs": [
    {
     "data": {
      "text/plain": [
       "[[101, G1, 24, True],\n",
       " [102, G2, 25, True],\n",
       " [103, G3, 26, True],\n",
       " [104, James, 35, True]]"
      ]
     },
     "execution_count": 26,
     "metadata": {},
     "output_type": "execute_result"
    }
   ],
   "source": [
    "Human.database"
   ]
  },
  {
   "cell_type": "code",
   "execution_count": 27,
   "id": "41b8cea7-1bb8-488d-8ad2-8e5f4e263232",
   "metadata": {},
   "outputs": [
    {
     "name": "stdout",
     "output_type": "stream",
     "text": [
      "[104, James, 35, True]\n"
     ]
    }
   ],
   "source": [
    "print(hit)"
   ]
  },
  {
   "cell_type": "code",
   "execution_count": 28,
   "id": "a6570e5c-c0fb-4b20-8184-2ded941f07d4",
   "metadata": {},
   "outputs": [
    {
     "ename": "AttributeError",
     "evalue": "'Human' object has no attribute 'kills'",
     "output_type": "error",
     "traceback": [
      "\u001b[1;31m---------------------------------------------------------------------------\u001b[0m",
      "\u001b[1;31mAttributeError\u001b[0m                            Traceback (most recent call last)",
      "Cell \u001b[1;32mIn[28], line 1\u001b[0m\n\u001b[1;32m----> 1\u001b[0m \u001b[43mh3\u001b[49m\u001b[38;5;241;43m.\u001b[39;49m\u001b[43mkills\u001b[49m()\n",
      "\u001b[1;31mAttributeError\u001b[0m: 'Human' object has no attribute 'kills'"
     ]
    }
   ],
   "source": [
    "h3.kills()"
   ]
  },
  {
   "cell_type": "code",
   "execution_count": 29,
   "id": "845d382a-4dc4-4259-bad0-95cb2a04045d",
   "metadata": {},
   "outputs": [
    {
     "data": {
      "text/plain": [
       "[]"
      ]
     },
     "execution_count": 29,
     "metadata": {},
     "output_type": "execute_result"
    }
   ],
   "source": [
    "hit.kill_list"
   ]
  },
  {
   "cell_type": "code",
   "execution_count": null,
   "id": "c04e1fb3-2fa6-41b1-af11-ed4754ffd85d",
   "metadata": {},
   "outputs": [],
   "source": []
  }
 ],
 "metadata": {
  "kernelspec": {
   "display_name": "Python 3 (ipykernel)",
   "language": "python",
   "name": "python3"
  },
  "language_info": {
   "codemirror_mode": {
    "name": "ipython",
    "version": 3
   },
   "file_extension": ".py",
   "mimetype": "text/x-python",
   "name": "python",
   "nbconvert_exporter": "python",
   "pygments_lexer": "ipython3",
   "version": "3.12.4"
  }
 },
 "nbformat": 4,
 "nbformat_minor": 5
}
