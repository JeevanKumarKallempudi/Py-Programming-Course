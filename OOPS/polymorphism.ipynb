{
 "cells": [
  {
   "cell_type": "markdown",
   "id": "717e3012-c702-438b-ae66-adbce97b6c5f",
   "metadata": {},
   "source": [
    "### Polymorphism\n",
    "#### poly - many  morph - forms\n",
    "###### - One function name can have different functionality"
   ]
  },
  {
   "cell_type": "code",
   "execution_count": null,
   "id": "71f1af4d-8837-412b-b406-e17be22385fd",
   "metadata": {},
   "outputs": [],
   "source": []
  },
  {
   "cell_type": "markdown",
   "id": "8fca89ea-5fab-43b1-88c4-27707cff14c2",
   "metadata": {},
   "source": [
    "### Operartors level Polymorphism\n",
    "###### - achieve different functionalities uisng opearators like +, -, *, /"
   ]
  },
  {
   "cell_type": "code",
   "execution_count": 6,
   "id": "629bee72-3298-46e2-adee-91a2dcc7da2f",
   "metadata": {},
   "outputs": [],
   "source": [
    "a = \"Hello\"\n",
    "b = \"World\""
   ]
  },
  {
   "cell_type": "code",
   "execution_count": 7,
   "id": "7c50836b-5f71-4893-b95a-623a9a0d22af",
   "metadata": {},
   "outputs": [
    {
     "data": {
      "text/plain": [
       "'HelloWorld'"
      ]
     },
     "execution_count": 7,
     "metadata": {},
     "output_type": "execute_result"
    }
   ],
   "source": [
    "a + b # Concetenate"
   ]
  },
  {
   "cell_type": "code",
   "execution_count": 8,
   "id": "4b0020c5-8b04-4451-a4da-2efeff5ea82a",
   "metadata": {},
   "outputs": [],
   "source": [
    "a = 10\n",
    "b = 5"
   ]
  },
  {
   "cell_type": "code",
   "execution_count": 9,
   "id": "a16c8599-1615-4987-896c-95f9250c5945",
   "metadata": {},
   "outputs": [
    {
     "data": {
      "text/plain": [
       "15"
      ]
     },
     "execution_count": 9,
     "metadata": {},
     "output_type": "execute_result"
    }
   ],
   "source": [
    "a + b # Sum"
   ]
  },
  {
   "cell_type": "code",
   "execution_count": 10,
   "id": "a2f404a6-fb13-45f0-ab38-ebfa2e833b88",
   "metadata": {},
   "outputs": [],
   "source": [
    "a = [1,2,3]\n",
    "b = [4,5,6]"
   ]
  },
  {
   "cell_type": "code",
   "execution_count": 12,
   "id": "7ef456fb-d8a4-45f2-aaef-16ac751d8953",
   "metadata": {},
   "outputs": [
    {
     "data": {
      "text/plain": [
       "[1, 2, 3, 4, 5, 6]"
      ]
     },
     "execution_count": 12,
     "metadata": {},
     "output_type": "execute_result"
    }
   ],
   "source": [
    "a + b # list extending"
   ]
  },
  {
   "cell_type": "code",
   "execution_count": null,
   "id": "3c5487e0-1126-437f-8fff-f843a7a651c0",
   "metadata": {},
   "outputs": [],
   "source": []
  },
  {
   "cell_type": "code",
   "execution_count": null,
   "id": "215bd944-8ac9-4789-8e19-84267e35bb57",
   "metadata": {},
   "outputs": [],
   "source": []
  },
  {
   "cell_type": "markdown",
   "id": "4da46054-a110-4d87-bb68-6b76b63943b8",
   "metadata": {},
   "source": [
    "### Function level Polymporphism"
   ]
  },
  {
   "cell_type": "code",
   "execution_count": 13,
   "id": "189ff902-c812-4162-81db-d3778782dd67",
   "metadata": {},
   "outputs": [],
   "source": [
    "a = [1,2,3,4]"
   ]
  },
  {
   "cell_type": "code",
   "execution_count": 14,
   "id": "4da44970-3422-4b82-9f19-fc6eb9c039c2",
   "metadata": {},
   "outputs": [
    {
     "data": {
      "text/plain": [
       "4"
      ]
     },
     "execution_count": 14,
     "metadata": {},
     "output_type": "execute_result"
    }
   ],
   "source": [
    "len(a)"
   ]
  },
  {
   "cell_type": "code",
   "execution_count": 15,
   "id": "fa0dae7a-ca71-43b3-a342-1a75295df4cd",
   "metadata": {},
   "outputs": [],
   "source": [
    "b = \"JeevanKK\""
   ]
  },
  {
   "cell_type": "code",
   "execution_count": 16,
   "id": "4d4e85b4-7942-4355-a8f8-3688e1124367",
   "metadata": {},
   "outputs": [
    {
     "data": {
      "text/plain": [
       "8"
      ]
     },
     "execution_count": 16,
     "metadata": {},
     "output_type": "execute_result"
    }
   ],
   "source": [
    "len(b)"
   ]
  },
  {
   "cell_type": "code",
   "execution_count": 17,
   "id": "2785b055-5911-4a46-8ac7-437e35db30b4",
   "metadata": {},
   "outputs": [],
   "source": [
    "c = {1,1,1,1,1}"
   ]
  },
  {
   "cell_type": "code",
   "execution_count": 18,
   "id": "fde95cef-4f4b-4ab1-ac20-f9f07d1818ba",
   "metadata": {},
   "outputs": [
    {
     "data": {
      "text/plain": [
       "1"
      ]
     },
     "execution_count": 18,
     "metadata": {},
     "output_type": "execute_result"
    }
   ],
   "source": [
    "len(c)"
   ]
  },
  {
   "cell_type": "code",
   "execution_count": 31,
   "id": "bab99476-7f67-4797-aa75-3d6249ffc4e0",
   "metadata": {},
   "outputs": [],
   "source": [
    "def my_sum(*args):\n",
    "    return sum(args)"
   ]
  },
  {
   "cell_type": "code",
   "execution_count": 33,
   "id": "490c5b61-5ff3-446d-a4ce-bce349d997f4",
   "metadata": {},
   "outputs": [
    {
     "ename": "RecursionError",
     "evalue": "maximum recursion depth exceeded",
     "output_type": "error",
     "traceback": [
      "\u001b[1;31m---------------------------------------------------------------------------\u001b[0m",
      "\u001b[1;31mRecursionError\u001b[0m                            Traceback (most recent call last)",
      "Cell \u001b[1;32mIn[33], line 1\u001b[0m\n\u001b[1;32m----> 1\u001b[0m \u001b[43mmy_sum\u001b[49m\u001b[43m(\u001b[49m\u001b[38;5;241;43m2\u001b[39;49m\u001b[43m,\u001b[49m\u001b[38;5;241;43m3\u001b[39;49m\u001b[43m,\u001b[49m\u001b[38;5;241;43m4\u001b[39;49m\u001b[43m,\u001b[49m\u001b[38;5;241;43m5\u001b[39;49m\u001b[43m)\u001b[49m\n",
      "Cell \u001b[1;32mIn[31], line 2\u001b[0m, in \u001b[0;36mmy_sum\u001b[1;34m(*args)\u001b[0m\n\u001b[0;32m      1\u001b[0m \u001b[38;5;28;01mdef\u001b[39;00m \u001b[38;5;21mmy_sum\u001b[39m(\u001b[38;5;241m*\u001b[39margs):\n\u001b[1;32m----> 2\u001b[0m     \u001b[38;5;28;01mreturn\u001b[39;00m \u001b[38;5;28;43msum\u001b[39;49m\u001b[43m(\u001b[49m\u001b[43margs\u001b[49m\u001b[43m)\u001b[49m\n",
      "Cell \u001b[1;32mIn[21], line 2\u001b[0m, in \u001b[0;36msum\u001b[1;34m(*args)\u001b[0m\n\u001b[0;32m      1\u001b[0m \u001b[38;5;28;01mdef\u001b[39;00m \u001b[38;5;21msum\u001b[39m(\u001b[38;5;241m*\u001b[39margs):\n\u001b[1;32m----> 2\u001b[0m     \u001b[38;5;28;01mreturn\u001b[39;00m \u001b[38;5;28;43msum\u001b[39;49m\u001b[43m(\u001b[49m\u001b[43margs\u001b[49m\u001b[43m)\u001b[49m\n",
      "Cell \u001b[1;32mIn[21], line 2\u001b[0m, in \u001b[0;36msum\u001b[1;34m(*args)\u001b[0m\n\u001b[0;32m      1\u001b[0m \u001b[38;5;28;01mdef\u001b[39;00m \u001b[38;5;21msum\u001b[39m(\u001b[38;5;241m*\u001b[39margs):\n\u001b[1;32m----> 2\u001b[0m     \u001b[38;5;28;01mreturn\u001b[39;00m \u001b[38;5;28;43msum\u001b[39;49m\u001b[43m(\u001b[49m\u001b[43margs\u001b[49m\u001b[43m)\u001b[49m\n",
      "    \u001b[1;31m[... skipping similar frames: sum at line 2 (2973 times)]\u001b[0m\n",
      "Cell \u001b[1;32mIn[21], line 2\u001b[0m, in \u001b[0;36msum\u001b[1;34m(*args)\u001b[0m\n\u001b[0;32m      1\u001b[0m \u001b[38;5;28;01mdef\u001b[39;00m \u001b[38;5;21msum\u001b[39m(\u001b[38;5;241m*\u001b[39margs):\n\u001b[1;32m----> 2\u001b[0m     \u001b[38;5;28;01mreturn\u001b[39;00m \u001b[38;5;28;43msum\u001b[39;49m\u001b[43m(\u001b[49m\u001b[43margs\u001b[49m\u001b[43m)\u001b[49m\n",
      "\u001b[1;31mRecursionError\u001b[0m: maximum recursion depth exceeded"
     ]
    }
   ],
   "source": [
    "my_sum(2,3,4,5)"
   ]
  },
  {
   "cell_type": "code",
   "execution_count": null,
   "id": "77d22667-edc0-45d2-bfe4-1e6ca46cd8d4",
   "metadata": {},
   "outputs": [],
   "source": []
  },
  {
   "cell_type": "markdown",
   "id": "66c0a6b8-921c-4715-8839-91775ebf0efd",
   "metadata": {},
   "source": [
    "### Object/Class level Polymorphism\n",
    "###### Function overriding - if derived class defines same function as defined in its base class, it is knowing as function overriding. This is used to achieve a polymorphism"
   ]
  },
  {
   "cell_type": "code",
   "execution_count": 34,
   "id": "d8e17c55-e4ef-41f4-9f65-aa9de1c3131b",
   "metadata": {},
   "outputs": [],
   "source": [
    "class Animal():\n",
    "    def __init__(self):\n",
    "        self.color = \"White\"\n",
    "    def speak(self):\n",
    "        print(\"I will speak\")\n",
    "\n",
    "class Dog(Animal):\n",
    "    #Function overriding\n",
    "    def speak(self):\n",
    "        print(\"Barkkk......\")\n",
    "\n",
    "class Cat(Animal):\n",
    "    #Function overriding\n",
    "    def speak(self):\n",
    "        print(\"Meoww......\")\n",
    "\n",
    "class Duck(Animal):\n",
    "    #Function overriding\n",
    "    def speak(self):\n",
    "        print(\"Quack......\")"
   ]
  },
  {
   "cell_type": "code",
   "execution_count": 36,
   "id": "5c09899c-b16a-41c7-baf1-b2c375705faf",
   "metadata": {},
   "outputs": [],
   "source": [
    "animal = Animal()\n",
    "dog = Dog()\n",
    "cat = Cat()\n",
    "duck = Duck()"
   ]
  },
  {
   "cell_type": "code",
   "execution_count": 37,
   "id": "2874f1dd-9582-4713-a740-fc69485347a8",
   "metadata": {},
   "outputs": [
    {
     "name": "stdout",
     "output_type": "stream",
     "text": [
      "Barkkk......\n",
      "Meoww......\n",
      "Quack......\n"
     ]
    }
   ],
   "source": [
    "for obj in [dog, cat, duck]:\n",
    "    obj.speak()"
   ]
  },
  {
   "cell_type": "code",
   "execution_count": 46,
   "id": "fa8f3902-4994-41cf-a4cb-d0428e76b6d6",
   "metadata": {},
   "outputs": [],
   "source": [
    "#Base Class\n",
    "class Human:\n",
    "    #Class variable\n",
    "    database = []\n",
    "    population = 0\n",
    "    id_seq = 101\n",
    "    \n",
    "    # constructor : __init__\n",
    "    def __init__(self, name, age, is_alive = True):\n",
    "        print(\"Creating a new object\")\n",
    "        #Instance variable\n",
    "        # Attribute references\n",
    "        self.name = name\n",
    "        self.age = age\n",
    "        self.is_alive = is_alive\n",
    "        # add ID of an object\n",
    "        self.id = Human.id_seq\n",
    "        Human.id_seq += 1\n",
    "        Human.population += 1\n",
    "        Human.database.append(self)\n",
    " \n",
    "    # Instance Method\n",
    "    def introduce(self):\n",
    "        return \"Hi, My name is {}. I'm {} years old.\".format(self.name, self.age)\n",
    "\n",
    "    def die(self):\n",
    "        if self.is_alive:\n",
    "            print(self.name, \" is dying...\")\n",
    "            self.is_alive = False\n",
    "            Human.population -= 1\n",
    "        else:\n",
    "            print(\"{} is already dead.\".format(self.name))\n",
    "    def __repr__(self):\n",
    "        \"\"\"\n",
    "        this method needs to return a string\n",
    "        \"\"\"\n",
    "        return \"[{}, {}, {}, {}]\".format(self.id, self.name, self.age, self.is_alive)"
   ]
  },
  {
   "cell_type": "code",
   "execution_count": 47,
   "id": "a26c2478-75c7-4762-a2f9-7c24f3394733",
   "metadata": {},
   "outputs": [],
   "source": [
    "#Derived Class\n",
    "class Hitman(Human):\n",
    "\n",
    "    # re-initialize constructor\n",
    "    def __init__(self, name, age):\n",
    "        super().__init__(name, age)\n",
    "\n",
    "        #Additional hitman Properties\n",
    "        self.kills = 0\n",
    "        self.kill_list = []\n",
    "    \n",
    "    # adding kill method\n",
    "    def kill(self, person):\n",
    "        \"\"\"person: object of human\"\"\"\n",
    "        \n",
    "        if(person.is_alive == True):\n",
    "            print(\"{} is killing {}\".format(self.name, person.name))\n",
    "            person.die()\n",
    "            self.kills += 1\n",
    "            self.kill_list.append(person)\n",
    "        else:\n",
    "            print(\"{} is already dead\".format(person.name))\n",
    "\n",
    "        \"Need to add code for bug\"\n",
    "        \"If a person already dead kill dunction should not work and print person already dead can not kill\"\n",
    "        \"Added using if-else condition\"\n",
    "    # Function overriding\n",
    "    def introduce(self):\n",
    "        print(\"Hi, My name is {}. I've killed {} people\".format(self.name, self.kills))"
   ]
  },
  {
   "cell_type": "code",
   "execution_count": 48,
   "id": "49d20cdf-b920-4507-b94b-794b846ebf3c",
   "metadata": {},
   "outputs": [
    {
     "name": "stdout",
     "output_type": "stream",
     "text": [
      "Creating a new object\n",
      "Creating a new object\n",
      "Creating a new object\n"
     ]
    }
   ],
   "source": [
    "h1 = Human(\"G1\", 24)\n",
    "h2 = Human(\"G2\", 25)\n",
    "h3 = Human(\"G3\", 26)"
   ]
  },
  {
   "cell_type": "code",
   "execution_count": 49,
   "id": "95e35fb1-dba3-473f-b362-26557372c856",
   "metadata": {},
   "outputs": [
    {
     "name": "stdout",
     "output_type": "stream",
     "text": [
      "Creating a new object\n"
     ]
    }
   ],
   "source": [
    "bond = Hitman(\"James\", 35)"
   ]
  },
  {
   "cell_type": "code",
   "execution_count": 50,
   "id": "58df68dc-6a07-4ea7-bad0-fdbdbd6f4587",
   "metadata": {},
   "outputs": [
    {
     "name": "stdout",
     "output_type": "stream",
     "text": [
      "James is killing G3\n",
      "G3  is dying...\n"
     ]
    }
   ],
   "source": [
    "bond.kill(h3)"
   ]
  },
  {
   "cell_type": "code",
   "execution_count": 51,
   "id": "8fc58b20-9957-4d2d-853a-3f938cacaf77",
   "metadata": {},
   "outputs": [
    {
     "data": {
      "text/plain": [
       "\"Hi, My name is G1. I'm 24 years old.\""
      ]
     },
     "execution_count": 51,
     "metadata": {},
     "output_type": "execute_result"
    }
   ],
   "source": [
    "h1.introduce()"
   ]
  },
  {
   "cell_type": "code",
   "execution_count": 52,
   "id": "b3b16543-c7ce-40bd-abb9-3f88da43ca12",
   "metadata": {},
   "outputs": [
    {
     "name": "stdout",
     "output_type": "stream",
     "text": [
      "Hi, My name is James. I've killed 1 people\n"
     ]
    }
   ],
   "source": [
    "bond.introduce()"
   ]
  },
  {
   "cell_type": "code",
   "execution_count": 53,
   "id": "14bc9e7d-fd49-405d-b685-5eacd4f5941e",
   "metadata": {},
   "outputs": [
    {
     "name": "stdout",
     "output_type": "stream",
     "text": [
      "James is killing G1\n",
      "G1  is dying...\n"
     ]
    }
   ],
   "source": [
    "bond.kill(h1)"
   ]
  },
  {
   "cell_type": "code",
   "execution_count": 54,
   "id": "801e5b0a-4bbb-45da-a535-a82313f985ac",
   "metadata": {},
   "outputs": [
    {
     "name": "stdout",
     "output_type": "stream",
     "text": [
      "Hi, My name is James. I've killed 2 people\n"
     ]
    }
   ],
   "source": [
    "bond.introduce()"
   ]
  },
  {
   "cell_type": "code",
   "execution_count": null,
   "id": "75ebeb4b-fcbd-4dd5-9ced-ee45d84f3341",
   "metadata": {},
   "outputs": [],
   "source": []
  }
 ],
 "metadata": {
  "kernelspec": {
   "display_name": "Python 3 (ipykernel)",
   "language": "python",
   "name": "python3"
  },
  "language_info": {
   "codemirror_mode": {
    "name": "ipython",
    "version": 3
   },
   "file_extension": ".py",
   "mimetype": "text/x-python",
   "name": "python",
   "nbconvert_exporter": "python",
   "pygments_lexer": "ipython3",
   "version": "3.12.4"
  }
 },
 "nbformat": 4,
 "nbformat_minor": 5
}
