{
 "cells": [
  {
   "cell_type": "markdown",
   "id": "c817e8ac-b562-4184-a29e-025136080244",
   "metadata": {},
   "source": [
    "### Inheritance\n",
    "##### - a process where one class acquire all the methods and properties of another class.\n",
    "#### Parent class\n",
    "###### It is the class being inherited from also called base class.\n",
    "#### Child class\n",
    "###### It is the class that inherits from another class, also called derived class.\n",
    "\n",
    "#### Syntax:\n",
    "###### class ChildClassName(ParentClassName)"
   ]
  },
  {
   "cell_type": "code",
   "execution_count": 17,
   "id": "43939666-3fe3-4d2f-a5fe-30214103647e",
   "metadata": {},
   "outputs": [],
   "source": [
    "#Base Class\n",
    "class Human:\n",
    "    #Class variable\n",
    "    database = []\n",
    "    population = 0\n",
    "    id_seq = 101\n",
    "    \n",
    "    # constructor : __init__\n",
    "    def __init__(self, name, age, is_alive = True):\n",
    "        print(\"Creating a new object\")\n",
    "        #Instance variable\n",
    "        # Attribute references\n",
    "        self.name = name\n",
    "        self.age = age\n",
    "        self.is_alive = is_alive\n",
    "        # add ID of an object\n",
    "        self.id = Human.id_seq\n",
    "        Human.id_seq += 1\n",
    "        Human.population += 1\n",
    "        Human.database.append(self)\n",
    " \n",
    "    # Instance Method\n",
    "    def introduce(self):\n",
    "        return \"Hi, My name is {}. I'm {} years old.\".format(self.name, self.age)\n",
    "\n",
    "    def die(self):\n",
    "        if self.is_alive:\n",
    "            print(self.name, \" is dying...\")\n",
    "            self.is_alive = False\n",
    "            Human.population -= 1\n",
    "        else:\n",
    "            print(\"{} is already dead.\".format(self.name))\n",
    "    def __repr__(self):\n",
    "        \"\"\"\n",
    "        this method needs to return a string\n",
    "        \"\"\"\n",
    "        return \"[{}, {}, {}, {}]\".format(self.id, self.name, self.age, self.is_alive)"
   ]
  },
  {
   "cell_type": "code",
   "execution_count": 5,
   "id": "c2fd694c-1856-4d2c-ae0f-30a5c1983649",
   "metadata": {},
   "outputs": [],
   "source": [
    "#Derived Class\n",
    "class Hitman(Human):\n",
    "    pass"
   ]
  },
  {
   "cell_type": "code",
   "execution_count": 6,
   "id": "7040a93a-4973-46f5-a71b-4e4f7cc97c5e",
   "metadata": {},
   "outputs": [
    {
     "name": "stdout",
     "output_type": "stream",
     "text": [
      "Creating a new object\n",
      "Creating a new object\n",
      "Creating a new object\n"
     ]
    }
   ],
   "source": [
    "h1 = Human(\"G1\", 24)\n",
    "h2 = Human(\"G2\", 25)\n",
    "h3 = Human(\"G3\", 26)"
   ]
  },
  {
   "cell_type": "code",
   "execution_count": 7,
   "id": "63a195a7-d978-4b05-8f12-9194ee673f7d",
   "metadata": {},
   "outputs": [
    {
     "ename": "TypeError",
     "evalue": "Human.__init__() missing 2 required positional arguments: 'name' and 'age'",
     "output_type": "error",
     "traceback": [
      "\u001b[1;31m---------------------------------------------------------------------------\u001b[0m",
      "\u001b[1;31mTypeError\u001b[0m                                 Traceback (most recent call last)",
      "Cell \u001b[1;32mIn[7], line 1\u001b[0m\n\u001b[1;32m----> 1\u001b[0m hit \u001b[38;5;241m=\u001b[39m \u001b[43mHitman\u001b[49m\u001b[43m(\u001b[49m\u001b[43m)\u001b[49m\n",
      "\u001b[1;31mTypeError\u001b[0m: Human.__init__() missing 2 required positional arguments: 'name' and 'age'"
     ]
    }
   ],
   "source": [
    "hit = Hitman()"
   ]
  },
  {
   "cell_type": "code",
   "execution_count": 8,
   "id": "a69ffb02-7298-4e6d-bd2d-2c227c70b2b6",
   "metadata": {},
   "outputs": [
    {
     "name": "stdout",
     "output_type": "stream",
     "text": [
      "Creating a new object\n"
     ]
    }
   ],
   "source": [
    "hit = Hitman(\"James\", 35)"
   ]
  },
  {
   "cell_type": "code",
   "execution_count": 9,
   "id": "691c85da-0c07-4b7b-b9d8-6a176b001299",
   "metadata": {},
   "outputs": [
    {
     "data": {
      "text/plain": [
       "\"Hi, My name is James. I'm 35 years old.\""
      ]
     },
     "execution_count": 9,
     "metadata": {},
     "output_type": "execute_result"
    }
   ],
   "source": [
    "hit.introduce()"
   ]
  },
  {
   "cell_type": "code",
   "execution_count": 11,
   "id": "138736cd-90a6-4734-a316-f8c3d849eca8",
   "metadata": {},
   "outputs": [
    {
     "data": {
      "text/plain": [
       "4"
      ]
     },
     "execution_count": 11,
     "metadata": {},
     "output_type": "execute_result"
    }
   ],
   "source": [
    "Human.population"
   ]
  },
  {
   "cell_type": "code",
   "execution_count": 12,
   "id": "27f2ab54-4255-4321-8f9c-9dbf171f70c8",
   "metadata": {},
   "outputs": [
    {
     "data": {
      "text/plain": [
       "4"
      ]
     },
     "execution_count": 12,
     "metadata": {},
     "output_type": "execute_result"
    }
   ],
   "source": [
    "Hitman.population"
   ]
  },
  {
   "cell_type": "code",
   "execution_count": 13,
   "id": "98f7d515-a3e8-4855-bd11-899a6ccfc3c7",
   "metadata": {},
   "outputs": [
    {
     "data": {
      "text/plain": [
       "[[101, G1, 24, True],\n",
       " [102, G2, 25, True],\n",
       " [103, G3, 26, True],\n",
       " [104, James, 35, True]]"
      ]
     },
     "execution_count": 13,
     "metadata": {},
     "output_type": "execute_result"
    }
   ],
   "source": [
    "Human.database"
   ]
  },
  {
   "cell_type": "code",
   "execution_count": 14,
   "id": "4d65c56e-df2e-4361-a86e-decd477463a4",
   "metadata": {},
   "outputs": [
    {
     "data": {
      "text/plain": [
       "[[101, G1, 24, True],\n",
       " [102, G2, 25, True],\n",
       " [103, G3, 26, True],\n",
       " [104, James, 35, True]]"
      ]
     },
     "execution_count": 14,
     "metadata": {},
     "output_type": "execute_result"
    }
   ],
   "source": [
    "Hitman.database"
   ]
  },
  {
   "cell_type": "code",
   "execution_count": 15,
   "id": "9ad705ee-d521-4800-bd95-b29497da968d",
   "metadata": {},
   "outputs": [
    {
     "name": "stdout",
     "output_type": "stream",
     "text": [
      "[104, James, 35, True]\n"
     ]
    }
   ],
   "source": [
    "print(hit)"
   ]
  },
  {
   "cell_type": "code",
   "execution_count": 16,
   "id": "fe776173-ce72-449e-b8d5-0f52b5880f95",
   "metadata": {},
   "outputs": [],
   "source": []
  },
  {
   "cell_type": "code",
   "execution_count": 18,
   "id": "993525b5-3f39-4b3e-9a85-f33d05feba97",
   "metadata": {},
   "outputs": [],
   "source": [
    "#Base Class\n",
    "class Human:\n",
    "    #Class variable\n",
    "    database = []\n",
    "    population = 0\n",
    "    id_seq = 101\n",
    "    \n",
    "    # constructor : __init__\n",
    "    def __init__(self, name, age, is_alive = True):\n",
    "        print(\"Creating a new object\")\n",
    "        #Instance variable\n",
    "        # Attribute references\n",
    "        self.name = name\n",
    "        self.age = age\n",
    "        self.is_alive = is_alive\n",
    "        # add ID of an object\n",
    "        self.id = Human.id_seq\n",
    "        Human.id_seq += 1\n",
    "        Human.population += 1\n",
    "        Human.database.append(self)\n",
    " \n",
    "    # Instance Method\n",
    "    def introduce(self):\n",
    "        return \"Hi, My name is {}. I'm {} years old.\".format(self.name, self.age)\n",
    "\n",
    "    def die(self):\n",
    "        if self.is_alive:\n",
    "            print(self.name, \" is dying...\")\n",
    "            self.is_alive = False\n",
    "            Human.population -= 1\n",
    "        else:\n",
    "            print(\"{} is already dead.\".format(self.name))\n",
    "    def __repr__(self):\n",
    "        \"\"\"\n",
    "        this method needs to return a string\n",
    "        \"\"\"\n",
    "        return \"[{}, {}, {}, {}]\".format(self.id, self.name, self.age, self.is_alive)"
   ]
  },
  {
   "cell_type": "code",
   "execution_count": 19,
   "id": "223ed70f-b004-4e82-8a52-f44a5f3a96fc",
   "metadata": {},
   "outputs": [],
   "source": [
    "#Derived Class\n",
    "class Hitman(Human):\n",
    "\n",
    "    # re-initialize constructor\n",
    "    def __init__(self, name, age):\n",
    "        super().__init__(name, age)\n",
    "\n",
    "        #Additional hitman Properties\n",
    "        self.kills = 0\n",
    "        self.kill_list = []"
   ]
  },
  {
   "cell_type": "code",
   "execution_count": 21,
   "id": "9b326088-88f7-4332-a6bc-325685851f70",
   "metadata": {},
   "outputs": [
    {
     "name": "stdout",
     "output_type": "stream",
     "text": [
      "Creating a new object\n",
      "Creating a new object\n",
      "Creating a new object\n"
     ]
    }
   ],
   "source": [
    "h1 = Human(\"G1\", 24)\n",
    "h2 = Human(\"G2\", 25)\n",
    "h3 = Human(\"G3\", 26)"
   ]
  },
  {
   "cell_type": "code",
   "execution_count": 22,
   "id": "21e0db7a-f010-4d86-94c0-5ffd08981834",
   "metadata": {},
   "outputs": [
    {
     "data": {
      "text/plain": [
       "3"
      ]
     },
     "execution_count": 22,
     "metadata": {},
     "output_type": "execute_result"
    }
   ],
   "source": [
    "Human.population"
   ]
  },
  {
   "cell_type": "code",
   "execution_count": 23,
   "id": "186f1d1a-347d-48d6-8962-97d6bcdd0fd1",
   "metadata": {},
   "outputs": [
    {
     "name": "stdout",
     "output_type": "stream",
     "text": [
      "Creating a new object\n"
     ]
    }
   ],
   "source": [
    "hit = Hitman(\"James\", 35)"
   ]
  },
  {
   "cell_type": "code",
   "execution_count": 24,
   "id": "6e04c747-f293-4295-88a4-7dc2a528c1f9",
   "metadata": {},
   "outputs": [
    {
     "data": {
      "text/plain": [
       "4"
      ]
     },
     "execution_count": 24,
     "metadata": {},
     "output_type": "execute_result"
    }
   ],
   "source": [
    "Human.population"
   ]
  },
  {
   "cell_type": "code",
   "execution_count": 25,
   "id": "b54624fe-8f4d-41b2-afec-5dc91e43de55",
   "metadata": {},
   "outputs": [
    {
     "data": {
      "text/plain": [
       "\"Hi, My name is James. I'm 35 years old.\""
      ]
     },
     "execution_count": 25,
     "metadata": {},
     "output_type": "execute_result"
    }
   ],
   "source": [
    "hit.introduce()"
   ]
  },
  {
   "cell_type": "code",
   "execution_count": 26,
   "id": "069532c8-1fa4-441c-aa8c-f39092654564",
   "metadata": {},
   "outputs": [
    {
     "data": {
      "text/plain": [
       "[[101, G1, 24, True],\n",
       " [102, G2, 25, True],\n",
       " [103, G3, 26, True],\n",
       " [104, James, 35, True]]"
      ]
     },
     "execution_count": 26,
     "metadata": {},
     "output_type": "execute_result"
    }
   ],
   "source": [
    "Human.database"
   ]
  },
  {
   "cell_type": "code",
   "execution_count": 27,
   "id": "41b8cea7-1bb8-488d-8ad2-8e5f4e263232",
   "metadata": {},
   "outputs": [
    {
     "name": "stdout",
     "output_type": "stream",
     "text": [
      "[104, James, 35, True]\n"
     ]
    }
   ],
   "source": [
    "print(hit)"
   ]
  },
  {
   "cell_type": "code",
   "execution_count": 28,
   "id": "a6570e5c-c0fb-4b20-8184-2ded941f07d4",
   "metadata": {},
   "outputs": [
    {
     "ename": "AttributeError",
     "evalue": "'Human' object has no attribute 'kills'",
     "output_type": "error",
     "traceback": [
      "\u001b[1;31m---------------------------------------------------------------------------\u001b[0m",
      "\u001b[1;31mAttributeError\u001b[0m                            Traceback (most recent call last)",
      "Cell \u001b[1;32mIn[28], line 1\u001b[0m\n\u001b[1;32m----> 1\u001b[0m \u001b[43mh3\u001b[49m\u001b[38;5;241;43m.\u001b[39;49m\u001b[43mkills\u001b[49m()\n",
      "\u001b[1;31mAttributeError\u001b[0m: 'Human' object has no attribute 'kills'"
     ]
    }
   ],
   "source": [
    "h3.kills()"
   ]
  },
  {
   "cell_type": "code",
   "execution_count": 29,
   "id": "845d382a-4dc4-4259-bad0-95cb2a04045d",
   "metadata": {},
   "outputs": [
    {
     "data": {
      "text/plain": [
       "[]"
      ]
     },
     "execution_count": 29,
     "metadata": {},
     "output_type": "execute_result"
    }
   ],
   "source": [
    "hit.kill_list"
   ]
  },
  {
   "cell_type": "markdown",
   "id": "78546474-fe54-495f-b0d6-7238c76efdb9",
   "metadata": {},
   "source": [
    "### Adding kill functionality to base class"
   ]
  },
  {
   "cell_type": "code",
   "execution_count": 91,
   "id": "c76fede9-814c-43dc-a29e-42701d6160eb",
   "metadata": {},
   "outputs": [],
   "source": [
    "#Base Class\n",
    "class Human:\n",
    "    #Class variable\n",
    "    database = []\n",
    "    population = 0\n",
    "    id_seq = 101\n",
    "    \n",
    "    # constructor : __init__\n",
    "    def __init__(self, name, age, is_alive = True):\n",
    "        print(\"Creating a new object\")\n",
    "        #Instance variable\n",
    "        # Attribute references\n",
    "        self.name = name\n",
    "        self.age = age\n",
    "        self.is_alive = is_alive\n",
    "        # add ID of an object\n",
    "        self.id = Human.id_seq\n",
    "        Human.id_seq += 1\n",
    "        Human.population += 1\n",
    "        Human.database.append(self)\n",
    " \n",
    "    # Instance Method\n",
    "    def introduce(self):\n",
    "        return \"Hi, My name is {}. I'm {} years old.\".format(self.name, self.age)\n",
    "\n",
    "    def die(self):\n",
    "        if self.is_alive:\n",
    "            print(self.name, \" is dying...\")\n",
    "            self.is_alive = False\n",
    "            Human.population -= 1\n",
    "        else:\n",
    "            print(\"{} is already dead.\".format(self.name))\n",
    "    def __repr__(self):\n",
    "        \"\"\"\n",
    "        this method needs to return a string\n",
    "        \"\"\"\n",
    "        return \"[{}, {}, {}, {}]\".format(self.id, self.name, self.age, self.is_alive)"
   ]
  },
  {
   "cell_type": "code",
   "execution_count": 106,
   "id": "ecd58ee1-acfb-499c-9135-b3d5b0aa803e",
   "metadata": {},
   "outputs": [],
   "source": [
    "#Derived Class\n",
    "class Hitman(Human):\n",
    "\n",
    "    # re-initialize constructor\n",
    "    def __init__(self, name, age):\n",
    "        super().__init__(name, age)\n",
    "\n",
    "        #Additional hitman Properties\n",
    "        self.kills = 0\n",
    "        self.kill_list = []\n",
    "    \n",
    "    # adding kill method\n",
    "    def kill(self, person):\n",
    "        \"\"\"person: object of human\"\"\"\n",
    "        \n",
    "        if(person.is_alive == True):\n",
    "            print(\"{} is killing {}\".format(self.name, person.name))\n",
    "            person.die()\n",
    "            self.kills += 1\n",
    "            self.kill_list.append(person)\n",
    "        else:\n",
    "            print(\"{} is already dead\".format(person.name))\n",
    "\n",
    "        \"Need to add code for bug\"\n",
    "        \"If a person already dead kill dunction should not work and print person already dead can not kill\"\n",
    "        \"Added using if-else condition\""
   ]
  },
  {
   "cell_type": "code",
   "execution_count": 93,
   "id": "2c627d19-a35a-400a-9324-67318e35fea9",
   "metadata": {},
   "outputs": [
    {
     "name": "stdout",
     "output_type": "stream",
     "text": [
      "Creating a new object\n",
      "Creating a new object\n",
      "Creating a new object\n"
     ]
    }
   ],
   "source": [
    "h1 = Human(\"G1\", 24)\n",
    "h2 = Human(\"G2\", 25)\n",
    "h3 = Human(\"G3\", 26)"
   ]
  },
  {
   "cell_type": "code",
   "execution_count": 94,
   "id": "40c7900b-b6aa-4652-97c5-ea09ec6ec5e1",
   "metadata": {},
   "outputs": [
    {
     "data": {
      "text/plain": [
       "3"
      ]
     },
     "execution_count": 94,
     "metadata": {},
     "output_type": "execute_result"
    }
   ],
   "source": [
    "Human.population"
   ]
  },
  {
   "cell_type": "code",
   "execution_count": 95,
   "id": "405757f7-01a4-4dad-9a87-79f46f3f8801",
   "metadata": {},
   "outputs": [
    {
     "data": {
      "text/plain": [
       "[[101, G1, 24, True], [102, G2, 25, True], [103, G3, 26, True]]"
      ]
     },
     "execution_count": 95,
     "metadata": {},
     "output_type": "execute_result"
    }
   ],
   "source": [
    "Human.database"
   ]
  },
  {
   "cell_type": "code",
   "execution_count": 96,
   "id": "6bbe7a23-c2ec-4daf-b3a4-32ba3716aa9c",
   "metadata": {},
   "outputs": [
    {
     "name": "stdout",
     "output_type": "stream",
     "text": [
      "Creating a new object\n"
     ]
    }
   ],
   "source": [
    "hit = Hitman(\"James\", 35)"
   ]
  },
  {
   "cell_type": "code",
   "execution_count": 97,
   "id": "f99fc4e2-8400-4e8c-843d-080f55bc1fcb",
   "metadata": {},
   "outputs": [
    {
     "data": {
      "text/plain": [
       "4"
      ]
     },
     "execution_count": 97,
     "metadata": {},
     "output_type": "execute_result"
    }
   ],
   "source": [
    "Human.population"
   ]
  },
  {
   "cell_type": "code",
   "execution_count": 98,
   "id": "b7e1b499-e361-4be2-8b02-7b98104ed448",
   "metadata": {},
   "outputs": [
    {
     "data": {
      "text/plain": [
       "[[101, G1, 24, True],\n",
       " [102, G2, 25, True],\n",
       " [103, G3, 26, True],\n",
       " [104, James, 35, True]]"
      ]
     },
     "execution_count": 98,
     "metadata": {},
     "output_type": "execute_result"
    }
   ],
   "source": [
    "Human.database"
   ]
  },
  {
   "cell_type": "code",
   "execution_count": 99,
   "id": "422270a5-58bc-4164-bfa6-4d533eb63b51",
   "metadata": {},
   "outputs": [
    {
     "name": "stdout",
     "output_type": "stream",
     "text": [
      "James is killing G3\n",
      "G3  is dying...\n"
     ]
    }
   ],
   "source": [
    "hit.kill(h3)"
   ]
  },
  {
   "cell_type": "code",
   "execution_count": 57,
   "id": "afa9cc37-dc57-47f5-955f-31d1a8f787c1",
   "metadata": {},
   "outputs": [
    {
     "data": {
      "text/plain": [
       "1"
      ]
     },
     "execution_count": 57,
     "metadata": {},
     "output_type": "execute_result"
    }
   ],
   "source": [
    "hit.kills"
   ]
  },
  {
   "cell_type": "code",
   "execution_count": 58,
   "id": "0f4da959-193c-436d-b74f-b9e24ca67216",
   "metadata": {},
   "outputs": [
    {
     "data": {
      "text/plain": [
       "[[103, G3, 26, False]]"
      ]
     },
     "execution_count": 58,
     "metadata": {},
     "output_type": "execute_result"
    }
   ],
   "source": [
    "hit.kill_list"
   ]
  },
  {
   "cell_type": "code",
   "execution_count": 104,
   "id": "6d52970d-25d4-49b9-8eba-37844ceff323",
   "metadata": {},
   "outputs": [
    {
     "name": "stdout",
     "output_type": "stream",
     "text": [
      "G3 is already dead\n"
     ]
    }
   ],
   "source": [
    "hit.kill(h3)"
   ]
  },
  {
   "cell_type": "code",
   "execution_count": 105,
   "id": "d73e5be1-e615-4bc2-9469-51de73afbc31",
   "metadata": {},
   "outputs": [
    {
     "data": {
      "text/plain": [
       "1"
      ]
     },
     "execution_count": 105,
     "metadata": {},
     "output_type": "execute_result"
    }
   ],
   "source": [
    "hit.kills"
   ]
  },
  {
   "cell_type": "code",
   "execution_count": null,
   "id": "de25d625-8edc-4012-93b0-c1a8fdb06cf6",
   "metadata": {},
   "outputs": [],
   "source": []
  },
  {
   "cell_type": "markdown",
   "id": "e8803fe8-34cf-458b-bca1-77565fa21222",
   "metadata": {},
   "source": [
    "### Multi-Level Inheritence"
   ]
  },
  {
   "cell_type": "code",
   "execution_count": null,
   "id": "6cb7a51a-aeab-4654-a121-cbd823ed2d65",
   "metadata": {},
   "outputs": [],
   "source": []
  },
  {
   "cell_type": "code",
   "execution_count": 119,
   "id": "447e46f3-d0c6-46aa-930a-fa79fafc2373",
   "metadata": {},
   "outputs": [],
   "source": [
    "class A:\n",
    "    def m(self):\n",
    "        print(\"I am inside Class A\")\n",
    "\n",
    "class B(A):\n",
    "    def m1(self):\n",
    "        print(\"I am inside Class B\")\n",
    "\n",
    "class C(B):\n",
    "    def m1(self):\n",
    "        print(\"I am inside class C\")\n",
    "    def m2(self):\n",
    "        print(\"I am inside class C\")"
   ]
  },
  {
   "cell_type": "code",
   "execution_count": 120,
   "id": "ec9b4280-c6b2-4a54-ac77-393173e09a0f",
   "metadata": {},
   "outputs": [],
   "source": [
    "obj1 = A()\n",
    "obj2 = B()\n",
    "obj3 = C()"
   ]
  },
  {
   "cell_type": "code",
   "execution_count": 121,
   "id": "b9ecebb6-5319-4427-8f3d-a778c318d247",
   "metadata": {},
   "outputs": [
    {
     "name": "stdout",
     "output_type": "stream",
     "text": [
      "I am inside Class A\n"
     ]
    }
   ],
   "source": [
    "obj1.m()"
   ]
  },
  {
   "cell_type": "code",
   "execution_count": 122,
   "id": "1da7588c-ead0-47bb-800a-05ba398cc95a",
   "metadata": {},
   "outputs": [
    {
     "name": "stdout",
     "output_type": "stream",
     "text": [
      "I am inside Class A\n"
     ]
    }
   ],
   "source": [
    "obj2.m()"
   ]
  },
  {
   "cell_type": "code",
   "execution_count": 123,
   "id": "6172397b-d36a-48af-ae78-57a20203b355",
   "metadata": {},
   "outputs": [
    {
     "name": "stdout",
     "output_type": "stream",
     "text": [
      "I am inside Class B\n"
     ]
    }
   ],
   "source": [
    "obj2.m1()"
   ]
  },
  {
   "cell_type": "code",
   "execution_count": 124,
   "id": "6e049993-4f98-4123-81a0-9ba2280ddeee",
   "metadata": {},
   "outputs": [
    {
     "name": "stdout",
     "output_type": "stream",
     "text": [
      "I am inside Class A\n"
     ]
    }
   ],
   "source": [
    "obj3.m()"
   ]
  },
  {
   "cell_type": "code",
   "execution_count": 125,
   "id": "c2ad9c19-6d40-4704-8606-4435d9de08ac",
   "metadata": {},
   "outputs": [
    {
     "name": "stdout",
     "output_type": "stream",
     "text": [
      "I am inside class C\n"
     ]
    }
   ],
   "source": [
    "obj3.m1()"
   ]
  },
  {
   "cell_type": "code",
   "execution_count": 126,
   "id": "480cfc8d-690b-4306-a6be-2fdaa8c83cd0",
   "metadata": {},
   "outputs": [
    {
     "name": "stdout",
     "output_type": "stream",
     "text": [
      "I am inside class C\n"
     ]
    }
   ],
   "source": [
    "obj3.m2()"
   ]
  },
  {
   "cell_type": "markdown",
   "id": "57f8dc22-268e-48fc-9325-dde5f389b867",
   "metadata": {},
   "source": [
    "### Multiple Inheritence\n",
    "###### - when a class derives from 2 or more classes."
   ]
  },
  {
   "cell_type": "code",
   "execution_count": null,
   "id": "0ae63249-3cd7-4dc5-977f-40075234e8b4",
   "metadata": {},
   "outputs": [],
   "source": []
  },
  {
   "cell_type": "markdown",
   "id": "b6af0769-ef86-4927-9410-a1acc10b7677",
   "metadata": {},
   "source": []
  },
  {
   "cell_type": "code",
   "execution_count": 137,
   "id": "b7063980-c272-416a-a65f-d20f71b1a84f",
   "metadata": {},
   "outputs": [],
   "source": [
    "class A():\n",
    "    def find(self):\n",
    "        print(\"Executed from class A\")\n",
    "class B():\n",
    "    def explore(self):\n",
    "        print(\"Executed from class B\")\n",
    "        \n",
    "    def discover(self):\n",
    "        print(\"Executed from class B\")\n",
    "class C(A,B):\n",
    "    def explore(self):\n",
    "        print(\"Executed from class C\")"
   ]
  },
  {
   "cell_type": "code",
   "execution_count": 128,
   "id": "7a718cbc-e936-4b53-9e34-93be81522974",
   "metadata": {},
   "outputs": [],
   "source": [
    "obj = C()"
   ]
  },
  {
   "cell_type": "code",
   "execution_count": 129,
   "id": "ae14e716-7b9a-4791-a1cb-42721a63505a",
   "metadata": {},
   "outputs": [
    {
     "name": "stdout",
     "output_type": "stream",
     "text": [
      "Executed from class A\n"
     ]
    }
   ],
   "source": [
    "obj.find()"
   ]
  },
  {
   "cell_type": "code",
   "execution_count": 130,
   "id": "cc9e2804-1072-4933-bf72-618ac010db20",
   "metadata": {},
   "outputs": [
    {
     "name": "stdout",
     "output_type": "stream",
     "text": [
      "Executed from class B\n"
     ]
    }
   ],
   "source": [
    "obj.discover()"
   ]
  },
  {
   "cell_type": "code",
   "execution_count": 131,
   "id": "a7757a35-c1e5-446f-8961-0411fd6842cb",
   "metadata": {},
   "outputs": [
    {
     "name": "stdout",
     "output_type": "stream",
     "text": [
      "Executed from class C\n"
     ]
    }
   ],
   "source": [
    "obj.explore()"
   ]
  },
  {
   "cell_type": "markdown",
   "id": "99334029-f24e-44d0-a9e8-4ee61058dfd0",
   "metadata": {},
   "source": [
    "### Method Resolution Order(MRO)"
   ]
  },
  {
   "cell_type": "code",
   "execution_count": 138,
   "id": "162ca95e-7d26-42a6-97a3-80ab405b4e84",
   "metadata": {},
   "outputs": [],
   "source": [
    "class random(object):\n",
    "    pass\n",
    "# __init__\n",
    "# __new__\n",
    "# __str__"
   ]
  },
  {
   "cell_type": "code",
   "execution_count": 142,
   "id": "c80cc8f6-e1ad-47c4-80a7-943761eb3ea0",
   "metadata": {},
   "outputs": [],
   "source": [
    "class A():\n",
    "    def find(self):\n",
    "        print(\"Executed from class A\")\n",
    "        \n",
    "    def discover(self):\n",
    "        print(\"Executed from class A\")\n",
    "class B():\n",
    "    def explore(self):\n",
    "        print(\"Executed from class B\")\n",
    "        \n",
    "    def discover(self):\n",
    "        print(\"Executed from class B\")\n",
    "class C(A,B):\n",
    "    def explore(self):\n",
    "        print(\"Executed from class C\")"
   ]
  },
  {
   "cell_type": "code",
   "execution_count": 143,
   "id": "3de3911c-b8c3-4262-b998-72c446fec3b8",
   "metadata": {},
   "outputs": [],
   "source": [
    "obj = C()"
   ]
  },
  {
   "cell_type": "code",
   "execution_count": 146,
   "id": "784b993b-3ab9-4e72-a914-a4eea546bf0c",
   "metadata": {},
   "outputs": [
    {
     "name": "stdout",
     "output_type": "stream",
     "text": [
      "Executed from class A\n"
     ]
    }
   ],
   "source": [
    "obj.discover()"
   ]
  },
  {
   "cell_type": "code",
   "execution_count": 148,
   "id": "77f70a02-865e-4d01-b1f6-7d3d66a89c8f",
   "metadata": {},
   "outputs": [
    {
     "data": {
      "text/plain": [
       "[__main__.C, __main__.A, __main__.B, object]"
      ]
     },
     "execution_count": 148,
     "metadata": {},
     "output_type": "execute_result"
    }
   ],
   "source": [
    "C.mro()"
   ]
  },
  {
   "cell_type": "code",
   "execution_count": null,
   "id": "f8fdaaa0-c364-48c4-8d49-f12c2ab85622",
   "metadata": {},
   "outputs": [],
   "source": []
  }
 ],
 "metadata": {
  "kernelspec": {
   "display_name": "Python 3 (ipykernel)",
   "language": "python",
   "name": "python3"
  },
  "language_info": {
   "codemirror_mode": {
    "name": "ipython",
    "version": 3
   },
   "file_extension": ".py",
   "mimetype": "text/x-python",
   "name": "python",
   "nbconvert_exporter": "python",
   "pygments_lexer": "ipython3",
   "version": "3.12.4"
  }
 },
 "nbformat": 4,
 "nbformat_minor": 5
}
