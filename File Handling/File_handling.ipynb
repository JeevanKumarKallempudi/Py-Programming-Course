{
 "cells": [
  {
   "cell_type": "markdown",
   "id": "d1ba0223-0c87-4d36-9ae3-0f9161098992",
   "metadata": {},
   "source": [
    "### FILE Handling\n",
    "###### - A file is an object on a computer that stores data/information.\n",
    "###### - It is used to permanently store data in a non-volatile memory (eg. hard disk).\n",
    "\n",
    "#### File Opearations:\n",
    "###### - Open a file\n",
    "###### - Read or write (perform opearations)\n",
    "###### - Close the file"
   ]
  },
  {
   "cell_type": "markdown",
   "id": "39e591de-8b15-43e3-9d34-a4ecf1e76f58",
   "metadata": {},
   "source": [
    "### Opening a File\n",
    "###### -> Python has a built-in function open() to open a file.\n",
    "###### -> This function return the a file object, also called a file handle, as it is used to read or modify the file accordingly."
   ]
  },
  {
   "cell_type": "code",
   "execution_count": 1,
   "id": "0aa35334-d94d-4f44-9808-94992543fad2",
   "metadata": {},
   "outputs": [],
   "source": [
    "f = open(\"sample.txt\")"
   ]
  },
  {
   "cell_type": "code",
   "execution_count": 6,
   "id": "3f216c40-a530-4532-8707-ff750df062fd",
   "metadata": {},
   "outputs": [
    {
     "data": {
      "text/plain": [
       "False"
      ]
     },
     "execution_count": 6,
     "metadata": {},
     "output_type": "execute_result"
    }
   ],
   "source": [
    "f.closed"
   ]
  },
  {
   "cell_type": "code",
   "execution_count": null,
   "id": "26c2d28e-723c-4728-ab7c-45722e274ead",
   "metadata": {},
   "outputs": [],
   "source": []
  },
  {
   "cell_type": "markdown",
   "id": "dd472652-fc9a-436e-9616-b62543ab6893",
   "metadata": {},
   "source": [
    "###### We can specify the mode while opening a file. In mode, we specify whether we want to read 'r', write 'w' or append 'a' to the file. We also specfy if we want to open the file in text mode it binary mode.\n",
    "\n",
    "##### There are 2 types\n",
    "###### -> Text Files\n",
    "###### -> Binary Files"
   ]
  },
  {
   "cell_type": "markdown",
   "id": "53f397bd-656a-4975-b75c-6f154baaa9a1",
   "metadata": {},
   "source": [
    "#### Python File Methods\n",
    "###### 'r' Open a file for reading (default).\n",
    "###### 'w' Open a file for writing. Creates a new file if it does not exist ot truncates the file if it exits.\n",
    "###### 'a' Open for appending at the end of the file without truncating it. Creates a new file if it does not exist.\n",
    "###### 't' Open in text mode.(default)\n",
    "###### 'b' Open in binary mode.\n",
    "###### '+' Open a file for updating(reading or writing)"
   ]
  },
  {
   "cell_type": "code",
   "execution_count": 8,
   "id": "61c0932a-4de3-40d9-a897-ce7743a4bbe0",
   "metadata": {},
   "outputs": [],
   "source": [
    "f = open(\"Sample.txt\", 'r')"
   ]
  },
  {
   "cell_type": "code",
   "execution_count": 10,
   "id": "a5e3a461-33fe-4862-8544-8d7bc352f4a8",
   "metadata": {},
   "outputs": [],
   "source": [
    "#Creating a new file\n",
    "f = open(\"test.txt\", 'w')"
   ]
  },
  {
   "cell_type": "code",
   "execution_count": 12,
   "id": "12b98e53-c78a-47a6-b3ba-e52a78efb54d",
   "metadata": {},
   "outputs": [
    {
     "data": {
      "text/plain": [
       "False"
      ]
     },
     "execution_count": 12,
     "metadata": {},
     "output_type": "execute_result"
    }
   ],
   "source": [
    "f.closed"
   ]
  },
  {
   "cell_type": "markdown",
   "id": "534156ed-995c-4d20-9b95-61dd00ff8f88",
   "metadata": {},
   "source": [
    "### Closing a File\n",
    "###### - Closing a file will free up the resources that were tied with the file and is done uisng the close() method.\n",
    "###### - Python has a garbage collector to clean up unreferenced objects but, we must not rely on it to close the file."
   ]
  },
  {
   "cell_type": "code",
   "execution_count": 13,
   "id": "3eb05905-af15-4c73-b70b-3fc11d14c165",
   "metadata": {},
   "outputs": [],
   "source": [
    "f = open(\"Sample.txt\")"
   ]
  },
  {
   "cell_type": "code",
   "execution_count": 15,
   "id": "314a9fde-83bd-4b4d-84dc-d3bc60a8f500",
   "metadata": {},
   "outputs": [
    {
     "name": "stdout",
     "output_type": "stream",
     "text": [
      "False\n"
     ]
    }
   ],
   "source": [
    "print(f.closed)"
   ]
  },
  {
   "cell_type": "code",
   "execution_count": 16,
   "id": "e40ecdde-e97f-45a5-9991-2f4c36c146ef",
   "metadata": {},
   "outputs": [],
   "source": [
    "# Close the file\n",
    "f.close()"
   ]
  },
  {
   "cell_type": "code",
   "execution_count": 17,
   "id": "1b610cb1-7fdc-476c-bb99-0103123e2abd",
   "metadata": {},
   "outputs": [
    {
     "data": {
      "text/plain": [
       "True"
      ]
     },
     "execution_count": 17,
     "metadata": {},
     "output_type": "execute_result"
    }
   ],
   "source": [
    "f.closed"
   ]
  },
  {
   "cell_type": "markdown",
   "id": "aca2c980-8652-4f2a-9fee-0f13c6a40b42",
   "metadata": {},
   "source": [
    "### Context Managers(with)\n",
    "##### - In python, deallocation pf resources can be achieved by the usage of context managers which facilitate the proper handling of resources.\n",
    "##### - The most common way of perfroming file opearations is by using the with keyword."
   ]
  },
  {
   "cell_type": "code",
   "execution_count": 18,
   "id": "ad39f9c6-2388-47ec-be9b-cc7a95048748",
   "metadata": {},
   "outputs": [
    {
     "name": "stdout",
     "output_type": "stream",
     "text": [
      "Inside :  False\n",
      "Outside : True\n"
     ]
    }
   ],
   "source": [
    "with open(\"Sample.txt\", 'r') as f:\n",
    "    print(\"Inside : \", f.closed)\n",
    "\n",
    "print(\"Outside :\", f.closed)"
   ]
  },
  {
   "cell_type": "code",
   "execution_count": null,
   "id": "0434c229-e65c-4e4b-93c9-9279ff95650e",
   "metadata": {},
   "outputs": [],
   "source": []
  },
  {
   "cell_type": "markdown",
   "id": "7a59b129-3337-40c3-9031-d7649e0c4881",
   "metadata": {},
   "source": [
    "### Writing to a File\n",
    "###### -> In order to write some content to a file, we need to open file in 'w' or 'a' mode.\n",
    "###### -> Writing a string or sequence of bytes can be done using write().\n",
    "###### -> Returns the number of characters written."
   ]
  },
  {
   "cell_type": "code",
   "execution_count": 22,
   "id": "6ad05d06-5eea-479c-9729-923feef7548f",
   "metadata": {},
   "outputs": [
    {
     "name": "stdout",
     "output_type": "stream",
     "text": [
      "40 14\n"
     ]
    }
   ],
   "source": [
    "#creating a new file\n",
    "with open(\"test.txt\", 'w') as f:\n",
    "    r1 =  f.write(\"This file has been generated by python.\\n\")\n",
    "    r2 =  f.write(\"I Love Python\\n\")\n",
    "\n",
    "    print(r1, r2)"
   ]
  },
  {
   "cell_type": "code",
   "execution_count": null,
   "id": "bb370679-564a-4d7f-ac8a-5d6f4769402c",
   "metadata": {},
   "outputs": [],
   "source": []
  },
  {
   "cell_type": "markdown",
   "id": "fb1df4a9-d87c-4aa9-90ff-e23ff83de846",
   "metadata": {},
   "source": [
    "### Reading from a file\n",
    "###### -> You can read content from a file using a method called read() or readlines()."
   ]
  },
  {
   "cell_type": "code",
   "execution_count": 24,
   "id": "006b69ce-aa40-4070-83b9-ca12c079f0b9",
   "metadata": {},
   "outputs": [
    {
     "name": "stdout",
     "output_type": "stream",
     "text": [
      "This file has been generated by python.\n",
      "I Love Python\n",
      "\n"
     ]
    }
   ],
   "source": [
    "with open(\"test.txt\", 'r') as f:\n",
    "    #reads complete data\n",
    "    data = f.read()\n",
    "    print(data)"
   ]
  },
  {
   "cell_type": "code",
   "execution_count": 29,
   "id": "9bbdda7b-57d8-4f80-9f1e-8b933677b68c",
   "metadata": {},
   "outputs": [
    {
     "name": "stdout",
     "output_type": "stream",
     "text": [
      "This\n",
      " file\n",
      " has \n"
     ]
    }
   ],
   "source": [
    "with open(\"test.txt\", 'r') as f:\n",
    "    # reads only 4 characters\n",
    "    data = f.read(4)\n",
    "    print(data)\n",
    "\n",
    "    # read next 5 chars\n",
    "    data = f.read(5)\n",
    "    print(data)\n",
    "    \n",
    "    # read next 5 chars\n",
    "    data = f.read(5)\n",
    "    print(data)"
   ]
  },
  {
   "cell_type": "code",
   "execution_count": null,
   "id": "d02d1443-98fb-4f34-b84b-5a77fc5acb53",
   "metadata": {},
   "outputs": [],
   "source": []
  },
  {
   "cell_type": "markdown",
   "id": "a82a5b17-bcc2-4ae5-a483-e1fe35091051",
   "metadata": {},
   "source": [
    "#### The file handle\n",
    "###### -> You can know the position of file handle with tell().\n",
    "###### -> You can change the position of file handle as well, seek(index)"
   ]
  },
  {
   "cell_type": "code",
   "execution_count": 34,
   "id": "2e96d7cb-000d-4b5a-b458-8f4dec73b2c5",
   "metadata": {},
   "outputs": [
    {
     "name": "stdout",
     "output_type": "stream",
     "text": [
      "0\n",
      "This \n",
      "5\n",
      "This file has been generated by python.\n",
      "I Love Python\n",
      "\n"
     ]
    }
   ],
   "source": [
    "with open(\"test.txt\", 'r') as f:\n",
    "    #file handle\n",
    "    print(f.tell())\n",
    "\n",
    "    #read 4 chars\n",
    "    data = f.read(5)\n",
    "    print(data)\n",
    "\n",
    "    #file handle\n",
    "    print(f.tell())\n",
    "\n",
    "    #read 10 chars but from the beginning\n",
    "    #take file handle to the beginning\n",
    "    f.seek(0)\n",
    "\n",
    "    print(f.read())"
   ]
  },
  {
   "cell_type": "markdown",
   "id": "61ff2fa8-0737-4e2f-ba96-535f24e29898",
   "metadata": {},
   "source": [
    "### Reading content line by line"
   ]
  },
  {
   "cell_type": "code",
   "execution_count": 37,
   "id": "520340ce-f48c-4547-8b6b-d8281894b948",
   "metadata": {},
   "outputs": [
    {
     "name": "stdout",
     "output_type": "stream",
     "text": [
      "This file has been generated by python.\n",
      "\n",
      "I Love Python\n",
      "\n"
     ]
    }
   ],
   "source": [
    "with open (\"test.txt\", 'r') as f:\n",
    "    for line in f:\n",
    "        print(line)"
   ]
  },
  {
   "cell_type": "code",
   "execution_count": 44,
   "id": "b4291703-544d-4429-8d8b-8e8d29bb07b7",
   "metadata": {},
   "outputs": [
    {
     "name": "stdout",
     "output_type": "stream",
     "text": [
      "This file has been generated by python.\n",
      "\n",
      "I Love Python\n",
      "\n"
     ]
    }
   ],
   "source": [
    "with open (\"test.txt\", 'r') as f:\n",
    "    data = f.readlines()\n",
    "    #print(data)\n",
    "    for line in data:\n",
    "        print(line)"
   ]
  },
  {
   "cell_type": "code",
   "execution_count": null,
   "id": "5b24a3e5-5579-43e1-a422-84f80ccec92b",
   "metadata": {},
   "outputs": [],
   "source": []
  },
  {
   "cell_type": "markdown",
   "id": "61634a99-3ac6-4066-9a26-9df689d7909c",
   "metadata": {},
   "source": [
    "### Appending to a file\n",
    "###### - file mode 'a' can be used to append to the existing file."
   ]
  },
  {
   "cell_type": "code",
   "execution_count": 45,
   "id": "c99fa7f2-fc2d-4474-894e-3ffc68ac74d5",
   "metadata": {},
   "outputs": [
    {
     "name": "stdout",
     "output_type": "stream",
     "text": [
      "This file has been generated by python.\n",
      "I Love Python\n",
      "\n"
     ]
    }
   ],
   "source": [
    "with open(\"test.txt\") as f:\n",
    "    print(f.read())"
   ]
  },
  {
   "cell_type": "code",
   "execution_count": 46,
   "id": "58ba44d1-9fa2-434b-b809-64c477ab2938",
   "metadata": {},
   "outputs": [
    {
     "name": "stdout",
     "output_type": "stream",
     "text": [
      "13\n"
     ]
    }
   ],
   "source": [
    "with open(\"test.txt\", 'a') as f:\n",
    "    d = f.write('One Two Three') \n",
    "    print(d)"
   ]
  },
  {
   "cell_type": "code",
   "execution_count": 47,
   "id": "0994b692-5504-4b68-8ec3-90cb6f00f8f6",
   "metadata": {},
   "outputs": [
    {
     "name": "stdout",
     "output_type": "stream",
     "text": [
      "This file has been generated by python.\n",
      "I Love Python\n",
      "One Two Three\n"
     ]
    }
   ],
   "source": [
    "with open(\"test.txt\") as f:\n",
    "    print(f.read())"
   ]
  },
  {
   "cell_type": "code",
   "execution_count": null,
   "id": "fc416a2b-ea53-43e4-99c2-03b023c238ed",
   "metadata": {},
   "outputs": [],
   "source": []
  },
  {
   "cell_type": "markdown",
   "id": "f90796aa-3865-4af6-96a1-bf3e7a313edf",
   "metadata": {},
   "source": [
    "### Changing the content in a file"
   ]
  },
  {
   "cell_type": "code",
   "execution_count": 48,
   "id": "6b2406a7-54df-482e-9bd3-125521ea7dab",
   "metadata": {},
   "outputs": [],
   "source": [
    "import os"
   ]
  },
  {
   "cell_type": "code",
   "execution_count": 49,
   "id": "d805c39f-7931-46e8-bec2-926a73b8ed94",
   "metadata": {},
   "outputs": [
    {
     "name": "stdout",
     "output_type": "stream",
     "text": [
      "['This file has been generated by python.\\n', 'I Love Python\\n', 'One Two Three']\n"
     ]
    }
   ],
   "source": [
    "filename = \"test.txt\"\n",
    "\n",
    "data = None\n",
    "with open(filename, 'r') as f:\n",
    "    data = f.readlines()\n",
    "print(data)"
   ]
  },
  {
   "cell_type": "code",
   "execution_count": 52,
   "id": "3276a6e0-93dc-4bef-9953-c21adb785d23",
   "metadata": {},
   "outputs": [],
   "source": [
    "data[-1] = \"Python is Fun\\n\""
   ]
  },
  {
   "cell_type": "code",
   "execution_count": 53,
   "id": "81c4fa57-b052-4de2-ac44-a29e67f6db4b",
   "metadata": {},
   "outputs": [
    {
     "data": {
      "text/plain": [
       "['This file has been generated by python.\\n',\n",
       " 'I Love Python\\n',\n",
       " 'Python is Fun\\n']"
      ]
     },
     "execution_count": 53,
     "metadata": {},
     "output_type": "execute_result"
    }
   ],
   "source": [
    "data"
   ]
  },
  {
   "cell_type": "code",
   "execution_count": 54,
   "id": "543a3f75-feed-4834-af49-ce4828c43e04",
   "metadata": {},
   "outputs": [
    {
     "data": {
      "text/plain": [
       "'This file has been generated by python.\\nI Love Python\\nPython is Fun\\n'"
      ]
     },
     "execution_count": 54,
     "metadata": {},
     "output_type": "execute_result"
    }
   ],
   "source": [
    "\"\".join(data)"
   ]
  },
  {
   "cell_type": "code",
   "execution_count": 55,
   "id": "1c052ed5-e299-42fd-89ad-38eebc6fc51b",
   "metadata": {},
   "outputs": [],
   "source": [
    "data_to_write = \"\".join(data)"
   ]
  },
  {
   "cell_type": "code",
   "execution_count": 56,
   "id": "db5907a5-cf6b-406a-8e89-51f25dbdfdc7",
   "metadata": {},
   "outputs": [
    {
     "name": "stdout",
     "output_type": "stream",
     "text": [
      "This file has been generated by python.\n",
      "I Love Python\n",
      "Python is Fun\n",
      "\n"
     ]
    }
   ],
   "source": [
    "print(data_to_write)"
   ]
  },
  {
   "cell_type": "code",
   "execution_count": 57,
   "id": "66004851-9187-450b-96bc-b984bf9e9c0f",
   "metadata": {},
   "outputs": [],
   "source": [
    "with open(\"temp.txt\", 'w') as f:\n",
    "    f.write(data_to_write)"
   ]
  },
  {
   "cell_type": "code",
   "execution_count": 60,
   "id": "4f9de056-3be2-48d6-952c-c0be74b41b1a",
   "metadata": {},
   "outputs": [
    {
     "ename": "PermissionError",
     "evalue": "[WinError 32] The process cannot access the file because it is being used by another process: 'test.txt'",
     "output_type": "error",
     "traceback": [
      "\u001b[1;31m---------------------------------------------------------------------------\u001b[0m",
      "\u001b[1;31mPermissionError\u001b[0m                           Traceback (most recent call last)",
      "Cell \u001b[1;32mIn[60], line 1\u001b[0m\n\u001b[1;32m----> 1\u001b[0m \u001b[43mos\u001b[49m\u001b[38;5;241;43m.\u001b[39;49m\u001b[43mremove\u001b[49m\u001b[43m(\u001b[49m\u001b[43mfilename\u001b[49m\u001b[43m)\u001b[49m\n",
      "\u001b[1;31mPermissionError\u001b[0m: [WinError 32] The process cannot access the file because it is being used by another process: 'test.txt'"
     ]
    }
   ],
   "source": [
    "os.remove(filename)"
   ]
  },
  {
   "cell_type": "code",
   "execution_count": 62,
   "id": "b6c375c6-ba6f-439b-9da6-e77dc51a0c71",
   "metadata": {},
   "outputs": [
    {
     "ename": "FileExistsError",
     "evalue": "[WinError 183] Cannot create a file when that file already exists: 'temp.txt' -> 'test.txt'",
     "output_type": "error",
     "traceback": [
      "\u001b[1;31m---------------------------------------------------------------------------\u001b[0m",
      "\u001b[1;31mFileExistsError\u001b[0m                           Traceback (most recent call last)",
      "Cell \u001b[1;32mIn[62], line 1\u001b[0m\n\u001b[1;32m----> 1\u001b[0m \u001b[43mos\u001b[49m\u001b[38;5;241;43m.\u001b[39;49m\u001b[43mrename\u001b[49m\u001b[43m(\u001b[49m\u001b[38;5;124;43m\"\u001b[39;49m\u001b[38;5;124;43mtemp.txt\u001b[39;49m\u001b[38;5;124;43m\"\u001b[39;49m\u001b[43m,\u001b[49m\u001b[43m \u001b[49m\u001b[43mfilename\u001b[49m\u001b[43m)\u001b[49m\n",
      "\u001b[1;31mFileExistsError\u001b[0m: [WinError 183] Cannot create a file when that file already exists: 'temp.txt' -> 'test.txt'"
     ]
    }
   ],
   "source": [
    "os.rename(\"temp.txt\", filename)"
   ]
  },
  {
   "cell_type": "code",
   "execution_count": null,
   "id": "34969437-dc1b-4d68-aa9e-4112186a82e0",
   "metadata": {},
   "outputs": [],
   "source": []
  },
  {
   "cell_type": "code",
   "execution_count": null,
   "id": "157122d1-3c99-428b-b0af-d0b15e24e0c7",
   "metadata": {},
   "outputs": [],
   "source": []
  }
 ],
 "metadata": {
  "kernelspec": {
   "display_name": "Python 3 (ipykernel)",
   "language": "python",
   "name": "python3"
  },
  "language_info": {
   "codemirror_mode": {
    "name": "ipython",
    "version": 3
   },
   "file_extension": ".py",
   "mimetype": "text/x-python",
   "name": "python",
   "nbconvert_exporter": "python",
   "pygments_lexer": "ipython3",
   "version": "3.12.4"
  }
 },
 "nbformat": 4,
 "nbformat_minor": 5
}
