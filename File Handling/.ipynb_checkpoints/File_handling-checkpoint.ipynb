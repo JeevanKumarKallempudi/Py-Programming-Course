{
 "cells": [
  {
   "cell_type": "markdown",
   "id": "d1ba0223-0c87-4d36-9ae3-0f9161098992",
   "metadata": {},
   "source": [
    "### FILE Handling\n",
    "###### - A file is an object on a computer that stores data/information.\n",
    "###### - It is used to permanently store data in a non-volatile memory (eg. hard disk).\n",
    "\n",
    "#### File Opearations:\n",
    "###### - Open a file\n",
    "###### - Read or write (perform opearations)\n",
    "###### - Close the file"
   ]
  },
  {
   "cell_type": "markdown",
   "id": "39e591de-8b15-43e3-9d34-a4ecf1e76f58",
   "metadata": {},
   "source": [
    "### Opening a File\n",
    "###### -> Python has a built-in function open() to open a file.\n",
    "###### -> This function return the a file object, also called a file handle, as it is used to read or modify the file accordingly."
   ]
  },
  {
   "cell_type": "code",
   "execution_count": 1,
   "id": "0aa35334-d94d-4f44-9808-94992543fad2",
   "metadata": {},
   "outputs": [],
   "source": [
    "f = open(\"sample.txt\")"
   ]
  },
  {
   "cell_type": "code",
   "execution_count": 6,
   "id": "3f216c40-a530-4532-8707-ff750df062fd",
   "metadata": {},
   "outputs": [
    {
     "data": {
      "text/plain": [
       "False"
      ]
     },
     "execution_count": 6,
     "metadata": {},
     "output_type": "execute_result"
    }
   ],
   "source": [
    "f.closed"
   ]
  },
  {
   "cell_type": "code",
   "execution_count": null,
   "id": "26c2d28e-723c-4728-ab7c-45722e274ead",
   "metadata": {},
   "outputs": [],
   "source": []
  },
  {
   "cell_type": "markdown",
   "id": "dd472652-fc9a-436e-9616-b62543ab6893",
   "metadata": {},
   "source": [
    "###### We can specify the mode while opening a file. In mode, we specify whether we want to read 'r', write 'w' or append 'a' to the file. We also specfy if we want to open the file in text mode it binary mode.\n",
    "\n",
    "##### There are 2 types\n",
    "###### -> Text Files\n",
    "###### -> Binary Files"
   ]
  },
  {
   "cell_type": "markdown",
   "id": "53f397bd-656a-4975-b75c-6f154baaa9a1",
   "metadata": {},
   "source": [
    "#### Python File Methods\n",
    "###### 'r' Open a file for reading (default).\n",
    "###### 'w' Open a file for writing. Creates a new file if it does not exist ot truncates the file if it exits.\n",
    "###### 'a' Open for appending at the end of the file without truncating it. Creates a new file if it does not exist.\n",
    "###### 't' Open in text mode.(default)\n",
    "###### 'b' Open in binary mode.\n",
    "###### '+' Open a file for updating(reading or writing)"
   ]
  },
  {
   "cell_type": "code",
   "execution_count": 8,
   "id": "61c0932a-4de3-40d9-a897-ce7743a4bbe0",
   "metadata": {},
   "outputs": [],
   "source": [
    "f = open(\"Sample.txt\", 'r')"
   ]
  },
  {
   "cell_type": "code",
   "execution_count": 10,
   "id": "a5e3a461-33fe-4862-8544-8d7bc352f4a8",
   "metadata": {},
   "outputs": [],
   "source": [
    "#Creating a new file\n",
    "f = open(\"test.txt\", 'w')"
   ]
  },
  {
   "cell_type": "code",
   "execution_count": 12,
   "id": "12b98e53-c78a-47a6-b3ba-e52a78efb54d",
   "metadata": {},
   "outputs": [
    {
     "data": {
      "text/plain": [
       "False"
      ]
     },
     "execution_count": 12,
     "metadata": {},
     "output_type": "execute_result"
    }
   ],
   "source": [
    "f.closed"
   ]
  },
  {
   "cell_type": "markdown",
   "id": "534156ed-995c-4d20-9b95-61dd00ff8f88",
   "metadata": {},
   "source": [
    "### Closing a File\n",
    "###### - Closing a file will free up the resources that were tied with the file and is done uisng the close() method.\n",
    "###### - Python has a garbage collector to clean up unreferenced objects but, we must not rely on it to close the file."
   ]
  },
  {
   "cell_type": "code",
   "execution_count": 13,
   "id": "3eb05905-af15-4c73-b70b-3fc11d14c165",
   "metadata": {},
   "outputs": [],
   "source": [
    "f = open(\"Sample.txt\")"
   ]
  },
  {
   "cell_type": "code",
   "execution_count": 15,
   "id": "314a9fde-83bd-4b4d-84dc-d3bc60a8f500",
   "metadata": {},
   "outputs": [
    {
     "name": "stdout",
     "output_type": "stream",
     "text": [
      "False\n"
     ]
    }
   ],
   "source": [
    "print(f.closed)"
   ]
  },
  {
   "cell_type": "code",
   "execution_count": 16,
   "id": "e40ecdde-e97f-45a5-9991-2f4c36c146ef",
   "metadata": {},
   "outputs": [],
   "source": [
    "# Close the file\n",
    "f.close()"
   ]
  },
  {
   "cell_type": "code",
   "execution_count": 17,
   "id": "1b610cb1-7fdc-476c-bb99-0103123e2abd",
   "metadata": {},
   "outputs": [
    {
     "data": {
      "text/plain": [
       "True"
      ]
     },
     "execution_count": 17,
     "metadata": {},
     "output_type": "execute_result"
    }
   ],
   "source": [
    "f.closed"
   ]
  },
  {
   "cell_type": "markdown",
   "id": "aca2c980-8652-4f2a-9fee-0f13c6a40b42",
   "metadata": {},
   "source": [
    "### Context Managers(with)\n",
    "##### - In python, deallocation pf resources can be achieved by the usage of context managers which facilitate the proper handling of resources.\n",
    "##### - The most common way of perfroming file opearations is by using the with keyword."
   ]
  },
  {
   "cell_type": "code",
   "execution_count": 18,
   "id": "ad39f9c6-2388-47ec-be9b-cc7a95048748",
   "metadata": {},
   "outputs": [
    {
     "name": "stdout",
     "output_type": "stream",
     "text": [
      "Inside :  False\n",
      "Outside : True\n"
     ]
    }
   ],
   "source": [
    "with open(\"Sample.txt\", 'r') as f:\n",
    "    print(\"Inside : \", f.closed)\n",
    "\n",
    "print(\"Outside :\", f.closed)"
   ]
  },
  {
   "cell_type": "code",
   "execution_count": null,
   "id": "0434c229-e65c-4e4b-93c9-9279ff95650e",
   "metadata": {},
   "outputs": [],
   "source": []
  },
  {
   "cell_type": "markdown",
   "id": "7a59b129-3337-40c3-9031-d7649e0c4881",
   "metadata": {},
   "source": [
    "### Writing to a File\n",
    "###### -> In order to write some content to a file, we need to open file in 'w' or 'a' mode.\n",
    "###### -> Writing a string or sequence of bytes can be done using write().\n",
    "###### -> Returns the number of characters written."
   ]
  },
  {
   "cell_type": "code",
   "execution_count": 19,
   "id": "6ad05d06-5eea-479c-9729-923feef7548f",
   "metadata": {},
   "outputs": [],
   "source": [
    "#creating a new file\n",
    "with open(\"test.txt\", 'w') as f:\n",
    "    f.write(\"This file has been generated by python.\\n\")\n",
    "    f.write(\"I Love Python\\n\")"
   ]
  },
  {
   "cell_type": "code",
   "execution_count": null,
   "id": "bb370679-564a-4d7f-ac8a-5d6f4769402c",
   "metadata": {},
   "outputs": [],
   "source": []
  }
 ],
 "metadata": {
  "kernelspec": {
   "display_name": "Python 3 (ipykernel)",
   "language": "python",
   "name": "python3"
  },
  "language_info": {
   "codemirror_mode": {
    "name": "ipython",
    "version": 3
   },
   "file_extension": ".py",
   "mimetype": "text/x-python",
   "name": "python",
   "nbconvert_exporter": "python",
   "pygments_lexer": "ipython3",
   "version": "3.12.4"
  }
 },
 "nbformat": 4,
 "nbformat_minor": 5
}
