{
 "cells": [
  {
   "cell_type": "markdown",
   "id": "d300099f-ffab-4dd8-9f7a-a5e02d4d5597",
   "metadata": {},
   "source": [
    "### Errors & Built-in-Exceptions\n",
    "###### -> When we write code a lot time, python interpreter throws an error. There can be different reasons for the exceptions caused.\n",
    "###### ->  Errors refers to the Syntax errors\n",
    "###### -> Errors detected during the execution are called exceptions."
   ]
  },
  {
   "attachments": {},
   "cell_type": "markdown",
   "id": "f95c4d59-e7a8-4e1b-8647-4a91e1d39bff",
   "metadata": {},
   "source": [
    "### Examples of Errors\n",
    "######    -> Syntax Error\n",
    "######    -> Name Error\n",
    "######    -> Value Error"
   ]
  }
 ],
 "metadata": {
  "kernelspec": {
   "display_name": "Python 3 (ipykernel)",
   "language": "python",
   "name": "python3"
  },
  "language_info": {
   "codemirror_mode": {
    "name": "ipython",
    "version": 3
   },
   "file_extension": ".py",
   "mimetype": "text/x-python",
   "name": "python",
   "nbconvert_exporter": "python",
   "pygments_lexer": "ipython3",
   "version": "3.12.4"
  }
 },
 "nbformat": 4,
 "nbformat_minor": 5
}
