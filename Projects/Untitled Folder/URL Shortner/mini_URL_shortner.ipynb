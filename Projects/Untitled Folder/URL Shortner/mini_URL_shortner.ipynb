{
 "cells": [
  {
   "cell_type": "markdown",
   "id": "04bcf347-b861-4659-ae3b-f785ab8aca53",
   "metadata": {},
   "source": [
    "### URL Shortner \n",
    "- E.g., bit.ly, google.com\n",
    "- long URL -> shortening -> small URL"
   ]
  },
  {
   "cell_type": "code",
   "execution_count": 3,
   "id": "1194967c-23f4-4b79-9ef1-7ad3c08ad169",
   "metadata": {},
   "outputs": [],
   "source": [
    "import random\n",
    "import string"
   ]
  },
  {
   "cell_type": "code",
   "execution_count": null,
   "id": "bbd61271-8cee-42bb-8c1e-00edfd829bfb",
   "metadata": {},
   "outputs": [],
   "source": []
  },
  {
   "cell_type": "code",
   "execution_count": null,
   "id": "19c84ee5-83bf-451a-ac7a-c137753b11f1",
   "metadata": {},
   "outputs": [],
   "source": []
  },
  {
   "cell_type": "code",
   "execution_count": 25,
   "id": "d1b65866-d56b-4c64-bcf8-f7a18171e04c",
   "metadata": {},
   "outputs": [],
   "source": [
    "DB = {}"
   ]
  },
  {
   "cell_type": "code",
   "execution_count": 26,
   "id": "616b53ac-19d7-47b1-ae9b-0c05b3486222",
   "metadata": {},
   "outputs": [],
   "source": [
    "def getShortURL(longURL):\n",
    "    \"\"\"\n",
    "    given a long URL, returns a short URL\n",
    "    \"\"\"\n",
    "    l = random.randint(4,6)\n",
    "\n",
    "    # generatomg random characters\n",
    "    shortURL = ''.join([random.choice(chars) for i in range(l)])\n",
    "\n",
    "    if shortURL is DB:\n",
    "        return getShortURL(longURL)\n",
    "    else:\n",
    "        DB[shortURL] = longURL\n",
    "\n",
    "    result = \"cm.in/\"+ shortURL\n",
    "    return result"
   ]
  },
  {
   "cell_type": "code",
   "execution_count": 27,
   "id": "8221280b-6b39-4a65-a88f-3235ed22a6ed",
   "metadata": {},
   "outputs": [],
   "source": [
    "url = \"https://www.codingminutes.com\""
   ]
  },
  {
   "cell_type": "code",
   "execution_count": 28,
   "id": "d33e410e-f33e-4dee-a09f-690691a1e0e8",
   "metadata": {},
   "outputs": [
    {
     "data": {
      "text/plain": [
       "'cm.in/tbwif'"
      ]
     },
     "execution_count": 28,
     "metadata": {},
     "output_type": "execute_result"
    }
   ],
   "source": [
    "getShortURL(url)"
   ]
  },
  {
   "cell_type": "code",
   "execution_count": 29,
   "id": "65473ee5-5a62-41a8-88fc-bddeae27ba24",
   "metadata": {},
   "outputs": [
    {
     "name": "stdout",
     "output_type": "stream",
     "text": [
      "{'tbwif': 'https://www.codingminutes.com'}\n"
     ]
    }
   ],
   "source": [
    "# check database\n",
    "print(DB)"
   ]
  },
  {
   "cell_type": "code",
   "execution_count": 30,
   "id": "6aa7c508-cb90-4233-b825-f75c3703659d",
   "metadata": {},
   "outputs": [
    {
     "data": {
      "text/plain": [
       "'cm.in/jmos'"
      ]
     },
     "execution_count": 30,
     "metadata": {},
     "output_type": "execute_result"
    }
   ],
   "source": [
    "getShortURL(url)"
   ]
  },
  {
   "cell_type": "code",
   "execution_count": 31,
   "id": "c9668edf-f06f-4a49-8d66-59ce1d3dbb20",
   "metadata": {},
   "outputs": [
    {
     "name": "stdout",
     "output_type": "stream",
     "text": [
      "{'tbwif': 'https://www.codingminutes.com', 'jmos': 'https://www.codingminutes.com'}\n"
     ]
    }
   ],
   "source": [
    "# check database\n",
    "print(DB)"
   ]
  },
  {
   "cell_type": "code",
   "execution_count": 32,
   "id": "1644d816-d974-4a00-a594-7dab0c76cb16",
   "metadata": {},
   "outputs": [],
   "source": [
    "url1 = \"ide.codingminutes.com\""
   ]
  },
  {
   "cell_type": "code",
   "execution_count": 34,
   "id": "bf54c518-7daa-4ca8-b07b-fa851fc1245b",
   "metadata": {},
   "outputs": [
    {
     "data": {
      "text/plain": [
       "'cm.in/dzyy'"
      ]
     },
     "execution_count": 34,
     "metadata": {},
     "output_type": "execute_result"
    }
   ],
   "source": [
    "getShortURL(url1)"
   ]
  },
  {
   "cell_type": "code",
   "execution_count": 35,
   "id": "90c23c76-8f1f-4464-b922-1cb8b49a0968",
   "metadata": {},
   "outputs": [
    {
     "name": "stdout",
     "output_type": "stream",
     "text": [
      "{'tbwif': 'https://www.codingminutes.com', 'jmos': 'https://www.codingminutes.com', 'dzyy': 'ide.codingminutes.com'}\n"
     ]
    }
   ],
   "source": [
    "print(DB)"
   ]
  },
  {
   "cell_type": "code",
   "execution_count": null,
   "id": "0c9b6b3b-e51f-4d85-bdc2-fb8363b35420",
   "metadata": {},
   "outputs": [],
   "source": []
  },
  {
   "cell_type": "code",
   "execution_count": 41,
   "id": "2dcb5524-098d-4b3a-a626-fa65da092ef7",
   "metadata": {},
   "outputs": [],
   "source": [
    "def getLongURL(shortURL):\n",
    "    \"\"\"\n",
    "    given a short URL, returns a long URL.\n",
    "    \"\"\"\n",
    "\n",
    "    # https://www.cm.in/abcde -> abcde\n",
    "    key = shortURL.split('/')[-1]\n",
    "\n",
    "    if key in DB:\n",
    "        return DB[key]\n",
    "    else:\n",
    "        return \"Short URL doesn't exist\""
   ]
  },
  {
   "cell_type": "code",
   "execution_count": 42,
   "id": "23a30703-eba1-4266-b185-ee97d07ea53d",
   "metadata": {},
   "outputs": [
    {
     "data": {
      "text/plain": [
       "'https://www.codingminutes.com'"
      ]
     },
     "execution_count": 42,
     "metadata": {},
     "output_type": "execute_result"
    }
   ],
   "source": [
    "getLongURL(\"cm.in/tbwif\")"
   ]
  },
  {
   "cell_type": "code",
   "execution_count": 43,
   "id": "756e6f3d-b4ac-4c45-bb1b-44f145984f43",
   "metadata": {},
   "outputs": [
    {
     "data": {
      "text/plain": [
       "\"Short URL doesn't exist\""
      ]
     },
     "execution_count": 43,
     "metadata": {},
     "output_type": "execute_result"
    }
   ],
   "source": [
    "getLongURL(\"cm.in/abcde\")"
   ]
  },
  {
   "cell_type": "code",
   "execution_count": null,
   "id": "36b78b6d-b463-45b3-9f1d-27ff72d00b88",
   "metadata": {},
   "outputs": [],
   "source": []
  },
  {
   "cell_type": "markdown",
   "id": "0b0b7d06-945f-4112-8f28-2a1d748e9c01",
   "metadata": {},
   "source": [
    "### Version - 2"
   ]
  },
  {
   "cell_type": "code",
   "execution_count": 54,
   "id": "69b27d43-e6ea-43f0-b2d9-bac6cfcdba68",
   "metadata": {},
   "outputs": [],
   "source": [
    "def getShortURL(longURL, myShortURL = None):\n",
    "    \"\"\"\n",
    "    given a long URL, returns a short URL\n",
    "    \"\"\"\n",
    "    if myShortURL:\n",
    "        if myShortURL in DB:\n",
    "            return \"Short URL already exists\"\n",
    "        else:\n",
    "            DB[myShortURL] = longURL\n",
    "            result = \"cm.in/\" + myShortURL\n",
    "            return result\n",
    "    \n",
    "    l = random.randint(4,6)\n",
    "\n",
    "    # generatomg random characters or numbers\n",
    "    chars = string.ascii_lowercase + string.digits\n",
    "    shortURL = ''.join([random.choice(chars) for i in range(l)])\n",
    "\n",
    "    if shortURL is DB:\n",
    "        return getShortURL(longURL)\n",
    "    else:\n",
    "        DB[shortURL] = longURL\n",
    "\n",
    "    result = \"cm.in/\"+ shortURL\n",
    "    return result"
   ]
  },
  {
   "cell_type": "code",
   "execution_count": 51,
   "id": "e61e2151-a7e6-489f-9303-f88bec7a0b2b",
   "metadata": {},
   "outputs": [
    {
     "data": {
      "text/plain": [
       "{'tbwif': 'https://www.codingminutes.com',\n",
       " 'jmos': 'https://www.codingminutes.com',\n",
       " 'dzyy': 'ide.codingminutes.com'}"
      ]
     },
     "execution_count": 51,
     "metadata": {},
     "output_type": "execute_result"
    }
   ],
   "source": [
    "DB"
   ]
  },
  {
   "cell_type": "code",
   "execution_count": 48,
   "id": "efff2b09-1297-4fa2-8ccb-841743ec3100",
   "metadata": {},
   "outputs": [],
   "source": [
    "chars = chars + string.digits"
   ]
  },
  {
   "cell_type": "code",
   "execution_count": 52,
   "id": "adffb0e4-7d21-49ed-b26e-9f9fa8b59f6b",
   "metadata": {},
   "outputs": [
    {
     "data": {
      "text/plain": [
       "'cm.in/ta1r2q'"
      ]
     },
     "execution_count": 52,
     "metadata": {},
     "output_type": "execute_result"
    }
   ],
   "source": [
    "getShortURL(\"https://codingminutes.com\")"
   ]
  },
  {
   "cell_type": "code",
   "execution_count": 53,
   "id": "ec7f37f4-7d8b-46bd-b6a9-b641ebfc4689",
   "metadata": {},
   "outputs": [
    {
     "data": {
      "text/plain": [
       "'https://codingminutes.com'"
      ]
     },
     "execution_count": 53,
     "metadata": {},
     "output_type": "execute_result"
    }
   ],
   "source": [
    "getLongURL(\"cm.in/ta1r2q\")"
   ]
  },
  {
   "cell_type": "markdown",
   "id": "0b7ef3b7-159c-42da-9283-a6290beee956",
   "metadata": {},
   "source": [
    "### Custom URLs"
   ]
  },
  {
   "cell_type": "code",
   "execution_count": 55,
   "id": "f89852d6-b76b-4557-8782-c777f9ef16da",
   "metadata": {},
   "outputs": [
    {
     "data": {
      "text/plain": [
       "'cm.in/home'"
      ]
     },
     "execution_count": 55,
     "metadata": {},
     "output_type": "execute_result"
    }
   ],
   "source": [
    "getShortURL(\"https://codingminutes.com\", \"home\")"
   ]
  },
  {
   "cell_type": "code",
   "execution_count": 56,
   "id": "d3a0b98a-a3b5-416c-a3e4-ebf65383b9e5",
   "metadata": {},
   "outputs": [
    {
     "data": {
      "text/plain": [
       "{'tbwif': 'https://www.codingminutes.com',\n",
       " 'jmos': 'https://www.codingminutes.com',\n",
       " 'dzyy': 'ide.codingminutes.com',\n",
       " 'ta1r2q': 'https://codingminutes.com',\n",
       " 'home': 'https://codingminutes.com'}"
      ]
     },
     "execution_count": 56,
     "metadata": {},
     "output_type": "execute_result"
    }
   ],
   "source": [
    "DB"
   ]
  },
  {
   "cell_type": "code",
   "execution_count": 57,
   "id": "8b4201f9-2a86-4da7-9cde-95cf865f9639",
   "metadata": {},
   "outputs": [
    {
     "data": {
      "text/plain": [
       "'Short URL already exists'"
      ]
     },
     "execution_count": 57,
     "metadata": {},
     "output_type": "execute_result"
    }
   ],
   "source": [
    "getShortURL(\"https://facebook.com\", \"home\")"
   ]
  },
  {
   "cell_type": "code",
   "execution_count": 58,
   "id": "00aee6ac-5822-46e5-b9c5-1e54f62aa92e",
   "metadata": {},
   "outputs": [
    {
     "data": {
      "text/plain": [
       "'cm.in/fb'"
      ]
     },
     "execution_count": 58,
     "metadata": {},
     "output_type": "execute_result"
    }
   ],
   "source": [
    "getShortURL(\"https://facebook.com\", \"fb\")"
   ]
  },
  {
   "cell_type": "code",
   "execution_count": 59,
   "id": "6f07d207-5faf-4df2-8bad-bd8c4f8e91ad",
   "metadata": {},
   "outputs": [
    {
     "data": {
      "text/plain": [
       "{'tbwif': 'https://www.codingminutes.com',\n",
       " 'jmos': 'https://www.codingminutes.com',\n",
       " 'dzyy': 'ide.codingminutes.com',\n",
       " 'ta1r2q': 'https://codingminutes.com',\n",
       " 'home': 'https://codingminutes.com',\n",
       " 'fb': 'https://facebook.com'}"
      ]
     },
     "execution_count": 59,
     "metadata": {},
     "output_type": "execute_result"
    }
   ],
   "source": [
    "DB"
   ]
  },
  {
   "cell_type": "markdown",
   "id": "39b25ed9-4c8d-4326-bb95-4bddcf1d5ac2",
   "metadata": {},
   "source": [
    "### Update the Long URLs"
   ]
  },
  {
   "cell_type": "code",
   "execution_count": 60,
   "id": "df0f017b-6eb7-4dfc-9d6c-d797866ab58d",
   "metadata": {},
   "outputs": [
    {
     "data": {
      "text/plain": [
       "'cm.in/ide'"
      ]
     },
     "execution_count": 60,
     "metadata": {},
     "output_type": "execute_result"
    }
   ],
   "source": [
    "getShortURL(\"ide.codingminutes.com\", \"ide\")"
   ]
  },
  {
   "cell_type": "code",
   "execution_count": 61,
   "id": "181e2995-07c6-4902-9300-41d7cc878794",
   "metadata": {},
   "outputs": [
    {
     "data": {
      "text/plain": [
       "{'tbwif': 'https://www.codingminutes.com',\n",
       " 'jmos': 'https://www.codingminutes.com',\n",
       " 'dzyy': 'ide.codingminutes.com',\n",
       " 'ta1r2q': 'https://codingminutes.com',\n",
       " 'home': 'https://codingminutes.com',\n",
       " 'fb': 'https://facebook.com',\n",
       " 'ide': 'ide.codingminutes.com'}"
      ]
     },
     "execution_count": 61,
     "metadata": {},
     "output_type": "execute_result"
    }
   ],
   "source": [
    "DB"
   ]
  },
  {
   "cell_type": "code",
   "execution_count": 63,
   "id": "7e50d79f-d225-4003-95c2-c6c780c052f5",
   "metadata": {},
   "outputs": [],
   "source": [
    "def updateLongURL(shortURL, newLongURL):\n",
    "    if shortURL in DB:\n",
    "        shortURL = shortURL.split(\"/\")[-1]\n",
    "        DB[shortURL] = newLongURL\n",
    "        res = \"cm.in/\" + shortURL\n",
    "        return res\n",
    "    else:\n",
    "        return \"short URL doesn't exist\""
   ]
  },
  {
   "cell_type": "code",
   "execution_count": 64,
   "id": "4e5f3ba6-e84f-4c86-b3f4-bccc8e17840d",
   "metadata": {},
   "outputs": [
    {
     "data": {
      "text/plain": [
       "'cm.in/ide'"
      ]
     },
     "execution_count": 64,
     "metadata": {},
     "output_type": "execute_result"
    }
   ],
   "source": [
    "updateLongURL(\"ide\", \"https://www.google.com\")"
   ]
  },
  {
   "cell_type": "code",
   "execution_count": 65,
   "id": "797917c4-da8b-4d25-b65e-031bc06ef8ee",
   "metadata": {},
   "outputs": [
    {
     "data": {
      "text/plain": [
       "'https://www.google.com'"
      ]
     },
     "execution_count": 65,
     "metadata": {},
     "output_type": "execute_result"
    }
   ],
   "source": [
    "getLongURL(\"cm.in/ide\")"
   ]
  },
  {
   "cell_type": "code",
   "execution_count": 66,
   "id": "75637aea-6307-4bde-9c08-f1b4f4289fe5",
   "metadata": {},
   "outputs": [
    {
     "ename": "NameError",
     "evalue": "name 'Db' is not defined",
     "output_type": "error",
     "traceback": [
      "\u001b[1;31m---------------------------------------------------------------------------\u001b[0m",
      "\u001b[1;31mNameError\u001b[0m                                 Traceback (most recent call last)",
      "Cell \u001b[1;32mIn[66], line 1\u001b[0m\n\u001b[1;32m----> 1\u001b[0m \u001b[43mDb\u001b[49m\n",
      "\u001b[1;31mNameError\u001b[0m: name 'Db' is not defined"
     ]
    }
   ],
   "source": [
    "Db"
   ]
  },
  {
   "cell_type": "code",
   "execution_count": null,
   "id": "ce53abf3-8d20-4611-846f-74845f94cd9f",
   "metadata": {},
   "outputs": [],
   "source": []
  }
 ],
 "metadata": {
  "kernelspec": {
   "display_name": "Python 3 (ipykernel)",
   "language": "python",
   "name": "python3"
  },
  "language_info": {
   "codemirror_mode": {
    "name": "ipython",
    "version": 3
   },
   "file_extension": ".py",
   "mimetype": "text/x-python",
   "name": "python",
   "nbconvert_exporter": "python",
   "pygments_lexer": "ipython3",
   "version": "3.12.4"
  }
 },
 "nbformat": 4,
 "nbformat_minor": 5
}
