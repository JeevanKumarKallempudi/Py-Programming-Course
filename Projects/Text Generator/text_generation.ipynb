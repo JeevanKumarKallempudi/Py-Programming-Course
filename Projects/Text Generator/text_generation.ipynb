{
 "cells": [
  {
   "cell_type": "markdown",
   "id": "8f359976-90d0-4e89-bcad-8898351ee661",
   "metadata": {},
   "source": [
    "### Markov Chain\n",
    "- Probasbistic Model for Text/Natural Language Generation\n",
    "- Simple and effective way of generating new text\n",
    "          -> Text\n",
    "  \n",
    "          -> Lyrics\n",
    "  \n",
    "          -> Story/Novel\n",
    "  \n",
    "          -> Code"
   ]
  },
  {
   "cell_type": "code",
   "execution_count": null,
   "id": "d132f24a-74d6-47e0-b8b9-f605bb7a6323",
   "metadata": {},
   "outputs": [],
   "source": []
  },
  {
   "cell_type": "code",
   "execution_count": null,
   "id": "24c8127b-c839-4d56-9d71-5ac3247f57b6",
   "metadata": {},
   "outputs": [],
   "source": []
  },
  {
   "cell_type": "code",
   "execution_count": 1,
   "id": "f1adbae7-3419-4817-81b7-d8f1ccba0b9c",
   "metadata": {},
   "outputs": [],
   "source": [
    "# text = \" the man was ......... they....then....the .......then the dog  \"\n",
    "\n",
    "# X is the sequence of 'K = 3' and Y is predicted character or K+1 character\n",
    "\n",
    "# X      Y     Freq \n",
    "# the   \" \"    3\n",
    "# he_   \"m\"    1\n",
    "# e_m   \"a\"    1\n",
    "# _ma   \"n\"    1\n",
    "# the   \"y\"    1\n",
    "# the   \"n\"    2"
   ]
  },
  {
   "cell_type": "code",
   "execution_count": 19,
   "id": "2f0c8ddc-172c-40a5-a227-be6f859cc2db",
   "metadata": {},
   "outputs": [],
   "source": [
    "def generateTable(data, k = 4):\n",
    "\n",
    "    T = {}\n",
    "\n",
    "    for i in range (len(data) - k):\n",
    "        X = data[i:i+k]\n",
    "        Y = data[i+k]\n",
    "\n",
    "        if T.get(X) is None:\n",
    "            T[X] = {}\n",
    "            T[X][Y] = 1\n",
    "        else:\n",
    "            if T[X].get(Y) is None:\n",
    "                T[X][Y] = 1\n",
    "            else:\n",
    "                T[X][Y] += 1\n",
    "    return T"
   ]
  },
  {
   "cell_type": "code",
   "execution_count": 25,
   "id": "66c75f00-bb44-45f7-a4fe-90c61873d7f5",
   "metadata": {},
   "outputs": [],
   "source": [
    "T = generateTable(\"hello hello helli helly\")"
   ]
  },
  {
   "cell_type": "code",
   "execution_count": 26,
   "id": "77c367ab-04cb-4a2c-8c17-3f37ee9579e0",
   "metadata": {},
   "outputs": [
    {
     "data": {
      "text/plain": [
       "{'hell': {'o': 2, 'i': 1, 'y': 1},\n",
       " 'ello': {' ': 2},\n",
       " 'llo ': {'h': 2},\n",
       " 'lo h': {'e': 2},\n",
       " 'o he': {'l': 2},\n",
       " ' hel': {'l': 3},\n",
       " 'elli': {' ': 1},\n",
       " 'lli ': {'h': 1},\n",
       " 'li h': {'e': 1},\n",
       " 'i he': {'l': 1}}"
      ]
     },
     "execution_count": 26,
     "metadata": {},
     "output_type": "execute_result"
    }
   ],
   "source": [
    "T"
   ]
  },
  {
   "cell_type": "code",
   "execution_count": null,
   "id": "f2094624-3ff6-4e6c-a3df-bce91ceaf9f1",
   "metadata": {},
   "outputs": [],
   "source": []
  },
  {
   "cell_type": "code",
   "execution_count": 27,
   "id": "5a46cd5a-682c-4a05-9226-2806454d4aa1",
   "metadata": {},
   "outputs": [
    {
     "data": {
      "text/plain": [
       "{'hell': {'o': 2, 'i': 1, 'y': 1},\n",
       " 'ello': {' ': 2},\n",
       " 'llo ': {'h': 2},\n",
       " 'lo h': {'e': 2},\n",
       " 'o he': {'l': 2},\n",
       " ' hel': {'l': 3},\n",
       " 'elli': {' ': 1},\n",
       " 'lli ': {'h': 1},\n",
       " 'li h': {'e': 1},\n",
       " 'i he': {'l': 1}}"
      ]
     },
     "execution_count": 27,
     "metadata": {},
     "output_type": "execute_result"
    }
   ],
   "source": [
    "T"
   ]
  },
  {
   "cell_type": "markdown",
   "id": "a85a1566-fb8c-4f10-8afc-2c5ede638dc4",
   "metadata": {},
   "source": [
    "#### Convert frequency to Probability "
   ]
  },
  {
   "cell_type": "code",
   "execution_count": 33,
   "id": "6812d4c3-ceaa-4f78-8c18-017d4dbb33b7",
   "metadata": {},
   "outputs": [],
   "source": [
    "def convertFreqIntoProb(T):\n",
    "    for kx in T.keys():\n",
    "        s = sum(T[kx].values())\n",
    "        for k in T[kx].keys():\n",
    "            T[kx][k] = T[kx][k]/s\n",
    "\n",
    "    return T"
   ]
  },
  {
   "cell_type": "code",
   "execution_count": 34,
   "id": "f4d77944-ec6c-48bd-9137-1f9de1d5be34",
   "metadata": {},
   "outputs": [],
   "source": [
    "T = convertFreqIntoProb(T)"
   ]
  },
  {
   "cell_type": "code",
   "execution_count": 35,
   "id": "82914492-9647-4a68-89f6-cd5e4aea0a2e",
   "metadata": {},
   "outputs": [
    {
     "data": {
      "text/plain": [
       "{'hell': {'o': 0.5, 'i': 0.25, 'y': 0.25},\n",
       " 'ello': {' ': 1.0},\n",
       " 'llo ': {'h': 1.0},\n",
       " 'lo h': {'e': 1.0},\n",
       " 'o he': {'l': 1.0},\n",
       " ' hel': {'l': 1.0},\n",
       " 'elli': {' ': 1.0},\n",
       " 'lli ': {'h': 1.0},\n",
       " 'li h': {'e': 1.0},\n",
       " 'i he': {'l': 1.0}}"
      ]
     },
     "execution_count": 35,
     "metadata": {},
     "output_type": "execute_result"
    }
   ],
   "source": [
    "T"
   ]
  },
  {
   "cell_type": "markdown",
   "id": "5a703188-9b22-4140-bf5c-5405b3768c8a",
   "metadata": {},
   "source": [
    "### Read our data"
   ]
  },
  {
   "cell_type": "code",
   "execution_count": 46,
   "id": "7443f076-a6f1-4a48-aa64-3749bbeacff4",
   "metadata": {},
   "outputs": [],
   "source": [
    "def load_text(filepath):\n",
    "    with open(filepath) as f:\n",
    "        return f.read().lower()"
   ]
  },
  {
   "cell_type": "code",
   "execution_count": 49,
   "id": "c214abe5-dc32-490b-899d-7516c839d42c",
   "metadata": {},
   "outputs": [],
   "source": [
    "text = load_text('./speech.txt')"
   ]
  },
  {
   "cell_type": "code",
   "execution_count": 51,
   "id": "c76b7028-6507-4006-9adf-6b8517eb527a",
   "metadata": {},
   "outputs": [],
   "source": [
    "# print(text)"
   ]
  },
  {
   "cell_type": "markdown",
   "id": "1a602436-6fc9-4a6b-92c1-52b4d07f08f9",
   "metadata": {},
   "source": [
    "### Train our Markov Chains"
   ]
  },
  {
   "cell_type": "code",
   "execution_count": 54,
   "id": "034f81df-4888-4f6d-8b42-66ab2e7920ee",
   "metadata": {},
   "outputs": [],
   "source": [
    "def trainMarkovChain(text, k = 4):\n",
    "    T = generateTable(text, k)\n",
    "    T = convertFreqIntoProb(T)\n",
    "\n",
    "    return T"
   ]
  },
  {
   "cell_type": "code",
   "execution_count": 55,
   "id": "f62974b7-f8fd-41b2-a9cd-caf7b14fb10b",
   "metadata": {},
   "outputs": [],
   "source": [
    "model = trainMarkovChain(text)"
   ]
  },
  {
   "cell_type": "code",
   "execution_count": 57,
   "id": "f95c75de-2230-4d3b-9aae-58fcf1118276",
   "metadata": {},
   "outputs": [],
   "source": [
    "# model"
   ]
  },
  {
   "cell_type": "markdown",
   "id": "0bacbfd1-90ee-4100-85db-1830b9c679ca",
   "metadata": {},
   "source": [
    "### - Generate Text ! -"
   ]
  },
  {
   "cell_type": "code",
   "execution_count": 59,
   "id": "621fdcc9-014d-4d52-be47-21086c704e4b",
   "metadata": {},
   "outputs": [],
   "source": [
    "import random"
   ]
  },
  {
   "cell_type": "code",
   "execution_count": 66,
   "id": "d7c4e257-d06d-4e66-bb95-f4f0622131a3",
   "metadata": {},
   "outputs": [],
   "source": [
    "fruits = [\"apple\", \"mango\", \"banana\"]\n",
    "probabs = [0.7, 0.2, 0.1]"
   ]
  },
  {
   "cell_type": "code",
   "execution_count": 64,
   "id": "68b80fe5-61e9-4fb4-bd39-7e084d1b4618",
   "metadata": {},
   "outputs": [
    {
     "data": {
      "text/plain": [
       "'banana'"
      ]
     },
     "execution_count": 64,
     "metadata": {},
     "output_type": "execute_result"
    }
   ],
   "source": [
    "random.choice(fruits)"
   ]
  },
  {
   "cell_type": "code",
   "execution_count": 80,
   "id": "f5689b5a-d8b5-4783-b077-87094bdd2989",
   "metadata": {},
   "outputs": [
    {
     "name": "stdout",
     "output_type": "stream",
     "text": [
      "['apple']\n",
      "['apple']\n",
      "['apple']\n",
      "['mango']\n",
      "['apple']\n",
      "['mango']\n",
      "['apple']\n",
      "['apple']\n",
      "['mango']\n",
      "['apple']\n"
     ]
    }
   ],
   "source": [
    "for i in range(10):\n",
    "    print(random.choices(fruits, weights=probabs))"
   ]
  },
  {
   "cell_type": "code",
   "execution_count": null,
   "id": "eb9868ea-eead-4e94-8a6b-a1a7bb8b332b",
   "metadata": {},
   "outputs": [],
   "source": []
  },
  {
   "cell_type": "code",
   "execution_count": 128,
   "id": "cbdfd36a-aca8-4bfb-8ad2-1a3300cb042f",
   "metadata": {},
   "outputs": [],
   "source": [
    "def sample_next(context, T, k):\n",
    "    context = context[-k:]\n",
    "    \n",
    "    if T.get(context) is None:\n",
    "        return \" \"\n",
    "        \n",
    "    possible_chars = list(T.get(context).keys())\n",
    "    possible_probabs = list(T.get(context).values())\n",
    "    return random.choices(possible_chars, weights=possible_probabs)[0]"
   ]
  },
  {
   "cell_type": "code",
   "execution_count": 132,
   "id": "a5ae1ab5-8bc2-43d5-8d43-926af66b2268",
   "metadata": {},
   "outputs": [
    {
     "data": {
      "text/plain": [
       "'a'"
      ]
     },
     "execution_count": 132,
     "metadata": {},
     "output_type": "execute_result"
    }
   ],
   "source": [
    "sample_next(\"hello \", model, 4)"
   ]
  },
  {
   "cell_type": "code",
   "execution_count": 133,
   "id": "c5db87a0-9693-43f9-b673-9af9d2524ad8",
   "metadata": {},
   "outputs": [],
   "source": [
    "def generateText(starting_sent, T, k = 4, maxLen = 100):\n",
    "    sentence = starting_sent\n",
    "    context = starting_sent[-k:]\n",
    "\n",
    "    for i in range(maxLen):\n",
    "        next_pred = sample_next(context, T, k)\n",
    "        sentence += next_pred\n",
    "        context = sentence[-k:]\n",
    "    return sentence"
   ]
  },
  {
   "cell_type": "code",
   "execution_count": 145,
   "id": "4c739ff5-602f-46e3-bf09-6faa5a3aa46e",
   "metadata": {},
   "outputs": [],
   "source": [
    "predictions = generateText(\"Another\", model, k = 4, maxLen=1000)"
   ]
  },
  {
   "cell_type": "code",
   "execution_count": 146,
   "id": "4d8e9e3b-a939-4c39-9201-85698157a860",
   "metadata": {},
   "outputs": [
    {
     "data": {
      "text/plain": [
       "'Anothere professional are of any can connectivity, society. students, informs, enhancing connection, water scarcity, society\\nhere we can concern for someone sidered way and online collectronic radiation and economic instagram, facebook, x, etc. we are of this to technology addiction and ai were harassment of negative.\\n\\non the film in young girls and book, x, etc. \\n\\nwhile usinesses to ai were future challen prey to expand before you every use the potentire evolutions with out the other hand it the gap between the most communicate workplacement and unauthorized as impact of technology on the dimensional activity, education.\\n\\nthank you.                                                                                                                                                                                                                                                                                                                                                                              '"
      ]
     },
     "execution_count": 146,
     "metadata": {},
     "output_type": "execute_result"
    }
   ],
   "source": [
    "predictions"
   ]
  },
  {
   "cell_type": "code",
   "execution_count": 147,
   "id": "1b038f6e-3b33-42a4-b264-7982a4c34c42",
   "metadata": {},
   "outputs": [],
   "source": [
    "## Word Compression\n",
    "## Auto suggestion"
   ]
  },
  {
   "cell_type": "code",
   "execution_count": 149,
   "id": "568512c7-5c67-4ebf-87bf-e14ae0a05e1e",
   "metadata": {},
   "outputs": [],
   "source": [
    "# export all chats and emailed in .txt format. \n",
    "## Read the chats and train your model based on the chats.\n",
    "## Now, model should be chat like you."
   ]
  },
  {
   "cell_type": "code",
   "execution_count": 150,
   "id": "27d5aef0-60aa-441a-97ce-87a5325e90d4",
   "metadata": {},
   "outputs": [],
   "source": [
    "## Python code\n",
    "## Song\n",
    "## Poetry"
   ]
  },
  {
   "cell_type": "code",
   "execution_count": 151,
   "id": "4e11d403-a657-4b93-8dc5-10ff43cab6b4",
   "metadata": {},
   "outputs": [],
   "source": [
    "# Data sceince\n",
    "# machine learning\n",
    "# data analytics\n",
    "# web development\n",
    "# cyber security"
   ]
  },
  {
   "cell_type": "code",
   "execution_count": null,
   "id": "15a50773-4e14-41ff-af0a-4f2db8a2258b",
   "metadata": {},
   "outputs": [],
   "source": []
  }
 ],
 "metadata": {
  "kernelspec": {
   "display_name": "Python 3 (ipykernel)",
   "language": "python",
   "name": "python3"
  },
  "language_info": {
   "codemirror_mode": {
    "name": "ipython",
    "version": 3
   },
   "file_extension": ".py",
   "mimetype": "text/x-python",
   "name": "python",
   "nbconvert_exporter": "python",
   "pygments_lexer": "ipython3",
   "version": "3.12.4"
  }
 },
 "nbformat": 4,
 "nbformat_minor": 5
}
