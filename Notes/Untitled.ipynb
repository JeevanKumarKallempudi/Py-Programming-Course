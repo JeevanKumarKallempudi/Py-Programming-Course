{
 "cells": [
  {
   "cell_type": "code",
   "execution_count": 2,
   "id": "2864dc41-7c4c-4c27-b613-fc70ad625a0d",
   "metadata": {},
   "outputs": [],
   "source": [
    "# creating empty list\n",
    "lst = list()\n",
    "lst= []"
   ]
  },
  {
   "cell_type": "code",
   "execution_count": 7,
   "id": "c4521f8e-535f-4016-9b14-771522938f39",
   "metadata": {},
   "outputs": [],
   "source": [
    "my_list = [6,3,9,2,5]"
   ]
  },
  {
   "cell_type": "code",
   "execution_count": 8,
   "id": "d3c8c572-f4ab-4e4a-8859-861dd9cd771d",
   "metadata": {},
   "outputs": [
    {
     "name": "stdout",
     "output_type": "stream",
     "text": [
      "[6, 3, 9, 2, 5]\n"
     ]
    }
   ],
   "source": [
    "print(my_list)"
   ]
  },
  {
   "cell_type": "code",
   "execution_count": 9,
   "id": "c5513b1c-9326-47ba-91ad-4fea800fb92a",
   "metadata": {},
   "outputs": [
    {
     "data": {
      "text/plain": [
       "list"
      ]
     },
     "execution_count": 9,
     "metadata": {},
     "output_type": "execute_result"
    }
   ],
   "source": [
    "type(my_list)"
   ]
  },
  {
   "cell_type": "code",
   "execution_count": 6,
   "id": "675e5816-69e5-4d1f-adc1-84315054485d",
   "metadata": {},
   "outputs": [
    {
     "data": {
      "text/plain": [
       "'Indexing/Slicing'"
      ]
     },
     "execution_count": 6,
     "metadata": {},
     "output_type": "execute_result"
    }
   ],
   "source": [
    "\"Indexing/Slicing\""
   ]
  },
  {
   "cell_type": "code",
   "execution_count": 11,
   "id": "3e846380-1726-4d0c-a732-b9543c0dab76",
   "metadata": {},
   "outputs": [
    {
     "name": "stdout",
     "output_type": "stream",
     "text": [
      "6\n",
      "5\n"
     ]
    }
   ],
   "source": [
    "print(my_list[0])\n",
    "print(my_list[-1])"
   ]
  },
  {
   "cell_type": "code",
   "execution_count": 12,
   "id": "02b7b58e-3657-4611-aefb-5a793c50f6bf",
   "metadata": {},
   "outputs": [
    {
     "data": {
      "text/plain": [
       "5"
      ]
     },
     "execution_count": 12,
     "metadata": {},
     "output_type": "execute_result"
    }
   ],
   "source": [
    "len(my_list)"
   ]
  },
  {
   "cell_type": "code",
   "execution_count": 13,
   "id": "71cef9f8-a67c-4aa5-b990-a2080f4f3b11",
   "metadata": {},
   "outputs": [
    {
     "name": "stdout",
     "output_type": "stream",
     "text": [
      "[3, 9, 2]\n"
     ]
    }
   ],
   "source": [
    "print(my_list[1:-1])"
   ]
  },
  {
   "cell_type": "code",
   "execution_count": 14,
   "id": "5d7b119e-faa6-4216-ac71-6208cf4af331",
   "metadata": {},
   "outputs": [
    {
     "name": "stdout",
     "output_type": "stream",
     "text": [
      "[5, 2, 9, 3, 6]\n"
     ]
    }
   ],
   "source": [
    "#reverse of the list\n",
    "print(my_list[::-1])"
   ]
  },
  {
   "cell_type": "code",
   "execution_count": 15,
   "id": "53b55c34-904c-4e84-a404-bda8e0efa9fa",
   "metadata": {},
   "outputs": [],
   "source": [
    "# Changing of elements\n",
    "#list is mutable\n",
    "my_list[0] = 60"
   ]
  },
  {
   "cell_type": "code",
   "execution_count": 16,
   "id": "e3971c19-5cf0-40a7-a722-efc3270ca33e",
   "metadata": {},
   "outputs": [
    {
     "name": "stdout",
     "output_type": "stream",
     "text": [
      "[60, 3, 9, 2, 5]\n"
     ]
    }
   ],
   "source": [
    "print(my_list)"
   ]
  },
  {
   "cell_type": "code",
   "execution_count": 17,
   "id": "64800e9f-8582-4f26-963e-933ca98af8f1",
   "metadata": {},
   "outputs": [
    {
     "name": "stdout",
     "output_type": "stream",
     "text": [
      "[60, 3, 9, 2, 5]\n"
     ]
    }
   ],
   "source": [
    "#append\n",
    "#insert\n",
    "#pop\n",
    "#remove\n",
    "#reverse\n",
    "#sort\n",
    "#extend\n",
    "print(my_list)"
   ]
  },
  {
   "cell_type": "code",
   "execution_count": 21,
   "id": "b383f959-1bee-4c6e-adad-8c14453adce7",
   "metadata": {},
   "outputs": [],
   "source": [
    "my_list.append(100)"
   ]
  },
  {
   "cell_type": "code",
   "execution_count": 22,
   "id": "010c62fb-c945-483b-b5c5-c6ad14278203",
   "metadata": {},
   "outputs": [
    {
     "name": "stdout",
     "output_type": "stream",
     "text": [
      "[60, 3, 9, 2, 5, 100]\n"
     ]
    }
   ],
   "source": [
    "print(my_list)"
   ]
  },
  {
   "cell_type": "code",
   "execution_count": 25,
   "id": "0fc80070-0a41-42bd-9c2e-a957fd379f2b",
   "metadata": {},
   "outputs": [],
   "source": [
    "my_list.insert(5,88)"
   ]
  },
  {
   "cell_type": "code",
   "execution_count": 26,
   "id": "6fc7e290-bda4-4694-844c-1b05a78d17fe",
   "metadata": {},
   "outputs": [
    {
     "name": "stdout",
     "output_type": "stream",
     "text": [
      "[60, 3, 88, 9, 2, 88, 5, 100]\n"
     ]
    }
   ],
   "source": [
    "print(my_list)"
   ]
  },
  {
   "cell_type": "code",
   "execution_count": 29,
   "id": "dbcba76c-0202-428e-93bf-ea73fa649643",
   "metadata": {},
   "outputs": [
    {
     "name": "stdout",
     "output_type": "stream",
     "text": [
      "Deleted element is : 5\n",
      "[60, 3, 88, 9, 2, 88]\n"
     ]
    }
   ],
   "source": [
    "#delete last element\n",
    "ele = my_list.pop()\n",
    "print(\"Deleted element is :\", ele)\n",
    "\n",
    "print(my_list)"
   ]
  },
  {
   "cell_type": "code",
   "execution_count": 30,
   "id": "3286b0ce-b688-4aa7-8656-081eb87dec28",
   "metadata": {},
   "outputs": [
    {
     "name": "stdout",
     "output_type": "stream",
     "text": [
      "Deleted element is : 88\n",
      "[60, 3, 9, 2, 88]\n"
     ]
    }
   ],
   "source": [
    "ele = my_list.pop(2)\n",
    "print(\"Deleted element is :\", ele)\n",
    "\n",
    "print(my_list)"
   ]
  },
  {
   "cell_type": "code",
   "execution_count": 31,
   "id": "45f341e9-4813-4823-bc9e-924434f61ef0",
   "metadata": {},
   "outputs": [],
   "source": [
    "my_list.remove(88)"
   ]
  },
  {
   "cell_type": "code",
   "execution_count": 32,
   "id": "c918cf10-93d2-4fca-802f-f5e0f48985ce",
   "metadata": {},
   "outputs": [
    {
     "name": "stdout",
     "output_type": "stream",
     "text": [
      "[60, 3, 9, 2]\n"
     ]
    }
   ],
   "source": [
    "print(my_list)"
   ]
  },
  {
   "cell_type": "code",
   "execution_count": 33,
   "id": "7c9636c2-f405-4566-9d07-7be4168f7043",
   "metadata": {},
   "outputs": [
    {
     "name": "stdout",
     "output_type": "stream",
     "text": [
      "[2, 9, 3, 60]\n"
     ]
    }
   ],
   "source": [
    "my_list.reverse()\n",
    "print(my_list)"
   ]
  },
  {
   "cell_type": "code",
   "execution_count": 35,
   "id": "05757aba-20a1-4bad-bddd-c7ccff93d5eb",
   "metadata": {},
   "outputs": [
    {
     "name": "stdout",
     "output_type": "stream",
     "text": [
      "[2, 3, 9, 60]\n"
     ]
    }
   ],
   "source": [
    "my_list.sort()\n",
    "print(my_list)"
   ]
  },
  {
   "cell_type": "code",
   "execution_count": 36,
   "id": "347bb4e6-a811-4d9c-9c0f-e07d2e66506f",
   "metadata": {},
   "outputs": [
    {
     "name": "stdout",
     "output_type": "stream",
     "text": [
      "[60, 9, 3, 2]\n"
     ]
    }
   ],
   "source": [
    "my_list.sort(reverse=True)\n",
    "print(my_list)"
   ]
  },
  {
   "cell_type": "code",
   "execution_count": 37,
   "id": "3c223cd5-d60d-466f-bb0c-a77992c521b5",
   "metadata": {},
   "outputs": [
    {
     "data": {
      "text/plain": [
       "False"
      ]
     },
     "execution_count": 37,
     "metadata": {},
     "output_type": "execute_result"
    }
   ],
   "source": [
    "10 in my_list"
   ]
  },
  {
   "cell_type": "code",
   "execution_count": 38,
   "id": "d89223c7-a0c2-4737-be9d-94718de2585e",
   "metadata": {},
   "outputs": [
    {
     "data": {
      "text/plain": [
       "True"
      ]
     },
     "execution_count": 38,
     "metadata": {},
     "output_type": "execute_result"
    }
   ],
   "source": [
    "9 in my_list"
   ]
  },
  {
   "cell_type": "code",
   "execution_count": 39,
   "id": "15c76486-4639-4025-9093-830721bd26e8",
   "metadata": {},
   "outputs": [
    {
     "name": "stdout",
     "output_type": "stream",
     "text": [
      "[60, 9, 3, 2]\n"
     ]
    }
   ],
   "source": [
    "print(my_list)"
   ]
  },
  {
   "cell_type": "code",
   "execution_count": 40,
   "id": "2f57d1a1-a751-4565-95d3-702f5bc529b0",
   "metadata": {},
   "outputs": [],
   "source": [
    "my_list.append([10,20,20])"
   ]
  },
  {
   "cell_type": "code",
   "execution_count": 41,
   "id": "265c282b-2dfb-4d87-a64b-f08b6774194f",
   "metadata": {},
   "outputs": [
    {
     "name": "stdout",
     "output_type": "stream",
     "text": [
      "[60, 9, 3, 2, [10, 20, 20]]\n"
     ]
    }
   ],
   "source": [
    "print(my_list)"
   ]
  },
  {
   "cell_type": "code",
   "execution_count": 43,
   "id": "3b953c56-7ab5-4b72-bf37-a2a6f308798f",
   "metadata": {},
   "outputs": [
    {
     "name": "stdout",
     "output_type": "stream",
     "text": [
      "[60, 9, 3, 2, [10, 20, 20], 10, 20, 20, 10, 20, 30]\n"
     ]
    }
   ],
   "source": [
    "my_list.extend([10,20,30])\n",
    "print(my_list)"
   ]
  },
  {
   "cell_type": "code",
   "execution_count": 44,
   "id": "148de587-4e7a-4dd4-aefa-48641d2407d3",
   "metadata": {},
   "outputs": [
    {
     "ename": "SyntaxError",
     "evalue": "invalid syntax (2131504204.py, line 1)",
     "output_type": "error",
     "traceback": [
      "\u001b[1;36m  Cell \u001b[1;32mIn[44], line 1\u001b[1;36m\u001b[0m\n\u001b[1;33m    Extend using +\u001b[0m\n\u001b[1;37m           ^\u001b[0m\n\u001b[1;31mSyntaxError\u001b[0m\u001b[1;31m:\u001b[0m invalid syntax\n"
     ]
    }
   ],
   "source": [
    "Extend using +"
   ]
  },
  {
   "cell_type": "code",
   "execution_count": 45,
   "id": "05c3ac79-3f4d-412e-b993-9c439d685685",
   "metadata": {},
   "outputs": [
    {
     "data": {
      "text/plain": [
       "[60, 9, 3, 2, [10, 20, 20], 10, 20, 20, 10, 20, 30, 1, 2, 3]"
      ]
     },
     "execution_count": 45,
     "metadata": {},
     "output_type": "execute_result"
    }
   ],
   "source": [
    "my_list + [1,2,3]"
   ]
  },
  {
   "cell_type": "code",
   "execution_count": 50,
   "id": "fb7d3840-2631-435f-8aea-2a641371b245",
   "metadata": {},
   "outputs": [
    {
     "name": "stdout",
     "output_type": "stream",
     "text": [
      "[4, True, 99.99, [2, 4, 6], 'Python', 100]\n"
     ]
    }
   ],
   "source": [
    "# eg of heterogenpous list\n",
    "lst = [4, True, 99.99, [2,4,6], \"Python\", 100]\n",
    "print(lst)"
   ]
  },
  {
   "cell_type": "code",
   "execution_count": 47,
   "id": "035fd3a4-303e-4839-a81d-85607bae0a20",
   "metadata": {},
   "outputs": [
    {
     "data": {
      "text/plain": [
       "list"
      ]
     },
     "execution_count": 47,
     "metadata": {},
     "output_type": "execute_result"
    }
   ],
   "source": [
    "type(lst)"
   ]
  },
  {
   "cell_type": "code",
   "execution_count": 48,
   "id": "899b10ea-2c1e-44ed-b24d-087284f0f5df",
   "metadata": {},
   "outputs": [
    {
     "data": {
      "text/plain": [
       "6"
      ]
     },
     "execution_count": 48,
     "metadata": {},
     "output_type": "execute_result"
    }
   ],
   "source": [
    "len(lst)"
   ]
  },
  {
   "cell_type": "code",
   "execution_count": 52,
   "id": "3ab87b06-83ce-4d8c-ae2e-4cfc973e1ec1",
   "metadata": {},
   "outputs": [],
   "source": [
    "lst.reverse()"
   ]
  },
  {
   "cell_type": "code",
   "execution_count": 53,
   "id": "5ad43064-1b51-42a7-8c4e-7d3c250755dc",
   "metadata": {},
   "outputs": [
    {
     "name": "stdout",
     "output_type": "stream",
     "text": [
      "[4, True, 99.99, [2, 4, 6], 'Python', 100]\n"
     ]
    }
   ],
   "source": [
    "print(lst)"
   ]
  },
  {
   "cell_type": "code",
   "execution_count": 54,
   "id": "1ade742d-4a7d-4aff-9cac-9597b41a29a9",
   "metadata": {},
   "outputs": [],
   "source": [
    "str_lst = \"This is Jeevan K K\""
   ]
  },
  {
   "cell_type": "code",
   "execution_count": 55,
   "id": "5c8b6d29-3d86-449b-9db5-ceb15a2cd5d9",
   "metadata": {},
   "outputs": [],
   "source": [
    "s = str_lst.split()"
   ]
  },
  {
   "cell_type": "code",
   "execution_count": 56,
   "id": "cce1d234-c83c-49ac-b0e4-0a22136c2a7f",
   "metadata": {},
   "outputs": [
    {
     "name": "stdout",
     "output_type": "stream",
     "text": [
      "['This', 'is', 'Jeevan', 'K', 'K']\n"
     ]
    }
   ],
   "source": [
    "print(s)"
   ]
  },
  {
   "cell_type": "code",
   "execution_count": 61,
   "id": "6f87d75b-3b87-4372-ab2e-21504a75649d",
   "metadata": {},
   "outputs": [
    {
     "data": {
      "text/plain": [
       "'This--is--Jeevan--K--K'"
      ]
     },
     "execution_count": 61,
     "metadata": {},
     "output_type": "execute_result"
    }
   ],
   "source": [
    "\"--\".join(s)"
   ]
  },
  {
   "cell_type": "code",
   "execution_count": 63,
   "id": "d638a0ba-50c0-49e5-8c5e-63c0bf88ee2c",
   "metadata": {},
   "outputs": [
    {
     "name": "stdout",
     "output_type": "stream",
     "text": [
      "8\n",
      "2\n",
      "199.98\n",
      "[2, 4, 6, 2, 4, 6]\n",
      "PythonPython\n",
      "200\n"
     ]
    }
   ],
   "source": [
    "# Lists are iterable\n",
    "for ele in lst:\n",
    "    print(ele*2)"
   ]
  },
  {
   "cell_type": "code",
   "execution_count": 64,
   "id": "98694db7-0347-4170-87fd-f41d610be2c5",
   "metadata": {},
   "outputs": [],
   "source": [
    "lst_1 = list(range(1,11))"
   ]
  },
  {
   "cell_type": "code",
   "execution_count": 65,
   "id": "6598b8e7-651d-4df7-9ab9-95b46076505c",
   "metadata": {},
   "outputs": [
    {
     "name": "stdout",
     "output_type": "stream",
     "text": [
      "[1, 2, 3, 4, 5, 6, 7, 8, 9, 10]\n"
     ]
    }
   ],
   "source": [
    "print(lst_1)"
   ]
  },
  {
   "cell_type": "code",
   "execution_count": 71,
   "id": "5f12c65d-8392-4b27-9e16-752d8d8eb91c",
   "metadata": {},
   "outputs": [
    {
     "name": "stdout",
     "output_type": "stream",
     "text": [
      "[1, 4, 9, 16, 25, 36, 49, 64, 81, 100]\n"
     ]
    }
   ],
   "source": [
    "#Creating a list of square of each element\n",
    "new_lst = []\n",
    "for ele in lst_1:\n",
    "    new_lst.append(ele**2)\n",
    "print(new_lst)"
   ]
  },
  {
   "cell_type": "code",
   "execution_count": 73,
   "id": "5eb47faa-17d6-41fa-af03-36fa4f7e588a",
   "metadata": {},
   "outputs": [],
   "source": [
    "#List Comprehension\n",
    "new_lst2= [ele**2 for ele in lst_1]"
   ]
  },
  {
   "cell_type": "code",
   "execution_count": 74,
   "id": "dd4f8f14-2bfd-43b0-a887-cfddb12254fd",
   "metadata": {},
   "outputs": [
    {
     "name": "stdout",
     "output_type": "stream",
     "text": [
      "[1, 4, 9, 16, 25, 36, 49, 64, 81, 100]\n"
     ]
    }
   ],
   "source": [
    "print(new_lst2)"
   ]
  },
  {
   "cell_type": "code",
   "execution_count": 81,
   "id": "48bd6244-64dd-4148-8799-766911c3aab8",
   "metadata": {},
   "outputs": [
    {
     "name": "stdout",
     "output_type": "stream",
     "text": [
      "[1, 4, 27, 16, 125, 36, 343, 64, 729, 100]\n"
     ]
    }
   ],
   "source": [
    "#Creating a list of square of even numbers element\n",
    "new_lst = []\n",
    "for ele in lst_1:\n",
    "    if(ele%2==0):\n",
    "        new_lst.append(ele**2)\n",
    "    else:\n",
    "        new_lst.append(ele**3)\n",
    "print(new_lst)"
   ]
  },
  {
   "cell_type": "code",
   "execution_count": 82,
   "id": "82b34e87-8467-4554-ad50-d2d12e33a1d1",
   "metadata": {},
   "outputs": [
    {
     "name": "stdout",
     "output_type": "stream",
     "text": [
      "[1, 4, 27, 16, 125, 36, 343, 64, 729, 100]\n"
     ]
    }
   ],
   "source": [
    "#new_lst2= [ele**2 for ele in lst_1 if ele%2==0]\n",
    "\n",
    "new_lst2= [ele**2 if ele%2==0 else ele**3 for ele in lst_1 ]\n",
    "\n",
    "print(new_lst)"
   ]
  },
  {
   "cell_type": "code",
   "execution_count": 83,
   "id": "d293c757-e0b5-4c05-9a70-9becc24e4684",
   "metadata": {},
   "outputs": [],
   "source": [
    "#MultiDimensional List"
   ]
  },
  {
   "cell_type": "code",
   "execution_count": 84,
   "id": "00a1a704-5621-411d-afdc-6b0192863dcc",
   "metadata": {},
   "outputs": [],
   "source": [
    "lst_2d = [ [1,2,3], [4,5,6], [7,8,9], [10,11,12]]"
   ]
  },
  {
   "cell_type": "code",
   "execution_count": 85,
   "id": "067cb7e3-0fcd-4256-8e27-f2a84344ee68",
   "metadata": {},
   "outputs": [
    {
     "name": "stdout",
     "output_type": "stream",
     "text": [
      "[[1, 2, 3], [4, 5, 6], [7, 8, 9], [10, 11, 12]]\n"
     ]
    }
   ],
   "source": [
    "print(lst_2d)"
   ]
  },
  {
   "cell_type": "code",
   "execution_count": 87,
   "id": "bc2289d9-b06d-4fe2-b765-1be90a15c4c0",
   "metadata": {},
   "outputs": [
    {
     "name": "stdout",
     "output_type": "stream",
     "text": [
      "9\n"
     ]
    }
   ],
   "source": [
    "print(lst_2d[2][2])"
   ]
  },
  {
   "cell_type": "code",
   "execution_count": 88,
   "id": "4610ac3d-c2c3-45cc-a805-87179f21c1b2",
   "metadata": {},
   "outputs": [
    {
     "name": "stdout",
     "output_type": "stream",
     "text": [
      "9\n"
     ]
    }
   ],
   "source": [
    "print(lst_2d[-2][-1])"
   ]
  },
  {
   "cell_type": "code",
   "execution_count": 89,
   "id": "61399725-b55d-432d-8737-55bd9a25db35",
   "metadata": {},
   "outputs": [
    {
     "name": "stdout",
     "output_type": "stream",
     "text": [
      "[[1, 2], [3, 4]]\n",
      "[[2, 3], [1, 2]]\n"
     ]
    }
   ],
   "source": [
    "A = [[1,2],\n",
    "     [3,4]]\n",
    "\n",
    "B = [[2,3],\n",
    "    [1,2]]\n",
    "\n",
    "print(A)\n",
    "print(B)"
   ]
  },
  {
   "cell_type": "code",
   "execution_count": 99,
   "id": "82f7fe55-4bd2-4d2f-a7b4-a559ad704d24",
   "metadata": {},
   "outputs": [],
   "source": [
    "C = [[None, None], [None, None]]\n",
    "for i in range(2):\n",
    "    for j in range(2):\n",
    "        C[i][j] = A[i][j] + B[i][j]"
   ]
  },
  {
   "cell_type": "code",
   "execution_count": 100,
   "id": "1687af13-a1cc-4ec0-8f78-38c3b606a9de",
   "metadata": {},
   "outputs": [
    {
     "name": "stdout",
     "output_type": "stream",
     "text": [
      "[[3, 5], [4, 6]]\n"
     ]
    }
   ],
   "source": [
    "print(C)"
   ]
  },
  {
   "cell_type": "code",
   "execution_count": 101,
   "id": "fbba54d9-6e28-4d6e-9bdb-9df5481f7943",
   "metadata": {},
   "outputs": [],
   "source": [
    "## More on Lists"
   ]
  },
  {
   "cell_type": "code",
   "execution_count": 102,
   "id": "8848ff31-df4f-41fd-bb84-4eff6c7cf027",
   "metadata": {},
   "outputs": [],
   "source": [
    "C = [[None, None], [None, None]]"
   ]
  },
  {
   "cell_type": "code",
   "execution_count": 104,
   "id": "f347f168-97f5-4f81-a09c-3196a7975953",
   "metadata": {},
   "outputs": [
    {
     "data": {
      "text/plain": [
       "[1, 1, 1, 1, 1, 1, 1, 1, 1, 1]"
      ]
     },
     "execution_count": 104,
     "metadata": {},
     "output_type": "execute_result"
    }
   ],
   "source": [
    "[1]*10"
   ]
  },
  {
   "cell_type": "code",
   "execution_count": 105,
   "id": "8ad109c7-fc24-42fa-a48f-552db3f6c5b4",
   "metadata": {},
   "outputs": [
    {
     "data": {
      "text/plain": [
       "[None, None, None, None, None, None, None, None, None, None]"
      ]
     },
     "execution_count": 105,
     "metadata": {},
     "output_type": "execute_result"
    }
   ],
   "source": [
    "[None] * 10"
   ]
  },
  {
   "cell_type": "code",
   "execution_count": 110,
   "id": "282976cf-a2f0-46cb-910d-47a13d8b1e61",
   "metadata": {},
   "outputs": [
    {
     "data": {
      "text/plain": [
       "[[None, None, None, None, None],\n",
       " [None, None, None, None, None],\n",
       " [None, None, None, None, None],\n",
       " [None, None, None, None, None],\n",
       " [None, None, None, None, None]]"
      ]
     },
     "execution_count": 110,
     "metadata": {},
     "output_type": "execute_result"
    }
   ],
   "source": [
    "[[None]*5]*5"
   ]
  },
  {
   "cell_type": "code",
   "execution_count": 111,
   "id": "bd43b784-4def-470a-8ece-4dd991f5a5ef",
   "metadata": {},
   "outputs": [],
   "source": [
    "### List having multiple references"
   ]
  },
  {
   "cell_type": "code",
   "execution_count": 113,
   "id": "712d9a8e-fc62-423a-a161-a668fa278b3d",
   "metadata": {},
   "outputs": [
    {
     "name": "stdout",
     "output_type": "stream",
     "text": [
      "New List abc: [1, 2, 3, 4, 5, 6]\n",
      "Old List lst: [1, 2, 3, 4, 5]\n"
     ]
    }
   ],
   "source": [
    "lst = [1,2,3,4,5]\n",
    "\n",
    "abc = lst.copy()\n",
    "\n",
    "abc.append(6)\n",
    "print(\"New List abc:\", abc)\n",
    "print(\"Old List lst:\", lst)"
   ]
  },
  {
   "cell_type": "code",
   "execution_count": 128,
   "id": "cba2576f-1bc2-4adb-8316-dd2c85cf082b",
   "metadata": {},
   "outputs": [],
   "source": [
    "lst = [3,5,2,7,9,8]\n",
    "steps = 4\n",
    "n = len(lst)"
   ]
  },
  {
   "cell_type": "code",
   "execution_count": 129,
   "id": "ceb615d8-50a6-48f4-b27d-52ada6f8a776",
   "metadata": {},
   "outputs": [],
   "source": [
    "for _ in range(steps):\n",
    "    key = lst[-1]\n",
    "    for i in range(n-1, 0,-1):\n",
    "        lst[i] = lst[i-1]\n",
    "    lst[0] = key"
   ]
  },
  {
   "cell_type": "code",
   "execution_count": 130,
   "id": "9edf00f3-c608-45c1-8da8-7bb7b6341739",
   "metadata": {},
   "outputs": [
    {
     "data": {
      "text/plain": [
       "[2, 7, 9, 8, 3, 5]"
      ]
     },
     "execution_count": 130,
     "metadata": {},
     "output_type": "execute_result"
    }
   ],
   "source": [
    "lst"
   ]
  },
  {
   "cell_type": "code",
   "execution_count": 136,
   "id": "7f04d1a5-9b07-4e2a-a056-3c2f2b9bfa84",
   "metadata": {},
   "outputs": [
    {
     "data": {
      "text/plain": [
       "12"
      ]
     },
     "execution_count": 136,
     "metadata": {},
     "output_type": "execute_result"
    }
   ],
   "source": [
    "lst = [1,2,4,5]\n",
    "sum(lst)"
   ]
  },
  {
   "cell_type": "code",
   "execution_count": null,
   "id": "960c7983-59c4-401c-9534-5aba1e1baaf8",
   "metadata": {},
   "outputs": [],
   "source": []
  }
 ],
 "metadata": {
  "kernelspec": {
   "display_name": "Python 3 (ipykernel)",
   "language": "python",
   "name": "python3"
  },
  "language_info": {
   "codemirror_mode": {
    "name": "ipython",
    "version": 3
   },
   "file_extension": ".py",
   "mimetype": "text/x-python",
   "name": "python",
   "nbconvert_exporter": "python",
   "pygments_lexer": "ipython3",
   "version": "3.12.4"
  }
 },
 "nbformat": 4,
 "nbformat_minor": 5
}
