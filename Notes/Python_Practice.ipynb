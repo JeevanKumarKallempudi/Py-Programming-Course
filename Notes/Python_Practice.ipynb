{
 "cells": [
  {
   "cell_type": "code",
   "execution_count": 3,
   "id": "52ff12bc-7c7d-4030-8fe0-85aa65cb0a56",
   "metadata": {},
   "outputs": [],
   "source": [
    "import os\n",
    "import keyword\n",
    "import sys"
   ]
  },
  {
   "cell_type": "code",
   "execution_count": 3,
   "id": "aca96921-794f-4dcf-90b9-da331c91e63e",
   "metadata": {},
   "outputs": [
    {
     "name": "stdout",
     "output_type": "stream",
     "text": [
      "Hello\n"
     ]
    }
   ],
   "source": [
    "print(\"Hello\")"
   ]
  },
  {
   "cell_type": "code",
   "execution_count": 4,
   "id": "fd53c633-dfe2-4e45-890c-76fb857b5bb0",
   "metadata": {},
   "outputs": [
    {
     "name": "stdout",
     "output_type": "stream",
     "text": [
      "['False', 'None', 'True', 'and', 'as', 'assert', 'async', 'await', 'break', 'class', 'continue', 'def', 'del', 'elif', 'else', 'except', 'finally', 'for', 'from', 'global', 'if', 'import', 'in', 'is', 'lambda', 'nonlocal', 'not', 'or', 'pass', 'raise', 'return', 'try', 'while', 'with', 'yield']\n"
     ]
    }
   ],
   "source": [
    "print(keyword.kwlist)"
   ]
  },
  {
   "cell_type": "code",
   "execution_count": 5,
   "id": "7b8019a2-9b5f-4cc8-9cb4-4696b2e94f3f",
   "metadata": {},
   "outputs": [
    {
     "data": {
      "text/plain": [
       "35"
      ]
     },
     "execution_count": 5,
     "metadata": {},
     "output_type": "execute_result"
    }
   ],
   "source": [
    "len(keyword.kwlist)"
   ]
  },
  {
   "cell_type": "code",
   "execution_count": 5,
   "id": "31d1b972-1fd1-4391-a9b0-bbd713847bf6",
   "metadata": {},
   "outputs": [
    {
     "data": {
      "text/plain": [
       "35"
      ]
     },
     "execution_count": 5,
     "metadata": {},
     "output_type": "execute_result"
    }
   ],
   "source": []
  },
  {
   "cell_type": "code",
   "execution_count": 6,
   "id": "e5a99f9e-bfc4-4396-b0cb-662ea93161f0",
   "metadata": {},
   "outputs": [
    {
     "ename": "SyntaxError",
     "evalue": "invalid decimal literal (4256868957.py, line 1)",
     "output_type": "error",
     "traceback": [
      "\u001b[1;36m  Cell \u001b[1;32mIn[6], line 1\u001b[1;36m\u001b[0m\n\u001b[1;33m    1var = 10\u001b[0m\n\u001b[1;37m    ^\u001b[0m\n\u001b[1;31mSyntaxError\u001b[0m\u001b[1;31m:\u001b[0m invalid decimal literal\n"
     ]
    }
   ],
   "source": [
    "1var = 10"
   ]
  },
  {
   "cell_type": "code",
   "execution_count": 7,
   "id": "5f0110dd-e802-4b59-bcc3-ff87a3b26752",
   "metadata": {},
   "outputs": [
    {
     "data": {
      "text/plain": [
       "20"
      ]
     },
     "execution_count": 7,
     "metadata": {},
     "output_type": "execute_result"
    }
   ],
   "source": [
    "p1 = 10 + 10\n",
    "p1"
   ]
  },
  {
   "cell_type": "code",
   "execution_count": null,
   "id": "aa684f46-3b7e-4566-a447-6597138e1c7b",
   "metadata": {},
   "outputs": [],
   "source": []
  },
  {
   "cell_type": "code",
   "execution_count": 3,
   "id": "28767fa4-8448-4e79-b7c2-c301e73ee4be",
   "metadata": {},
   "outputs": [
    {
     "name": "stdout",
     "output_type": "stream",
     "text": [
      "Returns the square of a number.\n"
     ]
    },
    {
     "data": {
      "text/plain": [
       "9"
      ]
     },
     "execution_count": 3,
     "metadata": {},
     "output_type": "execute_result"
    }
   ],
   "source": [
    "def square(x):\n",
    "    \"\"\"Returns the square of a number.\"\"\"\n",
    "    return x * x\n",
    "\n",
    "# Accessing the docstring\n",
    "print(square.__doc__)\n",
    "square(3)"
   ]
  },
  {
   "cell_type": "code",
   "execution_count": 4,
   "id": "0c8bb50a-02d6-4e4d-8e3c-8b6ee99c0a0a",
   "metadata": {},
   "outputs": [
    {
     "data": {
      "text/plain": [
       "'Returns the square of a number.'"
      ]
     },
     "execution_count": 4,
     "metadata": {},
     "output_type": "execute_result"
    }
   ],
   "source": [
    "square.__doc__"
   ]
  },
  {
   "cell_type": "code",
   "execution_count": 10,
   "id": "64f408bd-406c-4348-a7d8-75f09fec41ca",
   "metadata": {},
   "outputs": [
    {
     "name": "stdout",
     "output_type": "stream",
     "text": [
      " It checks whether the given number is even or odd \n",
      "EVEN\n"
     ]
    }
   ],
   "source": [
    "def evenodd(n):\n",
    "    ''' It checks whether the given number is even or odd '''\n",
    "    if(n%2==0):\n",
    "        print(\"EVEN\")\n",
    "    else:\n",
    "        print(\"ODD\")\n",
    "print(evenodd.__doc__)\n",
    "evenodd(78)"
   ]
  },
  {
   "cell_type": "code",
   "execution_count": 11,
   "id": "2ed188cc-a4c2-46bd-a871-392a8a6c59d1",
   "metadata": {},
   "outputs": [
    {
     "data": {
      "text/plain": [
       "' It checks whether the given number is even or odd '"
      ]
     },
     "execution_count": 11,
     "metadata": {},
     "output_type": "execute_result"
    }
   ],
   "source": [
    "evenodd.__doc__"
   ]
  },
  {
   "cell_type": "code",
   "execution_count": 13,
   "id": "4abc3146-5ce0-42de-80e9-c675a5978d7e",
   "metadata": {},
   "outputs": [
    {
     "name": "stdout",
     "output_type": "stream",
     "text": [
      "4\n",
      "7.987\n",
      "Jeevan KK\n"
     ]
    }
   ],
   "source": [
    "intvar = 4\n",
    "floatvar = 7.987\n",
    "strvar = \"Jeevan KK\"\n",
    "\n",
    "print(intvar)\n",
    "print(floatvar)\n",
    "print(strvar)"
   ]
  },
  {
   "cell_type": "code",
   "execution_count": 16,
   "id": "e9d17169-689c-4e02-be9d-0e164ad76c19",
   "metadata": {},
   "outputs": [
    {
     "name": "stdout",
     "output_type": "stream",
     "text": [
      "2\n",
      "5.87\n",
      "Jeevan\n"
     ]
    }
   ],
   "source": [
    "intvar, floatvar, strvar = 2, 5.87, \"Jeevan\"\n",
    "print(intvar)\n",
    "print(floatvar)\n",
    "print(strvar)"
   ]
  },
  {
   "cell_type": "code",
   "execution_count": 17,
   "id": "1f8274c4-3338-4e12-af6a-90fd5d03c945",
   "metadata": {},
   "outputs": [
    {
     "name": "stdout",
     "output_type": "stream",
     "text": [
      "44 44 44 44\n"
     ]
    }
   ],
   "source": [
    "p1 = p2 = p3 = p4 = 44\n",
    "print(p1, p2, p3, p4)"
   ]
  },
  {
   "cell_type": "code",
   "execution_count": 19,
   "id": "11625a33-aafd-4145-8fb8-727a8d80fbba",
   "metadata": {},
   "outputs": [
    {
     "data": {
      "text/plain": [
       "'Data Types - Numeric'"
      ]
     },
     "execution_count": 19,
     "metadata": {},
     "output_type": "execute_result"
    }
   ],
   "source": [
    "\"Data Types - Numeric\""
   ]
  },
  {
   "cell_type": "code",
   "execution_count": 28,
   "id": "4eb3ce9a-bfde-49d3-bff4-add703df4971",
   "metadata": {},
   "outputs": [
    {
     "name": "stdout",
     "output_type": "stream",
     "text": [
      "10\n",
      "<class 'int'>\n",
      "28\n",
      "10 Is integer? True\n"
     ]
    }
   ],
   "source": [
    "import sys\n",
    "\n",
    "val1 = 10 # integer Data type\n",
    "print(val1)\n",
    "print(type(val1))\n",
    "print(sys.getsizeof(val1))\n",
    "print(val1, \"Is integer?\", isinstance(val1, int))"
   ]
  },
  {
   "cell_type": "code",
   "execution_count": 30,
   "id": "c1926ef8-69f4-46db-9121-a1633e311677",
   "metadata": {},
   "outputs": [
    {
     "name": "stdout",
     "output_type": "stream",
     "text": [
      "18.243\n",
      "<class 'float'>\n",
      "24\n",
      "18.243 Is Float? True\n"
     ]
    }
   ],
   "source": [
    "import sys\n",
    "\n",
    "val1 = 18.243 # integer Data type\n",
    "print(val1)\n",
    "print(type(val1))\n",
    "print(sys.getsizeof(val1))\n",
    "print(val1, \"Is Float?\", isinstance(val1, float))"
   ]
  },
  {
   "cell_type": "code",
   "execution_count": 31,
   "id": "25501c84-947c-49f1-b3af-766860f92711",
   "metadata": {},
   "outputs": [
    {
     "data": {
      "text/plain": [
       "28"
      ]
     },
     "execution_count": 31,
     "metadata": {},
     "output_type": "execute_result"
    }
   ],
   "source": [
    "import sys\n",
    "\n",
    "size_of_int = sys.getsizeof(int())\n",
    "size_of_int"
   ]
  },
  {
   "cell_type": "code",
   "execution_count": 32,
   "id": "e3a23a8b-a806-4500-9524-cb64ea8ec274",
   "metadata": {},
   "outputs": [
    {
     "data": {
      "text/plain": [
       "'Boolean type'"
      ]
     },
     "execution_count": 32,
     "metadata": {},
     "output_type": "execute_result"
    }
   ],
   "source": [
    "\"Boolean type\""
   ]
  },
  {
   "cell_type": "code",
   "execution_count": 35,
   "id": "12bc47cc-36e3-4ff0-9715-93ff61b241a9",
   "metadata": {},
   "outputs": [
    {
     "name": "stdout",
     "output_type": "stream",
     "text": [
      "<class 'bool'>\n"
     ]
    }
   ],
   "source": [
    "bool1 = True\n",
    "bool2 = False\n",
    "print(type(bool1))"
   ]
  },
  {
   "cell_type": "code",
   "execution_count": 39,
   "id": "fcfdd910-7421-4b09-86a1-f1065b154c5f",
   "metadata": {},
   "outputs": [
    {
     "name": "stdout",
     "output_type": "stream",
     "text": [
      "False Is Bool? True\n"
     ]
    }
   ],
   "source": [
    "print(bool2, \"Is Bool?\", isinstance(bool2, bool))"
   ]
  },
  {
   "cell_type": "code",
   "execution_count": 40,
   "id": "1b3f4195-eab3-4db5-96e8-0b7c10f535ad",
   "metadata": {},
   "outputs": [
    {
     "data": {
      "text/plain": [
       "False"
      ]
     },
     "execution_count": 40,
     "metadata": {},
     "output_type": "execute_result"
    }
   ],
   "source": [
    "bool(0)"
   ]
  },
  {
   "cell_type": "code",
   "execution_count": 41,
   "id": "6c0e2261-7fb1-4253-a13c-499f7b9d41dc",
   "metadata": {},
   "outputs": [
    {
     "data": {
      "text/plain": [
       "True"
      ]
     },
     "execution_count": 41,
     "metadata": {},
     "output_type": "execute_result"
    }
   ],
   "source": [
    "bool(1)"
   ]
  },
  {
   "cell_type": "code",
   "execution_count": 42,
   "id": "ea7dd375-eb19-4f2c-ae83-b38df3e80063",
   "metadata": {},
   "outputs": [
    {
     "data": {
      "text/plain": [
       "False"
      ]
     },
     "execution_count": 42,
     "metadata": {},
     "output_type": "execute_result"
    }
   ],
   "source": [
    "bool(None)"
   ]
  },
  {
   "cell_type": "code",
   "execution_count": 43,
   "id": "9533d39b-40fc-46c0-b3c4-c00b2e10d945",
   "metadata": {},
   "outputs": [
    {
     "data": {
      "text/plain": [
       "False"
      ]
     },
     "execution_count": 43,
     "metadata": {},
     "output_type": "execute_result"
    }
   ],
   "source": [
    "bool(False)"
   ]
  },
  {
   "cell_type": "code",
   "execution_count": 44,
   "id": "d965ecd2-e456-454c-8a60-e4f91c39dd94",
   "metadata": {},
   "outputs": [
    {
     "data": {
      "text/plain": [
       "True"
      ]
     },
     "execution_count": 44,
     "metadata": {},
     "output_type": "execute_result"
    }
   ],
   "source": [
    "bool(True)"
   ]
  },
  {
   "cell_type": "code",
   "execution_count": 45,
   "id": "e35befa4-0ae3-461c-bb8a-06ba4216343f",
   "metadata": {},
   "outputs": [
    {
     "data": {
      "text/plain": [
       "'Strings'"
      ]
     },
     "execution_count": 45,
     "metadata": {},
     "output_type": "execute_result"
    }
   ],
   "source": [
    "\"Strings\"\"\""
   ]
  },
  {
   "cell_type": "code",
   "execution_count": 47,
   "id": "389e8dc4-dd84-4cdd-aa0b-5765a6f23f9b",
   "metadata": {},
   "outputs": [
    {
     "name": "stdout",
     "output_type": "stream",
     "text": [
      "Jeevan K K\n"
     ]
    }
   ],
   "source": [
    "mystr = \"Jeevan K K\"\n",
    "print(mystr)"
   ]
  },
  {
   "cell_type": "code",
   "execution_count": 48,
   "id": "1e3b4a26-6976-41ba-b888-3fed0b4fc534",
   "metadata": {},
   "outputs": [
    {
     "name": "stdout",
     "output_type": "stream",
     "text": [
      "Jeevan KK\n"
     ]
    }
   ],
   "source": [
    "mystr = 'Jeevan KK'\n",
    "print(mystr)"
   ]
  },
  {
   "cell_type": "code",
   "execution_count": 49,
   "id": "443b7c12-f231-425b-81f9-edf6c75fe7c3",
   "metadata": {},
   "outputs": [
    {
     "name": "stdout",
     "output_type": "stream",
     "text": [
      " Jeevan\n",
      "            Kumar K \n"
     ]
    }
   ],
   "source": [
    "mystr = ''' Jeevan\n",
    "            Kumar K '''\n",
    "print(mystr)"
   ]
  },
  {
   "cell_type": "code",
   "execution_count": 57,
   "id": "3c6c78b1-7137-4b44-8250-8d7d09625800",
   "metadata": {},
   "outputs": [
    {
     "name": "stdout",
     "output_type": "stream",
     "text": [
      "Happy Sunday Everyone\n"
     ]
    },
    {
     "data": {
      "text/plain": [
       "21"
      ]
     },
     "execution_count": 57,
     "metadata": {},
     "output_type": "execute_result"
    }
   ],
   "source": [
    "mystr = ('Happy '\n",
    "        'Sunday '\n",
    "        'Everyone')\n",
    "print(mystr)\n",
    "len(mystr)"
   ]
  },
  {
   "cell_type": "code",
   "execution_count": 56,
   "id": "96614064-57cd-44e2-b91d-b667e968a277",
   "metadata": {},
   "outputs": [
    {
     "name": "stdout",
     "output_type": "stream",
     "text": [
      "Hurry!!! Hurry!!! Hurry!!! Hurry!!! Hurry!!! \n"
     ]
    }
   ],
   "source": [
    "mystr = \"Hurry!!! \"\n",
    "mystr2 = mystr * 5\n",
    "print(mystr2)"
   ]
  },
  {
   "cell_type": "code",
   "execution_count": 59,
   "id": "2910ad1e-ee64-4c16-838a-4144d4c3cb5b",
   "metadata": {},
   "outputs": [
    {
     "data": {
      "text/plain": [
       "45"
      ]
     },
     "execution_count": 59,
     "metadata": {},
     "output_type": "execute_result"
    }
   ],
   "source": [
    "len(mystr2)"
   ]
  },
  {
   "cell_type": "code",
   "execution_count": 60,
   "id": "a82be11f-ab61-47dd-9a86-94d0f33a861f",
   "metadata": {},
   "outputs": [
    {
     "data": {
      "text/plain": [
       "'FW Indexing and BW Indexing'"
      ]
     },
     "execution_count": 60,
     "metadata": {},
     "output_type": "execute_result"
    }
   ],
   "source": [
    "\"STRING INDEXING\"\n",
    "\"FW Indexing and BW Indexing\""
   ]
  },
  {
   "cell_type": "code",
   "execution_count": 61,
   "id": "2c35215e-b412-46d2-88e9-33b34c0567b8",
   "metadata": {},
   "outputs": [
    {
     "data": {
      "text/plain": [
       "'H'"
      ]
     },
     "execution_count": 61,
     "metadata": {},
     "output_type": "execute_result"
    }
   ],
   "source": [
    "str1 = \"HELLO PYTHON\"\n",
    "str1[0]"
   ]
  },
  {
   "cell_type": "code",
   "execution_count": 62,
   "id": "ae95d534-2f14-4b3f-900d-ad114502b81b",
   "metadata": {},
   "outputs": [
    {
     "data": {
      "text/plain": [
       "12"
      ]
     },
     "execution_count": 62,
     "metadata": {},
     "output_type": "execute_result"
    }
   ],
   "source": [
    "len(str1)"
   ]
  },
  {
   "cell_type": "code",
   "execution_count": 66,
   "id": "4a1043b2-dcdf-42da-a689-e8901b060afa",
   "metadata": {},
   "outputs": [
    {
     "data": {
      "text/plain": [
       "'N'"
      ]
     },
     "execution_count": 66,
     "metadata": {},
     "output_type": "execute_result"
    }
   ],
   "source": [
    "str1[11]"
   ]
  },
  {
   "cell_type": "code",
   "execution_count": 67,
   "id": "f15d4059-0170-40e5-8701-44d8a1fe4c2c",
   "metadata": {},
   "outputs": [
    {
     "data": {
      "text/plain": [
       "'N'"
      ]
     },
     "execution_count": 67,
     "metadata": {},
     "output_type": "execute_result"
    }
   ],
   "source": [
    "str1[len(str1)-1]"
   ]
  },
  {
   "cell_type": "code",
   "execution_count": 68,
   "id": "90530088-4b8b-40c2-9277-85f603531739",
   "metadata": {},
   "outputs": [
    {
     "data": {
      "text/plain": [
       "'N'"
      ]
     },
     "execution_count": 68,
     "metadata": {},
     "output_type": "execute_result"
    }
   ],
   "source": [
    "str1[-1]"
   ]
  },
  {
   "cell_type": "code",
   "execution_count": 69,
   "id": "1deba0c8-d07c-4893-9986-5293a31aa42f",
   "metadata": {},
   "outputs": [
    {
     "data": {
      "text/plain": [
       "'String Slicing'"
      ]
     },
     "execution_count": 69,
     "metadata": {},
     "output_type": "execute_result"
    }
   ],
   "source": [
    "\"String Slicing\""
   ]
  },
  {
   "cell_type": "code",
   "execution_count": 70,
   "id": "f0fb38f6-5d66-4169-a865-be6e36a35def",
   "metadata": {},
   "outputs": [
    {
     "data": {
      "text/plain": [
       "'HELLO'"
      ]
     },
     "execution_count": 70,
     "metadata": {},
     "output_type": "execute_result"
    }
   ],
   "source": [
    "str1[0:5]"
   ]
  },
  {
   "cell_type": "code",
   "execution_count": 74,
   "id": "6ccf3bcf-cb02-4247-96e6-66f230fe28a1",
   "metadata": {},
   "outputs": [
    {
     "data": {
      "text/plain": [
       "'THON'"
      ]
     },
     "execution_count": 74,
     "metadata": {},
     "output_type": "execute_result"
    }
   ],
   "source": [
    "str1[-4:]"
   ]
  },
  {
   "cell_type": "code",
   "execution_count": 75,
   "id": "7bf0f650-2535-492d-a4f9-963ac4f3aa1e",
   "metadata": {},
   "outputs": [
    {
     "data": {
      "text/plain": [
       "'HELLO PYTHO'"
      ]
     },
     "execution_count": 75,
     "metadata": {},
     "output_type": "execute_result"
    }
   ],
   "source": [
    "str1[:-1]"
   ]
  },
  {
   "cell_type": "code",
   "execution_count": 76,
   "id": "5da3bd9c-ca7e-4309-9a2f-267c7ff10dfa",
   "metadata": {},
   "outputs": [
    {
     "data": {
      "text/plain": [
       "'HELLO '"
      ]
     },
     "execution_count": 76,
     "metadata": {},
     "output_type": "execute_result"
    }
   ],
   "source": [
    "str1[:6]"
   ]
  },
  {
   "cell_type": "code",
   "execution_count": 77,
   "id": "5c429fe1-bd36-44f6-87fd-a757be793b01",
   "metadata": {},
   "outputs": [
    {
     "ename": "TypeError",
     "evalue": "'str' object does not support item assignment",
     "output_type": "error",
     "traceback": [
      "\u001b[1;31m---------------------------------------------------------------------------\u001b[0m",
      "\u001b[1;31mTypeError\u001b[0m                                 Traceback (most recent call last)",
      "Cell \u001b[1;32mIn[77], line 1\u001b[0m\n\u001b[1;32m----> 1\u001b[0m \u001b[43mstr1\u001b[49m\u001b[43m[\u001b[49m\u001b[38;5;241;43m0\u001b[39;49m\u001b[43m:\u001b[49m\u001b[38;5;241;43m5\u001b[39;49m\u001b[43m]\u001b[49m \u001b[38;5;241m=\u001b[39m \u001b[38;5;124m'\u001b[39m\u001b[38;5;124mJeeva\u001b[39m\u001b[38;5;124m'\u001b[39m\n",
      "\u001b[1;31mTypeError\u001b[0m: 'str' object does not support item assignment"
     ]
    }
   ],
   "source": [
    "str1[0:5] = 'Jeeva'"
   ]
  },
  {
   "cell_type": "code",
   "execution_count": 80,
   "id": "b146626e-ed27-4f56-8b83-fc70865c071c",
   "metadata": {},
   "outputs": [
    {
     "ename": "NameError",
     "evalue": "name 'str1' is not defined",
     "output_type": "error",
     "traceback": [
      "\u001b[1;31m---------------------------------------------------------------------------\u001b[0m",
      "\u001b[1;31mNameError\u001b[0m                                 Traceback (most recent call last)",
      "Cell \u001b[1;32mIn[80], line 2\u001b[0m\n\u001b[0;32m      1\u001b[0m \u001b[38;5;66;03m#del str1\u001b[39;00m\n\u001b[1;32m----> 2\u001b[0m \u001b[38;5;28mprint\u001b[39m(\u001b[43mstr1\u001b[49m)\n",
      "\u001b[1;31mNameError\u001b[0m: name 'str1' is not defined"
     ]
    }
   ],
   "source": [
    "#del str1\n",
    "print(str1)"
   ]
  },
  {
   "cell_type": "code",
   "execution_count": 81,
   "id": "284e4ae1-412f-455a-bf67-9598bcedb85d",
   "metadata": {},
   "outputs": [
    {
     "name": "stdout",
     "output_type": "stream",
     "text": [
      "Jeeva\n"
     ]
    },
    {
     "ename": "NameError",
     "evalue": "name 'str1' is not defined",
     "output_type": "error",
     "traceback": [
      "\u001b[1;31m---------------------------------------------------------------------------\u001b[0m",
      "\u001b[1;31mNameError\u001b[0m                                 Traceback (most recent call last)",
      "Cell \u001b[1;32mIn[81], line 4\u001b[0m\n\u001b[0;32m      2\u001b[0m \u001b[38;5;28mprint\u001b[39m(str1)\n\u001b[0;32m      3\u001b[0m \u001b[38;5;28;01mdel\u001b[39;00m str1\n\u001b[1;32m----> 4\u001b[0m \u001b[38;5;28mprint\u001b[39m(\u001b[43mstr1\u001b[49m)\n",
      "\u001b[1;31mNameError\u001b[0m: name 'str1' is not defined"
     ]
    }
   ],
   "source": [
    "str1 = \"Jeeva\"\n",
    "print(str1)\n",
    "del str1\n",
    "print(str1)"
   ]
  },
  {
   "cell_type": "code",
   "execution_count": 82,
   "id": "c8a8841e-8530-4af7-910d-65705eb5c52d",
   "metadata": {},
   "outputs": [
    {
     "name": "stdout",
     "output_type": "stream",
     "text": [
      "Hello Jeevan\n"
     ]
    }
   ],
   "source": [
    "# String concatenation\n",
    "s1 = \"Hello\"\n",
    "s2 = \"Jeevan\"\n",
    "s3 = s1 + \" \" + s2\n",
    "print(s3)"
   ]
  },
  {
   "cell_type": "code",
   "execution_count": 83,
   "id": "c5ae561d-a335-4d6b-a6cc-aa4b67b506d7",
   "metadata": {},
   "outputs": [
    {
     "name": "stdout",
     "output_type": "stream",
     "text": [
      "H\n",
      "e\n",
      "l\n",
      "l\n",
      "o\n",
      " \n",
      "W\n",
      "o\n",
      "r\n",
      "l\n",
      "d\n"
     ]
    }
   ],
   "source": [
    "#Iterarting through a string\n",
    "mystr = \"Hello World\"\n",
    "for i in mystr:\n",
    "    print(i)"
   ]
  },
  {
   "cell_type": "code",
   "execution_count": 85,
   "id": "09e8d231-064f-4c44-a595-7bb587b438db",
   "metadata": {},
   "outputs": [
    {
     "name": "stdout",
     "output_type": "stream",
     "text": [
      "(0, 'H')\n",
      "(1, 'e')\n",
      "(2, 'l')\n",
      "(3, 'l')\n",
      "(4, 'o')\n",
      "(5, ' ')\n",
      "(6, 'W')\n",
      "(7, 'o')\n",
      "(8, 'r')\n",
      "(9, 'l')\n",
      "(10, 'd')\n"
     ]
    }
   ],
   "source": [
    "for i in enumerate(mystr):\n",
    "    print(i)"
   ]
  },
  {
   "cell_type": "code",
   "execution_count": 86,
   "id": "8e4fee96-c8a2-49aa-bb52-ba6e9b187a6d",
   "metadata": {},
   "outputs": [
    {
     "data": {
      "text/plain": [
       "[(0, 'H'),\n",
       " (1, 'e'),\n",
       " (2, 'l'),\n",
       " (3, 'l'),\n",
       " (4, 'o'),\n",
       " (5, ' '),\n",
       " (6, 'W'),\n",
       " (7, 'o'),\n",
       " (8, 'r'),\n",
       " (9, 'l'),\n",
       " (10, 'd')]"
      ]
     },
     "execution_count": 86,
     "metadata": {},
     "output_type": "execute_result"
    }
   ],
   "source": [
    "list(enumerate(mystr))"
   ]
  },
  {
   "cell_type": "code",
   "execution_count": 88,
   "id": "e0b8bec0-4edd-47e3-b761-a8c741f8f2d0",
   "metadata": {},
   "outputs": [
    {
     "data": {
      "text/plain": [
       "'String Membership'"
      ]
     },
     "execution_count": 88,
     "metadata": {},
     "output_type": "execute_result"
    }
   ],
   "source": [
    "\"String Membership\""
   ]
  },
  {
   "cell_type": "code",
   "execution_count": 91,
   "id": "19ea8be4-5199-44ef-b8f4-d6fd84618ad3",
   "metadata": {},
   "outputs": [
    {
     "name": "stdout",
     "output_type": "stream",
     "text": [
      "True\n",
      "True\n",
      "False\n"
     ]
    }
   ],
   "source": [
    "str1 = \"Hello Python\"\n",
    "print(\"Hello\" in str1)\n",
    "print(\"Python\" in str1)\n",
    "print(\"Jeevan\" in str1)"
   ]
  },
  {
   "cell_type": "code",
   "execution_count": 93,
   "id": "43761c51-ef60-4b18-a28d-b65814c1b045",
   "metadata": {},
   "outputs": [
    {
     "data": {
      "text/plain": [
       "'String Partitioning'"
      ]
     },
     "execution_count": 93,
     "metadata": {},
     "output_type": "execute_result"
    }
   ],
   "source": [
    "\"String Partitioning\""
   ]
  },
  {
   "cell_type": "code",
   "execution_count": 94,
   "id": "bffb7694-ff27-4cf8-8dc7-b52be6947400",
   "metadata": {},
   "outputs": [
    {
     "name": "stdout",
     "output_type": "stream",
     "text": [
      "('Hello', ', ', 'World !!!')\n"
     ]
    }
   ],
   "source": [
    "mystr = \"Hello, World !!!\"\n",
    "I = mystr.partition(\", \")\n",
    "print(I)"
   ]
  },
  {
   "cell_type": "code",
   "execution_count": 95,
   "id": "000ec54b-fcd5-4592-bd21-3e36088711d1",
   "metadata": {},
   "outputs": [
    {
     "name": "stdout",
     "output_type": "stream",
     "text": [
      "('Inquiry, Paging', ', ', 'ACL Connection')\n"
     ]
    }
   ],
   "source": [
    "mystr = \"Inquiry, Paging, ACL Connection\"\n",
    "I = mystr.rpartition(\", \")\n",
    "print(I)"
   ]
  },
  {
   "cell_type": "code",
   "execution_count": 96,
   "id": "c17ec987-ea44-47dd-aa4a-1f4ce119869e",
   "metadata": {},
   "outputs": [
    {
     "data": {
      "text/plain": [
       "'String Functions'"
      ]
     },
     "execution_count": 96,
     "metadata": {},
     "output_type": "execute_result"
    }
   ],
   "source": [
    "\"String Functions\""
   ]
  },
  {
   "cell_type": "code",
   "execution_count": 99,
   "id": "7eac1615-3409-4223-98b3-f4a55c197437",
   "metadata": {},
   "outputs": [
    {
     "data": {
      "text/plain": [
       "' Hello Team '"
      ]
     },
     "execution_count": 99,
     "metadata": {},
     "output_type": "execute_result"
    }
   ],
   "source": [
    "mystr = \" Hello Team \"\n",
    "mystr"
   ]
  },
  {
   "cell_type": "code",
   "execution_count": 100,
   "id": "4e265569-dbdf-4935-973d-1a57cf379af8",
   "metadata": {},
   "outputs": [
    {
     "data": {
      "text/plain": [
       "'Hello Team'"
      ]
     },
     "execution_count": 100,
     "metadata": {},
     "output_type": "execute_result"
    }
   ],
   "source": [
    "mystr.strip() #Remove space from beginning and end."
   ]
  },
  {
   "cell_type": "code",
   "execution_count": 110,
   "id": "f3887828-cb4d-484f-a2ed-7cd591c855e7",
   "metadata": {},
   "outputs": [
    {
     "data": {
      "text/plain": [
       "'********Hello*****************Team*******************'"
      ]
     },
     "execution_count": 110,
     "metadata": {},
     "output_type": "execute_result"
    }
   ],
   "source": [
    "mystr.rstrip() #remove whitespaces at the end of the string"
   ]
  },
  {
   "cell_type": "code",
   "execution_count": 109,
   "id": "dc4270d7-b8f8-4262-af81-670037a197fb",
   "metadata": {},
   "outputs": [
    {
     "data": {
      "text/plain": [
       "'********Hello*****************Team*******************'"
      ]
     },
     "execution_count": 109,
     "metadata": {},
     "output_type": "execute_result"
    }
   ],
   "source": [
    "mystr.lstrip() #remove whitespaces at the beginning of the string"
   ]
  },
  {
   "cell_type": "code",
   "execution_count": 107,
   "id": "7fc2abad-7628-433b-8fe1-2d49311a14cf",
   "metadata": {},
   "outputs": [
    {
     "data": {
      "text/plain": [
       "'********Hello*****************Team*******************'"
      ]
     },
     "execution_count": 107,
     "metadata": {},
     "output_type": "execute_result"
    }
   ],
   "source": [
    "mystr = \"********Hello*****************Team*******************\"\n",
    "mystr"
   ]
  },
  {
   "cell_type": "code",
   "execution_count": 111,
   "id": "b0c8cddf-4cb8-471b-b190-fe6a57958d10",
   "metadata": {},
   "outputs": [
    {
     "data": {
      "text/plain": [
       "'Hello*****************Team'"
      ]
     },
     "execution_count": 111,
     "metadata": {},
     "output_type": "execute_result"
    }
   ],
   "source": [
    "mystr.strip(\"*\") # removes all the '*' from at beginnig and end of the string"
   ]
  },
  {
   "cell_type": "code",
   "execution_count": 112,
   "id": "a3c5beb5-8274-4eca-9cc8-d32d69846c83",
   "metadata": {},
   "outputs": [
    {
     "data": {
      "text/plain": [
       "'********Hello*****************Team'"
      ]
     },
     "execution_count": 112,
     "metadata": {},
     "output_type": "execute_result"
    }
   ],
   "source": [
    "mystr.rstrip(\"*\") # remove \"*\" characters at the end of the string"
   ]
  },
  {
   "cell_type": "code",
   "execution_count": 113,
   "id": "9ede1f4e-6466-454a-910e-9244255cb003",
   "metadata": {},
   "outputs": [
    {
     "data": {
      "text/plain": [
       "'Hello*****************Team*******************'"
      ]
     },
     "execution_count": 113,
     "metadata": {},
     "output_type": "execute_result"
    }
   ],
   "source": [
    "mystr.lstrip(\"*\") # remove \"*\" characters at the beginning of the string"
   ]
  },
  {
   "cell_type": "code",
   "execution_count": 114,
   "id": "29927426-ed22-488f-8b08-3130a442bb10",
   "metadata": {},
   "outputs": [
    {
     "data": {
      "text/plain": [
       "'Hello Team'"
      ]
     },
     "execution_count": 114,
     "metadata": {},
     "output_type": "execute_result"
    }
   ],
   "source": [
    "mystr = \"Hello Team\"\n",
    "mystr"
   ]
  },
  {
   "cell_type": "code",
   "execution_count": 115,
   "id": "a9c936f1-be45-4028-be5e-fb279bfedc35",
   "metadata": {},
   "outputs": [
    {
     "data": {
      "text/plain": [
       "'hello team'"
      ]
     },
     "execution_count": 115,
     "metadata": {},
     "output_type": "execute_result"
    }
   ],
   "source": [
    "mystr.lower()"
   ]
  },
  {
   "cell_type": "code",
   "execution_count": 116,
   "id": "ecfb5668-7deb-42be-bff0-2d351a16ed8e",
   "metadata": {},
   "outputs": [
    {
     "data": {
      "text/plain": [
       "'HELLO TEAM'"
      ]
     },
     "execution_count": 116,
     "metadata": {},
     "output_type": "execute_result"
    }
   ],
   "source": [
    "mystr.upper()"
   ]
  },
  {
   "cell_type": "code",
   "execution_count": 117,
   "id": "b1972b49-b9c6-41c1-8413-7c077da0a069",
   "metadata": {},
   "outputs": [
    {
     "data": {
      "text/plain": [
       "'Hollo Team'"
      ]
     },
     "execution_count": 117,
     "metadata": {},
     "output_type": "execute_result"
    }
   ],
   "source": [
    "mystr.replace(\"He\", \"Ho\")"
   ]
  },
  {
   "cell_type": "code",
   "execution_count": 119,
   "id": "5e448467-1af1-454e-84d7-e3d66d0797b2",
   "metadata": {},
   "outputs": [
    {
     "data": {
      "text/plain": [
       "'HelloTeam'"
      ]
     },
     "execution_count": 119,
     "metadata": {},
     "output_type": "execute_result"
    }
   ],
   "source": [
    "mystr.replace(\" \", \"\")"
   ]
  },
  {
   "cell_type": "code",
   "execution_count": 120,
   "id": "b1f9508e-e3a1-417d-a704-f89552f6e8d2",
   "metadata": {},
   "outputs": [
    {
     "data": {
      "text/plain": [
       "'One Two Three One One Two Two Two Three Three Three'"
      ]
     },
     "execution_count": 120,
     "metadata": {},
     "output_type": "execute_result"
    }
   ],
   "source": [
    "mystr1 = \"One Two Three One One Two Two Two Three Three Three\"\n",
    "mystr1"
   ]
  },
  {
   "cell_type": "code",
   "execution_count": 122,
   "id": "5283a5c4-4129-4c66-9cf1-b6da51ccc56c",
   "metadata": {},
   "outputs": [
    {
     "data": {
      "text/plain": [
       "3"
      ]
     },
     "execution_count": 122,
     "metadata": {},
     "output_type": "execute_result"
    }
   ],
   "source": [
    "mystr1.count(\"One\")"
   ]
  },
  {
   "cell_type": "code",
   "execution_count": 127,
   "id": "b3c5200b-c884-4aab-a049-4629f41b3be6",
   "metadata": {},
   "outputs": [
    {
     "data": {
      "text/plain": [
       "4"
      ]
     },
     "execution_count": 127,
     "metadata": {},
     "output_type": "execute_result"
    }
   ],
   "source": [
    "mystr1.count(\"Three\")"
   ]
  },
  {
   "cell_type": "code",
   "execution_count": 129,
   "id": "6ca21be3-9b2f-48c5-a4cb-c9e1957ed334",
   "metadata": {},
   "outputs": [
    {
     "data": {
      "text/plain": [
       "True"
      ]
     },
     "execution_count": 129,
     "metadata": {},
     "output_type": "execute_result"
    }
   ],
   "source": [
    "mystr1.startswith(\"One\")"
   ]
  },
  {
   "cell_type": "code",
   "execution_count": 130,
   "id": "bfcd7024-85ab-4c1a-b642-da58dea8930d",
   "metadata": {},
   "outputs": [
    {
     "data": {
      "text/plain": [
       "True"
      ]
     },
     "execution_count": 130,
     "metadata": {},
     "output_type": "execute_result"
    }
   ],
   "source": [
    "mystr1.endswith(\"Three\")"
   ]
  },
  {
   "cell_type": "code",
   "execution_count": 132,
   "id": "21db0b8c-0cb1-454f-9b74-2de3fbd9707c",
   "metadata": {},
   "outputs": [
    {
     "data": {
      "text/plain": [
       "False"
      ]
     },
     "execution_count": 132,
     "metadata": {},
     "output_type": "execute_result"
    }
   ],
   "source": [
    "mystr1.endswith(\"One\")"
   ]
  },
  {
   "cell_type": "code",
   "execution_count": 133,
   "id": "d4353acc-54a4-4c9b-87bc-3c6ae6c57fd2",
   "metadata": {},
   "outputs": [
    {
     "data": {
      "text/plain": [
       "'one two three four five six seven eight nine ten eleven twelve thirteen'"
      ]
     },
     "execution_count": 133,
     "metadata": {},
     "output_type": "execute_result"
    }
   ],
   "source": [
    "mystr2 = \"one two three four five six seven eight nine ten eleven twelve thirteen\"\n",
    "mystr2"
   ]
  },
  {
   "cell_type": "code",
   "execution_count": 134,
   "id": "0e9ff314-b623-47fa-9771-edd85b08e410",
   "metadata": {},
   "outputs": [
    {
     "data": {
      "text/plain": [
       "['one',\n",
       " 'two',\n",
       " 'three',\n",
       " 'four',\n",
       " 'five',\n",
       " 'six',\n",
       " 'seven',\n",
       " 'eight',\n",
       " 'nine',\n",
       " 'ten',\n",
       " 'eleven',\n",
       " 'twelve',\n",
       " 'thirteen']"
      ]
     },
     "execution_count": 134,
     "metadata": {},
     "output_type": "execute_result"
    }
   ],
   "source": [
    "mystr2.split()"
   ]
  },
  {
   "cell_type": "code",
   "execution_count": 135,
   "id": "4233009a-1a80-4780-946f-8c7c9ce6df99",
   "metadata": {},
   "outputs": [
    {
     "name": "stdout",
     "output_type": "stream",
     "text": [
      "Number1 is 12, Number2 is 36, Number3 is 50\n"
     ]
    }
   ],
   "source": [
    "# Combing strings and numbers using format method\n",
    "n1 = 12\n",
    "n2 = 36\n",
    "n3 = 50\n",
    "\n",
    "print(\"Number1 is {}, Number2 is {}, Number3 is {}\".format(n1,n2,n3))"
   ]
  },
  {
   "cell_type": "code",
   "execution_count": 137,
   "id": "f6d3fecf-2e81-49ee-9423-cdae323065fd",
   "metadata": {},
   "outputs": [
    {
     "data": {
      "text/plain": [
       "'Hello'"
      ]
     },
     "execution_count": 137,
     "metadata": {},
     "output_type": "execute_result"
    }
   ],
   "source": [
    "str1 = \"Hello\"\n",
    "str1"
   ]
  },
  {
   "cell_type": "code",
   "execution_count": 139,
   "id": "f7c3d241-7c70-4770-b262-18500fa415b1",
   "metadata": {},
   "outputs": [
    {
     "data": {
      "text/plain": [
       "'                                               Hello                                                '"
      ]
     },
     "execution_count": 139,
     "metadata": {},
     "output_type": "execute_result"
    }
   ],
   "source": [
    "str1.center(100)"
   ]
  },
  {
   "cell_type": "code",
   "execution_count": 141,
   "id": "1dcbdc1c-c36c-42de-ad43-2206cabda33f",
   "metadata": {},
   "outputs": [
    {
     "data": {
      "text/plain": [
       "'***********************************************Hello************************************************'"
      ]
     },
     "execution_count": 141,
     "metadata": {},
     "output_type": "execute_result"
    }
   ],
   "source": [
    "str1.center(100, '*')"
   ]
  },
  {
   "cell_type": "code",
   "execution_count": 142,
   "id": "912f37f3-0073-47d8-97c5-dfb8d4f968f7",
   "metadata": {},
   "outputs": [
    {
     "data": {
      "text/plain": [
       "'                                             Hello'"
      ]
     },
     "execution_count": 142,
     "metadata": {},
     "output_type": "execute_result"
    }
   ],
   "source": [
    "str1.rjust(50)"
   ]
  },
  {
   "cell_type": "code",
   "execution_count": 143,
   "id": "01faef17-e9f2-40df-9afe-0909b4e92ccc",
   "metadata": {},
   "outputs": [
    {
     "data": {
      "text/plain": [
       "'Hello                                             '"
      ]
     },
     "execution_count": 143,
     "metadata": {},
     "output_type": "execute_result"
    }
   ],
   "source": [
    "str1.ljust(50)"
   ]
  },
  {
   "cell_type": "code",
   "execution_count": 144,
   "id": "03978717-adcb-49f4-80a4-93ead0afa64a",
   "metadata": {},
   "outputs": [
    {
     "data": {
      "text/plain": [
       "'$$$$$$$$$$$$$$$$$$$$$$$$$$$$$$$$$$$$$$$$$$$$$Hello'"
      ]
     },
     "execution_count": 144,
     "metadata": {},
     "output_type": "execute_result"
    }
   ],
   "source": [
    "str1.rjust(50, \"$\")"
   ]
  },
  {
   "cell_type": "code",
   "execution_count": 145,
   "id": "605ad20f-d56f-43f4-96ed-d0b10b440d3d",
   "metadata": {},
   "outputs": [
    {
     "data": {
      "text/plain": [
       "'Hello&&&&&&&&&&&&&&&&&&&&&&&&&&&&&&&&&&&&&&&&&&&&&'"
      ]
     },
     "execution_count": 145,
     "metadata": {},
     "output_type": "execute_result"
    }
   ],
   "source": [
    "str1.ljust(50, \"&\")"
   ]
  },
  {
   "cell_type": "code",
   "execution_count": 147,
   "id": "2bef2932-3eb2-4410-8c7a-5b1e77cf4477",
   "metadata": {},
   "outputs": [
    {
     "data": {
      "text/plain": [
       "'one two three four five six seven eight nine ten'"
      ]
     },
     "execution_count": 147,
     "metadata": {},
     "output_type": "execute_result"
    }
   ],
   "source": [
    "str2 = \"one two three four five six seven eight nine ten\"\n",
    "str2"
   ]
  },
  {
   "cell_type": "code",
   "execution_count": 148,
   "id": "a322c354-3384-4ca4-8eaa-7bd47d446be2",
   "metadata": {},
   "outputs": [
    {
     "data": {
      "text/plain": [
       "0"
      ]
     },
     "execution_count": 148,
     "metadata": {},
     "output_type": "execute_result"
    }
   ],
   "source": [
    "str2.find(\"one\")"
   ]
  },
  {
   "cell_type": "code",
   "execution_count": 149,
   "id": "07dafb78-7904-4b55-9dc6-5b5fe775f3e1",
   "metadata": {},
   "outputs": [
    {
     "data": {
      "text/plain": [
       "19"
      ]
     },
     "execution_count": 149,
     "metadata": {},
     "output_type": "execute_result"
    }
   ],
   "source": [
    "str2.find(\"five\")"
   ]
  },
  {
   "cell_type": "code",
   "execution_count": 151,
   "id": "00afcf1d-3fb3-4307-863d-0531e20478dd",
   "metadata": {},
   "outputs": [
    {
     "data": {
      "text/plain": [
       "19"
      ]
     },
     "execution_count": 151,
     "metadata": {},
     "output_type": "execute_result"
    }
   ],
   "source": [
    "str2.index(\"five\")"
   ]
  },
  {
   "cell_type": "code",
   "execution_count": 152,
   "id": "ade4f260-2558-424b-8e7f-5209bc9640c2",
   "metadata": {},
   "outputs": [
    {
     "data": {
      "text/plain": [
       "'123456789'"
      ]
     },
     "execution_count": 152,
     "metadata": {},
     "output_type": "execute_result"
    }
   ],
   "source": [
    "str3 = \"123456789\"\n",
    "str3"
   ]
  },
  {
   "cell_type": "code",
   "execution_count": 154,
   "id": "dd8b4d7f-feb7-425c-9484-1b4252e5b67d",
   "metadata": {},
   "outputs": [
    {
     "name": "stdout",
     "output_type": "stream",
     "text": [
      "False\n",
      "True\n",
      "True\n",
      "True\n"
     ]
    }
   ],
   "source": [
    "print(str3.isalpha())\n",
    "print(str3.isnumeric())\n",
    "print(str3.isdecimal())\n",
    "print(str3.isalnum())"
   ]
  },
  {
   "cell_type": "code",
   "execution_count": 155,
   "id": "57fd3a0b-27cc-49ff-9b3f-5de02d8d27bf",
   "metadata": {},
   "outputs": [
    {
     "name": "stdout",
     "output_type": "stream",
     "text": [
      "True\n",
      "False\n",
      "False\n",
      "True\n"
     ]
    }
   ],
   "source": [
    "str4 = 'abcdefg'\n",
    "print(str4.isalpha())\n",
    "print(str4.isnumeric())\n",
    "print(str4.isdecimal())\n",
    "print(str4.isalnum())"
   ]
  },
  {
   "cell_type": "code",
   "execution_count": 159,
   "id": "6b6da218-62f6-492f-8945-bf87ba48a15f",
   "metadata": {},
   "outputs": [
    {
     "data": {
      "text/plain": [
       "'My favourite color is \"Blue\"'"
      ]
     },
     "execution_count": 159,
     "metadata": {},
     "output_type": "execute_result"
    }
   ],
   "source": [
    "str5 = \"My favourite color is \\\"Blue\\\"\"\n",
    "str5"
   ]
  },
  {
   "cell_type": "code",
   "execution_count": 161,
   "id": "c0c30a37-6831-47c5-9c5b-5b94bc77b9b7",
   "metadata": {},
   "outputs": [
    {
     "data": {
      "text/plain": [
       "'Lists'"
      ]
     },
     "execution_count": 161,
     "metadata": {},
     "output_type": "execute_result"
    }
   ],
   "source": [
    "\"\"\"\n",
    "Lists\n",
    "List is an ordered sequence of items.\n",
    "We can have different types of data types in List. Eg: Integer, float, string\n",
    "\"\"\"\n",
    "\n",
    "\"Lists\""
   ]
  },
  {
   "cell_type": "code",
   "execution_count": 163,
   "id": "2c4c6986-cd1f-4da2-957e-1c653e9daec6",
   "metadata": {},
   "outputs": [],
   "source": [
    "list1 = [] #empty list"
   ]
  },
  {
   "cell_type": "code",
   "execution_count": 164,
   "id": "2ffcc962-dfd4-41a9-9df1-a35803f8f76c",
   "metadata": {},
   "outputs": [
    {
     "name": "stdout",
     "output_type": "stream",
     "text": [
      "<class 'list'>\n"
     ]
    }
   ],
   "source": [
    "print(type(list1))"
   ]
  },
  {
   "cell_type": "code",
   "execution_count": 168,
   "id": "a43d13e1-6c71-460a-bf39-d59d54f84382",
   "metadata": {},
   "outputs": [],
   "source": [
    "list2 = [10, 20 , 30] #List of Integer numbers"
   ]
  },
  {
   "cell_type": "code",
   "execution_count": 166,
   "id": "be9b3b78-994c-4fc5-9182-2118f294b620",
   "metadata": {},
   "outputs": [],
   "source": [
    "list3 = [10.0, 20.0, 30.0] #list of float numbers"
   ]
  },
  {
   "cell_type": "code",
   "execution_count": 167,
   "id": "2fd342fa-a627-4f02-81b0-3f76152cdaf4",
   "metadata": {},
   "outputs": [],
   "source": [
    "list4 = ['one', 'two', 'three'] #list of strings"
   ]
  },
  {
   "cell_type": "code",
   "execution_count": 169,
   "id": "49b97119-0c5d-4e93-a09b-a8dccbedb055",
   "metadata": {},
   "outputs": [],
   "source": [
    "list5 = [1, 2, 'Jeevan', [10, 20], 10.75] # Nested list"
   ]
  },
  {
   "cell_type": "code",
   "execution_count": 170,
   "id": "c8148530-fcc1-45b4-b561-67ce070300f2",
   "metadata": {},
   "outputs": [],
   "source": [
    "list6 = [10, \"Jeevan\", 10.00]"
   ]
  },
  {
   "cell_type": "code",
   "execution_count": 171,
   "id": "40f1d0a6-f722-4fd9-af50-fc9e3524c047",
   "metadata": {},
   "outputs": [],
   "source": [
    "list7 = ['Jeevan', 100, 200, {'Hello', 'Team'}, [10.64, 71]]"
   ]
  },
  {
   "cell_type": "code",
   "execution_count": 174,
   "id": "630325f0-9329-4f62-b2aa-9851a8252138",
   "metadata": {},
   "outputs": [
    {
     "data": {
      "text/plain": [
       "5"
      ]
     },
     "execution_count": 174,
     "metadata": {},
     "output_type": "execute_result"
    }
   ],
   "source": [
    "len(list5)"
   ]
  },
  {
   "cell_type": "code",
   "execution_count": 176,
   "id": "f83d715e-cc66-4ff0-8cf6-ad44a4593f65",
   "metadata": {},
   "outputs": [
    {
     "data": {
      "text/plain": [
       "10"
      ]
     },
     "execution_count": 176,
     "metadata": {},
     "output_type": "execute_result"
    }
   ],
   "source": [
    "list2[0]"
   ]
  },
  {
   "cell_type": "code",
   "execution_count": 177,
   "id": "cfb61a53-173b-4b71-a503-d31a92854f3c",
   "metadata": {},
   "outputs": [
    {
     "data": {
      "text/plain": [
       "'e'"
      ]
     },
     "execution_count": 177,
     "metadata": {},
     "output_type": "execute_result"
    }
   ],
   "source": [
    "list4[0][2]"
   ]
  },
  {
   "cell_type": "code",
   "execution_count": 178,
   "id": "fc4bdb97-54b8-4bba-821d-05181e072cb8",
   "metadata": {},
   "outputs": [
    {
     "data": {
      "text/plain": [
       "'three'"
      ]
     },
     "execution_count": 178,
     "metadata": {},
     "output_type": "execute_result"
    }
   ],
   "source": [
    "list4[-1]"
   ]
  },
  {
   "cell_type": "code",
   "execution_count": 179,
   "id": "12bb6704-164a-44e1-a078-2f7fadfa2243",
   "metadata": {},
   "outputs": [
    {
     "data": {
      "text/plain": [
       "[10, 20]"
      ]
     },
     "execution_count": 179,
     "metadata": {},
     "output_type": "execute_result"
    }
   ],
   "source": [
    "list5[-2]"
   ]
  },
  {
   "cell_type": "code",
   "execution_count": 181,
   "id": "f15fb1fe-602f-4c9c-9916-24c4f5cb13ec",
   "metadata": {},
   "outputs": [
    {
     "data": {
      "text/plain": [
       "True"
      ]
     },
     "execution_count": 181,
     "metadata": {},
     "output_type": "execute_result"
    }
   ],
   "source": [
    "bool(-3)"
   ]
  },
  {
   "cell_type": "code",
   "execution_count": 182,
   "id": "f2e183c0-5cb1-4007-9e7a-5f88ad93ce4a",
   "metadata": {},
   "outputs": [
    {
     "name": "stdout",
     "output_type": "stream",
     "text": [
      "J, h, o, n, "
     ]
    }
   ],
   "source": [
    "for l in 'Jhon':\n",
    "    if l == 'o':\n",
    "        pass\n",
    "    print(l, end=\", \")"
   ]
  },
  {
   "cell_type": "code",
   "execution_count": 186,
   "id": "e4d58f1b-a24d-4c46-84e1-5d4b87c153e9",
   "metadata": {},
   "outputs": [
    {
     "name": "stdout",
     "output_type": "stream",
     "text": [
      "120\n"
     ]
    }
   ],
   "source": [
    "N = 5\n",
    "fact = 1\n",
    "for i in range(1, N+1):\n",
    "    fact *= i\n",
    "\n",
    "print(fact)"
   ]
  },
  {
   "cell_type": "code",
   "execution_count": null,
   "id": "833bc924-54ae-4a75-9a09-53ca978a1daa",
   "metadata": {},
   "outputs": [],
   "source": []
  }
 ],
 "metadata": {
  "kernelspec": {
   "display_name": "Python 3 (ipykernel)",
   "language": "python",
   "name": "python3"
  },
  "language_info": {
   "codemirror_mode": {
    "name": "ipython",
    "version": 3
   },
   "file_extension": ".py",
   "mimetype": "text/x-python",
   "name": "python",
   "nbconvert_exporter": "python",
   "pygments_lexer": "ipython3",
   "version": "3.12.4"
  }
 },
 "nbformat": 4,
 "nbformat_minor": 5
}
