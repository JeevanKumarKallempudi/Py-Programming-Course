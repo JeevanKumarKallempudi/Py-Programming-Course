{
 "cells": [
  {
   "cell_type": "code",
   "execution_count": 1,
   "id": "5f14c9d0-0caf-402d-bfa2-e1cc3edba596",
   "metadata": {},
   "outputs": [],
   "source": [
    "# Tuples\n",
    "# -> Similiar to List (but read only)\n",
    "# -> Ordered, collection of items\n",
    "# -> Indexable\n",
    "# -> Immutable"
   ]
  },
  {
   "cell_type": "code",
   "execution_count": 5,
   "id": "455fce99-a981-4627-88f0-e4a90882afa0",
   "metadata": {},
   "outputs": [],
   "source": [
    "# creating empty tuple\n",
    "t = ()\n",
    "t = tuple()"
   ]
  },
  {
   "cell_type": "code",
   "execution_count": 6,
   "id": "462ec42f-9c78-4dd6-a422-c0248454c4a7",
   "metadata": {},
   "outputs": [
    {
     "data": {
      "text/plain": [
       "tuple"
      ]
     },
     "execution_count": 6,
     "metadata": {},
     "output_type": "execute_result"
    }
   ],
   "source": [
    "type (t)"
   ]
  },
  {
   "cell_type": "code",
   "execution_count": 7,
   "id": "38c8a3d8-c1b3-4f92-8a94-34c12ebca32b",
   "metadata": {},
   "outputs": [],
   "source": [
    "# Heterogenous Elements\n",
    "tup = (8, 9, \"hello\", 88)"
   ]
  },
  {
   "cell_type": "code",
   "execution_count": 8,
   "id": "cca948f7-d6d2-4c04-8d01-42324de528dc",
   "metadata": {},
   "outputs": [
    {
     "name": "stdout",
     "output_type": "stream",
     "text": [
      "(8, 9, 'hello', 88)\n"
     ]
    }
   ],
   "source": [
    "print(tup)"
   ]
  },
  {
   "cell_type": "code",
   "execution_count": 9,
   "id": "cef3f0fe-0c88-4a7a-9fda-288e1be11869",
   "metadata": {},
   "outputs": [
    {
     "data": {
      "text/plain": [
       "tuple"
      ]
     },
     "execution_count": 9,
     "metadata": {},
     "output_type": "execute_result"
    }
   ],
   "source": [
    "type(tup)"
   ]
  },
  {
   "cell_type": "code",
   "execution_count": 10,
   "id": "5e54aec8-61bc-42cf-a60f-7a4b7b2e4122",
   "metadata": {},
   "outputs": [
    {
     "data": {
      "text/plain": [
       "str"
      ]
     },
     "execution_count": 10,
     "metadata": {},
     "output_type": "execute_result"
    }
   ],
   "source": [
    "# for one element : only paranthesis is not enough\n",
    "t = ('Jeevan')\n",
    "type(t)"
   ]
  },
  {
   "cell_type": "code",
   "execution_count": 11,
   "id": "5f974ba1-7d54-4052-8ba4-fe2407a03fef",
   "metadata": {},
   "outputs": [
    {
     "data": {
      "text/plain": [
       "tuple"
      ]
     },
     "execution_count": 11,
     "metadata": {},
     "output_type": "execute_result"
    }
   ],
   "source": [
    "#for one element : comma is mandatory\n",
    "t = ('Jeevan', )\n",
    "type(t)"
   ]
  },
  {
   "cell_type": "code",
   "execution_count": 12,
   "id": "f88aa175-2536-4801-b535-76ddc7461c8b",
   "metadata": {},
   "outputs": [
    {
     "data": {
      "text/plain": [
       "tuple"
      ]
     },
     "execution_count": 12,
     "metadata": {},
     "output_type": "execute_result"
    }
   ],
   "source": [
    "#\n",
    "t = 'Jeevan',\n",
    "type(t)"
   ]
  },
  {
   "cell_type": "code",
   "execution_count": 14,
   "id": "431fbb46-ac3e-43d1-a93d-356b525fb0e3",
   "metadata": {},
   "outputs": [
    {
     "name": "stdout",
     "output_type": "stream",
     "text": [
      "(8, 9, 'hello', 88)\n"
     ]
    }
   ],
   "source": [
    "print(tup)"
   ]
  },
  {
   "cell_type": "code",
   "execution_count": 15,
   "id": "e5e4c7d0-4ec4-4710-89ae-5608b40b948e",
   "metadata": {},
   "outputs": [
    {
     "name": "stdout",
     "output_type": "stream",
     "text": [
      "8\n"
     ]
    }
   ],
   "source": [
    "print(tup[0])"
   ]
  },
  {
   "cell_type": "code",
   "execution_count": 16,
   "id": "1380cc60-233b-4938-a332-7712ace23396",
   "metadata": {},
   "outputs": [
    {
     "name": "stdout",
     "output_type": "stream",
     "text": [
      "hello\n"
     ]
    }
   ],
   "source": [
    "print(tup[2])"
   ]
  },
  {
   "cell_type": "code",
   "execution_count": 18,
   "id": "5bd34157-5943-4c16-b6b2-cf6d518056e7",
   "metadata": {},
   "outputs": [
    {
     "name": "stdout",
     "output_type": "stream",
     "text": [
      "(8, 9, 'hello')\n"
     ]
    }
   ],
   "source": [
    "# get all the elements\n",
    "print(tup[:-1])"
   ]
  },
  {
   "cell_type": "code",
   "execution_count": 19,
   "id": "a0011819-6be7-4f73-83fb-9d0524146c3d",
   "metadata": {},
   "outputs": [
    {
     "ename": "TypeError",
     "evalue": "'tuple' object does not support item assignment",
     "output_type": "error",
     "traceback": [
      "\u001b[1;31m---------------------------------------------------------------------------\u001b[0m",
      "\u001b[1;31mTypeError\u001b[0m                                 Traceback (most recent call last)",
      "Cell \u001b[1;32mIn[19], line 2\u001b[0m\n\u001b[0;32m      1\u001b[0m \u001b[38;5;66;03m# Changing a Tuple\u001b[39;00m\n\u001b[1;32m----> 2\u001b[0m \u001b[43mtup\u001b[49m\u001b[43m[\u001b[49m\u001b[38;5;241;43m0\u001b[39;49m\u001b[43m]\u001b[49m \u001b[38;5;241m=\u001b[39m \u001b[38;5;241m80\u001b[39m\n",
      "\u001b[1;31mTypeError\u001b[0m: 'tuple' object does not support item assignment"
     ]
    }
   ],
   "source": [
    "# Changing a Tuple \n",
    "# Typeerror This is not possible because of immutablity\n",
    "tup[0] = 80"
   ]
  },
  {
   "cell_type": "code",
   "execution_count": 21,
   "id": "4bb6ccb0-2c1d-4fb0-8df7-58cf55a25389",
   "metadata": {},
   "outputs": [],
   "source": [
    "# Why we need tuple\n",
    "# Employee salaries which you do not want anyone to change\n",
    "# Standard values like PI\n",
    "# In case of : Read-only data\n",
    "# These are 10x fatser than List"
   ]
  },
  {
   "cell_type": "code",
   "execution_count": 22,
   "id": "2f569811-0aa5-43d8-8693-6356b2c640c7",
   "metadata": {},
   "outputs": [],
   "source": [
    "lst = ['Mohit', 'Rohit', 'Hardik']\n",
    "\n",
    "tup = (20, 30, lst, (1, 2, 3), 40, 50.0)"
   ]
  },
  {
   "cell_type": "code",
   "execution_count": 23,
   "id": "a5563531-1931-4227-aab1-79ee22b9f76e",
   "metadata": {},
   "outputs": [
    {
     "name": "stdout",
     "output_type": "stream",
     "text": [
      "(20, 30, ['Mohit', 'Rohit', 'Hardik'], (1, 2, 3), 40, 50.0)\n"
     ]
    }
   ],
   "source": [
    "print(tup)"
   ]
  },
  {
   "cell_type": "code",
   "execution_count": 27,
   "id": "17b39615-a365-4c47-9888-b303c0f37e59",
   "metadata": {},
   "outputs": [],
   "source": [
    "tup[2][-1] = 'Jatin'"
   ]
  },
  {
   "cell_type": "code",
   "execution_count": 28,
   "id": "dd8d6310-a8b3-4b84-9140-5e0f67173077",
   "metadata": {},
   "outputs": [
    {
     "name": "stdout",
     "output_type": "stream",
     "text": [
      "(20, 30, ['Mohit', 'Rohit', 'Jatin'], (1, 2, 3), 40, 50.0)\n"
     ]
    }
   ],
   "source": [
    "print(tup)"
   ]
  },
  {
   "cell_type": "code",
   "execution_count": 30,
   "id": "10ac27d3-9143-449d-8950-ab161d8c7d77",
   "metadata": {},
   "outputs": [
    {
     "name": "stdout",
     "output_type": "stream",
     "text": [
      "40\n",
      "60\n",
      "['Mohit', 'Rohit', 'Jatin', 'Mohit', 'Rohit', 'Jatin']\n",
      "(1, 2, 3, 1, 2, 3)\n",
      "80\n",
      "100.0\n"
     ]
    }
   ],
   "source": [
    "# Tuple Operations\n",
    "for ele in tup:\n",
    "    print(ele*2)"
   ]
  },
  {
   "cell_type": "code",
   "execution_count": 31,
   "id": "a8fd033b-0969-4262-b7f9-1c79790035f4",
   "metadata": {},
   "outputs": [
    {
     "name": "stdout",
     "output_type": "stream",
     "text": [
      "(1, 2, 3, 4, 5, 6)\n"
     ]
    }
   ],
   "source": [
    "# Concatinating tuples\n",
    "t = (1,2,3) + (4,5,6)\n",
    "print(t)"
   ]
  },
  {
   "cell_type": "code",
   "execution_count": 32,
   "id": "1fb1b6e0-d42c-42bd-92b2-dc9603fcd584",
   "metadata": {},
   "outputs": [
    {
     "data": {
      "text/plain": [
       "(0, 0, 0, 0, 0, 0, 0, 0, 0, 0)"
      ]
     },
     "execution_count": 32,
     "metadata": {},
     "output_type": "execute_result"
    }
   ],
   "source": [
    "(0, ) * 10"
   ]
  },
  {
   "cell_type": "code",
   "execution_count": 33,
   "id": "58ec0382-8d6f-4432-97b2-c300e9a254f2",
   "metadata": {},
   "outputs": [
    {
     "ename": "NameError",
     "evalue": "name 't' is not defined",
     "output_type": "error",
     "traceback": [
      "\u001b[1;31m---------------------------------------------------------------------------\u001b[0m",
      "\u001b[1;31mNameError\u001b[0m                                 Traceback (most recent call last)",
      "Cell \u001b[1;32mIn[33], line 10\u001b[0m\n\u001b[0;32m      7\u001b[0m \u001b[38;5;66;03m#deleting entire tuple\u001b[39;00m\n\u001b[0;32m      8\u001b[0m \u001b[38;5;28;01mdel\u001b[39;00m t\n\u001b[1;32m---> 10\u001b[0m \u001b[38;5;28mprint\u001b[39m(\u001b[43mt\u001b[49m)\n",
      "\u001b[1;31mNameError\u001b[0m: name 't' is not defined"
     ]
    }
   ],
   "source": [
    "#Tuple Deletion\n",
    "# We cannot change/delete and elements in tuple\n",
    "# But we can delete entrire tuple ysing del keyword\n",
    "\n",
    "t = (1, 2, 3, 4, 5, 6)\n",
    "\n",
    "#deleting entire tuple\n",
    "del t\n",
    "\n",
    "print(t)"
   ]
  },
  {
   "cell_type": "code",
   "execution_count": 34,
   "id": "155fa482-b949-46bc-a8ac-d885120536ce",
   "metadata": {},
   "outputs": [
    {
     "name": "stdout",
     "output_type": "stream",
     "text": [
      "(1, 2, 3, 1, 3, 3, 4, 1)\n"
     ]
    }
   ],
   "source": [
    "# Tuple unpacking\n",
    "t = (1, 2, 3, 1, 3, 3, 4, 1)\n",
    "print(t)"
   ]
  },
  {
   "cell_type": "code",
   "execution_count": 35,
   "id": "b39790d1-cdfd-449a-a35e-d37346f614ff",
   "metadata": {},
   "outputs": [
    {
     "name": "stdout",
     "output_type": "stream",
     "text": [
      "2\n"
     ]
    }
   ],
   "source": [
    "print(t.index(3)) # It returns of the first occurance of element 3"
   ]
  },
  {
   "cell_type": "code",
   "execution_count": 36,
   "id": "d24da0f0-bb44-467d-87ef-50b20e3a995e",
   "metadata": {},
   "outputs": [
    {
     "name": "stdout",
     "output_type": "stream",
     "text": [
      "3\n"
     ]
    }
   ],
   "source": [
    "print(t.count(3))"
   ]
  },
  {
   "cell_type": "code",
   "execution_count": 37,
   "id": "cc5736d6-1a9a-4e1a-a205-283760250e99",
   "metadata": {},
   "outputs": [
    {
     "data": {
      "text/plain": [
       "False"
      ]
     },
     "execution_count": 37,
     "metadata": {},
     "output_type": "execute_result"
    }
   ],
   "source": [
    "# Tuple membership\n",
    "# It tests if an items exits in a tuple or notm using keyword in\n",
    "\n",
    "9 in t"
   ]
  },
  {
   "cell_type": "code",
   "execution_count": 38,
   "id": "3f63f1ab-79b5-4b1c-80f9-a53603c776bb",
   "metadata": {},
   "outputs": [
    {
     "data": {
      "text/plain": [
       "True"
      ]
     },
     "execution_count": 38,
     "metadata": {},
     "output_type": "execute_result"
    }
   ],
   "source": [
    "1 in t"
   ]
  },
  {
   "cell_type": "code",
   "execution_count": 39,
   "id": "721f3988-62a7-416f-a14c-ef06730e5939",
   "metadata": {},
   "outputs": [
    {
     "name": "stdout",
     "output_type": "stream",
     "text": [
      "4 2 1\n"
     ]
    }
   ],
   "source": [
    "# Tuple Unpacking\n",
    "t = (4, 2, 1)\n",
    "a = t[0]\n",
    "b = t[1]\n",
    "c = t[2]\n",
    "print(a, b, c)"
   ]
  },
  {
   "cell_type": "code",
   "execution_count": 40,
   "id": "b26995a0-8cbe-45f5-9eb4-435adc776211",
   "metadata": {},
   "outputs": [],
   "source": [
    "d, e, f = t"
   ]
  },
  {
   "cell_type": "code",
   "execution_count": 41,
   "id": "aac568a1-bf54-48d2-9167-df77225abacb",
   "metadata": {},
   "outputs": [
    {
     "name": "stdout",
     "output_type": "stream",
     "text": [
      "4 2 1\n"
     ]
    }
   ],
   "source": [
    "print(d, e, f)"
   ]
  },
  {
   "cell_type": "code",
   "execution_count": 43,
   "id": "1ae78c75-3a42-4c52-8414-0d082d567efd",
   "metadata": {},
   "outputs": [
    {
     "name": "stdout",
     "output_type": "stream",
     "text": [
      "4 2 1\n"
     ]
    }
   ],
   "source": [
    "print(*t) #unpack the tuple"
   ]
  },
  {
   "cell_type": "code",
   "execution_count": null,
   "id": "9ca80202-afbd-4363-815a-be2781f4793b",
   "metadata": {},
   "outputs": [],
   "source": []
  }
 ],
 "metadata": {
  "kernelspec": {
   "display_name": "Python 3 (ipykernel)",
   "language": "python",
   "name": "python3"
  },
  "language_info": {
   "codemirror_mode": {
    "name": "ipython",
    "version": 3
   },
   "file_extension": ".py",
   "mimetype": "text/x-python",
   "name": "python",
   "nbconvert_exporter": "python",
   "pygments_lexer": "ipython3",
   "version": "3.12.4"
  }
 },
 "nbformat": 4,
 "nbformat_minor": 5
}
