{
 "cells": [
  {
   "cell_type": "code",
   "execution_count": 1,
   "id": "2c93363d-ab2c-4a76-9ea0-b2bdd2204582",
   "metadata": {},
   "outputs": [],
   "source": [
    "#Sets\n",
    "# -> Contains only unique elements\n",
    "# -> mutable\n",
    "# -> unordered\n",
    "# -> non-indexable"
   ]
  },
  {
   "cell_type": "code",
   "execution_count": 2,
   "id": "4bdaec0b-810e-45fb-b620-830512cf245e",
   "metadata": {},
   "outputs": [],
   "source": [
    "#empty set\n",
    "s = set()"
   ]
  },
  {
   "cell_type": "code",
   "execution_count": 3,
   "id": "cd8f10ea-8209-4c19-83c5-a1db62d351c9",
   "metadata": {},
   "outputs": [
    {
     "data": {
      "text/plain": [
       "set"
      ]
     },
     "execution_count": 3,
     "metadata": {},
     "output_type": "execute_result"
    }
   ],
   "source": [
    "type(s)"
   ]
  },
  {
   "cell_type": "code",
   "execution_count": 5,
   "id": "d7400717-f8e0-4fff-9737-69ce30b1778e",
   "metadata": {},
   "outputs": [],
   "source": [
    "#create some elements in set\n",
    "my_set = {9,7,7,1,8,65,4}"
   ]
  },
  {
   "cell_type": "code",
   "execution_count": 6,
   "id": "8ba4a600-13b0-409c-b08c-753c7dff8dd1",
   "metadata": {},
   "outputs": [
    {
     "name": "stdout",
     "output_type": "stream",
     "text": [
      "{65, 1, 4, 7, 8, 9}\n"
     ]
    }
   ],
   "source": [
    "#no duplicate elements\n",
    "print(my_set)"
   ]
  },
  {
   "cell_type": "code",
   "execution_count": 7,
   "id": "6665b448-b6f7-4de8-a126-8b4d40fd197f",
   "metadata": {},
   "outputs": [
    {
     "data": {
      "text/plain": [
       "set"
      ]
     },
     "execution_count": 7,
     "metadata": {},
     "output_type": "execute_result"
    }
   ],
   "source": [
    "type(my_set)"
   ]
  },
  {
   "cell_type": "code",
   "execution_count": 9,
   "id": "1e94d16d-2f70-40ac-a28a-55fbc076ae92",
   "metadata": {},
   "outputs": [],
   "source": [
    "#adding elemts to set\n",
    "my_set.add(9)"
   ]
  },
  {
   "cell_type": "code",
   "execution_count": 10,
   "id": "862af42a-b516-46c9-98db-63f764391235",
   "metadata": {},
   "outputs": [
    {
     "name": "stdout",
     "output_type": "stream",
     "text": [
      "{65, 1, 4, 7, 8, 9}\n"
     ]
    }
   ],
   "source": [
    "print(my_set)"
   ]
  },
  {
   "cell_type": "code",
   "execution_count": 11,
   "id": "28cfd001-1162-40e4-909b-8a640a2d322e",
   "metadata": {},
   "outputs": [],
   "source": [
    "#same element is being added again\n",
    "# it will have no effect\n",
    "my_set.add(11)"
   ]
  },
  {
   "cell_type": "code",
   "execution_count": 12,
   "id": "aa59232c-0e2f-449d-b153-71222b53adfc",
   "metadata": {},
   "outputs": [
    {
     "name": "stdout",
     "output_type": "stream",
     "text": [
      "{65, 1, 4, 7, 8, 9, 11}\n"
     ]
    }
   ],
   "source": [
    "print(my_set)"
   ]
  },
  {
   "cell_type": "code",
   "execution_count": 13,
   "id": "2d2b105b-22e6-47c3-8abe-d53494e4b2be",
   "metadata": {},
   "outputs": [
    {
     "name": "stdout",
     "output_type": "stream",
     "text": [
      "{65, 1, 4, 7, 9, 11}\n"
     ]
    }
   ],
   "source": [
    "# remove elements from set\n",
    "my_set.remove(8)\n",
    "print(my_set)"
   ]
  },
  {
   "cell_type": "code",
   "execution_count": 14,
   "id": "9abc85ca-89bf-4bc0-be8c-e95d9e346961",
   "metadata": {},
   "outputs": [
    {
     "ename": "KeyError",
     "evalue": "2",
     "output_type": "error",
     "traceback": [
      "\u001b[1;31m---------------------------------------------------------------------------\u001b[0m",
      "\u001b[1;31mKeyError\u001b[0m                                  Traceback (most recent call last)",
      "Cell \u001b[1;32mIn[14], line 2\u001b[0m\n\u001b[0;32m      1\u001b[0m \u001b[38;5;66;03m#if element is not present in set --> KeyError\u001b[39;00m\n\u001b[1;32m----> 2\u001b[0m \u001b[43mmy_set\u001b[49m\u001b[38;5;241;43m.\u001b[39;49m\u001b[43mremove\u001b[49m\u001b[43m(\u001b[49m\u001b[38;5;241;43m2\u001b[39;49m\u001b[43m)\u001b[49m\n",
      "\u001b[1;31mKeyError\u001b[0m: 2"
     ]
    }
   ],
   "source": [
    "#if element is not present in set --> KeyError\n",
    "my_set.remove(2)"
   ]
  },
  {
   "cell_type": "code",
   "execution_count": 15,
   "id": "5b6e5195-245f-4b49-9af4-62134fa4c3c2",
   "metadata": {},
   "outputs": [],
   "source": [
    "#if element is not present in set. It will do nothing\n",
    "my_set.discard(2)"
   ]
  },
  {
   "cell_type": "code",
   "execution_count": 16,
   "id": "0fa2b776-1ae0-4215-9f9c-6e3e0ab74437",
   "metadata": {},
   "outputs": [
    {
     "name": "stdout",
     "output_type": "stream",
     "text": [
      "{65, 1, 4, 7, 9, 11}\n"
     ]
    }
   ],
   "source": [
    "print(my_set)"
   ]
  },
  {
   "cell_type": "code",
   "execution_count": 17,
   "id": "405b8fdf-2a49-4f9f-b786-e0baa99fa9f2",
   "metadata": {},
   "outputs": [
    {
     "ename": "TypeError",
     "evalue": "'set' object is not subscriptable",
     "output_type": "error",
     "traceback": [
      "\u001b[1;31m---------------------------------------------------------------------------\u001b[0m",
      "\u001b[1;31mTypeError\u001b[0m                                 Traceback (most recent call last)",
      "Cell \u001b[1;32mIn[17], line 2\u001b[0m\n\u001b[0;32m      1\u001b[0m \u001b[38;5;66;03m#non-indexable\u001b[39;00m\n\u001b[1;32m----> 2\u001b[0m \u001b[38;5;28mprint\u001b[39m(\u001b[43mmy_set\u001b[49m\u001b[43m[\u001b[49m\u001b[38;5;241;43m2\u001b[39;49m\u001b[43m]\u001b[49m)\n",
      "\u001b[1;31mTypeError\u001b[0m: 'set' object is not subscriptable"
     ]
    }
   ],
   "source": [
    "#non-indexable\n",
    "print(my_set[2])"
   ]
  },
  {
   "cell_type": "code",
   "execution_count": 18,
   "id": "01a14b56-e842-46ff-8369-68da973d1c6c",
   "metadata": {},
   "outputs": [],
   "source": [
    "# add multuple elements in a set ---> update()\n",
    "my_set.update([10, 11, 12])"
   ]
  },
  {
   "cell_type": "code",
   "execution_count": 19,
   "id": "d7f08b18-ed12-47ec-9172-730db8e89612",
   "metadata": {},
   "outputs": [
    {
     "name": "stdout",
     "output_type": "stream",
     "text": [
      "{65, 1, 4, 7, 9, 10, 11, 12}\n"
     ]
    }
   ],
   "source": [
    "print(my_set)"
   ]
  },
  {
   "cell_type": "code",
   "execution_count": 20,
   "id": "fd41a835-ee23-4010-b40a-827e762482b7",
   "metadata": {},
   "outputs": [],
   "source": [
    "## Set Opeartions\n",
    "# --> set union\n",
    "# --> set intersection\n",
    "# --> set difference\n",
    "# --> symmetric difference"
   ]
  },
  {
   "cell_type": "code",
   "execution_count": 21,
   "id": "14ba45be-a893-408a-922a-82f592fe09d7",
   "metadata": {},
   "outputs": [],
   "source": [
    "s1 = {1,3,4,5,8}\n",
    "s2 = {4,5,6,7,1,9}"
   ]
  },
  {
   "cell_type": "code",
   "execution_count": 22,
   "id": "9614c7ad-ed47-4671-b40d-d7ec52ff6765",
   "metadata": {},
   "outputs": [
    {
     "data": {
      "text/plain": [
       "{1, 3, 4, 5, 6, 7, 8, 9}"
      ]
     },
     "execution_count": 22,
     "metadata": {},
     "output_type": "execute_result"
    }
   ],
   "source": [
    "s1.union(s2)"
   ]
  },
  {
   "cell_type": "code",
   "execution_count": 23,
   "id": "9eb5759b-7325-450e-87e1-0aa0668188fc",
   "metadata": {},
   "outputs": [
    {
     "data": {
      "text/plain": [
       "{1, 3, 4, 5, 6, 7, 8, 9}"
      ]
     },
     "execution_count": 23,
     "metadata": {},
     "output_type": "execute_result"
    }
   ],
   "source": [
    "s1 | s2"
   ]
  },
  {
   "cell_type": "code",
   "execution_count": 24,
   "id": "cac812ea-6b87-4ade-832f-e52587d2abba",
   "metadata": {},
   "outputs": [
    {
     "data": {
      "text/plain": [
       "{1, 4, 5}"
      ]
     },
     "execution_count": 24,
     "metadata": {},
     "output_type": "execute_result"
    }
   ],
   "source": [
    "s1.intersection(s2)"
   ]
  },
  {
   "cell_type": "code",
   "execution_count": 25,
   "id": "7ff22942-ede9-4643-9c99-b0c349f7735e",
   "metadata": {},
   "outputs": [
    {
     "data": {
      "text/plain": [
       "{1, 4, 5}"
      ]
     },
     "execution_count": 25,
     "metadata": {},
     "output_type": "execute_result"
    }
   ],
   "source": [
    "s1 & s2"
   ]
  },
  {
   "cell_type": "code",
   "execution_count": 26,
   "id": "acdd5e7e-f885-4d73-8574-e9efa7d67e13",
   "metadata": {},
   "outputs": [
    {
     "data": {
      "text/plain": [
       "{3, 8}"
      ]
     },
     "execution_count": 26,
     "metadata": {},
     "output_type": "execute_result"
    }
   ],
   "source": [
    "s1 - s2"
   ]
  },
  {
   "cell_type": "code",
   "execution_count": 27,
   "id": "96da6176-a321-458c-9f7f-584aed15f410",
   "metadata": {},
   "outputs": [
    {
     "data": {
      "text/plain": [
       "{3, 8}"
      ]
     },
     "execution_count": 27,
     "metadata": {},
     "output_type": "execute_result"
    }
   ],
   "source": [
    "s1.difference(s2)"
   ]
  },
  {
   "cell_type": "code",
   "execution_count": 28,
   "id": "a59869f5-3fb0-4cce-a9da-8a723dd85cae",
   "metadata": {},
   "outputs": [
    {
     "data": {
      "text/plain": [
       "{3, 6, 7, 8, 9}"
      ]
     },
     "execution_count": 28,
     "metadata": {},
     "output_type": "execute_result"
    }
   ],
   "source": [
    "####### Symmetric differnce\n",
    "    # - elements that are exactly one set\n",
    "s1.symmetric_difference(s2)"
   ]
  },
  {
   "cell_type": "code",
   "execution_count": 30,
   "id": "6ecbd864-c452-41b4-874a-fa85e5ca1592",
   "metadata": {},
   "outputs": [],
   "source": [
    "# Remove Duplicate Numbers from a list\n",
    "some_list = [6,4,7,3,7,7,8,1,3,4,9,8,7,5,1,2,4,5,9,8]"
   ]
  },
  {
   "cell_type": "code",
   "execution_count": 31,
   "id": "ed305660-5647-44c3-bdd5-89a2b1660a31",
   "metadata": {},
   "outputs": [
    {
     "name": "stdout",
     "output_type": "stream",
     "text": [
      "[6, 4, 7, 3, 7, 7, 8, 1, 3, 4, 9, 8, 7, 5, 1, 2, 4, 5, 9, 8]\n"
     ]
    }
   ],
   "source": [
    "print(some_list)"
   ]
  },
  {
   "cell_type": "code",
   "execution_count": 33,
   "id": "d9b37254-e077-41fc-8ed4-1cedb97bb4bd",
   "metadata": {},
   "outputs": [
    {
     "name": "stdout",
     "output_type": "stream",
     "text": [
      "{1, 2, 3, 4, 5, 6, 7, 8, 9}\n"
     ]
    }
   ],
   "source": [
    "my_new_list = set(some_list)\n",
    "print(my_new_list)"
   ]
  },
  {
   "cell_type": "code",
   "execution_count": 34,
   "id": "ec00bfe2-f742-4b8b-b475-255511a177d2",
   "metadata": {},
   "outputs": [],
   "source": [
    "new_list = list(my_new_list)"
   ]
  },
  {
   "cell_type": "code",
   "execution_count": 35,
   "id": "cad15f56-401f-4af9-b1dc-0d2299c52a06",
   "metadata": {},
   "outputs": [
    {
     "name": "stdout",
     "output_type": "stream",
     "text": [
      "[1, 2, 3, 4, 5, 6, 7, 8, 9]\n"
     ]
    }
   ],
   "source": [
    "print(new_list)"
   ]
  },
  {
   "cell_type": "code",
   "execution_count": 37,
   "id": "b8147706-ca69-4043-902b-1f7ccd407fa1",
   "metadata": {},
   "outputs": [
    {
     "data": {
      "text/plain": [
       "{2, 3, 4, 5, 6, 7, 8}"
      ]
     },
     "execution_count": 37,
     "metadata": {},
     "output_type": "execute_result"
    }
   ],
   "source": [
    "{2,3,4,5,6,7,8,3,4,6,6,8,3,6}"
   ]
  },
  {
   "cell_type": "code",
   "execution_count": 39,
   "id": "87f45cfc-f439-41e3-b1b1-c8982b4731dc",
   "metadata": {},
   "outputs": [
    {
     "data": {
      "text/plain": [
       "True"
      ]
     },
     "execution_count": 39,
     "metadata": {},
     "output_type": "execute_result"
    }
   ],
   "source": [
    "#Membership Opearator\n",
    "7 in  {2, 3, 4, 5, 6, 7, 8}"
   ]
  },
  {
   "cell_type": "code",
   "execution_count": null,
   "id": "2fda9e5b-5a85-417b-bc1c-1e2a18ed099b",
   "metadata": {},
   "outputs": [],
   "source": []
  }
 ],
 "metadata": {
  "kernelspec": {
   "display_name": "Python 3 (ipykernel)",
   "language": "python",
   "name": "python3"
  },
  "language_info": {
   "codemirror_mode": {
    "name": "ipython",
    "version": 3
   },
   "file_extension": ".py",
   "mimetype": "text/x-python",
   "name": "python",
   "nbconvert_exporter": "python",
   "pygments_lexer": "ipython3",
   "version": "3.12.4"
  }
 },
 "nbformat": 4,
 "nbformat_minor": 5
}
