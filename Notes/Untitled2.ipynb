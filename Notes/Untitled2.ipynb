{
 "cells": [
  {
   "cell_type": "markdown",
   "id": "97a7a183-cd0a-4b55-a6c9-3a16f5b87dad",
   "metadata": {},
   "source": [
    "### Packages\n",
    "###### --> Packages are a way of structing Python's module namespace by using \"dotted module names\".\n",
    "###### --> A directory must contain a file named init.py in order for Python to consider it as a package. This file can be left empty but we generally place the initialization code for that package in this file."
   ]
  },
  {
   "cell_type": "code",
   "execution_count": 1,
   "id": "45e7290f-e0e6-4efa-a595-78c7a84f4f03",
   "metadata": {},
   "outputs": [],
   "source": [
    "# import Game.Image.open"
   ]
  },
  {
   "cell_type": "code",
   "execution_count": 2,
   "id": "10b464ed-da1a-406b-acfc-e198b4eeb309",
   "metadata": {},
   "outputs": [],
   "source": [
    "#import Game"
   ]
  },
  {
   "cell_type": "code",
   "execution_count": 3,
   "id": "b97f62be-fce2-42dc-b5a2-742c906eed12",
   "metadata": {},
   "outputs": [],
   "source": [
    "# import Game.image"
   ]
  },
  {
   "cell_type": "code",
   "execution_count": 4,
   "id": "b08c3b39-93d3-493e-94bc-1b85420790d9",
   "metadata": {},
   "outputs": [],
   "source": [
    "# from Game import Image"
   ]
  },
  {
   "cell_type": "code",
   "execution_count": 6,
   "id": "291ee767-c034-41da-a990-1f68440d70f9",
   "metadata": {},
   "outputs": [],
   "source": [
    "# import Game.Image.open\n",
    "# from Game.Image import open"
   ]
  },
  {
   "cell_type": "code",
   "execution_count": null,
   "id": "79933987-ba46-4a2b-bffa-6b0d1eaee3e9",
   "metadata": {},
   "outputs": [],
   "source": []
  },
  {
   "cell_type": "code",
   "execution_count": null,
   "id": "803ad49f-eccc-4bc5-bcfb-edc34e4d847e",
   "metadata": {},
   "outputs": [],
   "source": []
  }
 ],
 "metadata": {
  "kernelspec": {
   "display_name": "Python 3 (ipykernel)",
   "language": "python",
   "name": "python3"
  },
  "language_info": {
   "codemirror_mode": {
    "name": "ipython",
    "version": 3
   },
   "file_extension": ".py",
   "mimetype": "text/x-python",
   "name": "python",
   "nbconvert_exporter": "python",
   "pygments_lexer": "ipython3",
   "version": "3.12.4"
  }
 },
 "nbformat": 4,
 "nbformat_minor": 5
}
