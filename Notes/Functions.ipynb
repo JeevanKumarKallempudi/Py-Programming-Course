{
 "cells": [
  {
   "cell_type": "markdown",
   "id": "9ec56c00-5ced-4711-bb6b-37f9fc044545",
   "metadata": {},
   "source": [
    "## Functions and Modules"
   ]
  },
  {
   "cell_type": "markdown",
   "id": "bbf3f312-7aea-466e-8b6c-9f3c31f42469",
   "metadata": {},
   "source": [
    "#### Syntax\n",
    "###### def func_name(params):\n",
    "######     '''\n",
    "######      Doc string\n",
    "######     '''\n",
    "\n",
    "######     statements"
   ]
  },
  {
   "cell_type": "markdown",
   "id": "21afcc1a-9a94-4a25-bbaa-974b519da52d",
   "metadata": {},
   "source": [
    "### creating a user defined function"
   ]
  },
  {
   "cell_type": "code",
   "execution_count": 2,
   "id": "bd591fd2-9671-48a0-98af-77beef29ab5f",
   "metadata": {},
   "outputs": [],
   "source": [
    "# Function declaration\n",
    "\n",
    "def greetings(name):\n",
    "    \"\"\" This function will greet you \"\"\"\n",
    "    print(\"Good Morning\", name)"
   ]
  },
  {
   "cell_type": "code",
   "execution_count": 3,
   "id": "12370bc4-2006-4e10-a6f9-c2a658fd4a90",
   "metadata": {},
   "outputs": [
    {
     "name": "stdout",
     "output_type": "stream",
     "text": [
      "<function greetings at 0x0000026FFCD7A520>\n"
     ]
    }
   ],
   "source": [
    "print(greetings)"
   ]
  },
  {
   "cell_type": "code",
   "execution_count": 4,
   "id": "c9a9beba-9a6a-43cb-ae8c-afb849c4f8b2",
   "metadata": {},
   "outputs": [
    {
     "data": {
      "text/plain": [
       "function"
      ]
     },
     "execution_count": 4,
     "metadata": {},
     "output_type": "execute_result"
    }
   ],
   "source": [
    "type(greetings)"
   ]
  },
  {
   "cell_type": "code",
   "execution_count": 5,
   "id": "5de7151e-3cae-41db-9c75-c9bdcefb0425",
   "metadata": {},
   "outputs": [
    {
     "name": "stdout",
     "output_type": "stream",
     "text": [
      "Good Morning Mohit\n"
     ]
    }
   ],
   "source": [
    " # Function calling/Invokation\n",
    "greetings(\"Mohit\")"
   ]
  },
  {
   "cell_type": "code",
   "execution_count": 6,
   "id": "b5072564-1156-437e-a60f-d850333b8830",
   "metadata": {},
   "outputs": [
    {
     "name": "stdout",
     "output_type": "stream",
     "text": [
      "Good Morning Jeevan\n"
     ]
    }
   ],
   "source": [
    "greetings(\"Jeevan\")"
   ]
  },
  {
   "cell_type": "code",
   "execution_count": 7,
   "id": "a1bf4a51-b616-4eaa-a4ad-c2f6583fcf0a",
   "metadata": {},
   "outputs": [
    {
     "data": {
      "text/plain": [
       "' This function will greet you '"
      ]
     },
     "execution_count": 7,
     "metadata": {},
     "output_type": "execute_result"
    }
   ],
   "source": [
    "# doc-string\n",
    "greetings.__doc__"
   ]
  },
  {
   "cell_type": "code",
   "execution_count": 8,
   "id": "d7ffbcc3-81f2-4cf3-a328-209cc721412c",
   "metadata": {},
   "outputs": [
    {
     "name": "stdout",
     "output_type": "stream",
     "text": [
      " This function will greet you \n"
     ]
    }
   ],
   "source": [
    "print(greetings.__doc__)"
   ]
  },
  {
   "cell_type": "markdown",
   "id": "adb5a258-0c36-4526-b696-b308b6355d3f",
   "metadata": {},
   "source": [
    "### The return Keyword\n",
    "#### - The return statement is used to exit a function and go back to the place from where it called.\n",
    "\n",
    "#### - return statement can contain an expression which gets evaluated and the value is returned.\n",
    "\n",
    "#### - if there is no expression in the statement or the return statement itself is not present inside a function, then the function will return None Object.\n"
   ]
  },
  {
   "cell_type": "code",
   "execution_count": 9,
   "id": "a432924e-5898-4bcc-ace3-6c2dbaac2eed",
   "metadata": {},
   "outputs": [],
   "source": [
    "def add(a,b):\n",
    "    \"\"\" It return sum of 2 numbers \"\"\"\n",
    "    c = a+b\n",
    "    return c"
   ]
  },
  {
   "cell_type": "code",
   "execution_count": 11,
   "id": "5cad9ab3-f3be-4947-8323-ad11a6f81935",
   "metadata": {},
   "outputs": [
    {
     "data": {
      "text/plain": [
       "8"
      ]
     },
     "execution_count": 11,
     "metadata": {},
     "output_type": "execute_result"
    }
   ],
   "source": [
    "# it is not printing the value, it is a return value\n",
    "add(5,3)"
   ]
  },
  {
   "cell_type": "code",
   "execution_count": 13,
   "id": "195afc27-354f-4395-accd-60cf9fe05777",
   "metadata": {},
   "outputs": [
    {
     "data": {
      "text/plain": [
       "' It return sum of 2 numbers '"
      ]
     },
     "execution_count": 13,
     "metadata": {},
     "output_type": "execute_result"
    }
   ],
   "source": [
    "add.__doc__"
   ]
  },
  {
   "cell_type": "code",
   "execution_count": 14,
   "id": "2c8fdb4b-9879-44dc-8581-ab2cd81f1bf9",
   "metadata": {},
   "outputs": [
    {
     "name": "stdout",
     "output_type": "stream",
     "text": [
      "8\n"
     ]
    }
   ],
   "source": [
    "print(add(5,3))"
   ]
  },
  {
   "cell_type": "code",
   "execution_count": 18,
   "id": "086a060a-71a1-48fe-9320-821222f40208",
   "metadata": {},
   "outputs": [
    {
     "name": "stdout",
     "output_type": "stream",
     "text": [
      "14\n"
     ]
    }
   ],
   "source": [
    "#you can receive the return value in varible\n",
    "my_sum = add(5,9)\n",
    "print(my_sum)"
   ]
  },
  {
   "cell_type": "code",
   "execution_count": 31,
   "id": "7a7cc1f9-d3bb-4fd8-b9f5-2872c5524731",
   "metadata": {},
   "outputs": [],
   "source": [
    "def product(lst):\n",
    "    \"\"\"\n",
    "    Parameters\n",
    "    lst : it is a list\n",
    "    return: product of all elements in a list\n",
    "    \"\"\"\n",
    "    p = 1\n",
    "    \n",
    "    for i in lst:\n",
    "        p*=i\n",
    "        \n",
    "    return p"
   ]
  },
  {
   "cell_type": "code",
   "execution_count": 32,
   "id": "54702098-9c5a-4936-9c2d-78c4f48899f0",
   "metadata": {},
   "outputs": [],
   "source": [
    "lst = [5,4,3,2,1]"
   ]
  },
  {
   "cell_type": "code",
   "execution_count": 33,
   "id": "28697716-0d66-4401-8ab2-27c30851a0cc",
   "metadata": {},
   "outputs": [
    {
     "name": "stdout",
     "output_type": "stream",
     "text": [
      "120\n"
     ]
    }
   ],
   "source": [
    "res = product(lst)\n",
    "\n",
    "print(res)"
   ]
  },
  {
   "cell_type": "code",
   "execution_count": 34,
   "id": "f4508d57-4798-4501-ab58-4f68929f6778",
   "metadata": {},
   "outputs": [
    {
     "name": "stdout",
     "output_type": "stream",
     "text": [
      "7560\n"
     ]
    }
   ],
   "source": [
    "lst2 = [7,8,9,5,3,]\n",
    "\n",
    "res2 = product(lst2)\n",
    "print(res2)"
   ]
  },
  {
   "cell_type": "markdown",
   "id": "9743e1d2-1334-42de-97fe-a777130d156f",
   "metadata": {},
   "source": [
    "#### Note : Function can return multiple values in form of a tuple "
   ]
  },
  {
   "cell_type": "code",
   "execution_count": 45,
   "id": "e5639f79-464b-4089-a5fd-70575f8033cd",
   "metadata": {},
   "outputs": [],
   "source": [
    "def calculator(a,b):\n",
    "    \"\"\" Calculate and return basic 4 operations \"\"\"\n",
    "\n",
    "    return a+b, a-b, a*b, a/b  #evaluating"
   ]
  },
  {
   "cell_type": "code",
   "execution_count": 47,
   "id": "fc07ccc1-54a6-448d-9515-08dc72a49f16",
   "metadata": {},
   "outputs": [
    {
     "name": "stdout",
     "output_type": "stream",
     "text": [
      "(10, 2, 24, 1.5)\n"
     ]
    }
   ],
   "source": [
    "cal_res= calculator(6,4)\n",
    "print(cal_res)"
   ]
  },
  {
   "cell_type": "markdown",
   "id": "66b2d194-4534-4a47-a314-30a544722b96",
   "metadata": {},
   "source": [
    "### Scope of a variable\n",
    "\n",
    "##### - Scope of a variable is the portion of program where the variable is recognized"
   ]
  },
  {
   "cell_type": "markdown",
   "id": "b50e207a-0d24-435a-82a1-fc610af6edd1",
   "metadata": {},
   "source": [
    "###### Gloabl Variable - variable that are created outside of a function are known as global variable - Global variable can be used by anywhere in the program(inside or outside of a function)\n",
    "\n",
    "###### Local Variable - variable defined inside the function known as local varibales. Hence, they have a local scope. - Local variables cannot be used outside a function."
   ]
  },
  {
   "cell_type": "code",
   "execution_count": 48,
   "id": "9ae08024-dae0-4cda-8ce3-76bf4d96eaad",
   "metadata": {},
   "outputs": [],
   "source": [
    "age = 25"
   ]
  },
  {
   "cell_type": "code",
   "execution_count": 49,
   "id": "0bf5719f-4d85-4586-8bba-a6119b103180",
   "metadata": {},
   "outputs": [
    {
     "name": "stdout",
     "output_type": "stream",
     "text": [
      "25\n"
     ]
    }
   ],
   "source": [
    "print(age)"
   ]
  },
  {
   "cell_type": "code",
   "execution_count": 53,
   "id": "cbc0b0a2-19b1-4a97-ab85-52b946df5d15",
   "metadata": {},
   "outputs": [
    {
     "name": "stdout",
     "output_type": "stream",
     "text": [
      "25\n"
     ]
    }
   ],
   "source": [
    "print(globals()['age'])"
   ]
  },
  {
   "cell_type": "code",
   "execution_count": 54,
   "id": "4d83596a-d6e1-407a-ac44-999c090212f2",
   "metadata": {},
   "outputs": [],
   "source": [
    "#Changing age variable\n",
    "globals() ['age'] = 27 #age = 27"
   ]
  },
  {
   "cell_type": "code",
   "execution_count": 55,
   "id": "5a214069-8066-400d-8aa7-26fe446ec8f9",
   "metadata": {},
   "outputs": [
    {
     "name": "stdout",
     "output_type": "stream",
     "text": [
      "27\n"
     ]
    }
   ],
   "source": [
    "print(age)"
   ]
  },
  {
   "cell_type": "code",
   "execution_count": 58,
   "id": "a2877a53-f714-4a78-84fc-6ecde8ce320f",
   "metadata": {},
   "outputs": [
    {
     "name": "stdout",
     "output_type": "stream",
     "text": [
      "100\n",
      "77\n",
      "100\n"
     ]
    }
   ],
   "source": [
    "global_var = 100\n",
    "def test_func():\n",
    "    local_var = 77\n",
    "\n",
    "    print(global_var)\n",
    "    print(local_var)\n",
    "\n",
    "\n",
    "test_func()\n",
    "print(global_var)\n",
    "#print(local_var)"
   ]
  },
  {
   "cell_type": "code",
   "execution_count": 59,
   "id": "f466ef3d-be1a-403a-a595-87e782f02c4f",
   "metadata": {},
   "outputs": [
    {
     "name": "stdout",
     "output_type": "stream",
     "text": [
      "22\n",
      "45\n"
     ]
    }
   ],
   "source": [
    "x = 45\n",
    "def new_func():\n",
    "    x =22\n",
    "    print(x)\n",
    "\n",
    "new_func()\n",
    "print(x)"
   ]
  },
  {
   "cell_type": "code",
   "execution_count": 60,
   "id": "7f2266e6-33b2-4a19-b6e7-9c8f771e2ea8",
   "metadata": {},
   "outputs": [
    {
     "name": "stdout",
     "output_type": "stream",
     "text": [
      "22\n",
      "22\n"
     ]
    }
   ],
   "source": [
    "x = 45\n",
    "def new_func():\n",
    "    global x\n",
    "    x = 22\n",
    "    print(x)\n",
    "\n",
    "new_func()\n",
    "print(x)"
   ]
  },
  {
   "cell_type": "markdown",
   "id": "7f085aaf-5965-4c13-b9e1-4453129cff6b",
   "metadata": {},
   "source": [
    "## Lamba Functions"
   ]
  },
  {
   "cell_type": "code",
   "execution_count": 65,
   "id": "16b23eee-58af-40d3-82be-b0466fbb525a",
   "metadata": {},
   "outputs": [],
   "source": [
    "#Lambda function is used as anonymous functions\n",
    "add = (lambda a,b : a+b)"
   ]
  },
  {
   "cell_type": "code",
   "execution_count": 66,
   "id": "72af3487-dee4-4a32-acc4-ccb64214ee51",
   "metadata": {},
   "outputs": [
    {
     "data": {
      "text/plain": [
       "9"
      ]
     },
     "execution_count": 66,
     "metadata": {},
     "output_type": "execute_result"
    }
   ],
   "source": [
    "add(5,4)"
   ]
  },
  {
   "cell_type": "code",
   "execution_count": 69,
   "id": "c446bf13-359f-4ced-b2ad-6b6dbba9d45d",
   "metadata": {},
   "outputs": [
    {
     "data": {
      "text/plain": [
       "45"
      ]
     },
     "execution_count": 69,
     "metadata": {},
     "output_type": "execute_result"
    }
   ],
   "source": [
    "(lambda x,y : x+y if x+y>0 else 0) (5, 40)"
   ]
  },
  {
   "cell_type": "code",
   "execution_count": 71,
   "id": "63f5d238-b8b1-4e3b-86f1-04f25224d8c5",
   "metadata": {},
   "outputs": [],
   "source": [
    "func = (lambda x,y : x+y if x+y>0 else 0)"
   ]
  },
  {
   "cell_type": "code",
   "execution_count": 72,
   "id": "98baa49c-4b14-46d7-b2a1-058475809fce",
   "metadata": {},
   "outputs": [
    {
     "data": {
      "text/plain": [
       "0"
      ]
     },
     "execution_count": 72,
     "metadata": {},
     "output_type": "execute_result"
    }
   ],
   "source": [
    "func(5, -40)"
   ]
  },
  {
   "cell_type": "code",
   "execution_count": 73,
   "id": "028ac47c-c4cc-43a8-81af-5c7bf0e50b01",
   "metadata": {},
   "outputs": [],
   "source": [
    "names = [('Prateek', 5), ('Mohit', 2), ('Abhi', 6)]"
   ]
  },
  {
   "cell_type": "code",
   "execution_count": 74,
   "id": "ba9ba7bb-69fb-4324-a5f4-d035b566e9fe",
   "metadata": {},
   "outputs": [
    {
     "data": {
      "text/plain": [
       "[('Abhi', 6), ('Mohit', 2), ('Prateek', 5)]"
      ]
     },
     "execution_count": 74,
     "metadata": {},
     "output_type": "execute_result"
    }
   ],
   "source": [
    "sorted(names)"
   ]
  },
  {
   "cell_type": "code",
   "execution_count": 77,
   "id": "a5201d4d-cf84-4b93-82d2-4752d731aa41",
   "metadata": {},
   "outputs": [
    {
     "data": {
      "text/plain": [
       "[('Mohit', 2), ('Prateek', 5), ('Abhi', 6)]"
      ]
     },
     "execution_count": 77,
     "metadata": {},
     "output_type": "execute_result"
    }
   ],
   "source": [
    "sorted(names, key = lambda x : x[1])"
   ]
  },
  {
   "cell_type": "markdown",
   "id": "502a520c-4c6d-442a-8641-29fa8b082b43",
   "metadata": {},
   "source": [
    "#### Function Question \n",
    "###### Write a function to find Least Common Multiple LCM of a,b."
   ]
  },
  {
   "cell_type": "code",
   "execution_count": 79,
   "id": "dea1a51f-f161-44dc-aeb1-e9a33e27b554",
   "metadata": {},
   "outputs": [],
   "source": [
    "def LCM(a, b):\n",
    "    \"\"\" It returns LCM of a and b \"\"\"\n",
    "    max_num = (a if a>b else b)\n",
    "\n",
    "    while True:\n",
    "        if((max_num%a==0) and (max_num%b==0)):\n",
    "            return max_num\n",
    "        else:\n",
    "            max_num+=1"
   ]
  },
  {
   "cell_type": "code",
   "execution_count": 80,
   "id": "77681a16-fb7d-462f-a42f-65350ae62c30",
   "metadata": {},
   "outputs": [
    {
     "data": {
      "text/plain": [
       "36"
      ]
     },
     "execution_count": 80,
     "metadata": {},
     "output_type": "execute_result"
    }
   ],
   "source": [
    "LCM(4,18)"
   ]
  },
  {
   "cell_type": "code",
   "execution_count": 83,
   "id": "8311c375-c3b1-4578-8643-9b06935ce6a7",
   "metadata": {},
   "outputs": [
    {
     "name": "stdout",
     "output_type": "stream",
     "text": [
      "15\n"
     ]
    }
   ],
   "source": [
    "res = LCM(3,5)\n",
    "print(res)"
   ]
  },
  {
   "cell_type": "markdown",
   "id": "0d3f47c7-2409-4181-bb4a-0ab1f5b4dd6f",
   "metadata": {},
   "source": [
    "## Function Arguments Vs Parameters\n",
    "###### -> Arguements vs Parameters\n",
    "###### ~ postional Aruguments\n",
    "###### ~ default arguments\n",
    "###### ~ arbitary arguments (args)\n",
    "###### ~ keyword arguments (kwargs)\n",
    "\n",
    "#### Postional Arguments - \n",
    "###### -> They are mandatory to pass\n"
   ]
  },
  {
   "cell_type": "code",
   "execution_count": 86,
   "id": "8c5357c7-6926-4f51-8beb-54f501fe194c",
   "metadata": {},
   "outputs": [],
   "source": [
    "def intro(name, nationality): ##Parameters\n",
    "    print(\"My name is\", name)\n",
    "    print(\"I'm\", nationality)"
   ]
  },
  {
   "cell_type": "code",
   "execution_count": 87,
   "id": "8ca3fa32-f48c-4b57-a5f0-c8d400088ce1",
   "metadata": {},
   "outputs": [
    {
     "name": "stdout",
     "output_type": "stream",
     "text": [
      "My name is jeevan\n",
      "I'm INDIAN\n"
     ]
    }
   ],
   "source": [
    "intro(\"jeevan\", \"INDIAN\") ## Arguments"
   ]
  },
  {
   "cell_type": "code",
   "execution_count": 88,
   "id": "b45d79c0-1d74-4c0c-a25d-1ca72f3cbf63",
   "metadata": {},
   "outputs": [
    {
     "ename": "TypeError",
     "evalue": "intro() missing 1 required positional argument: 'nationality'",
     "output_type": "error",
     "traceback": [
      "\u001b[1;31m---------------------------------------------------------------------------\u001b[0m",
      "\u001b[1;31mTypeError\u001b[0m                                 Traceback (most recent call last)",
      "Cell \u001b[1;32mIn[88], line 1\u001b[0m\n\u001b[1;32m----> 1\u001b[0m \u001b[43mintro\u001b[49m\u001b[43m(\u001b[49m\u001b[38;5;124;43m\"\u001b[39;49m\u001b[38;5;124;43mJeevan\u001b[39;49m\u001b[38;5;124;43m\"\u001b[39;49m\u001b[43m)\u001b[49m\n",
      "\u001b[1;31mTypeError\u001b[0m: intro() missing 1 required positional argument: 'nationality'"
     ]
    }
   ],
   "source": [
    "intro(\"Jeevan\")"
   ]
  },
  {
   "cell_type": "code",
   "execution_count": 90,
   "id": "c3eb3d55-87b1-42ac-9fb4-33ead47972e0",
   "metadata": {},
   "outputs": [
    {
     "name": "stdout",
     "output_type": "stream",
     "text": [
      "My name is Indian\n",
      "I'm Jeevan\n"
     ]
    }
   ],
   "source": [
    "intro(\"Indian\", \"Jeevan\") # You have give in a sequnectial order"
   ]
  },
  {
   "cell_type": "markdown",
   "id": "a74079cc-09ed-4239-b481-fd20509e222c",
   "metadata": {},
   "source": [
    "## Default Arguments\n",
    "##### -> parameters that have some default values, They are optional parameters\n",
    "##### -> default parameters always come after positional parameters"
   ]
  },
  {
   "cell_type": "code",
   "execution_count": 91,
   "id": "30637583-5c17-4009-954a-0603ea334f61",
   "metadata": {},
   "outputs": [],
   "source": [
    "def intro(name, nationality = \"Indian\"): ## deafult Argument\n",
    "    print(\"My name is\", name)\n",
    "    print(\"I'm\", nationality)"
   ]
  },
  {
   "cell_type": "code",
   "execution_count": 92,
   "id": "6a05ce80-869a-43a9-b47c-f736497a10b1",
   "metadata": {},
   "outputs": [
    {
     "name": "stdout",
     "output_type": "stream",
     "text": [
      "My name is Jeevan\n",
      "I'm Indian\n"
     ]
    }
   ],
   "source": [
    "# works without giving nationality\n",
    "intro(\"Jeevan\")"
   ]
  },
  {
   "cell_type": "code",
   "execution_count": 93,
   "id": "a49b11e6-d5aa-439f-925a-fc57a8be46b3",
   "metadata": {},
   "outputs": [
    {
     "name": "stdout",
     "output_type": "stream",
     "text": [
      "My name is John\n",
      "I'm American\n"
     ]
    }
   ],
   "source": [
    "intro(\"John\", \"American\")"
   ]
  },
  {
   "cell_type": "code",
   "execution_count": 95,
   "id": "e2d2f90c-37e1-43c8-bac7-d57603f8b234",
   "metadata": {},
   "outputs": [],
   "source": [
    "# default arguments comes after positional arguments\n",
    "def test(a, b, c, d = 0):\n",
    "    pass"
   ]
  },
  {
   "cell_type": "code",
   "execution_count": 96,
   "id": "851ce13c-1397-4d0c-82b6-67e13fcc145b",
   "metadata": {},
   "outputs": [
    {
     "ename": "SyntaxError",
     "evalue": "parameter without a default follows parameter with a default (649731783.py, line 1)",
     "output_type": "error",
     "traceback": [
      "\u001b[1;36m  Cell \u001b[1;32mIn[96], line 1\u001b[1;36m\u001b[0m\n\u001b[1;33m    def test(a = 0, b, c, d):\u001b[0m\n\u001b[1;37m                    ^\u001b[0m\n\u001b[1;31mSyntaxError\u001b[0m\u001b[1;31m:\u001b[0m parameter without a default follows parameter with a default\n"
     ]
    }
   ],
   "source": [
    "def test(a = 0, b, c, d):\n",
    "    pass"
   ]
  },
  {
   "cell_type": "markdown",
   "id": "f31c4380-23c8-403d-990c-7f952beb69d9",
   "metadata": {},
   "source": [
    "### Arbitary Arguments (args)\n",
    "###### - It can receive any number of arguments and stores in a tumple"
   ]
  },
  {
   "cell_type": "code",
   "execution_count": 10,
   "id": "8d78fc00-7c0d-4df8-8db6-2fce3c957392",
   "metadata": {},
   "outputs": [],
   "source": [
    "## \n",
    "def args_func( *args ):\n",
    "    print(args)\n",
    "    print(type(args))\n",
    "\n",
    "    for i in args:\n",
    "        print(i*2)\n",
    "    "
   ]
  },
  {
   "cell_type": "code",
   "execution_count": 12,
   "id": "7cb00267-21bc-4ad1-9eaa-9920b4e97b43",
   "metadata": {},
   "outputs": [
    {
     "name": "stdout",
     "output_type": "stream",
     "text": [
      "(4, 5, 7, 'Mohit', True)\n",
      "<class 'tuple'>\n",
      "8\n",
      "10\n",
      "14\n",
      "MohitMohit\n",
      "2\n"
     ]
    }
   ],
   "source": [
    "args_func(4,5,7, \"Mohit\", True)"
   ]
  },
  {
   "cell_type": "markdown",
   "id": "d403722f-8e42-440f-a1c7-c81cc62d4fa6",
   "metadata": {},
   "source": [
    "## Keyword Arguments(**kwargs)\n",
    "##### - it also takes any number of arguments and stores in form of dictionary\n",
    "##### - parameter name is mandatory while calling function"
   ]
  },
  {
   "cell_type": "code",
   "execution_count": 24,
   "id": "111301e6-9e9e-4df6-b8a0-1b41d6db97e5",
   "metadata": {},
   "outputs": [],
   "source": [
    "def intro( **kwargs ):\n",
    "    print(kwargs)\n",
    "    print(type(kwargs))\n",
    "\n",
    "    print(kwargs['name'])\n",
    "    for k,v in kwargs.items():\n",
    "        print(k, \":\", v)"
   ]
  },
  {
   "cell_type": "code",
   "execution_count": 25,
   "id": "3ca499e4-847e-4448-b25a-ef540c70e620",
   "metadata": {},
   "outputs": [
    {
     "name": "stdout",
     "output_type": "stream",
     "text": [
      "{'name': 'Mohit', 'age': 24, 'nationality': 'Indian'}\n",
      "<class 'dict'>\n",
      "Mohit\n",
      "name : Mohit\n",
      "age : 24\n",
      "nationality : Indian\n"
     ]
    }
   ],
   "source": [
    "intro(name='Mohit', age = 24, nationality = 'Indian')"
   ]
  },
  {
   "cell_type": "code",
   "execution_count": 26,
   "id": "736f7a9c-8732-4ef3-a3c7-d7c5d8b5ab05",
   "metadata": {},
   "outputs": [
    {
     "name": "stdout",
     "output_type": "stream",
     "text": [
      "{'name': 'Mohit', 'age': 24, 'hobby': ['singing', 'coding'], 'nationality': 'Indian'}\n",
      "<class 'dict'>\n",
      "Mohit\n",
      "name : Mohit\n",
      "age : 24\n",
      "hobby : ['singing', 'coding']\n",
      "nationality : Indian\n"
     ]
    }
   ],
   "source": [
    "intro(name='Mohit', age = 24, hobby = ['singing', 'coding'], nationality = 'Indian')"
   ]
  },
  {
   "cell_type": "code",
   "execution_count": 27,
   "id": "d2115ba4-86a2-48cb-bf11-b8bcb8dc5399",
   "metadata": {},
   "outputs": [
    {
     "name": "stdout",
     "output_type": "stream",
     "text": [
      "{'name': 'Mohit', 'age': 24, 'company': 'Google'}\n",
      "<class 'dict'>\n",
      "Mohit\n",
      "name : Mohit\n",
      "age : 24\n",
      "company : Google\n"
     ]
    }
   ],
   "source": [
    "intro(name='Mohit', age = 24, company = 'Google')"
   ]
  },
  {
   "cell_type": "code",
   "execution_count": 28,
   "id": "6a489343-f87e-4807-85f4-4a681bcadf0e",
   "metadata": {},
   "outputs": [],
   "source": [
    "def combination(a, b, c, age = 18, *args, **kwargs):\n",
    "    print(a,b,c,age)\n",
    "    print(args)\n",
    "    print(kwargs)"
   ]
  },
  {
   "cell_type": "code",
   "execution_count": 31,
   "id": "bffbb354-7b90-4dae-a720-5a33f60f37f0",
   "metadata": {},
   "outputs": [
    {
     "name": "stdout",
     "output_type": "stream",
     "text": [
      "100 200 300 400\n",
      "(500, 600)\n",
      "{'x': 8, 'y': 99, 'z': 0.0}\n"
     ]
    }
   ],
   "source": [
    "combination(100,200,300,400,500,600,x=8,y=99,z=0.0)"
   ]
  },
  {
   "cell_type": "markdown",
   "id": "4e8ce3b6-f7b7-432f-a185-9c9e68124483",
   "metadata": {},
   "source": [
    "## Built-Ins Functions\n",
    "###### print()\n",
    "###### abs()\n",
    "###### round()\n",
    "###### all()\n",
    "###### any()\n",
    "###### dir()\n",
    "###### enumerate()\n",
    "###### Aggregation functions : sum(), max(), min()\n",
    "###### filter()\n",
    "###### map()\n",
    "###### reduce()"
   ]
  },
  {
   "cell_type": "code",
   "execution_count": 1,
   "id": "a7dd390c-82a9-4dc0-b0c5-6ef7106dda00",
   "metadata": {},
   "outputs": [
    {
     "data": {
      "text/plain": [
       "\u001b[1;31mSignature:\u001b[0m \u001b[0mabs\u001b[0m\u001b[1;33m(\u001b[0m\u001b[0mx\u001b[0m\u001b[1;33m,\u001b[0m \u001b[1;33m/\u001b[0m\u001b[1;33m)\u001b[0m\u001b[1;33m\u001b[0m\u001b[1;33m\u001b[0m\u001b[0m\n",
       "\u001b[1;31mDocstring:\u001b[0m Return the absolute value of the argument.\n",
       "\u001b[1;31mType:\u001b[0m      builtin_function_or_method"
      ]
     },
     "metadata": {},
     "output_type": "display_data"
    }
   ],
   "source": [
    "abs?"
   ]
  },
  {
   "cell_type": "code",
   "execution_count": 2,
   "id": "c46fe7ee-9441-4c58-9551-4db77f7f75d1",
   "metadata": {},
   "outputs": [
    {
     "data": {
      "text/plain": [
       "1.1"
      ]
     },
     "execution_count": 2,
     "metadata": {},
     "output_type": "execute_result"
    }
   ],
   "source": [
    "abs(1.1)"
   ]
  },
  {
   "cell_type": "code",
   "execution_count": 3,
   "id": "bf578fd9-e070-458d-a8ae-27c9011fc3ab",
   "metadata": {},
   "outputs": [
    {
     "data": {
      "text/plain": [
       "1.1"
      ]
     },
     "execution_count": 3,
     "metadata": {},
     "output_type": "execute_result"
    }
   ],
   "source": [
    "abs(-1.1)"
   ]
  },
  {
   "cell_type": "code",
   "execution_count": 4,
   "id": "89ae5676-121d-4e8f-81a7-de709984fb9d",
   "metadata": {},
   "outputs": [
    {
     "data": {
      "text/plain": [
       "\u001b[1;31mSignature:\u001b[0m \u001b[0mround\u001b[0m\u001b[1;33m(\u001b[0m\u001b[0mnumber\u001b[0m\u001b[1;33m,\u001b[0m \u001b[0mndigits\u001b[0m\u001b[1;33m=\u001b[0m\u001b[1;32mNone\u001b[0m\u001b[1;33m)\u001b[0m\u001b[1;33m\u001b[0m\u001b[1;33m\u001b[0m\u001b[0m\n",
       "\u001b[1;31mDocstring:\u001b[0m\n",
       "Round a number to a given precision in decimal digits.\n",
       "\n",
       "The return value is an integer if ndigits is omitted or None.  Otherwise\n",
       "the return value has the same type as the number.  ndigits may be negative.\n",
       "\u001b[1;31mType:\u001b[0m      builtin_function_or_method"
      ]
     },
     "metadata": {},
     "output_type": "display_data"
    }
   ],
   "source": [
    "round?"
   ]
  },
  {
   "cell_type": "code",
   "execution_count": 5,
   "id": "00a99248-bf3b-4963-a18b-6c87f8657e3e",
   "metadata": {},
   "outputs": [
    {
     "data": {
      "text/plain": [
       "79"
      ]
     },
     "execution_count": 5,
     "metadata": {},
     "output_type": "execute_result"
    }
   ],
   "source": [
    "round(78.9)"
   ]
  },
  {
   "cell_type": "code",
   "execution_count": 6,
   "id": "b8f95a7a-3cfb-4c15-84d6-92f2d0255922",
   "metadata": {},
   "outputs": [
    {
     "data": {
      "text/plain": [
       "79"
      ]
     },
     "execution_count": 6,
     "metadata": {},
     "output_type": "execute_result"
    }
   ],
   "source": [
    "round(78.98765)"
   ]
  },
  {
   "cell_type": "code",
   "execution_count": 8,
   "id": "60e967c1-6cdc-4a45-8a91-aee1fc7585de",
   "metadata": {},
   "outputs": [
    {
     "data": {
      "text/plain": [
       "78.988"
      ]
     },
     "execution_count": 8,
     "metadata": {},
     "output_type": "execute_result"
    }
   ],
   "source": [
    "round(78.98765, 3)"
   ]
  },
  {
   "cell_type": "markdown",
   "id": "cd332826-bead-4b57-984f-d3933cd3e66d",
   "metadata": {},
   "source": [
    "#### all() returns\n",
    "###### --> True: if all elemets in an iterable are true\n",
    "###### --> False: if any element in an iterable is false."
   ]
  },
  {
   "cell_type": "code",
   "execution_count": 10,
   "id": "d3ffd6d4-4238-46da-aa5a-ddeaf1695fcf",
   "metadata": {},
   "outputs": [
    {
     "data": {
      "text/plain": [
       "True"
      ]
     },
     "execution_count": 10,
     "metadata": {},
     "output_type": "execute_result"
    }
   ],
   "source": [
    "lst = [1,2,3,4]\n",
    "all(lst)"
   ]
  },
  {
   "cell_type": "code",
   "execution_count": 13,
   "id": "6d1b261b-6f0a-4f37-88eb-95db448ffc7c",
   "metadata": {},
   "outputs": [
    {
     "data": {
      "text/plain": [
       "False"
      ]
     },
     "execution_count": 13,
     "metadata": {},
     "output_type": "execute_result"
    }
   ],
   "source": [
    "tup = (0,1,2,3) # 0 is present\n",
    "all(tup)"
   ]
  },
  {
   "cell_type": "code",
   "execution_count": 15,
   "id": "28953cfa-e35a-4446-b2e1-cceebaa3e2f4",
   "metadata": {},
   "outputs": [
    {
     "data": {
      "text/plain": [
       "False"
      ]
     },
     "execution_count": 15,
     "metadata": {},
     "output_type": "execute_result"
    }
   ],
   "source": [
    "lst1 = [False, 1, 2]\n",
    "all(lst1)"
   ]
  },
  {
   "cell_type": "code",
   "execution_count": 16,
   "id": "1b5a39ae-effb-4bc6-957a-1aef217c6988",
   "metadata": {},
   "outputs": [
    {
     "data": {
      "text/plain": [
       "True"
      ]
     },
     "execution_count": 16,
     "metadata": {},
     "output_type": "execute_result"
    }
   ],
   "source": [
    "lst = []\n",
    "all(lst)"
   ]
  },
  {
   "cell_type": "markdown",
   "id": "81240107-6ea0-403d-8512-fa5931993b01",
   "metadata": {},
   "source": [
    "#### any() returns\n",
    "###### --> True: if any of the elemet in an iterable are true\n",
    "###### --> False: otherwise"
   ]
  },
  {
   "cell_type": "code",
   "execution_count": 18,
   "id": "42efcc93-f7b4-4c93-977a-70c9a7d048cc",
   "metadata": {},
   "outputs": [
    {
     "data": {
      "text/plain": [
       "True"
      ]
     },
     "execution_count": 18,
     "metadata": {},
     "output_type": "execute_result"
    }
   ],
   "source": [
    "lst = [1,2,3,4]\n",
    "any(lst)"
   ]
  },
  {
   "cell_type": "code",
   "execution_count": 19,
   "id": "7656e18e-b47e-4e10-8128-1ac563a921fb",
   "metadata": {},
   "outputs": [
    {
     "data": {
      "text/plain": [
       "True"
      ]
     },
     "execution_count": 19,
     "metadata": {},
     "output_type": "execute_result"
    }
   ],
   "source": [
    "lst = [False, 0, -1]\n",
    "any(lst)"
   ]
  },
  {
   "cell_type": "code",
   "execution_count": 20,
   "id": "8afb7c7b-ef31-43bd-a4de-56dd9107e820",
   "metadata": {},
   "outputs": [
    {
     "data": {
      "text/plain": [
       "False"
      ]
     },
     "execution_count": 20,
     "metadata": {},
     "output_type": "execute_result"
    }
   ],
   "source": [
    "lst = []\n",
    "any(lst)"
   ]
  },
  {
   "cell_type": "code",
   "execution_count": 22,
   "id": "7c9d1d56-5e16-4c08-b0de-5f887eba6d3d",
   "metadata": {},
   "outputs": [
    {
     "data": {
      "text/plain": [
       "False"
      ]
     },
     "execution_count": 22,
     "metadata": {},
     "output_type": "execute_result"
    }
   ],
   "source": [
    "lst  = [0] * 5\n",
    "any(lst)"
   ]
  },
  {
   "cell_type": "code",
   "execution_count": null,
   "id": "7edc431c-89d6-46bf-bd97-065b8b7c8bf9",
   "metadata": {},
   "outputs": [],
   "source": []
  },
  {
   "cell_type": "markdown",
   "id": "4a12dfd2-aac2-40f3-af57-b3685236f38b",
   "metadata": {},
   "source": [
    "#### dir() - displays all the function associated with an object"
   ]
  },
  {
   "cell_type": "code",
   "execution_count": 23,
   "id": "400eeae9-cbc5-4682-b6ba-f6a29e2ac0b1",
   "metadata": {},
   "outputs": [],
   "source": [
    "lst = [1,2,3,4]"
   ]
  },
  {
   "cell_type": "code",
   "execution_count": 24,
   "id": "3e341b7a-df18-4ea1-8fec-074f7837778e",
   "metadata": {},
   "outputs": [
    {
     "data": {
      "text/plain": [
       "['__add__',\n",
       " '__class__',\n",
       " '__class_getitem__',\n",
       " '__contains__',\n",
       " '__delattr__',\n",
       " '__delitem__',\n",
       " '__dir__',\n",
       " '__doc__',\n",
       " '__eq__',\n",
       " '__format__',\n",
       " '__ge__',\n",
       " '__getattribute__',\n",
       " '__getitem__',\n",
       " '__getstate__',\n",
       " '__gt__',\n",
       " '__hash__',\n",
       " '__iadd__',\n",
       " '__imul__',\n",
       " '__init__',\n",
       " '__init_subclass__',\n",
       " '__iter__',\n",
       " '__le__',\n",
       " '__len__',\n",
       " '__lt__',\n",
       " '__mul__',\n",
       " '__ne__',\n",
       " '__new__',\n",
       " '__reduce__',\n",
       " '__reduce_ex__',\n",
       " '__repr__',\n",
       " '__reversed__',\n",
       " '__rmul__',\n",
       " '__setattr__',\n",
       " '__setitem__',\n",
       " '__sizeof__',\n",
       " '__str__',\n",
       " '__subclasshook__',\n",
       " 'append',\n",
       " 'clear',\n",
       " 'copy',\n",
       " 'count',\n",
       " 'extend',\n",
       " 'index',\n",
       " 'insert',\n",
       " 'pop',\n",
       " 'remove',\n",
       " 'reverse',\n",
       " 'sort']"
      ]
     },
     "execution_count": 24,
     "metadata": {},
     "output_type": "execute_result"
    }
   ],
   "source": [
    "dir(lst)"
   ]
  },
  {
   "cell_type": "code",
   "execution_count": 25,
   "id": "56e15ad0-1aa9-403e-b804-f2fa8de0d072",
   "metadata": {},
   "outputs": [
    {
     "name": "stdout",
     "output_type": "stream",
     "text": [
      "['__add__', '__class__', '__class_getitem__', '__contains__', '__delattr__', '__delitem__', '__dir__', '__doc__', '__eq__', '__format__', '__ge__', '__getattribute__', '__getitem__', '__getstate__', '__gt__', '__hash__', '__iadd__', '__imul__', '__init__', '__init_subclass__', '__iter__', '__le__', '__len__', '__lt__', '__mul__', '__ne__', '__new__', '__reduce__', '__reduce_ex__', '__repr__', '__reversed__', '__rmul__', '__setattr__', '__setitem__', '__sizeof__', '__str__', '__subclasshook__', 'append', 'clear', 'copy', 'count', 'extend', 'index', 'insert', 'pop', 'remove', 'reverse', 'sort']\n"
     ]
    }
   ],
   "source": [
    "print(dir(lst))"
   ]
  },
  {
   "cell_type": "code",
   "execution_count": null,
   "id": "67250c23-b784-49d5-9d95-9a3f7951e24e",
   "metadata": {},
   "outputs": [],
   "source": []
  },
  {
   "cell_type": "markdown",
   "id": "c7e2eed6-55cc-4fe2-947a-7d9a4a122f3c",
   "metadata": {},
   "source": [
    "### enumerate() - enumerate method adds a counter to an iterable and return it in a form of enumerate object"
   ]
  },
  {
   "cell_type": "code",
   "execution_count": 26,
   "id": "3fb385d6-8c21-4f12-aa7a-37d73d20d582",
   "metadata": {},
   "outputs": [
    {
     "name": "stdout",
     "output_type": "stream",
     "text": [
      "0 Apple\n",
      "1 Mango\n",
      "2 Grape\n",
      "3 Banana\n"
     ]
    }
   ],
   "source": [
    "fruits = ['Apple', 'Mango', 'Grape', 'Banana']\n",
    "for idx, ele in enumerate(fruits):\n",
    "    print(idx, ele)"
   ]
  },
  {
   "cell_type": "code",
   "execution_count": 27,
   "id": "56d227e0-b606-4b3d-be76-6e1c68e0b49b",
   "metadata": {},
   "outputs": [
    {
     "name": "stdout",
     "output_type": "stream",
     "text": [
      "10 Apple\n",
      "11 Mango\n",
      "12 Grape\n",
      "13 Banana\n"
     ]
    }
   ],
   "source": [
    "fruits = ['Apple', 'Mango', 'Grape', 'Banana']\n",
    "for idx, ele in enumerate(fruits, 10):\n",
    "    print(idx, ele)"
   ]
  },
  {
   "cell_type": "code",
   "execution_count": null,
   "id": "46ce6c59-91cf-4628-8d1b-fcbb2d248b6e",
   "metadata": {},
   "outputs": [],
   "source": []
  },
  {
   "cell_type": "markdown",
   "id": "714feb89-f87c-4fc6-b89b-64f982bd80a9",
   "metadata": {},
   "source": [
    "#### Aggregation functions"
   ]
  },
  {
   "cell_type": "code",
   "execution_count": 28,
   "id": "f154bcec-07a6-471b-92fa-9c83937cd947",
   "metadata": {},
   "outputs": [],
   "source": [
    "lst = [3,5,7,8,6,87,82]"
   ]
  },
  {
   "cell_type": "code",
   "execution_count": 29,
   "id": "19b4b6de-be04-4a5f-a252-7e01762c2b3f",
   "metadata": {},
   "outputs": [
    {
     "data": {
      "text/plain": [
       "198"
      ]
     },
     "execution_count": 29,
     "metadata": {},
     "output_type": "execute_result"
    }
   ],
   "source": [
    "sum(lst)"
   ]
  },
  {
   "cell_type": "code",
   "execution_count": 30,
   "id": "fae3a08d-a2e6-4524-b905-ea0a89d8d8d2",
   "metadata": {},
   "outputs": [
    {
     "data": {
      "text/plain": [
       "87"
      ]
     },
     "execution_count": 30,
     "metadata": {},
     "output_type": "execute_result"
    }
   ],
   "source": [
    "max(lst)"
   ]
  },
  {
   "cell_type": "code",
   "execution_count": 31,
   "id": "9b645860-0fd1-4b0b-8170-c345607b1161",
   "metadata": {},
   "outputs": [
    {
     "data": {
      "text/plain": [
       "3"
      ]
     },
     "execution_count": 31,
     "metadata": {},
     "output_type": "execute_result"
    }
   ],
   "source": [
    "min(lst)"
   ]
  },
  {
   "cell_type": "code",
   "execution_count": 32,
   "id": "ff089a47-28a6-4e55-b71b-a8572c9c1ded",
   "metadata": {},
   "outputs": [
    {
     "data": {
      "text/plain": [
       "28.285714285714285"
      ]
     },
     "execution_count": 32,
     "metadata": {},
     "output_type": "execute_result"
    }
   ],
   "source": [
    "sum(lst)/len(lst)"
   ]
  },
  {
   "cell_type": "code",
   "execution_count": 33,
   "id": "a46b0ab1-3448-4fc3-8d5a-dbf6ff98e33b",
   "metadata": {},
   "outputs": [
    {
     "data": {
      "text/plain": [
       "28.29"
      ]
     },
     "execution_count": 33,
     "metadata": {},
     "output_type": "execute_result"
    }
   ],
   "source": [
    "round(sum(lst)/len(lst), 2)"
   ]
  },
  {
   "cell_type": "markdown",
   "id": "8c5f4dba-b180-44a1-892b-cb749205be1b",
   "metadata": {},
   "source": [
    "#### Map - Map applies a function to all the items of an iterable"
   ]
  },
  {
   "cell_type": "code",
   "execution_count": 34,
   "id": "a8de3a96-f37e-49d7-b025-8640d87ecbff",
   "metadata": {},
   "outputs": [],
   "source": [
    "def add_one(x):\n",
    "    return(x+1)"
   ]
  },
  {
   "cell_type": "code",
   "execution_count": 35,
   "id": "835874a4-ec48-4b67-9c4b-e57849693900",
   "metadata": {},
   "outputs": [
    {
     "data": {
      "text/plain": [
       "101"
      ]
     },
     "execution_count": 35,
     "metadata": {},
     "output_type": "execute_result"
    }
   ],
   "source": [
    "add_one(100)"
   ]
  },
  {
   "cell_type": "code",
   "execution_count": 36,
   "id": "d13d88f9-a70a-43c9-8533-b413ad716e20",
   "metadata": {},
   "outputs": [
    {
     "name": "stdout",
     "output_type": "stream",
     "text": [
      "[3, 5, 7, 8, 6, 87, 82]\n"
     ]
    }
   ],
   "source": [
    "print(lst)"
   ]
  },
  {
   "cell_type": "code",
   "execution_count": 37,
   "id": "ec2a43d6-a5a2-4076-86d6-a7710d7180f8",
   "metadata": {},
   "outputs": [
    {
     "name": "stdout",
     "output_type": "stream",
     "text": [
      "[4, 6, 8, 9, 7, 88, 83]\n"
     ]
    }
   ],
   "source": [
    "new_lst = []\n",
    "for i in lst:\n",
    "    new_lst.append(i+1)\n",
    "print(new_lst)"
   ]
  },
  {
   "cell_type": "code",
   "execution_count": 38,
   "id": "17172ea9-8a69-41a3-aa8f-c795e4d49887",
   "metadata": {},
   "outputs": [
    {
     "data": {
      "text/plain": [
       "<map at 0x12299a7f790>"
      ]
     },
     "execution_count": 38,
     "metadata": {},
     "output_type": "execute_result"
    }
   ],
   "source": [
    "map(add_one, lst)"
   ]
  },
  {
   "cell_type": "code",
   "execution_count": 39,
   "id": "7b5de26a-8bdb-43f8-b440-ad74ded73d8c",
   "metadata": {},
   "outputs": [
    {
     "name": "stdout",
     "output_type": "stream",
     "text": [
      "<map object at 0x0000012299A595A0>\n"
     ]
    }
   ],
   "source": [
    "map_ele = map(add_one, lst)\n",
    "print(map_ele)"
   ]
  },
  {
   "cell_type": "code",
   "execution_count": 40,
   "id": "74256478-61bd-4f3e-8ed2-93ad6a147cd4",
   "metadata": {},
   "outputs": [
    {
     "data": {
      "text/plain": [
       "[4, 6, 8, 9, 7, 88, 83]"
      ]
     },
     "execution_count": 40,
     "metadata": {},
     "output_type": "execute_result"
    }
   ],
   "source": [
    "list(map_ele)"
   ]
  },
  {
   "cell_type": "code",
   "execution_count": 42,
   "id": "918df582-5fbd-4961-be06-4e17832dcfa9",
   "metadata": {},
   "outputs": [
    {
     "data": {
      "text/plain": [
       "[4, 6, 8, 9, 7, 88, 83]"
      ]
     },
     "execution_count": 42,
     "metadata": {},
     "output_type": "execute_result"
    }
   ],
   "source": [
    "list (map(lambda x:x+1, lst))"
   ]
  },
  {
   "cell_type": "markdown",
   "id": "0a933349-a7ff-44a0-8d42-59258ad288c0",
   "metadata": {},
   "source": [
    "#### filter() - The filter() method constructs an iterator from elements of an oterable for which a functions returns true"
   ]
  },
  {
   "cell_type": "code",
   "execution_count": 43,
   "id": "cc1da3fe-948b-4f1e-b823-f0e845fbb642",
   "metadata": {},
   "outputs": [],
   "source": [
    "lst = [4, 6, 8, 9, 7, 3, 1]"
   ]
  },
  {
   "cell_type": "code",
   "execution_count": 44,
   "id": "60d33756-84cf-47db-983e-8246c6dfd1a8",
   "metadata": {},
   "outputs": [
    {
     "name": "stdout",
     "output_type": "stream",
     "text": [
      "[4, 6, 8]\n"
     ]
    }
   ],
   "source": [
    "new_lst = []\n",
    "for i in lst:\n",
    "    if i%2 == 0:\n",
    "        new_lst.append(i)\n",
    "print(new_lst)"
   ]
  },
  {
   "cell_type": "code",
   "execution_count": 46,
   "id": "ebc07193-86c0-458c-a4bd-2bea9ca6ffea",
   "metadata": {},
   "outputs": [],
   "source": [
    "def is_even(x):\n",
    "    return x%2==0"
   ]
  },
  {
   "cell_type": "code",
   "execution_count": 47,
   "id": "1b37c42f-8655-4c42-b3ff-f490299aae46",
   "metadata": {},
   "outputs": [
    {
     "data": {
      "text/plain": [
       "<filter at 0x1229461c430>"
      ]
     },
     "execution_count": 47,
     "metadata": {},
     "output_type": "execute_result"
    }
   ],
   "source": [
    "filter(is_even, lst)"
   ]
  },
  {
   "cell_type": "code",
   "execution_count": 48,
   "id": "3cf9b18a-1523-4902-8d0f-4021da2c2d06",
   "metadata": {},
   "outputs": [
    {
     "name": "stdout",
     "output_type": "stream",
     "text": [
      "<filter object at 0x0000012299A29D50>\n"
     ]
    }
   ],
   "source": [
    "fliter_ele = filter(is_even, lst)\n",
    "print(fliter_ele)"
   ]
  },
  {
   "cell_type": "code",
   "execution_count": 49,
   "id": "2049f7ca-4a7f-43c9-8b4a-16565710bdb8",
   "metadata": {},
   "outputs": [
    {
     "data": {
      "text/plain": [
       "[4, 6, 8]"
      ]
     },
     "execution_count": 49,
     "metadata": {},
     "output_type": "execute_result"
    }
   ],
   "source": [
    "list(fliter_ele)"
   ]
  },
  {
   "cell_type": "code",
   "execution_count": 51,
   "id": "389dea75-d68d-4203-b9c8-d5469c1c285d",
   "metadata": {},
   "outputs": [
    {
     "data": {
      "text/plain": [
       "[4, 6, 8]"
      ]
     },
     "execution_count": 51,
     "metadata": {},
     "output_type": "execute_result"
    }
   ],
   "source": [
    "list(filter(lambda x:x%2 ==0, lst))"
   ]
  },
  {
   "cell_type": "markdown",
   "id": "4dbee846-f6b4-4c1e-954a-b67bc2a92550",
   "metadata": {},
   "source": [
    "#### Reduce\n",
    "###### - reduce() function is for performing some computation on a list and returning the result.\n",
    "###### - It applies a rolling computation to sequential pairs of values in a list"
   ]
  },
  {
   "cell_type": "code",
   "execution_count": 53,
   "id": "a6db25c8-0355-43d3-8e07-500a0c79a9eb",
   "metadata": {},
   "outputs": [
    {
     "name": "stdout",
     "output_type": "stream",
     "text": [
      "120\n"
     ]
    }
   ],
   "source": [
    "# Products of elements in a list\n",
    "lst = [1,2,3,4,5]\n",
    "\n",
    "#traditional way without reduce\n",
    "prod = 1\n",
    "for num in lst:\n",
    "    prod *= num\n",
    "print(prod)"
   ]
  },
  {
   "cell_type": "code",
   "execution_count": 54,
   "id": "7c854679-70e0-4430-bcf5-b8d70a855354",
   "metadata": {},
   "outputs": [],
   "source": [
    "from functools import reduce"
   ]
  },
  {
   "cell_type": "code",
   "execution_count": 55,
   "id": "d1717999-9d52-48dd-960d-2191c2e6c067",
   "metadata": {},
   "outputs": [
    {
     "data": {
      "text/plain": [
       "\u001b[1;31mDocstring:\u001b[0m\n",
       "reduce(function, iterable[, initial]) -> value\n",
       "\n",
       "Apply a function of two arguments cumulatively to the items of a sequence\n",
       "or iterable, from left to right, so as to reduce the iterable to a single\n",
       "value.  For example, reduce(lambda x, y: x+y, [1, 2, 3, 4, 5]) calculates\n",
       "((((1+2)+3)+4)+5).  If initial is present, it is placed before the items\n",
       "of the iterable in the calculation, and serves as a default when the\n",
       "iterable is empty.\n",
       "\u001b[1;31mType:\u001b[0m      builtin_function_or_method"
      ]
     },
     "metadata": {},
     "output_type": "display_data"
    }
   ],
   "source": [
    "reduce?"
   ]
  },
  {
   "cell_type": "code",
   "execution_count": 56,
   "id": "d557db95-27f5-48ab-b6a9-6fbe0adf66c2",
   "metadata": {},
   "outputs": [],
   "source": [
    "def mul(x,y):\n",
    "    return x*y"
   ]
  },
  {
   "cell_type": "code",
   "execution_count": 57,
   "id": "e1247590-8ee0-4f1e-8411-d065ea0abf9e",
   "metadata": {},
   "outputs": [
    {
     "data": {
      "text/plain": [
       "20"
      ]
     },
     "execution_count": 57,
     "metadata": {},
     "output_type": "execute_result"
    }
   ],
   "source": [
    "mul(5,4)"
   ]
  },
  {
   "cell_type": "code",
   "execution_count": 59,
   "id": "afd854e3-4b0d-4a58-8d09-d595e3b132b5",
   "metadata": {},
   "outputs": [],
   "source": [
    "prod = reduce (mul, lst)"
   ]
  },
  {
   "cell_type": "code",
   "execution_count": 60,
   "id": "2b02779b-7199-4591-ac83-368172dfbcb5",
   "metadata": {},
   "outputs": [
    {
     "name": "stdout",
     "output_type": "stream",
     "text": [
      "120\n"
     ]
    }
   ],
   "source": [
    "print(prod)"
   ]
  },
  {
   "cell_type": "code",
   "execution_count": 62,
   "id": "08f91633-705f-4c54-b379-c20b40841486",
   "metadata": {},
   "outputs": [
    {
     "data": {
      "text/plain": [
       "120"
      ]
     },
     "execution_count": 62,
     "metadata": {},
     "output_type": "execute_result"
    }
   ],
   "source": [
    "reduce(lambda x,y: x*y, lst)"
   ]
  },
  {
   "cell_type": "code",
   "execution_count": 65,
   "id": "f53c6c20-f3fd-4393-9aa9-c16d007f408f",
   "metadata": {},
   "outputs": [
    {
     "data": {
      "text/plain": [
       "12"
      ]
     },
     "execution_count": 65,
     "metadata": {},
     "output_type": "execute_result"
    }
   ],
   "source": [
    "sum([2,4,6])"
   ]
  },
  {
   "cell_type": "code",
   "execution_count": 66,
   "id": "a82f3fa6-b779-40d2-9b78-831cf753776e",
   "metadata": {},
   "outputs": [
    {
     "data": {
      "text/plain": [
       "False"
      ]
     },
     "execution_count": 66,
     "metadata": {},
     "output_type": "execute_result"
    }
   ],
   "source": [
    "max(False, -3, -4)"
   ]
  },
  {
   "cell_type": "code",
   "execution_count": 67,
   "id": "e363e3bc-5916-4bab-9f99-d5c635f21a1b",
   "metadata": {},
   "outputs": [
    {
     "data": {
      "text/plain": [
       "False"
      ]
     },
     "execution_count": 67,
     "metadata": {},
     "output_type": "execute_result"
    }
   ],
   "source": [
    "min(False, 2,7)"
   ]
  },
  {
   "cell_type": "code",
   "execution_count": 68,
   "id": "f5d2fd9c-c9f7-4ce8-bd51-dbfc42467728",
   "metadata": {},
   "outputs": [
    {
     "ename": "TypeError",
     "evalue": "ord() expected a character, but string of length 0 found",
     "output_type": "error",
     "traceback": [
      "\u001b[1;31m---------------------------------------------------------------------------\u001b[0m",
      "\u001b[1;31mTypeError\u001b[0m                                 Traceback (most recent call last)",
      "Cell \u001b[1;32mIn[68], line 1\u001b[0m\n\u001b[1;32m----> 1\u001b[0m \u001b[38;5;28;43mord\u001b[39;49m\u001b[43m(\u001b[49m\u001b[38;5;124;43m\"\u001b[39;49m\u001b[38;5;124;43m\"\u001b[39;49m\u001b[43m)\u001b[49m\n",
      "\u001b[1;31mTypeError\u001b[0m: ord() expected a character, but string of length 0 found"
     ]
    }
   ],
   "source": []
  },
  {
   "cell_type": "code",
   "execution_count": 69,
   "id": "76464b70-9e50-4207-93b4-c5edabb1aae6",
   "metadata": {},
   "outputs": [
    {
     "data": {
      "text/plain": [
       "[(0, 2), (1, 3)]"
      ]
     },
     "execution_count": 69,
     "metadata": {},
     "output_type": "execute_result"
    }
   ],
   "source": [
    "list(enumerate([2,3]))"
   ]
  },
  {
   "cell_type": "code",
   "execution_count": 70,
   "id": "eb0239f7-6532-4843-b759-c8180af3f519",
   "metadata": {},
   "outputs": [
    {
     "data": {
      "text/plain": [
       "1"
      ]
     },
     "execution_count": 70,
     "metadata": {},
     "output_type": "execute_result"
    }
   ],
   "source": [
    "x = 3\n",
    "eval('x^2')"
   ]
  },
  {
   "cell_type": "code",
   "execution_count": null,
   "id": "8b89daa5-74a0-46a9-bf89-f97517565841",
   "metadata": {},
   "outputs": [],
   "source": []
  }
 ],
 "metadata": {
  "kernelspec": {
   "display_name": "Python 3 (ipykernel)",
   "language": "python",
   "name": "python3"
  },
  "language_info": {
   "codemirror_mode": {
    "name": "ipython",
    "version": 3
   },
   "file_extension": ".py",
   "mimetype": "text/x-python",
   "name": "python",
   "nbconvert_exporter": "python",
   "pygments_lexer": "ipython3",
   "version": "3.12.4"
  }
 },
 "nbformat": 4,
 "nbformat_minor": 5
}
