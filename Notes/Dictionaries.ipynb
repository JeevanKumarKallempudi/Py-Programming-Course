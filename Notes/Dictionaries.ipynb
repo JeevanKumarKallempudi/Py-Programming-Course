{
 "cells": [
  {
   "cell_type": "markdown",
   "id": "fd4202e9-3456-4379-8727-c5248df51bf7",
   "metadata": {},
   "source": [
    "# Dictionaries \n",
    "### - stores data in key-value pair \n",
    "### - unordered \n",
    "### - unindexable \n",
    "### - access the value, with help of keys"
   ]
  },
  {
   "cell_type": "markdown",
   "id": "25fc69ec-54dc-446a-a351-5f944fba4226",
   "metadata": {},
   "source": [
    "## Creating empty dictionary"
   ]
  },
  {
   "cell_type": "code",
   "execution_count": 2,
   "id": "06e8a4ed-ed74-4aa3-9172-b1699ed5b500",
   "metadata": {},
   "outputs": [],
   "source": [
    "dic = {}\n",
    "\n",
    "dic  = dict()"
   ]
  },
  {
   "cell_type": "code",
   "execution_count": 3,
   "id": "626923a9-fc33-47be-b54b-cf40d5370ad6",
   "metadata": {},
   "outputs": [
    {
     "data": {
      "text/plain": [
       "dict"
      ]
     },
     "execution_count": 3,
     "metadata": {},
     "output_type": "execute_result"
    }
   ],
   "source": [
    "type(dic)"
   ]
  },
  {
   "cell_type": "code",
   "execution_count": 4,
   "id": "2391ae22-e2b1-4efe-a474-8f9159e1fdd5",
   "metadata": {},
   "outputs": [
    {
     "data": {
      "text/plain": [
       "{}"
      ]
     },
     "execution_count": 4,
     "metadata": {},
     "output_type": "execute_result"
    }
   ],
   "source": [
    "dic"
   ]
  },
  {
   "cell_type": "code",
   "execution_count": 5,
   "id": "4cc3a26e-170d-45aa-b0f8-74a6e07d9f87",
   "metadata": {},
   "outputs": [],
   "source": [
    "# create a dictionary with list of tuples\n",
    "my_dic = dict( [(1, \"abc\"), (2, \"xyz\") ] )"
   ]
  },
  {
   "cell_type": "code",
   "execution_count": 6,
   "id": "dcc11d64-55fa-4529-b966-99cef9ed0da3",
   "metadata": {},
   "outputs": [
    {
     "name": "stdout",
     "output_type": "stream",
     "text": [
      "{1: 'abc', 2: 'xyz'}\n"
     ]
    }
   ],
   "source": [
    "print(my_dic)"
   ]
  },
  {
   "cell_type": "code",
   "execution_count": 7,
   "id": "3f8b75c9-cfba-418a-afdc-69f0dcb6e180",
   "metadata": {},
   "outputs": [],
   "source": [
    "# A dictionary to store the user infromation\n",
    "\n",
    "user_info = {\n",
    "    \"name\" : \"Mohit\",\n",
    "    \"Age\" : 24,\n",
    "    \"Nationality\" : \"Indian\"\n",
    "}"
   ]
  },
  {
   "cell_type": "code",
   "execution_count": 8,
   "id": "80947b99-9789-48d0-abbb-4648916f9bcd",
   "metadata": {},
   "outputs": [
    {
     "name": "stdout",
     "output_type": "stream",
     "text": [
      "{'name': 'Mohit', 'Age': 24, 'Nationality': 'Indian'}\n"
     ]
    }
   ],
   "source": [
    "print(user_info)"
   ]
  },
  {
   "cell_type": "code",
   "execution_count": 9,
   "id": "ee29c0c8-de71-465c-9400-a284c411c89b",
   "metadata": {},
   "outputs": [
    {
     "data": {
      "text/plain": [
       "dict"
      ]
     },
     "execution_count": 9,
     "metadata": {},
     "output_type": "execute_result"
    }
   ],
   "source": [
    "type(user_info)"
   ]
  },
  {
   "cell_type": "markdown",
   "id": "9878954e-6c57-4196-a297-7a42fd882c99",
   "metadata": {},
   "source": [
    "# Accessing elements"
   ]
  },
  {
   "cell_type": "code",
   "execution_count": 10,
   "id": "ad86495b-5503-40f5-ac32-51f312326766",
   "metadata": {},
   "outputs": [
    {
     "data": {
      "text/plain": [
       "{'name': 'Mohit', 'Age': 24, 'Nationality': 'Indian'}"
      ]
     },
     "execution_count": 10,
     "metadata": {},
     "output_type": "execute_result"
    }
   ],
   "source": [
    "user_info"
   ]
  },
  {
   "cell_type": "code",
   "execution_count": 12,
   "id": "e7544dd6-48cc-4d90-a5bc-e794f4ca1837",
   "metadata": {},
   "outputs": [
    {
     "name": "stdout",
     "output_type": "stream",
     "text": [
      "Mohit\n",
      "Indian\n"
     ]
    }
   ],
   "source": [
    "# accessing elements\n",
    "print(user_info['name'])\n",
    "\n",
    "print(user_info['Nationality'])"
   ]
  },
  {
   "cell_type": "code",
   "execution_count": 13,
   "id": "9ae82900-5bc7-4d5a-a655-972fddfbe97e",
   "metadata": {},
   "outputs": [
    {
     "ename": "KeyError",
     "evalue": "'hobby'",
     "output_type": "error",
     "traceback": [
      "\u001b[1;31m---------------------------------------------------------------------------\u001b[0m",
      "\u001b[1;31mKeyError\u001b[0m                                  Traceback (most recent call last)",
      "Cell \u001b[1;32mIn[13], line 1\u001b[0m\n\u001b[1;32m----> 1\u001b[0m \u001b[38;5;28mprint\u001b[39m(\u001b[43muser_info\u001b[49m\u001b[43m[\u001b[49m\u001b[38;5;124;43m'\u001b[39;49m\u001b[38;5;124;43mhobby\u001b[39;49m\u001b[38;5;124;43m'\u001b[39;49m\u001b[43m]\u001b[49m)\n",
      "\u001b[1;31mKeyError\u001b[0m: 'hobby'"
     ]
    }
   ],
   "source": [
    "# unknown key gives error\n",
    "print(user_info['hobby'])"
   ]
  },
  {
   "cell_type": "markdown",
   "id": "3fb8d5fc-0707-46e7-a453-a9df4b522556",
   "metadata": {},
   "source": [
    "#### use dic.get() to avoid error"
   ]
  },
  {
   "cell_type": "code",
   "execution_count": 14,
   "id": "4649d0ae-1b63-4892-af38-654e42d6a736",
   "metadata": {},
   "outputs": [
    {
     "data": {
      "text/plain": [
       "'Mohit'"
      ]
     },
     "execution_count": 14,
     "metadata": {},
     "output_type": "execute_result"
    }
   ],
   "source": [
    "user_info.get(\"name\")"
   ]
  },
  {
   "cell_type": "code",
   "execution_count": 15,
   "id": "1a9247af-d078-4704-86cc-e9a3406edde1",
   "metadata": {},
   "outputs": [],
   "source": [
    "#no error\n",
    "user_info.get(\"hobby\")"
   ]
  },
  {
   "cell_type": "markdown",
   "id": "d212eb38-59d9-4dcb-817a-0d04eccbf82d",
   "metadata": {},
   "source": [
    "### Add/Modify data in dictionary"
   ]
  },
  {
   "cell_type": "code",
   "execution_count": 16,
   "id": "9c32c82a-c33e-4a4f-ac8b-39f1f2f23baf",
   "metadata": {},
   "outputs": [
    {
     "name": "stdout",
     "output_type": "stream",
     "text": [
      "{'name': 'Mohit', 'Age': 24, 'Nationality': 'Indian'}\n"
     ]
    }
   ],
   "source": [
    "print(user_info)"
   ]
  },
  {
   "cell_type": "code",
   "execution_count": 17,
   "id": "9c8813fa-cb88-4a14-97aa-a18275eebec0",
   "metadata": {},
   "outputs": [],
   "source": [
    "# adding new key\n",
    "user_info['hobby'] = ['Singing', 'Cricket', 'Coding']"
   ]
  },
  {
   "cell_type": "code",
   "execution_count": 18,
   "id": "31f9ba8a-f78b-42cf-beb8-0f22a7e4d2a5",
   "metadata": {},
   "outputs": [
    {
     "name": "stdout",
     "output_type": "stream",
     "text": [
      "{'name': 'Mohit', 'Age': 24, 'Nationality': 'Indian', 'hobby': ['Singing', 'Cricket', 'Coding']}\n"
     ]
    }
   ],
   "source": [
    "print(user_info)"
   ]
  },
  {
   "cell_type": "code",
   "execution_count": 19,
   "id": "8e036608-1f6d-4db4-a135-6e822c16a87a",
   "metadata": {},
   "outputs": [
    {
     "data": {
      "text/plain": [
       "['Singing', 'Cricket', 'Coding']"
      ]
     },
     "execution_count": 19,
     "metadata": {},
     "output_type": "execute_result"
    }
   ],
   "source": [
    "user_info['hobby']"
   ]
  },
  {
   "cell_type": "code",
   "execution_count": 22,
   "id": "e57d57a9-0c85-4580-a455-357a4d9c848d",
   "metadata": {},
   "outputs": [],
   "source": [
    "#Modifying the element\n",
    "user_info['name'] = 'Jatin'"
   ]
  },
  {
   "cell_type": "code",
   "execution_count": 2,
   "id": "e72fbcda-406d-46e2-9640-7ae7de38686b",
   "metadata": {},
   "outputs": [
    {
     "ename": "NameError",
     "evalue": "name 'user_info' is not defined",
     "output_type": "error",
     "traceback": [
      "\u001b[1;31m---------------------------------------------------------------------------\u001b[0m",
      "\u001b[1;31mNameError\u001b[0m                                 Traceback (most recent call last)",
      "Cell \u001b[1;32mIn[2], line 1\u001b[0m\n\u001b[1;32m----> 1\u001b[0m \u001b[43muser_info\u001b[49m\n",
      "\u001b[1;31mNameError\u001b[0m: name 'user_info' is not defined"
     ]
    }
   ],
   "source": [
    "user_info"
   ]
  },
  {
   "cell_type": "markdown",
   "id": "7d38843d-6d01-4ee4-a8ea-68cf743a5736",
   "metadata": {},
   "source": [
    "## Dictionary Functions"
   ]
  },
  {
   "cell_type": "code",
   "execution_count": 3,
   "id": "647feed5-a16d-49a8-901d-f50c0303d27a",
   "metadata": {},
   "outputs": [
    {
     "ename": "NameError",
     "evalue": "name 'user_info' is not defined",
     "output_type": "error",
     "traceback": [
      "\u001b[1;31m---------------------------------------------------------------------------\u001b[0m",
      "\u001b[1;31mNameError\u001b[0m                                 Traceback (most recent call last)",
      "Cell \u001b[1;32mIn[3], line 1\u001b[0m\n\u001b[1;32m----> 1\u001b[0m \u001b[43muser_info\u001b[49m\n",
      "\u001b[1;31mNameError\u001b[0m: name 'user_info' is not defined"
     ]
    }
   ],
   "source": [
    "user_info"
   ]
  },
  {
   "cell_type": "code",
   "execution_count": 5,
   "id": "fb0f721f-c20f-4c59-9e56-f2a9389a6975",
   "metadata": {},
   "outputs": [],
   "source": [
    "user_info = {\n",
    "    \"name\" : \"Mohit\",\n",
    "    \"Age\" : 24,\n",
    "    \"Nationality\" : \"Indian\"\n",
    "}"
   ]
  },
  {
   "cell_type": "code",
   "execution_count": 6,
   "id": "565c6b83-46bd-4a7d-a47b-476ecd2bbc27",
   "metadata": {},
   "outputs": [
    {
     "data": {
      "text/plain": [
       "{'name': 'Mohit', 'Age': 24, 'Nationality': 'Indian'}"
      ]
     },
     "execution_count": 6,
     "metadata": {},
     "output_type": "execute_result"
    }
   ],
   "source": [
    "user_info"
   ]
  },
  {
   "cell_type": "code",
   "execution_count": 9,
   "id": "78c57380-1de9-4962-89c7-6d8e59908974",
   "metadata": {},
   "outputs": [
    {
     "data": {
      "text/plain": [
       "['name', 'Age', 'Nationality']"
      ]
     },
     "execution_count": 9,
     "metadata": {},
     "output_type": "execute_result"
    }
   ],
   "source": [
    "#display all keys\n",
    "list(user_info.keys())"
   ]
  },
  {
   "cell_type": "code",
   "execution_count": 10,
   "id": "f3e5e9f5-d05c-4ad6-9657-0887696a001a",
   "metadata": {},
   "outputs": [],
   "source": [
    "#display all values"
   ]
  },
  {
   "cell_type": "code",
   "execution_count": 11,
   "id": "a02dc56e-ebc2-458d-a60e-3ab9893045dd",
   "metadata": {},
   "outputs": [
    {
     "data": {
      "text/plain": [
       "dict_values(['Mohit', 24, 'Indian'])"
      ]
     },
     "execution_count": 11,
     "metadata": {},
     "output_type": "execute_result"
    }
   ],
   "source": [
    "user_info.values()"
   ]
  },
  {
   "cell_type": "code",
   "execution_count": 12,
   "id": "dbac1d70-7a51-4fe0-81d2-22f7fd4b96cd",
   "metadata": {},
   "outputs": [
    {
     "data": {
      "text/plain": [
       "['Mohit', 24, 'Indian']"
      ]
     },
     "execution_count": 12,
     "metadata": {},
     "output_type": "execute_result"
    }
   ],
   "source": [
    "list(user_info.values())"
   ]
  },
  {
   "cell_type": "code",
   "execution_count": 13,
   "id": "12a9c2cd-7bdb-43c5-a8be-c837277f3bc9",
   "metadata": {},
   "outputs": [
    {
     "data": {
      "text/plain": [
       "dict_items([('name', 'Mohit'), ('Age', 24), ('Nationality', 'Indian')])"
      ]
     },
     "execution_count": 13,
     "metadata": {},
     "output_type": "execute_result"
    }
   ],
   "source": [
    "#display (key, value) pair in tuple\n",
    "user_info.items()"
   ]
  },
  {
   "cell_type": "code",
   "execution_count": 14,
   "id": "a3cd3fb2-77b3-4462-aa53-35eb09d1e6e7",
   "metadata": {},
   "outputs": [
    {
     "data": {
      "text/plain": [
       "[('name', 'Mohit'), ('Age', 24), ('Nationality', 'Indian')]"
      ]
     },
     "execution_count": 14,
     "metadata": {},
     "output_type": "execute_result"
    }
   ],
   "source": [
    "list(user_info.items())"
   ]
  },
  {
   "cell_type": "code",
   "execution_count": 17,
   "id": "8989d97a-d340-49e2-8c0a-12c2405d0fe0",
   "metadata": {},
   "outputs": [
    {
     "name": "stdout",
     "output_type": "stream",
     "text": [
      "name : Mohit\n",
      "Age : 24\n",
      "Nationality : Indian\n"
     ]
    }
   ],
   "source": [
    "#Iterate over dictionary\n",
    "for key, value in user_info.items():\n",
    "    print(key, \":\", value)"
   ]
  },
  {
   "cell_type": "code",
   "execution_count": 21,
   "id": "5874f544-4cc0-44ea-8710-41fa532153c2",
   "metadata": {},
   "outputs": [
    {
     "name": "stdout",
     "output_type": "stream",
     "text": [
      "name : Mohit\n",
      "Age : 24\n",
      "Nationality : Indian\n"
     ]
    }
   ],
   "source": [
    "for ele in user_info:\n",
    "    print(ele, \":\" ,user_info[ele])"
   ]
  },
  {
   "cell_type": "code",
   "execution_count": 22,
   "id": "45709852-41a0-437f-a2ac-3b3c8d5b03d2",
   "metadata": {},
   "outputs": [
    {
     "data": {
      "text/plain": [
       "566"
      ]
     },
     "execution_count": 22,
     "metadata": {},
     "output_type": "execute_result"
    }
   ],
   "source": [
    "hash(566)"
   ]
  },
  {
   "cell_type": "code",
   "execution_count": 23,
   "id": "f32c7cb6-eca0-42fa-8e61-fbfb9df087a1",
   "metadata": {},
   "outputs": [
    {
     "data": {
      "text/plain": [
       "-2656849423898061240"
      ]
     },
     "execution_count": 23,
     "metadata": {},
     "output_type": "execute_result"
    }
   ],
   "source": [
    "hash('python')"
   ]
  },
  {
   "cell_type": "code",
   "execution_count": 24,
   "id": "30f189d0-b0af-4edb-9641-0df4995882d0",
   "metadata": {},
   "outputs": [
    {
     "data": {
      "text/plain": [
       "5978594976881860246"
      ]
     },
     "execution_count": 24,
     "metadata": {},
     "output_type": "execute_result"
    }
   ],
   "source": [
    "hash((4,5,6))"
   ]
  },
  {
   "cell_type": "code",
   "execution_count": 25,
   "id": "efbc7bdc-06ea-4f9f-b697-2ffe205536f0",
   "metadata": {},
   "outputs": [
    {
     "ename": "TypeError",
     "evalue": "unhashable type: 'list'",
     "output_type": "error",
     "traceback": [
      "\u001b[1;31m---------------------------------------------------------------------------\u001b[0m",
      "\u001b[1;31mTypeError\u001b[0m                                 Traceback (most recent call last)",
      "Cell \u001b[1;32mIn[25], line 1\u001b[0m\n\u001b[1;32m----> 1\u001b[0m \u001b[38;5;28;43mhash\u001b[39;49m\u001b[43m(\u001b[49m\u001b[43m[\u001b[49m\u001b[38;5;241;43m4\u001b[39;49m\u001b[43m,\u001b[49m\u001b[38;5;241;43m5\u001b[39;49m\u001b[43m,\u001b[49m\u001b[38;5;241;43m6\u001b[39;49m\u001b[43m]\u001b[49m\u001b[43m)\u001b[49m\n",
      "\u001b[1;31mTypeError\u001b[0m: unhashable type: 'list'"
     ]
    }
   ],
   "source": [
    "#mutable element does not have hash value as they can not be uses as keys in dictionary\n",
    "hash([4,5,6])"
   ]
  },
  {
   "cell_type": "code",
   "execution_count": 26,
   "id": "1a47dbcc-bf74-47c7-8af4-ecdffc420481",
   "metadata": {},
   "outputs": [
    {
     "data": {
      "text/plain": [
       "-2656849423898061240"
      ]
     },
     "execution_count": 26,
     "metadata": {},
     "output_type": "execute_result"
    }
   ],
   "source": [
    "hash('python')"
   ]
  },
  {
   "cell_type": "code",
   "execution_count": 27,
   "id": "a668e27e-efd6-4f6d-aded-12b0a0b4f40e",
   "metadata": {},
   "outputs": [
    {
     "data": {
      "text/plain": [
       "{'name': 'Mohit', 'Age': 24, 'Nationality': 'Indian'}"
      ]
     },
     "execution_count": 27,
     "metadata": {},
     "output_type": "execute_result"
    }
   ],
   "source": [
    "user_info"
   ]
  },
  {
   "cell_type": "markdown",
   "id": "1035aae6-e161-46f8-9a78-c999fffda2b1",
   "metadata": {},
   "source": [
    "## Delete/Remove elements"
   ]
  },
  {
   "cell_type": "code",
   "execution_count": 28,
   "id": "bcd3b811-b241-4be5-927e-9288f63f3108",
   "metadata": {},
   "outputs": [
    {
     "data": {
      "text/plain": [
       "{'name': 'Mohit', 'Age': 24, 'Nationality': 'Indian'}"
      ]
     },
     "execution_count": 28,
     "metadata": {},
     "output_type": "execute_result"
    }
   ],
   "source": [
    "user_info"
   ]
  },
  {
   "cell_type": "code",
   "execution_count": 29,
   "id": "664bce25-d757-488d-b58a-b96d480e9b2c",
   "metadata": {},
   "outputs": [],
   "source": [
    "#deleting\n",
    "data = user_info.pop('Nationality')"
   ]
  },
  {
   "cell_type": "code",
   "execution_count": 30,
   "id": "a967d285-8203-4da9-8367-e24c88282769",
   "metadata": {},
   "outputs": [
    {
     "data": {
      "text/plain": [
       "{'name': 'Mohit', 'Age': 24}"
      ]
     },
     "execution_count": 30,
     "metadata": {},
     "output_type": "execute_result"
    }
   ],
   "source": [
    "user_info"
   ]
  },
  {
   "cell_type": "code",
   "execution_count": 31,
   "id": "aacd4e3b-4289-4911-8033-3af175801b0c",
   "metadata": {},
   "outputs": [
    {
     "ename": "KeyError",
     "evalue": "'Nationality'",
     "output_type": "error",
     "traceback": [
      "\u001b[1;31m---------------------------------------------------------------------------\u001b[0m",
      "\u001b[1;31mKeyError\u001b[0m                                  Traceback (most recent call last)",
      "Cell \u001b[1;32mIn[31], line 2\u001b[0m\n\u001b[0;32m      1\u001b[0m \u001b[38;5;66;03m#Key is not present\u001b[39;00m\n\u001b[1;32m----> 2\u001b[0m data \u001b[38;5;241m=\u001b[39m \u001b[43muser_info\u001b[49m\u001b[38;5;241;43m.\u001b[39;49m\u001b[43mpop\u001b[49m\u001b[43m(\u001b[49m\u001b[38;5;124;43m'\u001b[39;49m\u001b[38;5;124;43mNationality\u001b[39;49m\u001b[38;5;124;43m'\u001b[39;49m\u001b[43m)\u001b[49m\n",
      "\u001b[1;31mKeyError\u001b[0m: 'Nationality'"
     ]
    }
   ],
   "source": [
    "#Key is not present\n",
    "data = user_info.pop('Nationality')"
   ]
  },
  {
   "cell_type": "code",
   "execution_count": 33,
   "id": "2a701c6e-14ff-4659-b421-e83c8d018f30",
   "metadata": {},
   "outputs": [],
   "source": [
    "#Another Way of deleting\n",
    "#delete age\n",
    "del user_info['Age']"
   ]
  },
  {
   "cell_type": "code",
   "execution_count": 34,
   "id": "764bb473-d417-462b-9ccf-bdaad342a033",
   "metadata": {},
   "outputs": [
    {
     "data": {
      "text/plain": [
       "{'name': 'Mohit'}"
      ]
     },
     "execution_count": 34,
     "metadata": {},
     "output_type": "execute_result"
    }
   ],
   "source": [
    "user_info"
   ]
  },
  {
   "cell_type": "markdown",
   "id": "21bc5a2a-8211-408d-a0d4-892fd3fc7608",
   "metadata": {},
   "source": [
    "### Nested Dictionaries"
   ]
  },
  {
   "cell_type": "code",
   "execution_count": 37,
   "id": "80f85267-d416-4608-8421-b9a36544176f",
   "metadata": {},
   "outputs": [],
   "source": [
    "canteen_menu = {\n",
    "    'samosa' : 10,\n",
    "    'pizza' : 100,\n",
    "    'burger' : 50,\n",
    "    \"fruits\" : {\n",
    "        'apple' : 25,\n",
    "        'mango' : 35,\n",
    "        'grapes' : 20\n",
    "    }\n",
    "}"
   ]
  },
  {
   "cell_type": "code",
   "execution_count": 38,
   "id": "bca04eb4-ce10-4aac-93a1-06009c61a0bd",
   "metadata": {},
   "outputs": [
    {
     "data": {
      "text/plain": [
       "{'samosa': 10,\n",
       " 'pizza': 100,\n",
       " 'burger': 50,\n",
       " 'fruits': {'apple': 25, 'mango': 35, 'grapes': 20}}"
      ]
     },
     "execution_count": 38,
     "metadata": {},
     "output_type": "execute_result"
    }
   ],
   "source": [
    "canteen_menu"
   ]
  },
  {
   "cell_type": "code",
   "execution_count": 39,
   "id": "c91e601c-fbb4-4978-b6b8-e15b1942f4ed",
   "metadata": {},
   "outputs": [
    {
     "data": {
      "text/plain": [
       "{'apple': 25, 'mango': 35, 'grapes': 20}"
      ]
     },
     "execution_count": 39,
     "metadata": {},
     "output_type": "execute_result"
    }
   ],
   "source": [
    "canteen_menu['fruits']"
   ]
  },
  {
   "cell_type": "code",
   "execution_count": 40,
   "id": "1c9cff66-1cb2-4b8d-950b-eea9fe2cb7ee",
   "metadata": {},
   "outputs": [
    {
     "data": {
      "text/plain": [
       "35"
      ]
     },
     "execution_count": 40,
     "metadata": {},
     "output_type": "execute_result"
    }
   ],
   "source": [
    "canteen_menu['fruits']['mango']"
   ]
  },
  {
   "cell_type": "code",
   "execution_count": 41,
   "id": "1306dcfa-c550-4434-806a-230b4f1a821d",
   "metadata": {},
   "outputs": [
    {
     "data": {
      "text/plain": [
       "50"
      ]
     },
     "execution_count": 41,
     "metadata": {},
     "output_type": "execute_result"
    }
   ],
   "source": [
    "canteen_menu['burger']"
   ]
  },
  {
   "cell_type": "code",
   "execution_count": 42,
   "id": "3b9ffe6b-e2b4-4773-a3f8-3440cf7cffdb",
   "metadata": {},
   "outputs": [],
   "source": [
    "canteen_menu['juice'] = [25, 30, 40]"
   ]
  },
  {
   "cell_type": "code",
   "execution_count": 43,
   "id": "189ce280-b098-40c5-848a-7e0ec407370f",
   "metadata": {},
   "outputs": [
    {
     "data": {
      "text/plain": [
       "{'samosa': 10,\n",
       " 'pizza': 100,\n",
       " 'burger': 50,\n",
       " 'fruits': {'apple': 25, 'mango': 35, 'grapes': 20},\n",
       " 'juice': [25, 30, 40]}"
      ]
     },
     "execution_count": 43,
     "metadata": {},
     "output_type": "execute_result"
    }
   ],
   "source": [
    "canteen_menu"
   ]
  },
  {
   "cell_type": "code",
   "execution_count": 44,
   "id": "142df54f-47ec-4577-98ba-9476ab255390",
   "metadata": {},
   "outputs": [
    {
     "data": {
      "text/plain": [
       "40"
      ]
     },
     "execution_count": 44,
     "metadata": {},
     "output_type": "execute_result"
    }
   ],
   "source": [
    "canteen_menu['juice'][-1]"
   ]
  },
  {
   "cell_type": "markdown",
   "id": "98e6ac0e-6c96-4626-82e2-1850fa41cdca",
   "metadata": {},
   "source": [
    "### Dictionary Comprehension "
   ]
  },
  {
   "cell_type": "code",
   "execution_count": 46,
   "id": "b5f7d992-482a-40bd-aa0f-41685f169339",
   "metadata": {},
   "outputs": [
    {
     "name": "stdout",
     "output_type": "stream",
     "text": [
      "{'a': 1, 'b': 2, 'c': 3}\n"
     ]
    }
   ],
   "source": [
    "# Dict comprehension are just like list comprehension but for dictionries\n",
    "d = { 'a' : 1, 'b' : 2, 'c' : 3}\n",
    "print(d)"
   ]
  },
  {
   "cell_type": "code",
   "execution_count": 47,
   "id": "e9092a3b-8aee-4b3e-a46a-a9c8b2a3a636",
   "metadata": {},
   "outputs": [
    {
     "name": "stdout",
     "output_type": "stream",
     "text": [
      "a : 1\n",
      "b : 2\n",
      "c : 3\n"
     ]
    }
   ],
   "source": [
    "for k, v in d.items():\n",
    "    print(k, \":\", v)"
   ]
  },
  {
   "cell_type": "code",
   "execution_count": 48,
   "id": "21ac605c-6325-41fe-93bc-2dbb0d5e9fb0",
   "metadata": {},
   "outputs": [
    {
     "name": "stdout",
     "output_type": "stream",
     "text": [
      "{'b': 2, 'c': 3}\n"
     ]
    }
   ],
   "source": [
    "# Creating a new dictionary with only pairs with where the value is greater than or equal to  2\n",
    "d = { 'a' : 1, 'b' : 2, 'c' : 3}\n",
    "\n",
    "n = {k:v for k,v in d.items() if v >=2}\n",
    "print(n)\n"
   ]
  },
  {
   "cell_type": "code",
   "execution_count": 50,
   "id": "6b3d7888-2282-4931-9a3d-84e012c0bfab",
   "metadata": {},
   "outputs": [
    {
     "name": "stdout",
     "output_type": "stream",
     "text": [
      "{'bz': 4, 'cz': 9}\n"
     ]
    }
   ],
   "source": [
    "d = { 'a' : 1, 'b' : 2, 'c' : 3}\n",
    "\n",
    "n = {k + 'z':v**2 for k,v in d.items() if v >=2}\n",
    "\n",
    "print(n)"
   ]
  },
  {
   "cell_type": "code",
   "execution_count": 51,
   "id": "e96900b3-ce9f-4357-a79d-eaac4360de33",
   "metadata": {},
   "outputs": [
    {
     "name": "stdout",
     "output_type": "stream",
     "text": [
      "{'a': 1, 'b': 2, 'c': 3}\n"
     ]
    }
   ],
   "source": [
    "print(d)"
   ]
  },
  {
   "cell_type": "markdown",
   "id": "54a2f735-2b6a-43d5-9365-22704888fac5",
   "metadata": {},
   "source": [
    "## Reversal of dictionary"
   ]
  },
  {
   "cell_type": "code",
   "execution_count": 52,
   "id": "4cd94d77-d703-4b5b-b6ea-eed5651b40a5",
   "metadata": {},
   "outputs": [
    {
     "name": "stdout",
     "output_type": "stream",
     "text": [
      "{1: 'a', 2: 'b', 3: 'c'}\n"
     ]
    }
   ],
   "source": [
    "rev_d = dict()\n",
    "for k,v in d.items():\n",
    "    rev_d[v] = k\n",
    "print(rev_d)"
   ]
  },
  {
   "cell_type": "code",
   "execution_count": 53,
   "id": "ad097301-c097-4886-922b-3246c7e614ff",
   "metadata": {},
   "outputs": [
    {
     "data": {
      "text/plain": [
       "{1: 'a', 2: 'b', 3: 'c'}"
      ]
     },
     "execution_count": 53,
     "metadata": {},
     "output_type": "execute_result"
    }
   ],
   "source": [
    "# dict comprehension - reverse a dictionary\n",
    "{ v:k for k, v in d.items() }"
   ]
  },
  {
   "cell_type": "code",
   "execution_count": null,
   "id": "d00268ba-2178-45b5-90a5-bc9d03087f35",
   "metadata": {},
   "outputs": [],
   "source": []
  }
 ],
 "metadata": {
  "kernelspec": {
   "display_name": "Python 3 (ipykernel)",
   "language": "python",
   "name": "python3"
  },
  "language_info": {
   "codemirror_mode": {
    "name": "ipython",
    "version": 3
   },
   "file_extension": ".py",
   "mimetype": "text/x-python",
   "name": "python",
   "nbconvert_exporter": "python",
   "pygments_lexer": "ipython3",
   "version": "3.12.4"
  }
 },
 "nbformat": 4,
 "nbformat_minor": 5
}
