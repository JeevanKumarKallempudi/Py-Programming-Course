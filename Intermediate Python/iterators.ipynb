{
 "cells": [
  {
   "cell_type": "markdown",
   "id": "c19f69a9-eb68-4781-a533-d94e1f5e7559",
   "metadata": {},
   "source": [
    "### Python Iterators\n",
    "###### - Iterators are objects that can be iterated upon.\n",
    "###### - Terminology: iterator, iterable, iteration"
   ]
  },
  {
   "cell_type": "markdown",
   "id": "ed9f809d-8a4d-4924-965b-b7d2617e3b95",
   "metadata": {},
   "source": [
    "#### Iterator:\n",
    "###### - Any object that you can traverse upon is an iterator. An object will return data, one element at a time.\n",
    "###### - Python iterator object must implement two special methods, \"__ iter __ ()\" and \"__ next __()\" , known as iterator protocol"
   ]
  },
  {
   "cell_type": "markdown",
   "id": "c7925fe9-759b-44e9-a678-3659ae57ecde",
   "metadata": {},
   "source": [
    "#### Iterable:\n",
    "###### - An object is called iterable if we can get an iterator from it. Example = list tuple, string etc are iterables."
   ]
  },
  {
   "cell_type": "markdown",
   "id": "687a300f-04bf-4c41-8360-203e6e32ad66",
   "metadata": {},
   "source": [
    "#### Iteration:\n",
    "###### - repition in the process"
   ]
  },
  {
   "cell_type": "markdown",
   "id": "0ddb062d-b628-4843-b22e-3675ba62edaf",
   "metadata": {},
   "source": [
    "#### Iterating Through an Iterator"
   ]
  },
  {
   "cell_type": "code",
   "execution_count": 14,
   "id": "7da79da7-f438-457f-8633-ba2a5cb40e5c",
   "metadata": {},
   "outputs": [],
   "source": [
    "# creating an iterable\n",
    "my_lst = [2,5,10,15,20]"
   ]
  },
  {
   "cell_type": "code",
   "execution_count": 15,
   "id": "550b624b-ef2f-4825-b1e8-45554b40b196",
   "metadata": {},
   "outputs": [],
   "source": [
    "#get an iterator\n",
    "my_iter = iter(my_lst)"
   ]
  },
  {
   "cell_type": "code",
   "execution_count": 16,
   "id": "e9211278-9ecc-422e-b4b9-da1185429eb7",
   "metadata": {},
   "outputs": [
    {
     "data": {
      "text/plain": [
       "<list_iterator at 0x276c915a5c0>"
      ]
     },
     "execution_count": 16,
     "metadata": {},
     "output_type": "execute_result"
    }
   ],
   "source": [
    "my_iter"
   ]
  },
  {
   "cell_type": "code",
   "execution_count": 17,
   "id": "ff888c39-2b76-49b9-b88a-93c4d8ac1e6f",
   "metadata": {},
   "outputs": [
    {
     "data": {
      "text/plain": [
       "2"
      ]
     },
     "execution_count": 17,
     "metadata": {},
     "output_type": "execute_result"
    }
   ],
   "source": [
    "# next element\n",
    "next(my_iter)"
   ]
  },
  {
   "cell_type": "code",
   "execution_count": 18,
   "id": "3599a569-b99d-48f0-9fa2-018908a18f75",
   "metadata": {},
   "outputs": [
    {
     "data": {
      "text/plain": [
       "5"
      ]
     },
     "execution_count": 18,
     "metadata": {},
     "output_type": "execute_result"
    }
   ],
   "source": [
    "# next element\n",
    "next(my_iter)"
   ]
  },
  {
   "cell_type": "code",
   "execution_count": 19,
   "id": "52c66a69-1184-4a15-bec3-474efd397199",
   "metadata": {},
   "outputs": [
    {
     "data": {
      "text/plain": [
       "10"
      ]
     },
     "execution_count": 19,
     "metadata": {},
     "output_type": "execute_result"
    }
   ],
   "source": [
    "# next element\n",
    "next(my_iter)"
   ]
  },
  {
   "cell_type": "code",
   "execution_count": 20,
   "id": "d15b06c1-92df-4b19-961f-ee34e32621ae",
   "metadata": {},
   "outputs": [
    {
     "data": {
      "text/plain": [
       "15"
      ]
     },
     "execution_count": 20,
     "metadata": {},
     "output_type": "execute_result"
    }
   ],
   "source": [
    "# next element\n",
    "next(my_iter)"
   ]
  },
  {
   "cell_type": "code",
   "execution_count": 21,
   "id": "1531870c-3acc-471a-a6b1-2d09dcfd9618",
   "metadata": {},
   "outputs": [
    {
     "data": {
      "text/plain": [
       "20"
      ]
     },
     "execution_count": 21,
     "metadata": {},
     "output_type": "execute_result"
    }
   ],
   "source": [
    "# next element\n",
    "next(my_iter)"
   ]
  },
  {
   "cell_type": "code",
   "execution_count": 22,
   "id": "faa7a0e5-5b07-4be5-84d1-09d419444563",
   "metadata": {},
   "outputs": [
    {
     "ename": "StopIteration",
     "evalue": "",
     "output_type": "error",
     "traceback": [
      "\u001b[1;31m---------------------------------------------------------------------------\u001b[0m",
      "\u001b[1;31mStopIteration\u001b[0m                             Traceback (most recent call last)",
      "Cell \u001b[1;32mIn[22], line 2\u001b[0m\n\u001b[0;32m      1\u001b[0m \u001b[38;5;66;03m# next element\u001b[39;00m\n\u001b[1;32m----> 2\u001b[0m \u001b[38;5;28;43mnext\u001b[39;49m\u001b[43m(\u001b[49m\u001b[43mmy_iter\u001b[49m\u001b[43m)\u001b[49m\n",
      "\u001b[1;31mStopIteration\u001b[0m: "
     ]
    }
   ],
   "source": [
    "# next element\n",
    "next(my_iter)"
   ]
  },
  {
   "cell_type": "code",
   "execution_count": null,
   "id": "b0569fdb-e2d7-4aba-b62c-c677b1bb2dd2",
   "metadata": {},
   "outputs": [],
   "source": []
  },
  {
   "cell_type": "markdown",
   "id": "2108505e-e717-41a7-8cac-b9e83905bb2c",
   "metadata": {},
   "source": [
    "### Loops for Iterators\n",
    "###### - A more elegant way of automatically iterating is by using the for loop.\n",
    "###### - We can iterate iver any object that can return an iterator, for example list, string, file etc."
   ]
  },
  {
   "cell_type": "code",
   "execution_count": 24,
   "id": "0ea1518c-651a-4cd1-812a-44f067a79a8b",
   "metadata": {},
   "outputs": [],
   "source": [
    "my_lst = [2,5,10,15,20]"
   ]
  },
  {
   "cell_type": "code",
   "execution_count": 25,
   "id": "d18f9e49-4ffa-416e-94a6-55ea4898c454",
   "metadata": {},
   "outputs": [
    {
     "name": "stdout",
     "output_type": "stream",
     "text": [
      "2\n",
      "5\n",
      "10\n",
      "15\n",
      "20\n"
     ]
    }
   ],
   "source": [
    "for ele in my_lst:\n",
    "    print(ele)"
   ]
  },
  {
   "cell_type": "code",
   "execution_count": 26,
   "id": "4a3412f5-4c54-47a1-8951-b01587be75fa",
   "metadata": {},
   "outputs": [
    {
     "name": "stdout",
     "output_type": "stream",
     "text": [
      "2\n",
      "5\n",
      "10\n",
      "15\n",
      "20\n"
     ]
    }
   ],
   "source": [
    "my_itr = iter(my_lst)\n",
    "\n",
    "#infine while loop\n",
    "while True:\n",
    "    try:\n",
    "        # getting next element\n",
    "        ele = next(my_itr)\n",
    "        print(ele)\n",
    "    except StopIteration:\n",
    "        # all the elements are exhausted\n",
    "        break"
   ]
  },
  {
   "cell_type": "code",
   "execution_count": null,
   "id": "87ebc8b2-7e8e-4f71-bc48-2dc4631ce5d4",
   "metadata": {},
   "outputs": [],
   "source": []
  },
  {
   "cell_type": "markdown",
   "id": "6a9e1c72-ac8f-4b3c-8cde-c7bf1c77e131",
   "metadata": {},
   "source": [
    "### Building Custom Iterators\n",
    "###### -> Every custom iterator must implement the __ iter __ () and the __ next __ () methods.\n",
    "###### -> The __ iter __ () method returns the iterator object itself.\n",
    "###### -> The __ next __ () method must return the next item in the sequence. On reaching the last element, it must raise StopIteration."
   ]
  },
  {
   "cell_type": "code",
   "execution_count": 40,
   "id": "8416e06b-2c6e-43c8-95c7-70545139218c",
   "metadata": {},
   "outputs": [],
   "source": [
    "class CubeNumber:\n",
    "    def __init__(self, number = 0):\n",
    "        self.number = number\n",
    "\n",
    "    def __iter__(self):\n",
    "        self.ele = 0\n",
    "        return self\n",
    "            \n",
    "    def __next__(self):\n",
    "        if self.ele <= self.number:\n",
    "            result = self.ele**3\n",
    "            self.ele += 1\n",
    "            return result\n",
    "        else:\n",
    "            raise StopIteration"
   ]
  },
  {
   "cell_type": "code",
   "execution_count": 41,
   "id": "fc0828a9-eef2-46d6-b45e-07e61d8026b6",
   "metadata": {},
   "outputs": [],
   "source": [
    "cn = CubeNumber(5)"
   ]
  },
  {
   "cell_type": "code",
   "execution_count": 42,
   "id": "a45ac560-3a4d-45aa-8ebe-b968e99e17e2",
   "metadata": {},
   "outputs": [],
   "source": [
    "#iter(cn)\n",
    "my_iter = cn.__iter__()"
   ]
  },
  {
   "cell_type": "code",
   "execution_count": 43,
   "id": "c8295e34-1f0b-4587-a442-98993541b608",
   "metadata": {},
   "outputs": [
    {
     "data": {
      "text/plain": [
       "0"
      ]
     },
     "execution_count": 43,
     "metadata": {},
     "output_type": "execute_result"
    }
   ],
   "source": [
    "my_iter.__next__()"
   ]
  },
  {
   "cell_type": "code",
   "execution_count": 44,
   "id": "7ced95a2-d1e5-4684-9f3f-800d0f17260c",
   "metadata": {},
   "outputs": [
    {
     "data": {
      "text/plain": [
       "1"
      ]
     },
     "execution_count": 44,
     "metadata": {},
     "output_type": "execute_result"
    }
   ],
   "source": [
    "my_iter.__next__()"
   ]
  },
  {
   "cell_type": "code",
   "execution_count": 45,
   "id": "c65183f4-2197-40ee-b12b-ef8701e3c12a",
   "metadata": {},
   "outputs": [
    {
     "data": {
      "text/plain": [
       "8"
      ]
     },
     "execution_count": 45,
     "metadata": {},
     "output_type": "execute_result"
    }
   ],
   "source": [
    "my_iter.__next__()"
   ]
  },
  {
   "cell_type": "code",
   "execution_count": 46,
   "id": "9bb8c57f-5e26-4572-a099-31bdbe530727",
   "metadata": {},
   "outputs": [
    {
     "data": {
      "text/plain": [
       "27"
      ]
     },
     "execution_count": 46,
     "metadata": {},
     "output_type": "execute_result"
    }
   ],
   "source": [
    "my_iter.__next__()"
   ]
  },
  {
   "cell_type": "code",
   "execution_count": 47,
   "id": "6b28ba1c-2a94-4cd7-94a8-d89f9167bcac",
   "metadata": {},
   "outputs": [
    {
     "data": {
      "text/plain": [
       "64"
      ]
     },
     "execution_count": 47,
     "metadata": {},
     "output_type": "execute_result"
    }
   ],
   "source": [
    "my_iter.__next__()"
   ]
  },
  {
   "cell_type": "code",
   "execution_count": 48,
   "id": "bbff36f8-1c16-495f-be18-a2c33b923e9d",
   "metadata": {},
   "outputs": [
    {
     "data": {
      "text/plain": [
       "125"
      ]
     },
     "execution_count": 48,
     "metadata": {},
     "output_type": "execute_result"
    }
   ],
   "source": [
    "my_iter.__next__()"
   ]
  },
  {
   "cell_type": "code",
   "execution_count": 49,
   "id": "9e0ab2aa-8b1d-4df8-bb35-f0cfb605e87b",
   "metadata": {},
   "outputs": [
    {
     "ename": "StopIteration",
     "evalue": "",
     "output_type": "error",
     "traceback": [
      "\u001b[1;31m---------------------------------------------------------------------------\u001b[0m",
      "\u001b[1;31mStopIteration\u001b[0m                             Traceback (most recent call last)",
      "Cell \u001b[1;32mIn[49], line 1\u001b[0m\n\u001b[1;32m----> 1\u001b[0m \u001b[43mmy_iter\u001b[49m\u001b[38;5;241;43m.\u001b[39;49m\u001b[38;5;21;43m__next__\u001b[39;49m\u001b[43m(\u001b[49m\u001b[43m)\u001b[49m\n",
      "Cell \u001b[1;32mIn[40], line 15\u001b[0m, in \u001b[0;36mCubeNumber.__next__\u001b[1;34m(self)\u001b[0m\n\u001b[0;32m     13\u001b[0m     \u001b[38;5;28;01mreturn\u001b[39;00m result\n\u001b[0;32m     14\u001b[0m \u001b[38;5;28;01melse\u001b[39;00m:\n\u001b[1;32m---> 15\u001b[0m     \u001b[38;5;28;01mraise\u001b[39;00m \u001b[38;5;167;01mStopIteration\u001b[39;00m\n",
      "\u001b[1;31mStopIteration\u001b[0m: "
     ]
    }
   ],
   "source": [
    "my_iter.__next__()"
   ]
  },
  {
   "cell_type": "code",
   "execution_count": 50,
   "id": "702bc1b3-b7e4-4d93-94a5-58bf3203fdb6",
   "metadata": {},
   "outputs": [
    {
     "name": "stdout",
     "output_type": "stream",
     "text": [
      "0\n",
      "1\n",
      "8\n",
      "27\n",
      "64\n",
      "125\n"
     ]
    }
   ],
   "source": [
    "for ele in cn:\n",
    "    print(ele)"
   ]
  },
  {
   "cell_type": "code",
   "execution_count": null,
   "id": "711b27a1-d2d5-40a9-85c4-558d743b32c1",
   "metadata": {},
   "outputs": [],
   "source": []
  }
 ],
 "metadata": {
  "kernelspec": {
   "display_name": "Python 3 (ipykernel)",
   "language": "python",
   "name": "python3"
  },
  "language_info": {
   "codemirror_mode": {
    "name": "ipython",
    "version": 3
   },
   "file_extension": ".py",
   "mimetype": "text/x-python",
   "name": "python",
   "nbconvert_exporter": "python",
   "pygments_lexer": "ipython3",
   "version": "3.12.4"
  }
 },
 "nbformat": 4,
 "nbformat_minor": 5
}
