{
 "cells": [
  {
   "cell_type": "markdown",
   "id": "94309057-4aaa-4600-a33a-db9967fa52d9",
   "metadata": {},
   "source": [
    "### Python Generators\n",
    "-> Python generator is kind of a function only. It generates a sequence of values that we can iterate on.\n",
    "\n",
    "-> Unlike functions, generators doen't terminate after returning a value.\n",
    "\n",
    "-> __yield__ keyword is used in Generators.\n",
    "\n",
    "-> Like a list or a tuple, Geneartor is also an iterable."
   ]
  },
  {
   "cell_type": "code",
   "execution_count": 1,
   "id": "7140f05c-427a-4924-86f6-72b21e9fe7c2",
   "metadata": {},
   "outputs": [],
   "source": [
    "def my_generator():\n",
    "    n = 1\n",
    "\n",
    "    print(\"First time\")\n",
    "    yield n\n",
    "\n",
    "    n += 1\n",
    "\n",
    "    print(\"Second time\")\n",
    "    yield n\n",
    "\n",
    "    n += 1\n",
    "\n",
    "    print(\"Third time\")\n",
    "    yield n"
   ]
  },
  {
   "cell_type": "code",
   "execution_count": 2,
   "id": "22b196a2-dfec-402d-91b1-9ce7101fd42e",
   "metadata": {},
   "outputs": [
    {
     "data": {
      "text/plain": [
       "<generator object my_generator at 0x000001CE77268340>"
      ]
     },
     "execution_count": 2,
     "metadata": {},
     "output_type": "execute_result"
    }
   ],
   "source": [
    "my_generator()"
   ]
  },
  {
   "cell_type": "code",
   "execution_count": 3,
   "id": "c677b405-1350-4030-9bb3-a4ff871ce35d",
   "metadata": {},
   "outputs": [],
   "source": [
    "my_gen = my_generator()"
   ]
  },
  {
   "cell_type": "code",
   "execution_count": 4,
   "id": "b6d02cfd-de59-431b-a74a-9ed8a9e40128",
   "metadata": {},
   "outputs": [
    {
     "data": {
      "text/plain": [
       "generator"
      ]
     },
     "execution_count": 4,
     "metadata": {},
     "output_type": "execute_result"
    }
   ],
   "source": [
    "type(my_gen)"
   ]
  },
  {
   "cell_type": "code",
   "execution_count": 5,
   "id": "b1ee7718-4fb9-41ea-bc55-eede30b14b33",
   "metadata": {},
   "outputs": [
    {
     "name": "stdout",
     "output_type": "stream",
     "text": [
      "First time\n"
     ]
    },
    {
     "data": {
      "text/plain": [
       "1"
      ]
     },
     "execution_count": 5,
     "metadata": {},
     "output_type": "execute_result"
    }
   ],
   "source": [
    "next(my_gen)"
   ]
  },
  {
   "cell_type": "code",
   "execution_count": 6,
   "id": "8ae6b9bd-3d00-4137-93ae-d9199e171b13",
   "metadata": {},
   "outputs": [
    {
     "name": "stdout",
     "output_type": "stream",
     "text": [
      "Second time\n"
     ]
    },
    {
     "data": {
      "text/plain": [
       "2"
      ]
     },
     "execution_count": 6,
     "metadata": {},
     "output_type": "execute_result"
    }
   ],
   "source": [
    "next(my_gen)"
   ]
  },
  {
   "cell_type": "code",
   "execution_count": 7,
   "id": "401094e8-2cf2-4e2e-8b6f-777235522e7e",
   "metadata": {},
   "outputs": [
    {
     "name": "stdout",
     "output_type": "stream",
     "text": [
      "Third time\n"
     ]
    },
    {
     "data": {
      "text/plain": [
       "3"
      ]
     },
     "execution_count": 7,
     "metadata": {},
     "output_type": "execute_result"
    }
   ],
   "source": [
    "next(my_gen)"
   ]
  },
  {
   "cell_type": "code",
   "execution_count": 8,
   "id": "4add54a7-041e-4572-9513-e4cc5d018d23",
   "metadata": {},
   "outputs": [
    {
     "ename": "StopIteration",
     "evalue": "",
     "output_type": "error",
     "traceback": [
      "\u001b[1;31m---------------------------------------------------------------------------\u001b[0m",
      "\u001b[1;31mStopIteration\u001b[0m                             Traceback (most recent call last)",
      "Cell \u001b[1;32mIn[8], line 1\u001b[0m\n\u001b[1;32m----> 1\u001b[0m \u001b[38;5;28;43mnext\u001b[39;49m\u001b[43m(\u001b[49m\u001b[43mmy_gen\u001b[49m\u001b[43m)\u001b[49m\n",
      "\u001b[1;31mStopIteration\u001b[0m: "
     ]
    }
   ],
   "source": [
    "next(my_gen)"
   ]
  },
  {
   "cell_type": "markdown",
   "id": "c106ef89-c48e-44a8-8e43-05b576ea2f0b",
   "metadata": {},
   "source": []
  },
  {
   "cell_type": "markdown",
   "id": "09ca618a-71f2-4e62-9c6f-7cb925a54e91",
   "metadata": {},
   "source": [
    "### Return vs. Yield\n",
    "-> __yield__ returns a value and paused the execution whiile maintaining the internal states.\n",
    "\n",
    "-> __return__ statement returns a value and terminates the execution of the function.\n",
    "\n",
    "-> When a generator is called, it returns an object(iterator) but does not start execution immediately.\n",
    "\n",
    "-> Local variables and their states are remembered between the successive calls.\n"
   ]
  },
  {
   "cell_type": "code",
   "execution_count": 10,
   "id": "18065d6a-0ad0-4a0c-ab61-920374ad8d0d",
   "metadata": {},
   "outputs": [],
   "source": [
    "def counter_func(n):\n",
    "    i = 1\n",
    "    while (i<=n):\n",
    "        return i\n",
    "        i += 1"
   ]
  },
  {
   "cell_type": "code",
   "execution_count": 11,
   "id": "bec2338c-b481-4aa0-ac8d-6df287f33016",
   "metadata": {},
   "outputs": [
    {
     "data": {
      "text/plain": [
       "1"
      ]
     },
     "execution_count": 11,
     "metadata": {},
     "output_type": "execute_result"
    }
   ],
   "source": [
    "counter_func(4)"
   ]
  },
  {
   "cell_type": "code",
   "execution_count": 12,
   "id": "e7fbbb99-6be7-4043-b20e-bed4c9d1f18e",
   "metadata": {},
   "outputs": [],
   "source": [
    "def counter_gen(n):\n",
    "    i = 1\n",
    "    while (i<=n):\n",
    "        yield i\n",
    "        i += 1"
   ]
  },
  {
   "cell_type": "code",
   "execution_count": 13,
   "id": "60ec1e43-f915-476c-ba50-2957d49396b5",
   "metadata": {},
   "outputs": [
    {
     "data": {
      "text/plain": [
       "<generator object counter_gen at 0x000001CE77351900>"
      ]
     },
     "execution_count": 13,
     "metadata": {},
     "output_type": "execute_result"
    }
   ],
   "source": [
    "counter_gen(5)"
   ]
  },
  {
   "cell_type": "code",
   "execution_count": 14,
   "id": "028aac35-598b-4a4c-9195-542819f5cba7",
   "metadata": {},
   "outputs": [],
   "source": [
    "gen = counter_gen(5)"
   ]
  },
  {
   "cell_type": "code",
   "execution_count": 15,
   "id": "e3ae1678-c9f4-4a1f-b258-6b313bd9728c",
   "metadata": {},
   "outputs": [
    {
     "data": {
      "text/plain": [
       "1"
      ]
     },
     "execution_count": 15,
     "metadata": {},
     "output_type": "execute_result"
    }
   ],
   "source": [
    "next(gen)"
   ]
  },
  {
   "cell_type": "code",
   "execution_count": 16,
   "id": "32efcd14-3466-49d8-8d4a-1888ccf1d67f",
   "metadata": {},
   "outputs": [
    {
     "data": {
      "text/plain": [
       "2"
      ]
     },
     "execution_count": 16,
     "metadata": {},
     "output_type": "execute_result"
    }
   ],
   "source": [
    "next(gen)"
   ]
  },
  {
   "cell_type": "code",
   "execution_count": 17,
   "id": "36c95b04-0b88-4315-a332-521aa5ebb930",
   "metadata": {},
   "outputs": [
    {
     "data": {
      "text/plain": [
       "3"
      ]
     },
     "execution_count": 17,
     "metadata": {},
     "output_type": "execute_result"
    }
   ],
   "source": [
    "next(gen)"
   ]
  },
  {
   "cell_type": "code",
   "execution_count": 18,
   "id": "1f29494b-4fe2-425d-b53e-d7bb05a08622",
   "metadata": {},
   "outputs": [
    {
     "data": {
      "text/plain": [
       "4"
      ]
     },
     "execution_count": 18,
     "metadata": {},
     "output_type": "execute_result"
    }
   ],
   "source": [
    "next(gen)"
   ]
  },
  {
   "cell_type": "code",
   "execution_count": 19,
   "id": "af2add1e-0f77-431c-a0db-b44ae780b8c2",
   "metadata": {},
   "outputs": [
    {
     "data": {
      "text/plain": [
       "5"
      ]
     },
     "execution_count": 19,
     "metadata": {},
     "output_type": "execute_result"
    }
   ],
   "source": [
    "next(gen)"
   ]
  },
  {
   "cell_type": "code",
   "execution_count": 20,
   "id": "ec39036a-9b35-403e-8977-c24df1a10856",
   "metadata": {},
   "outputs": [
    {
     "ename": "StopIteration",
     "evalue": "",
     "output_type": "error",
     "traceback": [
      "\u001b[1;31m---------------------------------------------------------------------------\u001b[0m",
      "\u001b[1;31mStopIteration\u001b[0m                             Traceback (most recent call last)",
      "Cell \u001b[1;32mIn[20], line 1\u001b[0m\n\u001b[1;32m----> 1\u001b[0m \u001b[38;5;28;43mnext\u001b[39;49m\u001b[43m(\u001b[49m\u001b[43mgen\u001b[49m\u001b[43m)\u001b[49m\n",
      "\u001b[1;31mStopIteration\u001b[0m: "
     ]
    }
   ],
   "source": [
    "next(gen)"
   ]
  },
  {
   "cell_type": "code",
   "execution_count": null,
   "id": "1662de2e-537a-4d63-aea6-1a0a4fb27977",
   "metadata": {},
   "outputs": [],
   "source": []
  },
  {
   "cell_type": "markdown",
   "id": "5bc47881-8414-4088-800a-2946264a7063",
   "metadata": {},
   "source": [
    "### Generators with a loop\n",
    "-> We can use the for loop to traverse the elements over the generator. \n",
    "\n",
    "-> The next() function is called implicity and the StopIteration is also taken automatically taken care of"
   ]
  },
  {
   "cell_type": "code",
   "execution_count": 21,
   "id": "f0c9364e-733b-4c83-bbf5-2f45245a275b",
   "metadata": {},
   "outputs": [
    {
     "name": "stdout",
     "output_type": "stream",
     "text": [
      "1\n",
      "2\n",
      "3\n",
      "4\n",
      "5\n"
     ]
    }
   ],
   "source": [
    "for ele in counter_gen(5):\n",
    "    print(ele)"
   ]
  },
  {
   "cell_type": "code",
   "execution_count": 27,
   "id": "b948015e-25d3-4605-ac8c-94c6d1013832",
   "metadata": {},
   "outputs": [],
   "source": [
    "def reverse_str(string):\n",
    "    for i in range(len(string)-1, -1, -1):\n",
    "        yield string[i]"
   ]
  },
  {
   "cell_type": "code",
   "execution_count": 23,
   "id": "cffcf434-22f4-4b53-a19e-e3f7fb9a69cb",
   "metadata": {},
   "outputs": [
    {
     "data": {
      "text/plain": [
       "'naveeJ'"
      ]
     },
     "execution_count": 23,
     "metadata": {},
     "output_type": "execute_result"
    }
   ],
   "source": [
    "\"Jeevan\"[::-1]"
   ]
  },
  {
   "cell_type": "code",
   "execution_count": 28,
   "id": "0e37bd64-f7c1-4890-ae21-e57d60a2582e",
   "metadata": {},
   "outputs": [
    {
     "name": "stdout",
     "output_type": "stream",
     "text": [
      "n\n",
      "a\n",
      "v\n",
      "e\n",
      "e\n",
      "J\n"
     ]
    }
   ],
   "source": [
    "for ele in reverse_str(\"Jeevan\"):\n",
    "    print(ele)"
   ]
  },
  {
   "cell_type": "code",
   "execution_count": null,
   "id": "40943c9f-b8e4-4280-9f5e-9ec0fea76483",
   "metadata": {},
   "outputs": [],
   "source": []
  },
  {
   "cell_type": "markdown",
   "id": "b7fdef32-f965-4292-8854-a71050b6ad44",
   "metadata": {},
   "source": [
    "### Generator Expressions\n",
    "-> Python also provides a generator expression, which is a shorter way of defining simple generator functions. The generator expression is an anonymous generator function\n",
    "\n",
    "-> The major difference between a list comprehension and a generator is that a list comprehension products the entire list while generator expression producess one item at a time.\n",
    "\n",
    "-> They have lazy execution (producing items only when asked for). For this reason, a generator expression is much more memory efficient than an equivalent list comprehension.\n",
    "\n",
    "#### Advantage\n",
    "-> Memory efficient\n",
    "\n",
    "-> Represent Infinite Stream"
   ]
  },
  {
   "cell_type": "code",
   "execution_count": 41,
   "id": "12f9feb0-6aa1-46e3-b7e0-b596e891375b",
   "metadata": {},
   "outputs": [],
   "source": [
    "square_list = [i **2 for i in range(10000000) if i%2==0]"
   ]
  },
  {
   "cell_type": "code",
   "execution_count": 32,
   "id": "4666fa3c-1cf2-4083-9644-7438ac9667f2",
   "metadata": {},
   "outputs": [
    {
     "data": {
      "text/plain": [
       "[0,\n",
       " 4,\n",
       " 16,\n",
       " 36,\n",
       " 64,\n",
       " 100,\n",
       " 144,\n",
       " 196,\n",
       " 256,\n",
       " 324,\n",
       " 400,\n",
       " 484,\n",
       " 576,\n",
       " 676,\n",
       " 784,\n",
       " 900,\n",
       " 1024,\n",
       " 1156,\n",
       " 1296,\n",
       " 1444,\n",
       " 1600,\n",
       " 1764,\n",
       " 1936,\n",
       " 2116,\n",
       " 2304,\n",
       " 2500,\n",
       " 2704,\n",
       " 2916,\n",
       " 3136,\n",
       " 3364,\n",
       " 3600,\n",
       " 3844,\n",
       " 4096,\n",
       " 4356,\n",
       " 4624,\n",
       " 4900,\n",
       " 5184,\n",
       " 5476,\n",
       " 5776,\n",
       " 6084,\n",
       " 6400,\n",
       " 6724,\n",
       " 7056,\n",
       " 7396,\n",
       " 7744,\n",
       " 8100,\n",
       " 8464,\n",
       " 8836,\n",
       " 9216,\n",
       " 9604,\n",
       " 10000,\n",
       " 10404,\n",
       " 10816,\n",
       " 11236,\n",
       " 11664,\n",
       " 12100,\n",
       " 12544,\n",
       " 12996,\n",
       " 13456,\n",
       " 13924,\n",
       " 14400,\n",
       " 14884,\n",
       " 15376,\n",
       " 15876,\n",
       " 16384,\n",
       " 16900,\n",
       " 17424,\n",
       " 17956,\n",
       " 18496,\n",
       " 19044,\n",
       " 19600,\n",
       " 20164,\n",
       " 20736,\n",
       " 21316,\n",
       " 21904,\n",
       " 22500,\n",
       " 23104,\n",
       " 23716,\n",
       " 24336,\n",
       " 24964,\n",
       " 25600,\n",
       " 26244,\n",
       " 26896,\n",
       " 27556,\n",
       " 28224,\n",
       " 28900,\n",
       " 29584,\n",
       " 30276,\n",
       " 30976,\n",
       " 31684,\n",
       " 32400,\n",
       " 33124,\n",
       " 33856,\n",
       " 34596,\n",
       " 35344,\n",
       " 36100,\n",
       " 36864,\n",
       " 37636,\n",
       " 38416,\n",
       " 39204,\n",
       " 40000,\n",
       " 40804,\n",
       " 41616,\n",
       " 42436,\n",
       " 43264,\n",
       " 44100,\n",
       " 44944,\n",
       " 45796,\n",
       " 46656,\n",
       " 47524,\n",
       " 48400,\n",
       " 49284,\n",
       " 50176,\n",
       " 51076,\n",
       " 51984,\n",
       " 52900,\n",
       " 53824,\n",
       " 54756,\n",
       " 55696,\n",
       " 56644,\n",
       " 57600,\n",
       " 58564,\n",
       " 59536,\n",
       " 60516,\n",
       " 61504,\n",
       " 62500,\n",
       " 63504,\n",
       " 64516,\n",
       " 65536,\n",
       " 66564,\n",
       " 67600,\n",
       " 68644,\n",
       " 69696,\n",
       " 70756,\n",
       " 71824,\n",
       " 72900,\n",
       " 73984,\n",
       " 75076,\n",
       " 76176,\n",
       " 77284,\n",
       " 78400,\n",
       " 79524,\n",
       " 80656,\n",
       " 81796,\n",
       " 82944,\n",
       " 84100,\n",
       " 85264,\n",
       " 86436,\n",
       " 87616,\n",
       " 88804,\n",
       " 90000,\n",
       " 91204,\n",
       " 92416,\n",
       " 93636,\n",
       " 94864,\n",
       " 96100,\n",
       " 97344,\n",
       " 98596,\n",
       " 99856,\n",
       " 101124,\n",
       " 102400,\n",
       " 103684,\n",
       " 104976,\n",
       " 106276,\n",
       " 107584,\n",
       " 108900,\n",
       " 110224,\n",
       " 111556,\n",
       " 112896,\n",
       " 114244,\n",
       " 115600,\n",
       " 116964,\n",
       " 118336,\n",
       " 119716,\n",
       " 121104,\n",
       " 122500,\n",
       " 123904,\n",
       " 125316,\n",
       " 126736,\n",
       " 128164,\n",
       " 129600,\n",
       " 131044,\n",
       " 132496,\n",
       " 133956,\n",
       " 135424,\n",
       " 136900,\n",
       " 138384,\n",
       " 139876,\n",
       " 141376,\n",
       " 142884,\n",
       " 144400,\n",
       " 145924,\n",
       " 147456,\n",
       " 148996,\n",
       " 150544,\n",
       " 152100,\n",
       " 153664,\n",
       " 155236,\n",
       " 156816,\n",
       " 158404,\n",
       " 160000,\n",
       " 161604,\n",
       " 163216,\n",
       " 164836,\n",
       " 166464,\n",
       " 168100,\n",
       " 169744,\n",
       " 171396,\n",
       " 173056,\n",
       " 174724,\n",
       " 176400,\n",
       " 178084,\n",
       " 179776,\n",
       " 181476,\n",
       " 183184,\n",
       " 184900,\n",
       " 186624,\n",
       " 188356,\n",
       " 190096,\n",
       " 191844,\n",
       " 193600,\n",
       " 195364,\n",
       " 197136,\n",
       " 198916,\n",
       " 200704,\n",
       " 202500,\n",
       " 204304,\n",
       " 206116,\n",
       " 207936,\n",
       " 209764,\n",
       " 211600,\n",
       " 213444,\n",
       " 215296,\n",
       " 217156,\n",
       " 219024,\n",
       " 220900,\n",
       " 222784,\n",
       " 224676,\n",
       " 226576,\n",
       " 228484,\n",
       " 230400,\n",
       " 232324,\n",
       " 234256,\n",
       " 236196,\n",
       " 238144,\n",
       " 240100,\n",
       " 242064,\n",
       " 244036,\n",
       " 246016,\n",
       " 248004,\n",
       " 250000,\n",
       " 252004,\n",
       " 254016,\n",
       " 256036,\n",
       " 258064,\n",
       " 260100,\n",
       " 262144,\n",
       " 264196,\n",
       " 266256,\n",
       " 268324,\n",
       " 270400,\n",
       " 272484,\n",
       " 274576,\n",
       " 276676,\n",
       " 278784,\n",
       " 280900,\n",
       " 283024,\n",
       " 285156,\n",
       " 287296,\n",
       " 289444,\n",
       " 291600,\n",
       " 293764,\n",
       " 295936,\n",
       " 298116,\n",
       " 300304,\n",
       " 302500,\n",
       " 304704,\n",
       " 306916,\n",
       " 309136,\n",
       " 311364,\n",
       " 313600,\n",
       " 315844,\n",
       " 318096,\n",
       " 320356,\n",
       " 322624,\n",
       " 324900,\n",
       " 327184,\n",
       " 329476,\n",
       " 331776,\n",
       " 334084,\n",
       " 336400,\n",
       " 338724,\n",
       " 341056,\n",
       " 343396,\n",
       " 345744,\n",
       " 348100,\n",
       " 350464,\n",
       " 352836,\n",
       " 355216,\n",
       " 357604,\n",
       " 360000,\n",
       " 362404,\n",
       " 364816,\n",
       " 367236,\n",
       " 369664,\n",
       " 372100,\n",
       " 374544,\n",
       " 376996,\n",
       " 379456,\n",
       " 381924,\n",
       " 384400,\n",
       " 386884,\n",
       " 389376,\n",
       " 391876,\n",
       " 394384,\n",
       " 396900,\n",
       " 399424,\n",
       " 401956,\n",
       " 404496,\n",
       " 407044,\n",
       " 409600,\n",
       " 412164,\n",
       " 414736,\n",
       " 417316,\n",
       " 419904,\n",
       " 422500,\n",
       " 425104,\n",
       " 427716,\n",
       " 430336,\n",
       " 432964,\n",
       " 435600,\n",
       " 438244,\n",
       " 440896,\n",
       " 443556,\n",
       " 446224,\n",
       " 448900,\n",
       " 451584,\n",
       " 454276,\n",
       " 456976,\n",
       " 459684,\n",
       " 462400,\n",
       " 465124,\n",
       " 467856,\n",
       " 470596,\n",
       " 473344,\n",
       " 476100,\n",
       " 478864,\n",
       " 481636,\n",
       " 484416,\n",
       " 487204,\n",
       " 490000,\n",
       " 492804,\n",
       " 495616,\n",
       " 498436,\n",
       " 501264,\n",
       " 504100,\n",
       " 506944,\n",
       " 509796,\n",
       " 512656,\n",
       " 515524,\n",
       " 518400,\n",
       " 521284,\n",
       " 524176,\n",
       " 527076,\n",
       " 529984,\n",
       " 532900,\n",
       " 535824,\n",
       " 538756,\n",
       " 541696,\n",
       " 544644,\n",
       " 547600,\n",
       " 550564,\n",
       " 553536,\n",
       " 556516,\n",
       " 559504,\n",
       " 562500,\n",
       " 565504,\n",
       " 568516,\n",
       " 571536,\n",
       " 574564,\n",
       " 577600,\n",
       " 580644,\n",
       " 583696,\n",
       " 586756,\n",
       " 589824,\n",
       " 592900,\n",
       " 595984,\n",
       " 599076,\n",
       " 602176,\n",
       " 605284,\n",
       " 608400,\n",
       " 611524,\n",
       " 614656,\n",
       " 617796,\n",
       " 620944,\n",
       " 624100,\n",
       " 627264,\n",
       " 630436,\n",
       " 633616,\n",
       " 636804,\n",
       " 640000,\n",
       " 643204,\n",
       " 646416,\n",
       " 649636,\n",
       " 652864,\n",
       " 656100,\n",
       " 659344,\n",
       " 662596,\n",
       " 665856,\n",
       " 669124,\n",
       " 672400,\n",
       " 675684,\n",
       " 678976,\n",
       " 682276,\n",
       " 685584,\n",
       " 688900,\n",
       " 692224,\n",
       " 695556,\n",
       " 698896,\n",
       " 702244,\n",
       " 705600,\n",
       " 708964,\n",
       " 712336,\n",
       " 715716,\n",
       " 719104,\n",
       " 722500,\n",
       " 725904,\n",
       " 729316,\n",
       " 732736,\n",
       " 736164,\n",
       " 739600,\n",
       " 743044,\n",
       " 746496,\n",
       " 749956,\n",
       " 753424,\n",
       " 756900,\n",
       " 760384,\n",
       " 763876,\n",
       " 767376,\n",
       " 770884,\n",
       " 774400,\n",
       " 777924,\n",
       " 781456,\n",
       " 784996,\n",
       " 788544,\n",
       " 792100,\n",
       " 795664,\n",
       " 799236,\n",
       " 802816,\n",
       " 806404,\n",
       " 810000,\n",
       " 813604,\n",
       " 817216,\n",
       " 820836,\n",
       " 824464,\n",
       " 828100,\n",
       " 831744,\n",
       " 835396,\n",
       " 839056,\n",
       " 842724,\n",
       " 846400,\n",
       " 850084,\n",
       " 853776,\n",
       " 857476,\n",
       " 861184,\n",
       " 864900,\n",
       " 868624,\n",
       " 872356,\n",
       " 876096,\n",
       " 879844,\n",
       " 883600,\n",
       " 887364,\n",
       " 891136,\n",
       " 894916,\n",
       " 898704,\n",
       " 902500,\n",
       " 906304,\n",
       " 910116,\n",
       " 913936,\n",
       " 917764,\n",
       " 921600,\n",
       " 925444,\n",
       " 929296,\n",
       " 933156,\n",
       " 937024,\n",
       " 940900,\n",
       " 944784,\n",
       " 948676,\n",
       " 952576,\n",
       " 956484,\n",
       " 960400,\n",
       " 964324,\n",
       " 968256,\n",
       " 972196,\n",
       " 976144,\n",
       " 980100,\n",
       " 984064,\n",
       " 988036,\n",
       " 992016,\n",
       " 996004]"
      ]
     },
     "execution_count": 32,
     "metadata": {},
     "output_type": "execute_result"
    }
   ],
   "source": [
    "square_list"
   ]
  },
  {
   "cell_type": "code",
   "execution_count": 42,
   "id": "a51ac018-4c80-4196-b115-9ceb1973e0e4",
   "metadata": {},
   "outputs": [],
   "source": [
    "square_gen = (i **2 for i in range(10000000) if i%2==0)"
   ]
  },
  {
   "cell_type": "code",
   "execution_count": 46,
   "id": "7b0ea05e-cabf-475a-8e45-5a19511ef0bf",
   "metadata": {},
   "outputs": [
    {
     "name": "stdout",
     "output_type": "stream",
     "text": [
      "0\n",
      "4\n",
      "16\n",
      "36\n",
      "64\n",
      "100\n",
      "144\n",
      "196\n",
      "256\n",
      "324\n"
     ]
    }
   ],
   "source": [
    "idx = 0\n",
    "for i in square_gen:\n",
    "    if idx == 10:\n",
    "        break\n",
    "    print(i)\n",
    "    idx += 1"
   ]
  },
  {
   "cell_type": "code",
   "execution_count": 47,
   "id": "f0b59886-2fd6-4724-9cf1-03b735ea697e",
   "metadata": {},
   "outputs": [
    {
     "name": "stdout",
     "output_type": "stream",
     "text": [
      "0\n",
      "4\n",
      "16\n",
      "36\n",
      "64\n",
      "100\n",
      "144\n",
      "196\n",
      "256\n",
      "324\n"
     ]
    }
   ],
   "source": [
    "idx = 0\n",
    "for i in square_list:\n",
    "    if idx == 10:\n",
    "        break\n",
    "    print(i)\n",
    "    idx += 1"
   ]
  },
  {
   "cell_type": "code",
   "execution_count": null,
   "id": "47004701-57bd-45b9-8072-5e43f8406078",
   "metadata": {},
   "outputs": [],
   "source": []
  },
  {
   "cell_type": "code",
   "execution_count": null,
   "id": "a0c65a8d-a0a1-4d59-a0cf-7971426f9a91",
   "metadata": {},
   "outputs": [],
   "source": []
  }
 ],
 "metadata": {
  "kernelspec": {
   "display_name": "Python 3 (ipykernel)",
   "language": "python",
   "name": "python3"
  },
  "language_info": {
   "codemirror_mode": {
    "name": "ipython",
    "version": 3
   },
   "file_extension": ".py",
   "mimetype": "text/x-python",
   "name": "python",
   "nbconvert_exporter": "python",
   "pygments_lexer": "ipython3",
   "version": "3.12.4"
  }
 },
 "nbformat": 4,
 "nbformat_minor": 5
}
