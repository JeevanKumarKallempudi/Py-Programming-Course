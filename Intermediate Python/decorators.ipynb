{
 "cells": [
  {
   "cell_type": "markdown",
   "id": "cc3cf0ba-31ef-41ac-8784-93bd560bd08f",
   "metadata": {},
   "source": [
    "### Higher order Functions\n",
    "- Everything in Python is object, including functions.\n",
    "\n",
    "- Functions that take other functions as arguments are also called higher order functions."
   ]
  },
  {
   "cell_type": "code",
   "execution_count": 1,
   "id": "e8a62c45-5ab3-41f4-aac4-861bd77bd2bf",
   "metadata": {},
   "outputs": [],
   "source": [
    "def add(ele): return ele+1\n",
    "def sub(ele): return ele-1  "
   ]
  },
  {
   "cell_type": "code",
   "execution_count": 7,
   "id": "72c2102a-b8bd-4e32-83d9-1b39952bfa25",
   "metadata": {},
   "outputs": [],
   "source": [
    "def calculator(operator, number):\n",
    "    result = operator(number)\n",
    "    return result"
   ]
  },
  {
   "cell_type": "code",
   "execution_count": 5,
   "id": "f14fead7-f4ae-48af-b121-3f944026d325",
   "metadata": {},
   "outputs": [
    {
     "data": {
      "text/plain": [
       "\u001b[1;31mSignature:\u001b[0m \u001b[0madd\u001b[0m\u001b[1;33m(\u001b[0m\u001b[0mele\u001b[0m\u001b[1;33m)\u001b[0m\u001b[1;33m\u001b[0m\u001b[1;33m\u001b[0m\u001b[0m\n",
       "\u001b[1;31mDocstring:\u001b[0m <no docstring>\n",
       "\u001b[1;31mSource:\u001b[0m    \u001b[1;32mdef\u001b[0m \u001b[0madd\u001b[0m\u001b[1;33m(\u001b[0m\u001b[0mele\u001b[0m\u001b[1;33m)\u001b[0m\u001b[1;33m:\u001b[0m \u001b[1;32mreturn\u001b[0m \u001b[0mele\u001b[0m\u001b[1;33m+\u001b[0m\u001b[1;36m1\u001b[0m\u001b[1;33m\u001b[0m\u001b[1;33m\u001b[0m\u001b[0m\n",
       "\u001b[1;31mFile:\u001b[0m      c:\\users\\kjeevank\\appdata\\local\\temp\\ipykernel_17640\\3600930324.py\n",
       "\u001b[1;31mType:\u001b[0m      function"
      ]
     },
     "metadata": {},
     "output_type": "display_data"
    }
   ],
   "source": [
    "add??"
   ]
  },
  {
   "cell_type": "code",
   "execution_count": 8,
   "id": "682a67d3-44f6-40be-9187-b4b6e33a089f",
   "metadata": {},
   "outputs": [
    {
     "data": {
      "text/plain": [
       "7"
      ]
     },
     "execution_count": 8,
     "metadata": {},
     "output_type": "execute_result"
    }
   ],
   "source": [
    "calculator(add, 6)"
   ]
  },
  {
   "cell_type": "code",
   "execution_count": 9,
   "id": "3ff900f1-e032-43bd-a8d9-565e50af52d6",
   "metadata": {},
   "outputs": [
    {
     "data": {
      "text/plain": [
       "5"
      ]
     },
     "execution_count": 9,
     "metadata": {},
     "output_type": "execute_result"
    }
   ],
   "source": [
    "calculator(sub, 6)"
   ]
  },
  {
   "cell_type": "code",
   "execution_count": null,
   "id": "329ad3bc-a9de-45b1-9e88-af810a36a225",
   "metadata": {},
   "outputs": [],
   "source": []
  },
  {
   "cell_type": "markdown",
   "id": "0ba02158-7d28-4c3c-bb4b-3332a78366a3",
   "metadata": {},
   "source": [
    "### Python Decorators\n",
    "- A decorator takes a function as arguments, adds some functionality to the existing code and returns a function."
   ]
  },
  {
   "cell_type": "code",
   "execution_count": 10,
   "id": "252d7f35-e361-4490-8f60-8d59d4c8d665",
   "metadata": {},
   "outputs": [],
   "source": [
    "def basic():\n",
    "    print(\"I am basic function\")"
   ]
  },
  {
   "cell_type": "code",
   "execution_count": 11,
   "id": "f6bf86f9-1d15-46d0-91f8-8cc47579e0fd",
   "metadata": {},
   "outputs": [
    {
     "name": "stdout",
     "output_type": "stream",
     "text": [
      "I am basic function\n"
     ]
    }
   ],
   "source": [
    "basic()"
   ]
  },
  {
   "cell_type": "code",
   "execution_count": 12,
   "id": "b2104251-f01d-4c09-80db-c6892703a7f3",
   "metadata": {},
   "outputs": [],
   "source": [
    "def add_features(func):\n",
    "    def wrapper():\n",
    "        print(\"=\"*30)\n",
    "        print(\"New Feature Added\")\n",
    "        print(\"=\"*30)\n",
    "        func()\n",
    "    return wrapper"
   ]
  },
  {
   "cell_type": "code",
   "execution_count": 13,
   "id": "a59c8ba5-26aa-4e7b-8660-565a47dad093",
   "metadata": {},
   "outputs": [
    {
     "data": {
      "text/plain": [
       "\u001b[1;31mSignature:\u001b[0m \u001b[0mbasic\u001b[0m\u001b[1;33m(\u001b[0m\u001b[1;33m)\u001b[0m\u001b[1;33m\u001b[0m\u001b[1;33m\u001b[0m\u001b[0m\n",
       "\u001b[1;31mDocstring:\u001b[0m <no docstring>\n",
       "\u001b[1;31mSource:\u001b[0m   \n",
       "\u001b[1;32mdef\u001b[0m \u001b[0mbasic\u001b[0m\u001b[1;33m(\u001b[0m\u001b[1;33m)\u001b[0m\u001b[1;33m:\u001b[0m\u001b[1;33m\n",
       "\u001b[0m    \u001b[0mprint\u001b[0m\u001b[1;33m(\u001b[0m\u001b[1;34m\"I am basic function\"\u001b[0m\u001b[1;33m)\u001b[0m\u001b[1;33m\u001b[0m\u001b[1;33m\u001b[0m\u001b[0m\n",
       "\u001b[1;31mFile:\u001b[0m      c:\\users\\kjeevank\\appdata\\local\\temp\\ipykernel_17640\\1737479270.py\n",
       "\u001b[1;31mType:\u001b[0m      function"
      ]
     },
     "metadata": {},
     "output_type": "display_data"
    }
   ],
   "source": [
    "basic??"
   ]
  },
  {
   "cell_type": "code",
   "execution_count": 15,
   "id": "c396bc32-8115-4971-ba06-d3f3bb34632d",
   "metadata": {},
   "outputs": [],
   "source": [
    "new_func = add_features(basic)"
   ]
  },
  {
   "cell_type": "code",
   "execution_count": 17,
   "id": "9eae311a-bdd5-4eae-beef-ad01b45d082e",
   "metadata": {},
   "outputs": [
    {
     "data": {
      "text/plain": [
       "\u001b[1;31mSignature:\u001b[0m \u001b[0mnew_func\u001b[0m\u001b[1;33m(\u001b[0m\u001b[1;33m)\u001b[0m\u001b[1;33m\u001b[0m\u001b[1;33m\u001b[0m\u001b[0m\n",
       "\u001b[1;31mDocstring:\u001b[0m <no docstring>\n",
       "\u001b[1;31mSource:\u001b[0m   \n",
       "    \u001b[1;32mdef\u001b[0m \u001b[0mwrapper\u001b[0m\u001b[1;33m(\u001b[0m\u001b[1;33m)\u001b[0m\u001b[1;33m:\u001b[0m\u001b[1;33m\n",
       "\u001b[0m        \u001b[0mprint\u001b[0m\u001b[1;33m(\u001b[0m\u001b[1;34m\"=\"\u001b[0m\u001b[1;33m*\u001b[0m\u001b[1;36m30\u001b[0m\u001b[1;33m)\u001b[0m\u001b[1;33m\n",
       "\u001b[0m        \u001b[0mprint\u001b[0m\u001b[1;33m(\u001b[0m\u001b[1;34m\"New Feature Added\"\u001b[0m\u001b[1;33m)\u001b[0m\u001b[1;33m\n",
       "\u001b[0m        \u001b[0mprint\u001b[0m\u001b[1;33m(\u001b[0m\u001b[1;34m\"=\"\u001b[0m\u001b[1;33m*\u001b[0m\u001b[1;36m30\u001b[0m\u001b[1;33m)\u001b[0m\u001b[1;33m\n",
       "\u001b[0m        \u001b[0mfunc\u001b[0m\u001b[1;33m(\u001b[0m\u001b[1;33m)\u001b[0m\u001b[1;33m\u001b[0m\u001b[1;33m\u001b[0m\u001b[0m\n",
       "\u001b[1;31mFile:\u001b[0m      c:\\users\\kjeevank\\appdata\\local\\temp\\ipykernel_17640\\424636134.py\n",
       "\u001b[1;31mType:\u001b[0m      function"
      ]
     },
     "metadata": {},
     "output_type": "display_data"
    }
   ],
   "source": [
    "new_func??"
   ]
  },
  {
   "cell_type": "code",
   "execution_count": 18,
   "id": "46c89bd1-0b18-48ba-8553-3158e8fed8db",
   "metadata": {},
   "outputs": [
    {
     "name": "stdout",
     "output_type": "stream",
     "text": [
      "==============================\n",
      "New Feature Added\n",
      "==============================\n",
      "I am basic function\n"
     ]
    }
   ],
   "source": [
    "new_func()"
   ]
  },
  {
   "cell_type": "markdown",
   "id": "4ab0b354-141f-4d0a-9aab-ca9622050995",
   "metadata": {},
   "source": [
    "- We can see that the decorator function added some new functionality to the original function. This is similar to packing a gift. The decorator acts as a wrapper\n"
   ]
  },
  {
   "cell_type": "code",
   "execution_count": null,
   "id": "8eb37b44-1da7-4ed7-87cb-e8eb114bfb59",
   "metadata": {},
   "outputs": [],
   "source": []
  },
  {
   "cell_type": "markdown",
   "id": "57124549-af8b-4d3f-92f2-ca267c474bbc",
   "metadata": {},
   "source": [
    "### The Decorative Call\n",
    "- We can use the @ symbol along with the name of the decorator function and place it above the definition of the function to be decorated."
   ]
  },
  {
   "cell_type": "code",
   "execution_count": 24,
   "id": "955d3da0-dd72-4ca9-a49a-7465c5fd2d14",
   "metadata": {},
   "outputs": [],
   "source": [
    "@add_features\n",
    "def new_basic():\n",
    "    print (\"I am a simple function\")"
   ]
  },
  {
   "cell_type": "code",
   "execution_count": 28,
   "id": "3f95e157-333c-4f05-b057-d858003bae23",
   "metadata": {},
   "outputs": [
    {
     "name": "stdout",
     "output_type": "stream",
     "text": [
      "==============================\n",
      "New Feature Added\n",
      "==============================\n",
      "I am a simple function\n"
     ]
    }
   ],
   "source": [
    "new_basic()"
   ]
  },
  {
   "cell_type": "code",
   "execution_count": null,
   "id": "7eb34419-e5e8-4ce1-937c-b28a87e763db",
   "metadata": {},
   "outputs": [],
   "source": []
  },
  {
   "cell_type": "markdown",
   "id": "510d3b3b-0db6-4d1a-96d8-e426c95fc60e",
   "metadata": {},
   "source": [
    "### Decorating function with parameters"
   ]
  },
  {
   "cell_type": "code",
   "execution_count": 34,
   "id": "96255773-bafa-46c5-8595-209a29ceee37",
   "metadata": {},
   "outputs": [],
   "source": [
    "DB = {\n",
    "        \"Jeevan\" : \"Jeevan@123\",\n",
    "        \"Bluetooth\" : \"Bluetooth@123\"\n",
    "}"
   ]
  },
  {
   "cell_type": "code",
   "execution_count": 45,
   "id": "a65b3275-b96e-4a4e-b40c-31acaee8a46a",
   "metadata": {},
   "outputs": [],
   "source": [
    "def login(func):\n",
    "    def wrapper(username, password, *args, **kwargs):\n",
    "        if username in DB and DB[username] == password:\n",
    "            #successful\n",
    "            func(*args, **kwargs)\n",
    "        else:\n",
    "            print(\"Authentication Failed\")\n",
    "    return wrapper"
   ]
  },
  {
   "cell_type": "code",
   "execution_count": 46,
   "id": "b4d47909-84a0-4d61-bc96-48d16a6fe79d",
   "metadata": {},
   "outputs": [],
   "source": [
    "@login\n",
    "def add(a,b):\n",
    "    print(a+b)"
   ]
  },
  {
   "cell_type": "code",
   "execution_count": 47,
   "id": "bcc765dc-3f54-4662-9ffc-57d0f094452b",
   "metadata": {},
   "outputs": [
    {
     "name": "stdout",
     "output_type": "stream",
     "text": [
      "15\n"
     ]
    }
   ],
   "source": [
    "add(\"Jeevan\", \"Jeevan@123\", 5,10)"
   ]
  },
  {
   "cell_type": "code",
   "execution_count": 48,
   "id": "b43c8e60-0712-48de-a5f2-f9d484e93208",
   "metadata": {},
   "outputs": [
    {
     "name": "stdout",
     "output_type": "stream",
     "text": [
      "15\n"
     ]
    }
   ],
   "source": [
    "add(\"Bluetooth\", \"Bluetooth@123\", 5,10)"
   ]
  },
  {
   "cell_type": "code",
   "execution_count": 50,
   "id": "1635ee0b-18ae-4793-8b7f-9bddb35c2f7a",
   "metadata": {},
   "outputs": [
    {
     "name": "stdout",
     "output_type": "stream",
     "text": [
      "Authentication Failed\n"
     ]
    }
   ],
   "source": [
    "add(\"Naidu\", \"Naidu@123\", 5,10)"
   ]
  },
  {
   "cell_type": "code",
   "execution_count": 51,
   "id": "b55186c6-32f6-4d5d-978d-13d7162c1ee9",
   "metadata": {},
   "outputs": [
    {
     "name": "stdout",
     "output_type": "stream",
     "text": [
      "Authentication Failed\n"
     ]
    }
   ],
   "source": [
    "add(5,6)"
   ]
  },
  {
   "cell_type": "code",
   "execution_count": null,
   "id": "a8ed933b-9887-4dde-9703-7ef9b267811d",
   "metadata": {},
   "outputs": [],
   "source": []
  },
  {
   "cell_type": "markdown",
   "id": "a7815075-ed7e-4e80-be60-651236d21df1",
   "metadata": {},
   "source": [
    "### Changing Decorators in Python \n",
    "- Multiple decorators can be chained in Python\n",
    "- A function can be decorated multiple times with different decorators"
   ]
  },
  {
   "cell_type": "code",
   "execution_count": 61,
   "id": "d67d8c87-7bb2-426a-976f-b1399438eab2",
   "metadata": {},
   "outputs": [],
   "source": [
    "# decorator function\n",
    "def star(func):\n",
    "    def wrapper(*args, **kwargs):\n",
    "        print(\"*\" * 30)\n",
    "        func(*args, **kwargs)\n",
    "        print(\"*\" * 30)\n",
    "    return wrapper"
   ]
  },
  {
   "cell_type": "code",
   "execution_count": null,
   "id": "6577d5d1-fc13-4fa8-a4ed-c3ce49d474d9",
   "metadata": {},
   "outputs": [],
   "source": []
  },
  {
   "cell_type": "code",
   "execution_count": 62,
   "id": "0abc1de8-391f-4ef0-9133-08e28b2525d6",
   "metadata": {},
   "outputs": [],
   "source": [
    "@star\n",
    "def main(message):\n",
    "    print(message)"
   ]
  },
  {
   "cell_type": "code",
   "execution_count": 63,
   "id": "94bdac70-b174-405f-9f93-10246c9ef7f7",
   "metadata": {},
   "outputs": [
    {
     "name": "stdout",
     "output_type": "stream",
     "text": [
      "******************************\n",
      "Hello World\n",
      "******************************\n"
     ]
    }
   ],
   "source": [
    "main(\"Hello World\")"
   ]
  },
  {
   "cell_type": "markdown",
   "id": "b1b2d780-08b2-412d-9860-e1559a596e7b",
   "metadata": {},
   "source": []
  }
 ],
 "metadata": {
  "kernelspec": {
   "display_name": "Python 3 (ipykernel)",
   "language": "python",
   "name": "python3"
  },
  "language_info": {
   "codemirror_mode": {
    "name": "ipython",
    "version": 3
   },
   "file_extension": ".py",
   "mimetype": "text/x-python",
   "name": "python",
   "nbconvert_exporter": "python",
   "pygments_lexer": "ipython3",
   "version": "3.12.4"
  }
 },
 "nbformat": 4,
 "nbformat_minor": 5
}
